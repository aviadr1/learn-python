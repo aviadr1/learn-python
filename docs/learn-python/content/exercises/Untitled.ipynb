{
 "cells": [
  {
   "cell_type": "markdown",
   "metadata": {},
   "source": [
    "\n",
    "<a href=\"https://colab.research.google.com/github/aviadr1/learn-python/blob/master/exercises/Untitled.ipynb\" target=\"_blank\">\n",
    "<img src=\"https://colab.research.google.com/assets/colab-badge.svg\" \n",
    "     title=\"Open this file in Google Colab\" alt=\"Colab\"/>\n",
    "</a>\n"
   ]
  },
  {
   "cell_type": "markdown",
   "metadata": {},
   "source": [
    "# Checking a password\n",
    "\n",
    "use `input()` to ask for a password then check it for:\n",
    "* having more than 4 and less than 12 characters\n",
    "* having both lowercase and uppercase letters\n",
    "* having a number\n",
    "* having a special character\n",
    "\n",
    "\n",
    "- NOTE: the `input()` function might __stall your _jupyter_ notebook__, if this happens, you can restart the kernel, or alternatively, solve this exercise in another environment\n",
    "\n",
    "\n",
    "- HINTS:\n",
    "  - look for special functions in `str.` that might be helpful for checking your conditions. \n",
    "  - for instance, how can you check if you have any uppercase letters? \n",
    "  - if all the characters are lowercase `islower()` do you have any uppercase letters?"
   ]
  },
  {
   "cell_type": "code",
   "execution_count": null,
   "metadata": {},
   "outputs": [],
   "source": [
    "# solution #1\n",
    "p = input(\"new password: \")\n",
    "if len(p)<4:\n",
    "    print(\"too short\")\n",
    "if len(p) > 12:\n",
    "    print(\"too long\")\n",
    "if p.islower():\n",
    "    print(\"needs uppercase A-Z letters\")\n",
    "if p.isupper():\n",
    "    print(\"needs lowercase a-z letters\")\n",
    "hasdigit = False\n",
    "for i in range(10):\n",
    "    if str(i) in p:\n",
    "        hasdigit =\n",
    "    \n",
    "if not set(p).intersection(set(\"0123456789\")):\n",
    "    print(\"needs numbers 0-9\")\n",
    "# remove whitespace\n",
    "#if p.replace(\"\\t\", \"\").replace(\"\\n\", \"\").replace(\"\\r\", \"\").replace(\" \", \"\").isalnum():\n",
    "if p.translate(str.maketrans(\"\", \"\", \"\\r\\n\\t \")).isalnum():\n",
    "    print(\"add special characters like ~!@#$%^&*\")\n"
   ]
  },
  {
   "cell_type": "markdown",
   "metadata": {},
   "source": [
    "# Bonus: More _secure_ passwords \n",
    "\n",
    "check out the [getpass](https://docs.python.org/3/library/getpass.html) module and its function `getpass.getpass()`\n",
    "```\n",
    "import getpass\n",
    "getpass.getpass()\n",
    "```\n",
    "\n",
    "You may use this module to replace the `input()` function in the previous exercise\n",
    "\n",
    "\n",
    "\n"
   ]
  },
  {
   "cell_type": "code",
   "execution_count": null,
   "metadata": {},
   "outputs": [],
   "source": []
  }
 ],
 "metadata": {
  "kernelspec": {
   "display_name": "Python 3",
   "language": "python",
   "name": "python3"
  },
  "language_info": {
   "codemirror_mode": {
    "name": "ipython",
    "version": 3
   },
   "file_extension": ".py",
   "mimetype": "text/x-python",
   "name": "python",
   "nbconvert_exporter": "python",
   "pygments_lexer": "ipython3",
   "version": "3.7.3"
  }
 },
 "nbformat": 4,
 "nbformat_minor": 2
}
