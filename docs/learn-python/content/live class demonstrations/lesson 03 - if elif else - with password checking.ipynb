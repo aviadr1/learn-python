{
 "cells": [
  {
   "cell_type": "markdown",
   "metadata": {},
   "source": [
    "\n",
    "<a href=\"https://colab.research.google.com/github/aviadr1/learn-python/blob/master/live%20class%20demonstrations/lesson%2003%20-%20if%20elif%20else%20-%20with%20password%20checking.ipynb\" target=\"_blank\">\n",
    "<img src=\"https://colab.research.google.com/assets/colab-badge.svg\" \n",
    "     title=\"Open this file in Google Colab\" alt=\"Colab\"/>\n",
    "</a>\n"
   ]
  },
  {
   "cell_type": "code",
   "execution_count": 4,
   "metadata": {},
   "outputs": [
    {
     "name": "stdout",
     "output_type": "stream",
     "text": [
      "give me a password:blah\n"
     ]
    }
   ],
   "source": [
    "password = input(\"give me a password:\")"
   ]
  },
  {
   "cell_type": "code",
   "execution_count": 5,
   "metadata": {},
   "outputs": [
    {
     "name": "stdout",
     "output_type": "stream",
     "text": [
      "too short\n",
      "please mix some uppercase letters\n"
     ]
    }
   ],
   "source": [
    "if len(password) <= 4 :\n",
    "    print(\"too short\")\n",
    "\n",
    "if password.islower():\n",
    "    print(\"please mix some uppercase letters\")\n",
    "\n",
    "if password.isupper():\n",
    "    print(\"please mix some lowercase letters\")\n",
    "\n",
    "else:\n",
    "    "
   ]
  },
  {
   "cell_type": "code",
   "execution_count": 2,
   "metadata": {},
   "outputs": [
    {
     "name": "stdout",
     "output_type": "stream",
     "text": [
      "great password\n"
     ]
    }
   ],
   "source": [
    "if len(password) <= 4 :\n",
    "    print(\"too short\")\n",
    "elif password.islower():\n",
    "    print(\"please mix some uppercase letters\")\n",
    "elif password.isupper():\n",
    "    print(\"please mix some lowercase letters\")\n",
    "else:\n",
    "    print(\"great password\")\n"
   ]
  },
  {
   "cell_type": "code",
   "execution_count": 11,
   "metadata": {},
   "outputs": [
    {
     "data": {
      "text/plain": [
       "False"
      ]
     },
     "execution_count": 11,
     "metadata": {},
     "output_type": "execute_result"
    }
   ],
   "source": [
    "True and False"
   ]
  },
  {
   "cell_type": "code",
   "execution_count": null,
   "metadata": {},
   "outputs": [],
   "source": []
  }
 ],
 "metadata": {
  "kernelspec": {
   "display_name": "Python 3",
   "language": "python",
   "name": "python3"
  },
  "language_info": {
   "codemirror_mode": {
    "name": "ipython",
    "version": 3
   },
   "file_extension": ".py",
   "mimetype": "text/x-python",
   "name": "python",
   "nbconvert_exporter": "python",
   "pygments_lexer": "ipython3",
   "version": "3.7.3"
  }
 },
 "nbformat": 4,
 "nbformat_minor": 2
}
