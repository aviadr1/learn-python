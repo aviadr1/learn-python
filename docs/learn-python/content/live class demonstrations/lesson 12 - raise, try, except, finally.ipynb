{
 "cells": [
  {
   "cell_type": "markdown",
   "metadata": {},
   "source": [
    "\n",
    "<a href=\"https://colab.research.google.com/github/aviadr1/learn-python/blob/master/live%20class%20demonstrations/lesson%2012%20-%20raise%2C%20try%2C%20except%2C%20finally.ipynb\" target=\"_blank\">\n",
    "<img src=\"https://colab.research.google.com/assets/colab-badge.svg\" \n",
    "     title=\"Open this file in Google Colab\" alt=\"Colab\"/>\n",
    "</a>\n"
   ]
  },
  {
   "cell_type": "code",
   "execution_count": 1,
   "metadata": {},
   "outputs": [
    {
     "name": "stdout",
     "output_type": "stream",
     "text": [
      "Starting A(-1)\n",
      "finished A(-1)\n",
      "failed running A(-1): \n",
      "Starting A(0)\n",
      "finished A(0)\n",
      "A(0)=0\n",
      "Starting A(1)\n",
      "finished A(1)\n",
      "A(1)=1\n"
     ]
    }
   ],
   "source": [
    "def B(x):\n",
    "    if x<0:\n",
    "        raise LogicError(\"I dont like negative numbers\", x)\n",
    "    else:\n",
    "        return x\n",
    "    \n",
    "def A(x):\n",
    "    try:\n",
    "        print(f\"Starting A({x})\")\n",
    "        return B(x)\n",
    "    finally:\n",
    "        print(f\"finished A({x})\")\n",
    "\n",
    "for i in [-1, 0, 1]:\n",
    "    try:\n",
    "        y=A(i)\n",
    "        print(f\"A({i})={y}\")\n",
    "    except Exception as x:\n",
    "        print(f\"failed running A({i}): \", )\n",
    "        \n",
    "        "
   ]
  },
  {
   "cell_type": "code",
   "execution_count": null,
   "metadata": {},
   "outputs": [],
   "source": []
  }
 ],
 "metadata": {
  "kernelspec": {
   "display_name": "Python 3",
   "language": "python",
   "name": "python3"
  },
  "language_info": {
   "codemirror_mode": {
    "name": "ipython",
    "version": 3
   },
   "file_extension": ".py",
   "mimetype": "text/x-python",
   "name": "python",
   "nbconvert_exporter": "python",
   "pygments_lexer": "ipython3",
   "version": "3.6.5"
  }
 },
 "nbformat": 4,
 "nbformat_minor": 2
}
