{
 "cells": [
  {
   "cell_type": "markdown",
   "metadata": {},
   "source": [
    "\n",
    "<a href=\"https://colab.research.google.com/github/aviadr1/learn-python/blob/master/live%20class%20demonstrations/lesson%2009%20-%20dictionary%20comprehension%2C%20generators%2C%20lazy%20lists.ipynb\" target=\"_blank\">\n",
    "<img src=\"https://colab.research.google.com/assets/colab-badge.svg\" \n",
    "     title=\"Open this file in Google Colab\" alt=\"Colab\"/>\n",
    "</a>\n"
   ]
  },
  {
   "cell_type": "code",
   "execution_count": 1,
   "metadata": {},
   "outputs": [],
   "source": [
    "cheeses = [\"adam\", \"bree\", \"cheddar\", \"rockfort\"]\n",
    "prices = [1.9, 2.45, 9.90, 6.60]"
   ]
  },
  {
   "cell_type": "code",
   "execution_count": 2,
   "metadata": {},
   "outputs": [
    {
     "data": {
      "text/plain": [
       "range(0, 4)"
      ]
     },
     "execution_count": 2,
     "metadata": {},
     "output_type": "execute_result"
    }
   ],
   "source": [
    "range(len(cheeses))"
   ]
  },
  {
   "cell_type": "code",
   "execution_count": 3,
   "metadata": {},
   "outputs": [
    {
     "data": {
      "text/plain": [
       "{'adam': 1.9, 'bree': 2.45, 'cheddar': 9.9, 'rockfort': 6.6}"
      ]
     },
     "execution_count": 3,
     "metadata": {},
     "output_type": "execute_result"
    }
   ],
   "source": [
    "{cheeses[i] : prices[i]  for i in range(4)}"
   ]
  },
  {
   "cell_type": "code",
   "execution_count": 4,
   "metadata": {},
   "outputs": [],
   "source": [
    "nums = [2, -6, 4, 100, -9, 81]"
   ]
  },
  {
   "cell_type": "code",
   "execution_count": 7,
   "metadata": {},
   "outputs": [
    {
     "data": {
      "text/plain": [
       "[1.4142135623730951, 2.0, 10.0, 9.0]"
      ]
     },
     "execution_count": 7,
     "metadata": {},
     "output_type": "execute_result"
    }
   ],
   "source": [
    "import math\n",
    "[math.sqrt(x) for x  in nums if x>=0]"
   ]
  },
  {
   "cell_type": "code",
   "execution_count": 9,
   "metadata": {},
   "outputs": [
    {
     "name": "stdout",
     "output_type": "stream",
     "text": [
      "['1 * 1 = 1', '1 * 2 = 2', '1 * 3 = 3', '2 * 1 = 2', '2 * 2 = 4', '2 * 3 = 6', '3 * 1 = 3', '3 * 2 = 6', '3 * 3 = 9']\n"
     ]
    }
   ],
   "source": [
    "newlist = []\n",
    "for i in range(1, 4):\n",
    "    for j in range(1,4):\n",
    "        newitem = f\"{i} * {j} = {i*j}\"\n",
    "        newlist.append(newitem)\n",
    "        \n",
    "print(newlist)"
   ]
  },
  {
   "cell_type": "code",
   "execution_count": 10,
   "metadata": {},
   "outputs": [
    {
     "data": {
      "text/plain": [
       "['1 * 1 = 1',\n",
       " '1 * 2 = 2',\n",
       " '1 * 3 = 3',\n",
       " '2 * 1 = 2',\n",
       " '2 * 2 = 4',\n",
       " '2 * 3 = 6',\n",
       " '3 * 1 = 3',\n",
       " '3 * 2 = 6',\n",
       " '3 * 3 = 9']"
      ]
     },
     "execution_count": 10,
     "metadata": {},
     "output_type": "execute_result"
    }
   ],
   "source": [
    "[f\"{i} * {j} = {i*j}\" for i in range(1,4) for j in range(1,4)]"
   ]
  },
  {
   "cell_type": "code",
   "execution_count": 17,
   "metadata": {},
   "outputs": [
    {
     "data": {
      "text/plain": [
       "range(0, 1000000000)"
      ]
     },
     "execution_count": 17,
     "metadata": {},
     "output_type": "execute_result"
    }
   ],
   "source": [
    "range(1000 * 1000 * 1000)"
   ]
  },
  {
   "cell_type": "code",
   "execution_count": 18,
   "metadata": {},
   "outputs": [],
   "source": [
    "x = list(range(1000* 1000 * 10))"
   ]
  },
  {
   "cell_type": "code",
   "execution_count": 24,
   "metadata": {},
   "outputs": [],
   "source": [
    "f = open(\"myfile.txt\")"
   ]
  },
  {
   "cell_type": "code",
   "execution_count": 20,
   "metadata": {},
   "outputs": [
    {
     "name": "stdout",
     "output_type": "stream",
     "text": [
      "<_io.TextIOWrapper name='myfile.txt' mode='r' encoding='cp1252'>\n"
     ]
    }
   ],
   "source": [
    "print(f)"
   ]
  },
  {
   "cell_type": "code",
   "execution_count": 21,
   "metadata": {},
   "outputs": [],
   "source": [
    "lines = f.readlines()"
   ]
  },
  {
   "cell_type": "code",
   "execution_count": 23,
   "metadata": {},
   "outputs": [
    {
     "data": {
      "text/plain": [
       "list"
      ]
     },
     "execution_count": 23,
     "metadata": {},
     "output_type": "execute_result"
    }
   ],
   "source": [
    "type(lines)"
   ]
  },
  {
   "cell_type": "code",
   "execution_count": 1,
   "metadata": {},
   "outputs": [],
   "source": [
    "gen = (2**i for i in range(8))"
   ]
  },
  {
   "cell_type": "code",
   "execution_count": 3,
   "metadata": {},
   "outputs": [
    {
     "ename": "StopIteration",
     "evalue": "",
     "output_type": "error",
     "traceback": [
      "\u001b[1;31m---------------------------------------------------------------------------\u001b[0m",
      "\u001b[1;31mStopIteration\u001b[0m                             Traceback (most recent call last)",
      "\u001b[1;32m<ipython-input-3-6e72e47198db>\u001b[0m in \u001b[0;36m<module>\u001b[1;34m\u001b[0m\n\u001b[1;32m----> 1\u001b[1;33m \u001b[0mnext\u001b[0m\u001b[1;33m(\u001b[0m\u001b[0mgen\u001b[0m\u001b[1;33m)\u001b[0m\u001b[1;33m\u001b[0m\u001b[1;33m\u001b[0m\u001b[0m\n\u001b[0m",
      "\u001b[1;31mStopIteration\u001b[0m: "
     ]
    }
   ],
   "source": [
    "next(gen)"
   ]
  },
  {
   "cell_type": "code",
   "execution_count": 2,
   "metadata": {},
   "outputs": [
    {
     "name": "stdout",
     "output_type": "stream",
     "text": [
      "1\n",
      "2\n",
      "4\n",
      "8\n",
      "16\n",
      "32\n",
      "64\n",
      "128\n"
     ]
    }
   ],
   "source": [
    "for i in gen:\n",
    "    print(i)\n",
    "    \n",
    "    "
   ]
  },
  {
   "cell_type": "code",
   "execution_count": 9,
   "metadata": {},
   "outputs": [],
   "source": [
    "def infinite():\n",
    "    i=0\n",
    "    while True:\n",
    "        #return i\n",
    "        yield i\n",
    "        i+=1\n"
   ]
  },
  {
   "cell_type": "code",
   "execution_count": 10,
   "metadata": {},
   "outputs": [
    {
     "name": "stdout",
     "output_type": "stream",
     "text": [
      "<generator object infinite at 0x05E8E7B0>\n"
     ]
    }
   ],
   "source": [
    "x = infinite()\n",
    "print(x)"
   ]
  },
  {
   "cell_type": "code",
   "execution_count": 18,
   "metadata": {},
   "outputs": [
    {
     "data": {
      "text/plain": [
       "7"
      ]
     },
     "execution_count": 18,
     "metadata": {},
     "output_type": "execute_result"
    }
   ],
   "source": [
    "next(x)"
   ]
  },
  {
   "cell_type": "code",
   "execution_count": 1,
   "metadata": {},
   "outputs": [],
   "source": [
    "def read_file_line_by_line_lazily(f):\n",
    "    while True:\n",
    "        line = f.readline().strip()\n",
    "        yield line"
   ]
  },
  {
   "cell_type": "code",
   "execution_count": 2,
   "metadata": {},
   "outputs": [
    {
     "name": "stdout",
     "output_type": "stream",
     "text": [
      "<generator object read_file_line_by_line_lazily at 0x0623A770>\n"
     ]
    }
   ],
   "source": [
    "\n",
    "f = open(\"myfile.txt\")\n",
    "lines = read_file_line_by_line_lazily(f)\n",
    "non_empty_lines = (line for line in lines if len(line.strip()) > 0)\n",
    "print(lines)\n"
   ]
  },
  {
   "cell_type": "code",
   "execution_count": null,
   "metadata": {},
   "outputs": [],
   "source": []
  },
  {
   "cell_type": "code",
   "execution_count": null,
   "metadata": {},
   "outputs": [
    {
     "name": "stdout",
     "output_type": "stream",
     "text": [
      "I am Daniel\n",
      "I am Sam\n",
      "Sam I am\n",
      "That Sam-I-am\n",
      "That Sam-I-am!\n",
      "I do not like\n",
      "That Sam-I-am\n",
      "Do you like\n",
      "Green eggs and ham\n",
      "I do not like them,\n",
      "Sam-I-am.\n",
      "I do not like\n",
      "Green eggs and ham.\n",
      "Would you like them\n",
      "Here or there?\n",
      "I would not like them\n",
      "Here or there.\n",
      "I would not like them\n",
      "Anywhere.\n",
      "I do not like\n",
      "Green eggs and ham.\n",
      "I do not like them,\n",
      "Sam-I-am\n",
      "Would you like them\n",
      "In a house?\n",
      "Would you like them\n",
      "With a mouse?\n",
      "I do not like them\n",
      "In a house.\n",
      "I do not like them\n",
      "With a mouse.\n",
      "I do not like them\n",
      "Here or there.\n",
      "I do not like them\n",
      "Anywhere.\n",
      "I do not like green eggs and ham.\n",
      "I do not like them, Sam-I-am.\n",
      "Would you eat them\n",
      "In a box?\n",
      "Would you eat them\n",
      "With a fox?\n",
      "Not in a box.\n",
      "Not with a fox.\n",
      "Not in a house.\n",
      "Not with a mouse.\n",
      "I would not eat them here or there.\n",
      "I would not eat them anywhere.\n",
      "I would not eat green eggs and ham.\n",
      "I do not like them, Sam-I-am.\n",
      "Would you? Could you?\n",
      "In a car?\n",
      "Eat them! Eat them!\n",
      "Here they are.\n",
      "I woould not,\n",
      "Could not,\n",
      "In a car\n",
      "You may like them.\n",
      "You will see.\n",
      "You may like them\n",
      "In a tree?\n",
      "I would not, could not in a tree.\n",
      "Not in a car! You let me be.\n",
      "I do not like them in a box.\n",
      "I do not like them with a fox\n",
      "I do not like them in a house\n",
      "I do mot like them with a mouse\n",
      "I do not like them here or there.\n",
      "I do not like them anywhere.\n",
      "I do not like green eggs and ham.\n",
      "I do not like them, Sam-I-am.\n",
      "A train! A train!\n",
      "A train! A train!\n",
      "Could you, would you\n",
      "On a train?\n",
      "Not on a train! Not in a tree!\n",
      "Not in a car! Sam! Let me be!\n",
      "I would not, could not, in a box.\n",
      "I could not, would not, with a fox.\n",
      "I will not eat them with a mouse\n",
      "I will not eat them in a house.\n",
      "I will not eat them here or there.\n",
      "I will not eat them anywhere.\n",
      "I do not like them, Sam-I-am.\n",
      "Say!\n",
      "In the dark?\n",
      "Here in the dark!\n",
      "Would you, could you, in the dark?\n",
      "I would not, could not,\n",
      "In the dark.\n",
      "Would you, could you,\n",
      "In the rain?\n",
      "I would not, could not, in the rain.\n",
      "Not in the dark. Not on a train,\n",
      "Not in a car, Not in a tree.\n",
      "I do not like them, Sam, you see.\n",
      "Not in a house. Not in a box.\n",
      "Not with a mouse. Not with a fox.\n",
      "I will not eat them here or there.\n",
      "I do not like them anywhere!\n",
      "You do not like\n",
      "Green eggs and ham?\n",
      "I do not\n",
      "Like them,\n",
      "Sam-I-am.\n",
      "Could you, would you,\n",
      "With a goat?\n",
      "I would not,\n",
      "Could not.\n",
      "With a goat!\n",
      "Would you, could you,\n",
      "On a boat?\n"
     ]
    }
   ],
   "source": [
    "for line in non_empty_lines:\n",
    "    print(line)"
   ]
  },
  {
   "cell_type": "code",
   "execution_count": null,
   "metadata": {},
   "outputs": [],
   "source": []
  }
 ],
 "metadata": {
  "kernelspec": {
   "display_name": "Python 3",
   "language": "python",
   "name": "python3"
  },
  "language_info": {
   "codemirror_mode": {
    "name": "ipython",
    "version": 3
   },
   "file_extension": ".py",
   "mimetype": "text/x-python",
   "name": "python",
   "nbconvert_exporter": "python",
   "pygments_lexer": "ipython3",
   "version": "3.7.3"
  }
 },
 "nbformat": 4,
 "nbformat_minor": 2
}
