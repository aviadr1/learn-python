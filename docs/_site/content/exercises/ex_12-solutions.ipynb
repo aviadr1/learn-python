{
 "cells": [
  {
   "cell_type": "markdown",
   "metadata": {},
   "source": [
    "\n",
    "<a href=\"https://colab.research.google.com/github/aviadr1/learn-python/blob/master/exercises/ex%2012%20-%20solutions.ipynb\" target=\"_blank\">\n",
    "<img src=\"https://colab.research.google.com/assets/colab-badge.svg\" \n",
    "     title=\"Open this file in Google Colab\" alt=\"Colab\"/>\n",
    "</a>\n"
   ]
  },
  {
   "cell_type": "markdown",
   "metadata": {},
   "source": [
    "# convert to int\n",
    "use a loop and the `int` function to find all the numbers embedded in the quote given below.\n",
    "- hint: use `try/except` so that things which are not numbers wont stop your loop\n",
    "\n",
    "expected outout:\n",
    "```\n",
    "[3, 4, 5]\n",
    "```"
   ]
  },
  {
   "cell_type": "code",
   "execution_count": 1,
   "metadata": {},
   "outputs": [],
   "source": [
    "### useful: use the `int` functions to grab all the numbers from this string\n",
    "holy_hand_grenade_of_antioch = \"\"\"\\\n",
    "First shalt thou take out the Holy Pin, \n",
    "then shalt thou count to 3, no more, no less. \n",
    "3 shall be the number thou shalt count, and the number of the counting shall be 3. \n",
    "4 shalt thou not count, neither count thou 2, excepting that thou then proceed to 3. \n",
    "5 is right out.\"\"\""
   ]
  },
  {
   "cell_type": "code",
   "execution_count": 2,
   "metadata": {},
   "outputs": [
    {
     "name": "stdout",
     "output_type": "stream",
     "text": [
      "[3, 4, 5]\n"
     ]
    }
   ],
   "source": [
    "numbers = []\n",
    "for word in holy_hand_grenade_of_antioch.split():\n",
    "    try:\n",
    "        numbers.append(int(word))\n",
    "    except:\n",
    "        pass\n",
    "    \n",
    "print(numbers)"
   ]
  },
  {
   "cell_type": "markdown",
   "metadata": {},
   "source": [
    "# finally\n",
    "\n",
    "we've provided an important function called `answer_to_universe_and_everything()`\n",
    "1. open a file called `'answer.txt'` for writing\n",
    "2. use a loop to call `answer_to_universe_and_everything()` a 100 times, and write the results to the file\n",
    "3. use a `try/except` block to make sure that if answer_to_universe_and_everything() fails, we continue to call the function\n",
    "4. if the function fails, write the fail message to the file\n",
    "4. use a `try/finally` block to make sure we close the file\n",
    "5. make sure the file indeed has exactly 100 lines\n"
   ]
  },
  {
   "cell_type": "code",
   "execution_count": 3,
   "metadata": {},
   "outputs": [],
   "source": [
    "### useful: use this function\n",
    "def answer_to_universe_and_everything():\n",
    "    import random\n",
    "    x = random.randint(0, 10)\n",
    "    if x<3:\n",
    "        return 'need more time'\n",
    "    elif x<6:\n",
    "        return 'blue ... no, red!'\n",
    "    elif x<9:\n",
    "        raise Exception('too hard')\n",
    "    else:\n",
    "        return 42\n",
    "    "
   ]
  },
  {
   "cell_type": "code",
   "execution_count": 5,
   "metadata": {},
   "outputs": [],
   "source": [
    "f = open('answer.txt', 'w')\n",
    "try:\n",
    "    for i in range(100):\n",
    "        try:\n",
    "            print(answer_to_universe_and_everything(), file=f)\n",
    "        except Exception as ex:\n",
    "            print (ex, file=f)\n",
    "finally:\n",
    "    f.close()\n",
    "        \n",
    "        "
   ]
  },
  {
   "cell_type": "code",
   "execution_count": 6,
   "metadata": {},
   "outputs": [],
   "source": [
    "### useful: show that the file has 100 lines\n",
    "assert len(open('answer.txt').readlines()) == 100"
   ]
  }
 ],
 "metadata": {
  "kernelspec": {
   "display_name": "Python 3",
   "language": "python",
   "name": "python3"
  },
  "language_info": {
   "codemirror_mode": {
    "name": "ipython",
    "version": 3
   },
   "file_extension": ".py",
   "mimetype": "text/x-python",
   "name": "python",
   "nbconvert_exporter": "python",
   "pygments_lexer": "ipython3",
   "version": "3.6.5"
  }
 },
 "nbformat": 4,
 "nbformat_minor": 2
}
