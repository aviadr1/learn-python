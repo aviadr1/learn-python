{
 "cells": [
  {
   "cell_type": "markdown",
   "metadata": {},
   "source": [
    "\n",
    "<a href=\"https://colab.research.google.com/github/aviadr1/learn-python/blob/master/live%20class%20demonstrations/lesson%2004%20-%20string%20concatenation.ipynb\" target=\"_blank\">\n",
    "<img src=\"https://colab.research.google.com/assets/colab-badge.svg\" \n",
    "     title=\"Open this file in Google Colab\" alt=\"Colab\"/>\n",
    "</a>\n"
   ]
  },
  {
   "cell_type": "code",
   "execution_count": 6,
   "metadata": {},
   "outputs": [
    {
     "name": "stdout",
     "output_type": "stream",
     "text": [
      "Do you like\n",
      "Green eggs and ham\n",
      "I do not like them\n",
      "Sam-I-am\n",
      "\n"
     ]
    }
   ],
   "source": [
    "greeneggs = \"Do you like\\n\" + \"Green eggs and ham\\n\" + \"I do not like them\\n\" + \"Sam-I-am\\n\"\n",
    "print(greeneggs)"
   ]
  },
  {
   "cell_type": "code",
   "execution_count": 7,
   "metadata": {},
   "outputs": [
    {
     "name": "stdout",
     "output_type": "stream",
     "text": [
      "Do you like\n",
      "Green eggs and ham\n",
      "I do not like them\n",
      "Sam-I-am\n",
      "\n"
     ]
    }
   ],
   "source": [
    "# literal strings do not need + to concatenate\n",
    "greeneggs = \"Do you like\\n\"  \"Green eggs and ham\\n\"  \"I do not like them\\n\"  \"Sam-I-am\\n\"\n",
    "print(greeneggs)"
   ]
  },
  {
   "cell_type": "code",
   "execution_count": 8,
   "metadata": {},
   "outputs": [
    {
     "name": "stdout",
     "output_type": "stream",
     "text": [
      "Do you like\n",
      "Green eggs and ham\n",
      "I do not like them\n",
      "Sam-I-am\n",
      "\n"
     ]
    }
   ],
   "source": [
    "# use \\ at end of lines to continue at the next line\n",
    "greeneggs = \\\n",
    "    \"Do you like\\n\"  \\\n",
    "    \"Green eggs and ham\\n\"  \\\n",
    "    \"I do not like them\\n\"  \\\n",
    "    \"Sam-I-am\\n\"\n",
    "print(greeneggs)"
   ]
  },
  {
   "cell_type": "code",
   "execution_count": 13,
   "metadata": {},
   "outputs": [
    {
     "name": "stdout",
     "output_type": "stream",
     "text": [
      "\n",
      "Do you like\n",
      "Green eggs and ham\n",
      "I do not like them\n",
      "Sam-I-am\n",
      "I do not like\n",
      "Green eggs and ham\n",
      "Would you like them\n",
      "Here or there?\n",
      "I would not like them\n",
      "Here or there\n",
      "I would not like them\n",
      "Anywhere\n",
      "I do not like\n",
      "Green eggs and ham\n",
      "I do not like them\n",
      "Sam-I-am\n",
      "\n"
     ]
    }
   ],
   "source": [
    "greeneggs = \"\"\"\n",
    "Do you like\n",
    "Green eggs and ham\n",
    "I do not like them\n",
    "Sam-I-am\n",
    "I do not like\n",
    "Green eggs and ham\n",
    "Would you like them\n",
    "Here or there?\n",
    "I would not like them\n",
    "Here or there\n",
    "I would not like them\n",
    "Anywhere\n",
    "I do not like\n",
    "Green eggs and ham\n",
    "I do not like them\n",
    "Sam-I-am\n",
    "\"\"\"\n",
    "print(greeneggs)"
   ]
  },
  {
   "cell_type": "code",
   "execution_count": 16,
   "metadata": {},
   "outputs": [
    {
     "name": "stdout",
     "output_type": "stream",
     "text": [
      "Do you like\n",
      "Green eggs and ham\n",
      "I do not like them\n",
      "Sam-I-am\n",
      "I do not like\n",
      "Green eggs and ham\n",
      "Would you like them\n",
      "Here or there?\n",
      "I would not like them\n",
      "Here or there\n",
      "I would not like them\n",
      "Anywhere\n",
      "I do not like\n",
      "Green eggs and ham\n",
      "I do not like them\n",
      "Sam-I-am\n",
      "\n"
     ]
    }
   ],
   "source": [
    "greeneggs = \"\"\"Do you like\n",
    "Green eggs and ham\n",
    "I do not like them\n",
    "Sam-I-am\n",
    "I do not like\n",
    "Green eggs and ham\n",
    "Would you like them\n",
    "Here or there?\n",
    "I would not like them\n",
    "Here or there\n",
    "I would not like them\n",
    "Anywhere\n",
    "I do not like\n",
    "Green eggs and ham\n",
    "I do not like them\n",
    "Sam-I-am\n",
    "\"\"\"\n",
    "print(greeneggs)"
   ]
  },
  {
   "cell_type": "code",
   "execution_count": 21,
   "metadata": {},
   "outputs": [
    {
     "name": "stdout",
     "output_type": "stream",
     "text": [
      "\\n\n"
     ]
    }
   ],
   "source": [
    "print(r\"\"\"\\n\"\"\")"
   ]
  },
  {
   "cell_type": "code",
   "execution_count": 23,
   "metadata": {},
   "outputs": [
    {
     "name": "stdout",
     "output_type": "stream",
     "text": [
      "\n",
      "I like \"sarcasm\"\n",
      "and qouting smart people like this\n",
      "'everything should be as simple as possible, but no simpler'\n",
      "-- albert einstein\n",
      "\n"
     ]
    }
   ],
   "source": [
    "quoting_works_freely = \"\"\"\n",
    "I like \"sarcasm\"\n",
    "and qouting smart people like this\n",
    "'everything should be as simple as possible, but no simpler'\n",
    "-- albert einstein\n",
    "\"\"\"\n",
    "print(quoting_works_freely)"
   ]
  },
  {
   "cell_type": "code",
   "execution_count": 28,
   "metadata": {},
   "outputs": [
    {
     "data": {
      "text/plain": [
       "\"'\\\\n'\""
      ]
     },
     "execution_count": 28,
     "metadata": {},
     "output_type": "execute_result"
    }
   ],
   "source": [
    "repr(\"\\n\")"
   ]
  },
  {
   "cell_type": "code",
   "execution_count": 29,
   "metadata": {},
   "outputs": [
    {
     "data": {
      "text/plain": [
       "'\\n'"
      ]
     },
     "execution_count": 29,
     "metadata": {},
     "output_type": "execute_result"
    }
   ],
   "source": [
    "str(\"\\n\")"
   ]
  },
  {
   "cell_type": "code",
   "execution_count": 33,
   "metadata": {},
   "outputs": [
    {
     "name": "stdout",
     "output_type": "stream",
     "text": [
      "[1, 2, 3]\n",
      "[3, 2, 1]\n",
      "[1, 2, 3]\n",
      "None\n"
     ]
    }
   ],
   "source": [
    "x= [3,2,1]\n",
    "print(sorted(x))\n",
    "print(x)\n",
    "result = x.sort()\n",
    "print(x)\n",
    "print(result)"
   ]
  },
  {
   "cell_type": "code",
   "execution_count": null,
   "metadata": {},
   "outputs": [],
   "source": []
  }
 ],
 "metadata": {
  "kernelspec": {
   "display_name": "Python 3",
   "language": "python",
   "name": "python3"
  },
  "language_info": {
   "codemirror_mode": {
    "name": "ipython",
    "version": 3
   },
   "file_extension": ".py",
   "mimetype": "text/x-python",
   "name": "python",
   "nbconvert_exporter": "python",
   "pygments_lexer": "ipython3",
   "version": "3.6.3"
  }
 },
 "nbformat": 4,
 "nbformat_minor": 2
}
