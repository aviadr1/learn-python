{
 "cells": [
  {
   "cell_type": "markdown",
   "metadata": {},
   "source": [
    "\n",
    "<a href=\"https://colab.research.google.com/github/aviadr1/learn-python/blob/master/live%20class%20demonstrations/lesson%2009%20-%20list%20and%20dictionary%20comprehension%2C%20checkpoint.ipynb\" target=\"_blank\">\n",
    "<img src=\"https://colab.research.google.com/assets/colab-badge.svg\" \n",
    "     title=\"Open this file in Google Colab\" alt=\"Colab\"/>\n",
    "</a>\n"
   ]
  },
  {
   "cell_type": "code",
   "execution_count": 1,
   "metadata": {},
   "outputs": [],
   "source": [
    "cheeses = [\"adam\", \"bree\", \"camambert\", \"gouda\", \"grouyer\"]"
   ]
  },
  {
   "cell_type": "code",
   "execution_count": 4,
   "metadata": {},
   "outputs": [
    {
     "name": "stdout",
     "output_type": "stream",
     "text": [
      "['Adam', 'Bree', 'Camambert', 'Gouda', 'Grouyer']\n"
     ]
    }
   ],
   "source": [
    "entitled_cheeses = []\n",
    "i=0\n",
    "while i<len(cheeses):\n",
    "    entitled_cheeses.append(cheeses[i].title())\n",
    "    i+=1\n",
    "print(entitled_cheeses)"
   ]
  },
  {
   "cell_type": "code",
   "execution_count": 3,
   "metadata": {},
   "outputs": [
    {
     "name": "stdout",
     "output_type": "stream",
     "text": [
      "['Adam', 'Bree', 'Camambert', 'Gouda', 'Grouyer']\n"
     ]
    }
   ],
   "source": [
    "entitled_cheeses = []\n",
    "for cheese  in cheeses:\n",
    "    entitled_cheeses.append(cheese.title())\n",
    "print(entitled_cheeses)"
   ]
  },
  {
   "cell_type": "code",
   "execution_count": 5,
   "metadata": {},
   "outputs": [
    {
     "data": {
      "text/plain": [
       "['Adam', 'Bree', 'Camambert', 'Gouda', 'Grouyer']"
      ]
     },
     "execution_count": 5,
     "metadata": {},
     "output_type": "execute_result"
    }
   ],
   "source": [
    "[cheese.title() for cheese in cheeses]"
   ]
  },
  {
   "cell_type": "code",
   "execution_count": 6,
   "metadata": {},
   "outputs": [
    {
     "data": {
      "text/plain": [
       "[1, 2, 4, 8, 16, 32, 64, 128, 256, 512, 1024, 2048, 4096, 8192, 16384, 32768]"
      ]
     },
     "execution_count": 6,
     "metadata": {},
     "output_type": "execute_result"
    }
   ],
   "source": [
    "[2**pow  for pow in range(16)]"
   ]
  },
  {
   "cell_type": "code",
   "execution_count": 7,
   "metadata": {},
   "outputs": [
    {
     "data": {
      "text/plain": [
       "[4, 4, 9, 5, 7]"
      ]
     },
     "execution_count": 7,
     "metadata": {},
     "output_type": "execute_result"
    }
   ],
   "source": [
    "[len(cheese) for cheese in cheeses]"
   ]
  },
  {
   "cell_type": "code",
   "execution_count": 14,
   "metadata": {},
   "outputs": [],
   "source": [
    "cheese_prices = {\n",
    "    'Adam' : 2,\n",
    "    'Bree' : 3,\n",
    "    'Camambert' : 4,\n",
    "    'Gouda' : 5\n",
    "}\n",
    "\n",
    "missing = { 'Adam' }\n",
    "\n",
    "buy = ['Adam', 'Bree']\n",
    "# buy_prices = [ cheese_prices[item]   for item in buy]\n"
   ]
  },
  {
   "cell_type": "code",
   "execution_count": 12,
   "metadata": {},
   "outputs": [
    {
     "name": "stdout",
     "output_type": "stream",
     "text": [
      "5\n"
     ]
    }
   ],
   "source": [
    "total = sum([ cheese_prices[item]   for item in buy])\n",
    "print(total)"
   ]
  },
  {
   "cell_type": "code",
   "execution_count": 19,
   "metadata": {},
   "outputs": [
    {
     "name": "stdout",
     "output_type": "stream",
     "text": [
      "3\n"
     ]
    }
   ],
   "source": [
    "total = sum([ cheese_prices[item] for item in buy if item not in missing])\n",
    "print(total)"
   ]
  },
  {
   "cell_type": "code",
   "execution_count": 18,
   "metadata": {},
   "outputs": [
    {
     "ename": "SyntaxError",
     "evalue": "invalid syntax (<ipython-input-18-8eff41c05ca1>, line 1)",
     "output_type": "error",
     "traceback": [
      "\u001b[1;36m  File \u001b[1;32m\"<ipython-input-18-8eff41c05ca1>\"\u001b[1;36m, line \u001b[1;32m1\u001b[0m\n\u001b[1;33m    in missing\u001b[0m\n\u001b[1;37m     ^\u001b[0m\n\u001b[1;31mSyntaxError\u001b[0m\u001b[1;31m:\u001b[0m invalid syntax\n"
     ]
    }
   ],
   "source": [
    "item in missing"
   ]
  },
  {
   "cell_type": "code",
   "execution_count": 21,
   "metadata": {},
   "outputs": [
    {
     "name": "stdout",
     "output_type": "stream",
     "text": [
      "{'Adam': 2.2, 'Bree': 3.3000000000000003, 'Camambert': 4.4, 'Gouda': 5.5}\n"
     ]
    }
   ],
   "source": [
    "new_prices = { \n",
    "    cheese: price*1.1    for cheese, price in cheese_prices.items() }\n",
    "print(new_prices)"
   ]
  },
  {
   "cell_type": "code",
   "execution_count": 22,
   "metadata": {},
   "outputs": [],
   "source": [
    "d144 = { \"avi\" : \"053\",\n",
    "            \"ben\" : \"054\",\n",
    "            \"gaddy\" : \"055\"}\n",
    "d441 = { phone:name      for name, phone in d144.items() } "
   ]
  },
  {
   "cell_type": "code",
   "execution_count": 23,
   "metadata": {},
   "outputs": [
    {
     "name": "stdout",
     "output_type": "stream",
     "text": [
      "{'053': 'avi', '054': 'ben', '055': 'gaddy'}\n"
     ]
    }
   ],
   "source": [
    "print(d441)"
   ]
  },
  {
   "cell_type": "code",
   "execution_count": 24,
   "metadata": {},
   "outputs": [],
   "source": [
    "d = {}\n",
    "reverse_d = {value:key for key, value in d.items()}"
   ]
  },
  {
   "cell_type": "code",
   "execution_count": null,
   "metadata": {},
   "outputs": [],
   "source": []
  }
 ],
 "metadata": {
  "kernelspec": {
   "display_name": "Python 3",
   "language": "python",
   "name": "python3"
  },
  "language_info": {
   "codemirror_mode": {
    "name": "ipython",
    "version": 3
   },
   "file_extension": ".py",
   "mimetype": "text/x-python",
   "name": "python",
   "nbconvert_exporter": "python",
   "pygments_lexer": "ipython3",
   "version": "3.7.3"
  }
 },
 "nbformat": 4,
 "nbformat_minor": 2
}
