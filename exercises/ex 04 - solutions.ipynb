{
 "cells": [
  {
   "cell_type": "markdown",
   "metadata": {},
   "source": [
    "[![Open In Colab](https://colab.research.google.com/assets/colab-badge.svg)](https://colab.research.google.com/github/aviadr1/learn-python/blob/master/exercises/ex%2004%20-%20solutions.ipynb)"
   ]
  },
  {
   "cell_type": "markdown",
   "metadata": {},
   "source": [
    "# multiplying a string\n",
    "\n",
    "> _what does the following code do?_\n",
    "> ```\n",
    "> \"hello \" * 3\n",
    "> ``` \n",
    "\n",
    "can you use this idea to print a triangle of `\"*\"` using __just a single for loop__?"
   ]
  },
  {
   "cell_type": "code",
   "execution_count": 1,
   "metadata": {},
   "outputs": [
    {
     "name": "stdout",
     "output_type": "stream",
     "text": [
      "*\n",
      "**\n",
      "***\n",
      "****\n",
      "*****\n",
      "******\n",
      "*******\n",
      "********\n",
      "*********\n"
     ]
    }
   ],
   "source": [
    "for i in range(1, 10):\n",
    "    print(\"*\" * i)"
   ]
  },
  {
   "cell_type": "markdown",
   "metadata": {},
   "source": [
    "# controlling precision with str.format()\n",
    "can you print the value 10/3, with only 2 digits of precision?\n",
    "   - hint: use the .format() function"
   ]
  },
  {
   "cell_type": "code",
   "execution_count": 2,
   "metadata": {},
   "outputs": [
    {
     "data": {
      "text/plain": [
       "'3.33'"
      ]
     },
     "execution_count": 2,
     "metadata": {},
     "output_type": "execute_result"
    }
   ],
   "source": [
    "\"{:.2f}\".format(10/3)"
   ]
  },
  {
   "cell_type": "markdown",
   "metadata": {},
   "source": [
    "# CSV\n",
    "here is some data in CSV (Comma Seperated Values) format:\n",
    "```\n",
    "   name, age, country\n",
    "   avi cohen, 30, israel\n",
    "   ben hur, 25, united kingdom\n",
    "   can davidovich, 40, georgia\n",
    "   david ben shalem, 60, united states of america\n",
    "   efrat ben dagan levi, 25, united arab emirates\n",
    "```\n",
    "\n",
    "   1. print only the names of the people in this data, and nothing else\n",
    "      - note: don't print commas `','`\n",
    "      - hint: use `splitlines()` and `split()`\n",
    "      \n",
    "      \n",
    "   2. print only the ages\n",
    "   \n",
    "   \n",
    "   3. print only country names\n",
    "   \n",
    "   \n",
    "   4. print only the last 3 lines (hint: use splicing)\n",
    "   \n",
    "   \n",
    "   5. print the data without the header (hint: use splicing)\n",
    "   \n",
    "   \n",
    "   6. print every second line, without the header (hint: use splicing)\n",
    "   \n",
    "   \n",
    "   7. print a smaller csv that has just ages and countries, \n",
    "      without the header and without names"
   ]
  },
  {
   "cell_type": "code",
   "execution_count": 3,
   "metadata": {},
   "outputs": [
    {
     "name": "stdout",
     "output_type": "stream",
     "text": [
      "avi cohen\n",
      "ben hur\n",
      "can davidovich\n",
      "david ben shalem\n",
      "efrat ben dagan levi\n",
      "\n",
      "30\n",
      "25\n",
      "40\n",
      "60\n",
      "25\n",
      "\n",
      "israel\n",
      "united kingdom\n",
      "georgia\n",
      "united states of america\n",
      "united arab emirates\n",
      "\n",
      "avi cohen, 30, israel\n",
      "ben hur, 25, united kingdom\n",
      "can davidovich, 40, georgia\n",
      "david ben shalem, 60, united states of america\n",
      "efrat ben dagan levi, 25, united arab emirates\n",
      "\n",
      "can davidovich, 40, georgia\n",
      "david ben shalem, 60, united states of america\n",
      "efrat ben dagan levi, 25, united arab emirates\n",
      "\n",
      "avi cohen, 30, israel\n",
      "can davidovich, 40, georgia\n",
      "efrat ben dagan levi, 25, united arab emirates\n",
      "\n",
      " 30,  israel\n",
      " 25,  united kingdom\n",
      " 40,  georgia\n",
      " 60,  united states of america\n",
      " 25,  united arab emirates\n"
     ]
    }
   ],
   "source": [
    "data = \"\"\"\\\n",
    "name, age, country\n",
    "avi cohen, 30, israel\n",
    "ben hur, 25, united kingdom\n",
    "can davidovich, 40, georgia\n",
    "david ben shalem, 60, united states of america\n",
    "efrat ben dagan levi, 25, united arab emirates\n",
    "\"\"\"\n",
    "\n",
    "# a\n",
    "for line in data.splitlines()[1:] :\n",
    "    columns = line.split(',')\n",
    "    name = columns[0].strip()\n",
    "    print(name)\n",
    "\n",
    "print()\n",
    "\n",
    "# b\n",
    "for line in data.splitlines()[1:] :\n",
    "    columns = line.split(',')\n",
    "    age = columns[1].strip()\n",
    "    print(age)\n",
    "\n",
    "print()\n",
    "    \n",
    "# c\n",
    "for line in data.splitlines()[1:] :\n",
    "    columns = line.split(',')\n",
    "    country = columns[2].strip()\n",
    "    print(country)\n",
    "\n",
    "print()\n",
    "\n",
    "# d\n",
    "print('\\n'.join(data.splitlines()[1: ]))\n",
    "\n",
    "print()\n",
    "\n",
    "# e\n",
    "print('\\n'.join(data.splitlines()[-3: ]))\n",
    "\n",
    "print()\n",
    "\n",
    "# f\n",
    "print('\\n'.join(data.splitlines()[1::2]))\n",
    "\n",
    "print()\n",
    "\n",
    "#g\n",
    "for line in data.splitlines()[1:]:\n",
    "    age_country = line.split(',')[1:]\n",
    "    print(', '.join(age_country))"
   ]
  },
  {
   "cell_type": "markdown",
   "metadata": {},
   "source": [
    "# printing receipts\n",
    "\n",
    "lets print a simple receipt using the .format() function\n",
    "   the receipt will have 4 lines, looking like this:\n",
    "```   \n",
    "    cost           :  362.50 NIS\n",
    "    vat            :   17.00 %\n",
    "    vat            :   61.62 NIS\n",
    "    total          :  424.12 NIS\n",
    "```  \n",
    "\n",
    "to determine the cost and the vat, lets use random numbers.\n",
    "use the following code:\n",
    "\n",
    "```\n",
    "import random\n",
    "cost_nis = round(random.normalvariate(200, 50), 2)\n",
    "vat_percent = random.randint(160, 180) / 10\n",
    "# print(cost_nis, vat_percent)\n",
    "```\n",
    "     \n",
    "compute the vat in NIS and the total and print the receipt\n",
    "     \n",
    "- NOTE: make sure that the numbers in the receipt are nicely aligned to make it readble!\n",
    "- HINT: use the `str.format()` function, read the [specification](https://docs.python.org/3/library/string.html#format-specification-mini-language) or go through some [examples](https://docs.python.org/3/library/string.html#format-examples) to get the hang of this mini-langauge     "
   ]
  },
  {
   "cell_type": "code",
   "execution_count": 11,
   "metadata": {},
   "outputs": [
    {
     "name": "stdout",
     "output_type": "stream",
     "text": [
      "cost         : 194.86 NIS\n",
      "vat          :  18.00 %\n",
      "vat          :  35.07 NIS\n",
      "total        : 229.93 NIS\n",
      "\n"
     ]
    }
   ],
   "source": [
    "import random\n",
    "cost_nis = round(random.normalvariate(200, 50), 2)\n",
    "vat_percent = random.randint(160, 180) / 10\n",
    "# print(cost_nis, vat_percent)\n",
    "\n",
    "receipt = \"\"\"\\\n",
    "cost         : {:6.2f} NIS\n",
    "vat          : {:6.2f} %\n",
    "vat          : {:6.2f} NIS\n",
    "total        : {:6.2f} NIS\n",
    "\"\"\".format(cost_nis, vat_percent, cost_nis * vat_percent / 100, cost_nis + cost_nis*vat_percent/100)\n",
    "\n",
    "print(receipt)"
   ]
  },
  {
   "cell_type": "markdown",
   "metadata": {},
   "source": [
    "# `**` a full receipt\n",
    "\n",
    "given a menu with prices that can look like this:\n",
    "```\n",
    "     prices = {\n",
    "         \"steak\" : 150,\n",
    "         \"omelet\" : 25,\n",
    "         \"coca cola\" : 12,\n",
    "         \"orange juice\" : 16,\n",
    "         \"pizza\" : 49,\n",
    "         \"hamburger\" : 59,\n",
    "         \"pita\" : 1.5,\n",
    "         \"tomato salad\" : 13.5\n",
    "     }\n",
    "```\n",
    "\n",
    "and an a list containing an order from a table, such as:\n",
    "\n",
    "```\n",
    "order = [\"steak\", \"steak\", \"pita\", \"pizza\", \"coca cola\"]\n",
    "```\n",
    "\n",
    "use a for loop to print a full receipt  \n",
    "```\n",
    "steak          :  150.00 NIS\n",
    "steak          :  150.00 NIS\n",
    "pita           :    1.50 NIS\n",
    "pizza          :   49.00 NIS\n",
    "coca cola      :   12.00 NIS\n",
    "----------------------------\n",
    "cost           :  362.50 NIS\n",
    "vat            :   17.00 %\n",
    "vat            :   61.62 NIS\n",
    "total          :  424.12 NIS\n",
    "```\n"
   ]
  },
  {
   "cell_type": "code",
   "execution_count": 15,
   "metadata": {},
   "outputs": [],
   "source": [
    "### useful: data\n",
    "prices = {\n",
    "         \"steak\" : 150,\n",
    "         \"omelet\" : 25,\n",
    "         \"coca cola\" : 12,\n",
    "         \"orange juice\" : 16,\n",
    "         \"pizza\" : 49,\n",
    "         \"hamburger\" : 59,\n",
    "         \"pita\" : 1.5,\n",
    "         \"tomato salad\" : 13.5\n",
    "     }\n",
    "\n",
    "order = [\"steak\", \"steak\", \"pita\", \"pizza\", \"coca cola\"]"
   ]
  },
  {
   "cell_type": "code",
   "execution_count": 16,
   "metadata": {},
   "outputs": [
    {
     "name": "stdout",
     "output_type": "stream",
     "text": [
      "steak          :  150.00 NIS\n",
      "steak          :  150.00 NIS\n",
      "pita           :    1.50 NIS\n",
      "pizza          :   49.00 NIS\n",
      "coca cola      :   12.00 NIS\n",
      "----------------------------\n",
      "cost           :  362.50 NIS\n",
      "vat            :   17.00 %\n",
      "vat            :   61.62 NIS\n",
      "total          :  424.12 NIS\n",
      "\n"
     ]
    }
   ],
   "source": [
    "cost = 0\n",
    "part1 = \"\"\n",
    "for item in order:\n",
    "    price = prices[item]\n",
    "    cost += price\n",
    "    \n",
    "    line = \"{:15}:  {:6.2f} NIS\\n\".format(item, price)\n",
    "    part1 += line\n",
    "\n",
    "part1 += '-' * 28 + '\\n'\n",
    "vat = 17\n",
    "part2 = \"\"\"\\\n",
    "cost           :  {:6.2f} NIS\n",
    "vat            :  {:6.2f} %\n",
    "vat            :  {:6.2f} NIS\n",
    "total          :  {:6.2f} NIS\n",
    "\"\"\".format(cost, vat, cost * vat / 100, cost + cost*vat/100)\n",
    "\n",
    "print(part1 + part2)"
   ]
  },
  {
   "cell_type": "code",
   "execution_count": null,
   "metadata": {},
   "outputs": [],
   "source": []
  }
 ],
 "metadata": {
  "kernelspec": {
   "display_name": "Python 3",
   "language": "python",
   "name": "python3"
  },
  "language_info": {
   "codemirror_mode": {
    "name": "ipython",
    "version": 3
   },
   "file_extension": ".py",
   "mimetype": "text/x-python",
   "name": "python",
   "nbconvert_exporter": "python",
   "pygments_lexer": "ipython3",
   "version": "3.7.3"
  }
 },
 "nbformat": 4,
 "nbformat_minor": 2
}
