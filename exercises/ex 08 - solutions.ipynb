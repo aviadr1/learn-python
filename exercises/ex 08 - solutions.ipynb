{
  "nbformat": 4,
  "nbformat_minor": 0,
  "metadata": {
    "kernelspec": {
      "display_name": "Python 3",
      "language": "python",
      "name": "python3"
    },
    "language_info": {
      "codemirror_mode": {
        "name": "ipython",
        "version": 3
      },
      "file_extension": ".py",
      "mimetype": "text/x-python",
      "name": "python",
      "nbconvert_exporter": "python",
      "pygments_lexer": "ipython3",
      "version": "3.6.5"
    },
    "colab": {
      "name": "ex 08 - solutions.ipynb",
      "version": "0.3.2",
      "provenance": []
    }
  },
  "cells": [
    {
      "cell_type": "markdown",
      "metadata": {
        "id": "6Hq4tx6QIXx8",
        "colab_type": "text"
      },
      "source": [
        "# 1. write a multiply_by_10() function\n",
        "create a function named 'multiply_by_10' that \n",
        "   - receives one parameter x\n",
        "   - returns x multiplied by 10\n",
        "\n"
      ]
    },
    {
      "cell_type": "code",
      "metadata": {
        "id": "C2knCxEHIXx-",
        "colab_type": "code",
        "colab": {},
        "outputId": "7205d89c-0011-4d04-f218-8bc1809f0c02"
      },
      "source": [
        "def multiply_by_10(x):\n",
        "    return x*10\n",
        "\n",
        "multiply_by_10(3)"
      ],
      "execution_count": 0,
      "outputs": [
        {
          "output_type": "execute_result",
          "data": {
            "text/plain": [
              "30"
            ]
          },
          "metadata": {
            "tags": []
          },
          "execution_count": 2
        }
      ]
    },
    {
      "cell_type": "markdown",
      "metadata": {
        "id": "khDevmF_IXyE",
        "colab_type": "text"
      },
      "source": [
        "# 2. triangles\n",
        "we're going to write function to print triangles that look like this:\n",
        "```\n",
        "   *\n",
        "   **\n",
        "   ***\n",
        "   ****\n",
        "```\n",
        "\n",
        "create a function called 'print_asterics' that \n",
        "- receives one parameter called n\n",
        "- prints to screen one line with n asterics\n",
        "\n",
        "\n",
        "```\n",
        ">>> print_asterics(4)\n",
        "****\n",
        ">>> print_asterics(8)\n",
        "********\n",
        "```\n",
        "   \n",
        "use this function and a for loop to print a triangle having 10 lines\n"
      ]
    },
    {
      "cell_type": "code",
      "metadata": {
        "id": "qJhUQI0kIXyF",
        "colab_type": "code",
        "colab": {},
        "outputId": "d98a7e2d-8c65-4ed0-ad2f-de62793fec15"
      },
      "source": [
        "\n",
        "def print_asterics(n):\n",
        "    line = '*' * n\n",
        "    print(line)\n",
        "    \n",
        "for i in range(10):\n",
        "    print_asterics(i+1)\n"
      ],
      "execution_count": 0,
      "outputs": [
        {
          "output_type": "stream",
          "text": [
            "*\n",
            "**\n",
            "***\n",
            "****\n",
            "*****\n",
            "******\n",
            "*******\n",
            "********\n",
            "*********\n",
            "**********\n"
          ],
          "name": "stdout"
        }
      ]
    },
    {
      "cell_type": "markdown",
      "metadata": {
        "id": "OwNgkHhWIXyI",
        "colab_type": "text"
      },
      "source": [
        "# 3. write print_char() function\n",
        "create a new function called `print_char` that works \n",
        "similarly to print_asterics, \n",
        "- except it receives the character to print as an \n",
        " additional parameter called 'c'\n",
        "- the param c should have a default value of '*'\n",
        "\n",
        "```\n",
        ">>> print_char(4)\n",
        "****\n",
        ">>> print_char(8, '@')\n",
        "@@@@@@@@ \n",
        "```\n",
        "\n",
        "use this function to create this triangle with a loop\n",
        "```\n",
        "@\n",
        "@@\n",
        "@@@\n",
        "@@@@\n",
        "```\n"
      ]
    },
    {
      "cell_type": "code",
      "metadata": {
        "id": "kqOHqdMpIXyI",
        "colab_type": "code",
        "colab": {},
        "outputId": "2f5447d2-01f6-41af-e0c5-51508aaf9f9f"
      },
      "source": [
        "\n",
        "def print_char(n, c='*'):\n",
        "    line = c * n\n",
        "    print(line)\n",
        "    \n",
        "for i in range(5):\n",
        "    print_char(i+1, '@')"
      ],
      "execution_count": 0,
      "outputs": [
        {
          "output_type": "stream",
          "text": [
            "@\n",
            "@@\n",
            "@@@\n",
            "@@@@\n",
            "@@@@@\n"
          ],
          "name": "stdout"
        }
      ]
    },
    {
      "cell_type": "markdown",
      "metadata": {
        "id": "5Yo-vQP6IXyM",
        "colab_type": "text"
      },
      "source": [
        "# 4. function print_trian()\n",
        "create a function `print_trian` to print triangles like in #3 \n",
        "it should receive two parameters:\n",
        "- n determines how many lines the triangle would have\n",
        "- c determines the character to use, with '*' as default\n",
        "\n",
        "```\n",
        ">>> print_trian(5, '$')\n",
        "$\n",
        "$$\n",
        "$$$\n",
        "$$$$\n",
        "$$$$$\n",
        "```\n",
        "\n",
        "- hint: this function should use print_char internally\n"
      ]
    },
    {
      "cell_type": "code",
      "metadata": {
        "id": "-vbDiBEoIXyM",
        "colab_type": "code",
        "colab": {},
        "outputId": "cd95e702-dd80-4a71-e0b7-8f298c0098f2"
      },
      "source": [
        "def print_trian(n, c='*'):\n",
        "    for i in range(n):\n",
        "        print_char(i+1, c)\n",
        "        \n",
        "print_trian(5, '$')"
      ],
      "execution_count": 0,
      "outputs": [
        {
          "output_type": "stream",
          "text": [
            "$\n",
            "$$\n",
            "$$$\n",
            "$$$$\n",
            "$$$$$\n"
          ],
          "name": "stdout"
        }
      ]
    },
    {
      "cell_type": "markdown",
      "metadata": {
        "id": "TjrOZ6HuIXyQ",
        "colab_type": "text"
      },
      "source": [
        "# 4.b write get_trian() function with return value\n",
        "\n",
        "create a new function called `get_trian`, that is very similar to\n",
        "`print_trian` from #4, but instead of printing the triangle\n",
        "it returns the triangle as a string\n",
        "\n",
        "```\n",
        ">>> x = get_trian(5, '$')\n",
        ">>> print(x)\n",
        "$\n",
        "$$\n",
        "$$$\n",
        "$$$$\n",
        "$$$$$\n",
        "```"
      ]
    },
    {
      "cell_type": "code",
      "metadata": {
        "id": "1P_o7txjIXyQ",
        "colab_type": "code",
        "colab": {},
        "outputId": "dc0cf9f5-8213-46d9-f7e8-22db86d1e0e6"
      },
      "source": [
        "def get_trian(n, c='*'):\n",
        "    result = []\n",
        "    for i in range(n):\n",
        "        line = c * (i+1)\n",
        "        result.append(line)\n",
        "    \n",
        "    return \"\\n\".join(result)\n",
        "\n",
        "x = get_trian(5, '@')\n",
        "print(x)"
      ],
      "execution_count": 0,
      "outputs": [
        {
          "output_type": "stream",
          "text": [
            "@\n",
            "@@\n",
            "@@@\n",
            "@@@@\n",
            "@@@@@\n"
          ],
          "name": "stdout"
        }
      ]
    },
    {
      "cell_type": "markdown",
      "metadata": {
        "id": "cYr4DxJwIcAu",
        "colab_type": "text"
      },
      "source": [
        ""
      ]
    },
    {
      "cell_type": "code",
      "metadata": {
        "id": "FQ_4dky4IcYV",
        "colab_type": "code",
        "colab": {}
      },
      "source": [
        "# w"
      ],
      "execution_count": 0,
      "outputs": []
    },
    {
      "cell_type": "markdown",
      "metadata": {
        "id": "_WB18uT2I4jD",
        "colab_type": "text"
      },
      "source": [
        "#  `my_abs(x)` function\n",
        "write a function called `my_abs(x)` that calculates the absolute value (ערך מוחלט) of a parameter x\n",
        "for instance:\n",
        "```\n",
        "   x = my_abs(-10)\n",
        "   print(x) # prints 10\n",
        "   \n",
        "   y = my_abs(12)\n",
        "   print(y) # prints 12\n",
        "```\n"
      ]
    },
    {
      "cell_type": "code",
      "metadata": {
        "id": "P78WBnUPJ0eO",
        "colab_type": "code",
        "colab": {}
      },
      "source": [
        "def my_abs(x):\n",
        "  if x<0:\n",
        "    return -x\n",
        "  else:\n",
        "    return x"
      ],
      "execution_count": 0,
      "outputs": []
    },
    {
      "cell_type": "code",
      "metadata": {
        "id": "5DHPYhEKJb9s",
        "colab_type": "code",
        "colab": {}
      },
      "source": [
        "### useful: this tests your function\n",
        "assert my_abs(0) == 0\n",
        "assert my_abs(-10) == 10\n",
        "assert my_abs(15) == 15\n"
      ],
      "execution_count": 0,
      "outputs": []
    },
    {
      "cell_type": "markdown",
      "metadata": {
        "id": "Xo2yySqLIXyU",
        "colab_type": "text"
      },
      "source": [
        "# make_matrix() function\n",
        "\n",
        "write a function called `make_matrix(nrows=10, ncols=10)` that returns a multiplication matrix (לוח כפל)\n",
        "with `nrows` rows and `ncols` rows.\n",
        "\n",
        "the function will return a list of lists that have the following property:\n",
        "```\n",
        "make_matrix()[i][j] == i*j\n",
        "```\n",
        "\n",
        "for example:\n",
        "```\n",
        ">>> from pprint import pprint\n",
        ">>> x = make_matrix(5, 5)\n",
        ">>> pprint(x)\n",
        "[[0, 0, 0, 0, 0],\n",
        " [0, 1, 2, 3, 4],\n",
        " [0, 2, 4, 6, 8],\n",
        " [0, 3, 6, 9, 12],\n",
        " [0, 4, 8, 12, 16]]\n",
        "```\n"
      ]
    },
    {
      "cell_type": "code",
      "metadata": {
        "id": "DPsF-zemIXyV",
        "colab_type": "code",
        "colab": {},
        "outputId": "9dc24d73-9939-4435-f6b9-398fbc56bf4d"
      },
      "source": [
        "from pprint import pprint\n",
        "def make_matrix(nrows=10, ncols=10):\n",
        "    matrix = []\n",
        "    for i in range(nrows):\n",
        "        row = []\n",
        "        matrix.append(row)\n",
        "        for j in range(ncols):\n",
        "            row.append(i*j)\n",
        "        \n",
        "    return matrix\n",
        "\n",
        "x = make_matrix(5,5)\n",
        "pprint(x)"
      ],
      "execution_count": 0,
      "outputs": [
        {
          "output_type": "stream",
          "text": [
            "[[0, 0, 0, 0, 0],\n",
            " [0, 1, 2, 3, 4],\n",
            " [0, 2, 4, 6, 8],\n",
            " [0, 3, 6, 9, 12],\n",
            " [0, 4, 8, 12, 16]]\n"
          ],
          "name": "stdout"
        }
      ]
    },
    {
      "cell_type": "markdown",
      "metadata": {
        "id": "EhjC-TAkIXyY",
        "colab_type": "text"
      },
      "source": [
        "# write maxitem() function\n",
        "create a function called maxitem \n",
        "that finds and returns the maximum item in a list\n",
        "\n",
        "```\n",
        ">>> maxitem([1,2,3,4,3,1])\n",
        "4\n",
        "```"
      ]
    },
    {
      "cell_type": "code",
      "metadata": {
        "id": "KV8_05zSIXyZ",
        "colab_type": "code",
        "colab": {},
        "outputId": "dc7b7200-8978-4015-e516-1538b624b3e0"
      },
      "source": [
        "def maxitem(lst):\n",
        "    themax = lst[0]\n",
        "    for x in lst[1:]:\n",
        "        if x > themax:\n",
        "            themax = x\n",
        "    return themax\n",
        "\n",
        "maxitem([1,2,3,4,3,1])"
      ],
      "execution_count": 0,
      "outputs": [
        {
          "output_type": "execute_result",
          "data": {
            "text/plain": [
              "4"
            ]
          },
          "metadata": {
            "tags": []
          },
          "execution_count": 7
        }
      ]
    },
    {
      "cell_type": "markdown",
      "metadata": {
        "id": "7uPRMQpZIXyd",
        "colab_type": "text"
      },
      "source": [
        "# sort_lists() - difficult\n",
        "\n",
        "create a function called `sort_lists` that can sort a list of lists.\n",
        "\\[find hints on how to do it below.\\]\n",
        "\n",
        "it will work in the following way:\n",
        "- we will sort lists according to which one has the maxmium item (like in #5)\n",
        "- example:\n",
        "```\n",
        ">>> sort_lists([\n",
        " [1,2,3],\n",
        " [2,3,4],\n",
        " [1,1,1],\n",
        " [2]\n",
        " ])\n",
        "[\n",
        "[1,1,1],\n",
        "[2],\n",
        "[1,2,3],\n",
        "[2,3,4\n",
        "]\n",
        "```\n",
        "\n",
        "- hint: use the function `maxitem` from #5 \n",
        "and the existing function `sorted`\n"
      ]
    },
    {
      "cell_type": "code",
      "metadata": {
        "id": "Sk0ahm_dIXye",
        "colab_type": "code",
        "colab": {},
        "outputId": "979063c0-8c56-4d26-9387-daae77c5afd4"
      },
      "source": [
        "def sort_lists(lst):\n",
        "    return sorted(lst, key=maxitem)\n",
        "\n",
        "sort_lists([\n",
        "         [1,2,3],\n",
        "         [2,3,4],\n",
        "         [1,1,1],\n",
        "         [2]\n",
        "        ])"
      ],
      "execution_count": 0,
      "outputs": [
        {
          "output_type": "execute_result",
          "data": {
            "text/plain": [
              "[[1, 1, 1], [2], [1, 2, 3], [2, 3, 4]]"
            ]
          },
          "metadata": {
            "tags": []
          },
          "execution_count": 8
        }
      ]
    },
    {
      "cell_type": "markdown",
      "metadata": {
        "id": "iE6V-UjrIXyh",
        "colab_type": "text"
      },
      "source": [
        "# make_add_x - difficult\n",
        "create a function called `make_add_x() `\n",
        "that receives one parameter x\n",
        "and returns an inner *function* ...\n",
        "this inner function will receive one parameter y\n",
        "and return `x+y`\n",
        "```\n",
        ">>> add7 = make_add_x(7)\n",
        ">>> add7(3)\n",
        "10\n",
        ">>> add7(5)\n",
        "12\n",
        ">>> add10 = make_add_x(10)\n",
        ">>> add10(100)\n",
        "110\n",
        "```"
      ]
    },
    {
      "cell_type": "code",
      "metadata": {
        "id": "aMlR4zXuIXyi",
        "colab_type": "code",
        "colab": {},
        "outputId": "1f3449ab-6fae-4e3f-c642-22f7d615dda6"
      },
      "source": [
        "\n",
        "def make_add_x(x):\n",
        "    def add_x(y):\n",
        "        return x+y\n",
        "    return add_x\n",
        "\n",
        "add7 = make_add_x(7)\n",
        "print(add7(3)) # 10\n",
        "print(add7(5)) # 12\n",
        "\n",
        "add10 = make_add_x(10)\n",
        "print(add10(100)) # 110"
      ],
      "execution_count": 0,
      "outputs": [
        {
          "output_type": "stream",
          "text": [
            "10\n",
            "12\n",
            "110\n"
          ],
          "name": "stdout"
        }
      ]
    },
    {
      "cell_type": "markdown",
      "metadata": {
        "id": "CxxMW-BfIXyk",
        "colab_type": "text"
      },
      "source": [
        "# myprint() - challenging\n",
        "\n",
        "create a function called `myprint` that has similar properties to the built-in `print()` function:\n",
        "- it is variadic: it can support 0,1,2,3 or more parameters (unlimited number)\n",
        "- it supports the file, sep and end arguments\n",
        "\n",
        "it differrs from print by prefering the character @\n",
        "```\n",
        ">>> myprint(1, 2, 3)\n",
        "1 @ 2 @ 3 @\n",
        ">>> myprint( [1, 2, 3], [4, 5, 6] )\n",
        "[1, 2, 3] @ [4, 5, 6] @\n",
        "\n",
        ">>> myprint(1, 2, 3, file=sys.stdout, sep=' ', end='\\n')\n",
        "1 2 3\n",
        "```\n"
      ]
    },
    {
      "cell_type": "code",
      "metadata": {
        "id": "oMq1zr2CIXyl",
        "colab_type": "code",
        "colab": {},
        "outputId": "5a2ffd79-5927-40b9-e3b8-c65d3f4ef41c"
      },
      "source": [
        "\n",
        "\n",
        "import sys\n",
        "def myprint(*args, sep=' @ ', end=' @\\n', file=sys.stdout):\n",
        "    return print(*args, sep=sep, end=end, file=file)\n",
        "\n",
        "myprint(1, 2, 3)                #     1 @ 2 @ 3 @\n",
        "myprint( [1, 2, 3], [4, 5, 6] ) #    [1, 2, 3] @ [4, 5, 6] @\n",
        "myprint(1, 2, 3, file=sys.stdout, sep=' ', end='\\n') # 1 2 3"
      ],
      "execution_count": 0,
      "outputs": [
        {
          "output_type": "stream",
          "text": [
            "1 @ 2 @ 3 @\n",
            "[1, 2, 3] @ [4, 5, 6] @\n",
            "1 2 3\n"
          ],
          "name": "stdout"
        }
      ]
    },
    {
      "cell_type": "markdown",
      "metadata": {
        "id": "mwcLzCXnIXyo",
        "colab_type": "text"
      },
      "source": [
        "# make_debuggable() - very difficult\n",
        "\n",
        "create a function called make_debuggable(func) that:\n",
        "- receives one paramter called func\n",
        "- returns a new function that does the same thing as func, \n",
        "\n",
        "and can accept any argument that func accepts.\n",
        "\n",
        "- but in addition the returned function also helps debugging by \n",
        "  printing out the parameters it received, and the return value it is about to return\n",
        "\n",
        "hints:\n",
        "- use a nested function that accepts variadic positional and keyword arguments\n"
      ]
    },
    {
      "cell_type": "code",
      "metadata": {
        "id": "NNaXjZeXIXyo",
        "colab_type": "code",
        "colab": {},
        "outputId": "4b0ef41d-9481-4ed7-f140-1baf5ebf6198"
      },
      "source": [
        "def make_debuggable(func):\n",
        "    def __get_signature(func, args, kwargs):\n",
        "        fullargs = [str(a) for a in args] + [ f\"{k}={v}\" for k,v in kwargs.items()]\n",
        "        return \"{}({})\".format(func.__name__, ', '.join(fullargs))\n",
        "        \n",
        "    def nested(*args, **kwargs):\n",
        "        print(f\"calling {__get_signature(func, args, kwargs)}\")\n",
        "        \n",
        "        v = func(*args, **kwargs)\n",
        "        \n",
        "        print(f\"{__get_signature(func, args, kwargs)} -->> {v}\")\n",
        "        return v\n",
        "    \n",
        "    return nested\n",
        "\n",
        "import math\n",
        "debug_sqrt = make_debuggable(math.sqrt)\n",
        "debug_sqrt(100)\n",
        "#debug_sqrt(-100)\n",
        "\n",
        "print()\n",
        "\n",
        "debug_print = make_debuggable(print)\n",
        "debug_print(1,2,3, sep = ' @@@ ')\n"
      ],
      "execution_count": 0,
      "outputs": [
        {
          "output_type": "stream",
          "text": [
            "calling sqrt(100)\n",
            "sqrt(100) -->> 10.0\n",
            "\n",
            "calling print(1, 2, 3, sep= @@@ )\n",
            "1 @@@ 2 @@@ 3\n",
            "print(1, 2, 3, sep= @@@ ) -->> None\n"
          ],
          "name": "stdout"
        }
      ]
    },
    {
      "cell_type": "code",
      "metadata": {
        "id": "BzExERNyIXyr",
        "colab_type": "code",
        "colab": {}
      },
      "source": [
        ""
      ],
      "execution_count": 0,
      "outputs": []
    }
  ]
}