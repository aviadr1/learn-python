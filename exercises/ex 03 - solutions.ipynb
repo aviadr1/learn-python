{
 "cells": [
  {
   "cell_type": "markdown",
   "metadata": {},
   "source": [
    "# For more exercizes on loops, see this link:\n",
    "* [Python conditional statements and loops [44 exercises with solution]](bit.ly/aviad-python-loops)\n"
   ]
  },
  {
   "cell_type": "markdown",
   "metadata": {},
   "source": [
    "# if/elif/else - checking a password\n",
    "\n",
    "1. use the input() function to take a password from the user\n",
    "   <br><br>\n",
    "   \n",
    "1. check that the password is \"good\" according to the following criterions:\n",
    "   1. the password length must be at least 4\n",
    "   1. the password length must be no more than 12\n",
    "   1. the password must not be just numbers\n",
    "   1. the password must have both lowercase and uppercase letters\n",
    "   <br><br>\n",
    "   \n",
    "1. if the password is good, print \"excellent password\". \n",
    "   otherwise, print the reason why the password was rejected\n",
    "   <br><br>\n",
    "   \n",
    "HINTS:\n",
    "* use the `len()`, `.isdigit()`, `.isupper()`, `.islower()` functions\n"
   ]
  },
  {
   "cell_type": "code",
   "execution_count": 1,
   "metadata": {},
   "outputs": [
    {
     "name": "stdout",
     "output_type": "stream",
     "text": [
      "your password, sir/madam? blah\n",
      "need uppercase letters\n"
     ]
    }
   ],
   "source": [
    "p = input(\"your password, sir/madam? \")\n",
    "if len(p) < 4:\n",
    "    print(\"password too short\")\n",
    "elif len(p) > 12:\n",
    "    print(\"password too long\")\n",
    "elif p.isdigit():\n",
    "    print(\"cannot be just numbers\")\n",
    "elif p.islower():\n",
    "    print(\"need uppercase letters\")\n",
    "elif p.isupper():\n",
    "    print(\"need lowercase letters\")\n",
    "else:\n",
    "    print(\"excellent password\")\n",
    "    finished = True"
   ]
  },
  {
   "cell_type": "markdown",
   "metadata": {},
   "source": [
    "# While loop - until we find a good password\n",
    "\n",
    "1. copy the password testing code you wrote above\n",
    "   <br> <br>\n",
    "   \n",
    "1. now use a while loop to continue asking for a new password\n",
    "   until a password that passes all the tests is given"
   ]
  },
  {
   "cell_type": "code",
   "execution_count": 2,
   "metadata": {},
   "outputs": [
    {
     "name": "stdout",
     "output_type": "stream",
     "text": [
      "your password, sir/madam? BLAH\n",
      "need lowercase letters\n",
      "your password, sir/madam? blahBLAH\n",
      "excellent password\n"
     ]
    }
   ],
   "source": [
    "finished = False\n",
    "while not finished:\n",
    "    p = input(\"your password, sir/madam? \")\n",
    "    if len(p) < 4:\n",
    "        print(\"password too short\")\n",
    "    elif len(p) > 12:\n",
    "        print(\"password too long\")\n",
    "    elif p.isdigit():\n",
    "        print(\"cannot be just numbers\")\n",
    "    elif p.islower():\n",
    "        print(\"need uppercase letters\")\n",
    "    elif p.isupper():\n",
    "        print(\"need lowercase letters\")\n",
    "    else:\n",
    "        print(\"excellent password\")\n",
    "        finished = True"
   ]
  },
  {
   "cell_type": "markdown",
   "metadata": {},
   "source": [
    "# While loop - password with maximum 3 attemps \n",
    "\n",
    "1. copy your answer for the while loop above\n",
    "   <br><br>\n",
    "   \n",
    "1. now modify the code such that no more than 3 attemps are possible\n",
    "   after 3 failed attemps, the program should say \"too many attemps, access denied\"\n",
    "   <br><br>\n"
   ]
  },
  {
   "cell_type": "code",
   "execution_count": 3,
   "metadata": {},
   "outputs": [
    {
     "name": "stdout",
     "output_type": "stream",
     "text": [
      "your password, sir/madam? 123\n",
      "password too short\n",
      "your password, sir/madam? 1242\n",
      "cannot be just numbers\n",
      "your password, sir/madam? blah\n",
      "need uppercase letters\n",
      "too many attempts, access denied\n"
     ]
    }
   ],
   "source": [
    "tries_left = 3\n",
    "finished = False\n",
    "while not finished and tries_left >0:\n",
    "    tries_left = tries_left - 1\n",
    "    p = input(\"your password, sir/madam? \")\n",
    "    if len(p) < 4:\n",
    "        print(\"password too short\")   \n",
    "    elif len(p) > 12:\n",
    "        print(\"password too long\")\n",
    "    elif p.isdigit():\n",
    "        print(\"cannot be just numbers\")\n",
    "    elif p.islower():\n",
    "        print(\"need uppercase letters\")\n",
    "    elif p.isupper():\n",
    "        print(\"need lowercase letters\")\n",
    "    else:\n",
    "        print(\"excellent password\")\n",
    "        finished = True\n",
    "        \n",
    "if tries_left == 0 and not finished:\n",
    "    print(\"too many attempts, access denied\")"
   ]
  },
  {
   "cell_type": "markdown",
   "metadata": {},
   "source": [
    "# while loop - numbers 0-100 divisible by 7\n",
    "\n",
    "using a while loop, print all the numbers between 0 and 100 \n",
    "that are divisible by 7\n",
    "\n",
    "> **we say that x is divisible by 7 when `x%7 == 0`**\n"
   ]
  },
  {
   "cell_type": "code",
   "execution_count": 4,
   "metadata": {},
   "outputs": [
    {
     "name": "stdout",
     "output_type": "stream",
     "text": [
      "0\n",
      "7\n",
      "14\n",
      "21\n",
      "28\n",
      "35\n",
      "42\n",
      "49\n",
      "56\n",
      "63\n",
      "70\n",
      "77\n",
      "84\n",
      "91\n",
      "98\n"
     ]
    }
   ],
   "source": [
    "i=0\n",
    "while i<=100:\n",
    "    if i%7==0:\n",
    "        print(i)\n",
    "    i+=1"
   ]
  },
  {
   "cell_type": "markdown",
   "metadata": {},
   "source": [
    "# for loop -  numbers 0-100 divisible by 7\n",
    "\n",
    "> **Just like the question above, this time with a `for` loop**\n",
    "\n",
    "print all the numbers between 0 and 100 that are divisible by 7\n",
    "using a `for` loop and `range(100)`\n"
   ]
  },
  {
   "cell_type": "code",
   "execution_count": 5,
   "metadata": {},
   "outputs": [
    {
     "name": "stdout",
     "output_type": "stream",
     "text": [
      "0\n",
      "7\n",
      "14\n",
      "21\n",
      "28\n",
      "35\n",
      "42\n",
      "49\n",
      "56\n",
      "63\n",
      "70\n",
      "77\n",
      "84\n",
      "91\n",
      "98\n"
     ]
    }
   ],
   "source": [
    "for i in range(100):\n",
    "    if i%7 ==0:\n",
    "        print(i)"
   ]
  },
  {
   "cell_type": "markdown",
   "metadata": {},
   "source": [
    "# While loop - multiplication matrix\n",
    "\n",
    "> multiplication matrix = לוח הכפל\n",
    "\n",
    "using while loop(s), print the multiplication matrix\n",
    "in the following way (total of 100 lines)\n",
    "\n",
    "      1 x 1 = 1\n",
    "      1 x 2 = 2\n",
    "      ...\n",
    "      1 x 10 = 10\n",
    "      2 x 1 = 1\n",
    "      2 x 2 = 2\n",
    "      ...\n",
    "      2 x 10 = 20\n",
    "      ...\n",
    "      ...\n",
    "      10 x 1 = 10\n",
    "      10 x 2 = 20\n",
    "      ...\n",
    "      10 x 10 = 100"
   ]
  },
  {
   "cell_type": "code",
   "execution_count": 6,
   "metadata": {
    "scrolled": false
   },
   "outputs": [
    {
     "name": "stdout",
     "output_type": "stream",
     "text": [
      "1 * 1 = 1\n",
      "1 * 2 = 2\n",
      "1 * 3 = 3\n",
      "1 * 4 = 4\n",
      "1 * 5 = 5\n",
      "1 * 6 = 6\n",
      "1 * 7 = 7\n",
      "1 * 8 = 8\n",
      "1 * 9 = 9\n",
      "1 * 10 = 10\n",
      "2 * 1 = 2\n",
      "2 * 2 = 4\n",
      "2 * 3 = 6\n",
      "2 * 4 = 8\n",
      "2 * 5 = 10\n",
      "2 * 6 = 12\n",
      "2 * 7 = 14\n",
      "2 * 8 = 16\n",
      "2 * 9 = 18\n",
      "2 * 10 = 20\n",
      "3 * 1 = 3\n",
      "3 * 2 = 6\n",
      "3 * 3 = 9\n",
      "3 * 4 = 12\n",
      "3 * 5 = 15\n",
      "3 * 6 = 18\n",
      "3 * 7 = 21\n",
      "3 * 8 = 24\n",
      "3 * 9 = 27\n",
      "3 * 10 = 30\n",
      "4 * 1 = 4\n",
      "4 * 2 = 8\n",
      "4 * 3 = 12\n",
      "4 * 4 = 16\n",
      "4 * 5 = 20\n",
      "4 * 6 = 24\n",
      "4 * 7 = 28\n",
      "4 * 8 = 32\n",
      "4 * 9 = 36\n",
      "4 * 10 = 40\n",
      "5 * 1 = 5\n",
      "5 * 2 = 10\n",
      "5 * 3 = 15\n",
      "5 * 4 = 20\n",
      "5 * 5 = 25\n",
      "5 * 6 = 30\n",
      "5 * 7 = 35\n",
      "5 * 8 = 40\n",
      "5 * 9 = 45\n",
      "5 * 10 = 50\n",
      "6 * 1 = 6\n",
      "6 * 2 = 12\n",
      "6 * 3 = 18\n",
      "6 * 4 = 24\n",
      "6 * 5 = 30\n",
      "6 * 6 = 36\n",
      "6 * 7 = 42\n",
      "6 * 8 = 48\n",
      "6 * 9 = 54\n",
      "6 * 10 = 60\n",
      "7 * 1 = 7\n",
      "7 * 2 = 14\n",
      "7 * 3 = 21\n",
      "7 * 4 = 28\n",
      "7 * 5 = 35\n",
      "7 * 6 = 42\n",
      "7 * 7 = 49\n",
      "7 * 8 = 56\n",
      "7 * 9 = 63\n",
      "7 * 10 = 70\n",
      "8 * 1 = 8\n",
      "8 * 2 = 16\n",
      "8 * 3 = 24\n",
      "8 * 4 = 32\n",
      "8 * 5 = 40\n",
      "8 * 6 = 48\n",
      "8 * 7 = 56\n",
      "8 * 8 = 64\n",
      "8 * 9 = 72\n",
      "8 * 10 = 80\n",
      "9 * 1 = 9\n",
      "9 * 2 = 18\n",
      "9 * 3 = 27\n",
      "9 * 4 = 36\n",
      "9 * 5 = 45\n",
      "9 * 6 = 54\n",
      "9 * 7 = 63\n",
      "9 * 8 = 72\n",
      "9 * 9 = 81\n",
      "9 * 10 = 90\n",
      "10 * 1 = 10\n",
      "10 * 2 = 20\n",
      "10 * 3 = 30\n",
      "10 * 4 = 40\n",
      "10 * 5 = 50\n",
      "10 * 6 = 60\n",
      "10 * 7 = 70\n",
      "10 * 8 = 80\n",
      "10 * 9 = 90\n",
      "10 * 10 = 100\n"
     ]
    }
   ],
   "source": [
    "i=1\n",
    "while i<=10:\n",
    "    j=1\n",
    "    while j<=10:\n",
    "        print(i, '*', j, '=', i*j)\n",
    "        j+=1\n",
    "    i+=1\n",
    "    "
   ]
  },
  {
   "cell_type": "markdown",
   "metadata": {},
   "source": [
    "# for loop - multiplication matrix\n",
    "\n",
    "> multiplication matrix = לוח הכפל\n",
    "\n",
    "this time, use `for` loop(s) and `range` to print the multiplication matrix\n",
    "in the following way (total of 100 lines)\n",
    "\n",
    "      1 x 1 = 1\n",
    "      1 x 2 = 2\n",
    "      ...\n",
    "      1 x 10 = 10\n",
    "      2 x 1 = 1\n",
    "      2 x 2 = 2\n",
    "      ...\n",
    "      2 x 10 = 20\n",
    "      ...\n",
    "      ...\n",
    "      10 x 1 = 10\n",
    "      10 x 2 = 20\n",
    "      ...\n",
    "      10 x 10 = 100"
   ]
  },
  {
   "cell_type": "code",
   "execution_count": 7,
   "metadata": {},
   "outputs": [
    {
     "name": "stdout",
     "output_type": "stream",
     "text": [
      "1 * 1 = 1\n",
      "1 * 2 = 2\n",
      "1 * 3 = 3\n",
      "1 * 4 = 4\n",
      "1 * 5 = 5\n",
      "1 * 6 = 6\n",
      "1 * 7 = 7\n",
      "1 * 8 = 8\n",
      "1 * 9 = 9\n",
      "1 * 10 = 10\n",
      "2 * 1 = 2\n",
      "2 * 2 = 4\n",
      "2 * 3 = 6\n",
      "2 * 4 = 8\n",
      "2 * 5 = 10\n",
      "2 * 6 = 12\n",
      "2 * 7 = 14\n",
      "2 * 8 = 16\n",
      "2 * 9 = 18\n",
      "2 * 10 = 20\n",
      "3 * 1 = 3\n",
      "3 * 2 = 6\n",
      "3 * 3 = 9\n",
      "3 * 4 = 12\n",
      "3 * 5 = 15\n",
      "3 * 6 = 18\n",
      "3 * 7 = 21\n",
      "3 * 8 = 24\n",
      "3 * 9 = 27\n",
      "3 * 10 = 30\n",
      "4 * 1 = 4\n",
      "4 * 2 = 8\n",
      "4 * 3 = 12\n",
      "4 * 4 = 16\n",
      "4 * 5 = 20\n",
      "4 * 6 = 24\n",
      "4 * 7 = 28\n",
      "4 * 8 = 32\n",
      "4 * 9 = 36\n",
      "4 * 10 = 40\n",
      "5 * 1 = 5\n",
      "5 * 2 = 10\n",
      "5 * 3 = 15\n",
      "5 * 4 = 20\n",
      "5 * 5 = 25\n",
      "5 * 6 = 30\n",
      "5 * 7 = 35\n",
      "5 * 8 = 40\n",
      "5 * 9 = 45\n",
      "5 * 10 = 50\n",
      "6 * 1 = 6\n",
      "6 * 2 = 12\n",
      "6 * 3 = 18\n",
      "6 * 4 = 24\n",
      "6 * 5 = 30\n",
      "6 * 6 = 36\n",
      "6 * 7 = 42\n",
      "6 * 8 = 48\n",
      "6 * 9 = 54\n",
      "6 * 10 = 60\n",
      "7 * 1 = 7\n",
      "7 * 2 = 14\n",
      "7 * 3 = 21\n",
      "7 * 4 = 28\n",
      "7 * 5 = 35\n",
      "7 * 6 = 42\n",
      "7 * 7 = 49\n",
      "7 * 8 = 56\n",
      "7 * 9 = 63\n",
      "7 * 10 = 70\n",
      "8 * 1 = 8\n",
      "8 * 2 = 16\n",
      "8 * 3 = 24\n",
      "8 * 4 = 32\n",
      "8 * 5 = 40\n",
      "8 * 6 = 48\n",
      "8 * 7 = 56\n",
      "8 * 8 = 64\n",
      "8 * 9 = 72\n",
      "8 * 10 = 80\n",
      "9 * 1 = 9\n",
      "9 * 2 = 18\n",
      "9 * 3 = 27\n",
      "9 * 4 = 36\n",
      "9 * 5 = 45\n",
      "9 * 6 = 54\n",
      "9 * 7 = 63\n",
      "9 * 8 = 72\n",
      "9 * 9 = 81\n",
      "9 * 10 = 90\n",
      "10 * 1 = 10\n",
      "10 * 2 = 20\n",
      "10 * 3 = 30\n",
      "10 * 4 = 40\n",
      "10 * 5 = 50\n",
      "10 * 6 = 60\n",
      "10 * 7 = 70\n",
      "10 * 8 = 80\n",
      "10 * 9 = 90\n",
      "10 * 10 = 100\n"
     ]
    }
   ],
   "source": [
    "for i in range(1,10+1):\n",
    "    for j in range(1,10+1):\n",
    "         print(i, '*', j, '=', i*j)"
   ]
  },
  {
   "cell_type": "markdown",
   "metadata": {},
   "source": [
    "# for loop - multiplication matrix with nice formatting\n",
    "\n",
    "1. copy your _for loop multiplication matrix_ solution  above \n",
    "   <br><br>\n",
    "   \n",
    "2. modify the solution so that it actually prints the multiplication table in table form <br>\n",
    "      hint: \n",
    "        >> print(1,2,3, end=\"\\t\")\n",
    "        >> print(4,5,6)\n",
    "        1 2 3    4 5 6\n",
    "\n",
    "expected output:\n",
    "\n",
    "     1    2     3     4     5     6     7     8     9     10    \n",
    "     2    4     6     8     10    12    14    16    18    20    \n",
    "     3    6     9     12    15    18    21    24    27    30    \n",
    "     4    8     12    16    20    24    28    32    36    40    \n",
    "     5    10    15    20    25    30    35    40    45    50    \n",
    "     6    12    18    24    30    36    42    48    54    60    \n",
    "     7    14    21    28    35    42    49    56    63    70    \n",
    "     8    16    24    32    40    48    56    64    72    80    \n",
    "     9    18    27    36    45    54    63    72    81    90    \n",
    "     10   20    30    40    50    60    70    80    90    100    \n"
   ]
  },
  {
   "cell_type": "code",
   "execution_count": 8,
   "metadata": {},
   "outputs": [
    {
     "name": "stdout",
     "output_type": "stream",
     "text": [
      "1\t2\t3\t4\t5\t6\t7\t8\t9\t10\t\n",
      "2\t4\t6\t8\t10\t12\t14\t16\t18\t20\t\n",
      "3\t6\t9\t12\t15\t18\t21\t24\t27\t30\t\n",
      "4\t8\t12\t16\t20\t24\t28\t32\t36\t40\t\n",
      "5\t10\t15\t20\t25\t30\t35\t40\t45\t50\t\n",
      "6\t12\t18\t24\t30\t36\t42\t48\t54\t60\t\n",
      "7\t14\t21\t28\t35\t42\t49\t56\t63\t70\t\n",
      "8\t16\t24\t32\t40\t48\t56\t64\t72\t80\t\n",
      "9\t18\t27\t36\t45\t54\t63\t72\t81\t90\t\n",
      "10\t20\t30\t40\t50\t60\t70\t80\t90\t100\t\n"
     ]
    }
   ],
   "source": [
    "for i in range(1,10+1):\n",
    "    for j in range(1,10+1):\n",
    "        print( i*j, end=\"\\t\")\n",
    "    print()"
   ]
  },
  {
   "cell_type": "markdown",
   "metadata": {},
   "source": [
    "# loop to find long words\n",
    "\n",
    "print all the words in the following sentence that are longer than 4 characters:\n",
    "   \n",
    "    \"The quick brown fox jumped over the lazy dog\"\n",
    "   \n",
    "expected output:\n",
    "   \n",
    "    quick\n",
    "    brown\n",
    "    jumped"
   ]
  },
  {
   "cell_type": "code",
   "execution_count": 9,
   "metadata": {},
   "outputs": [
    {
     "name": "stdout",
     "output_type": "stream",
     "text": [
      "quick\n",
      "brown\n",
      "jumped\n"
     ]
    }
   ],
   "source": [
    "sent = \"the quick brown fox jumped over the lazy dog\"\n",
    "words = sent.split()\n",
    "for word in words:\n",
    "    if len(word) > 4:\n",
    "        print(word)"
   ]
  },
  {
   "cell_type": "markdown",
   "metadata": {},
   "source": [
    "# squares\n",
    "\n",
    "here's a square made of the `'*'` character with length 5\n",
    "\n",
    "    *****\n",
    "    *****\n",
    "    *****\n",
    "    *****\n",
    "    *****\n",
    "\n",
    "1. use the input() function to take a number from the user\n",
    "   ```\n",
    "   num = int(input('how big? '))\n",
    "   ```\n",
    "   \n",
    "1. can you use for loop(s) to print such a square of length `num`?\n",
    "\n",
    "hints: \n",
    "* use `print('*', end=\"\")` to print a single `'*'` character\n",
    "* you need more than one for loop"
   ]
  },
  {
   "cell_type": "code",
   "execution_count": 10,
   "metadata": {},
   "outputs": [
    {
     "name": "stdout",
     "output_type": "stream",
     "text": [
      "how big? 6\n",
      "******\n",
      "******\n",
      "******\n",
      "******\n",
      "******\n",
      "******\n"
     ]
    }
   ],
   "source": [
    "num = int(input('how big? '))\n",
    "for row in range(num):\n",
    "    for i in range(num):\n",
    "        print('*', end=\"\")\n",
    "    print()"
   ]
  },
  {
   "cell_type": "markdown",
   "metadata": {},
   "source": [
    "# triangles\n",
    "here's a triangle made of the `'*'` character with length 5\n",
    "   \n",
    "     *\n",
    "     **\n",
    "     ***\n",
    "     ****\n",
    "     *****\n",
    "\n",
    "can you use for loop(s) to print such a triangle of length 10?\n"
   ]
  },
  {
   "cell_type": "code",
   "execution_count": 11,
   "metadata": {},
   "outputs": [
    {
     "name": "stdout",
     "output_type": "stream",
     "text": [
      "*\n",
      "**\n",
      "***\n",
      "****\n",
      "*****\n",
      "******\n",
      "*******\n",
      "********\n",
      "*********\n",
      "**********\n"
     ]
    }
   ],
   "source": [
    "for row in range(10):\n",
    "    for i in range(row+1):\n",
    "        print('*', end=\"\")\n",
    "    print()"
   ]
  },
  {
   "cell_type": "markdown",
   "metadata": {},
   "source": [
    "# enumerate\n",
    "1. split the string \"the quick brown fox jumped over the lazy dog\" into words\n",
    "  using the .split() function, and put the list in the variable 'words'\n",
    "  <br><br>\n",
    "\n",
    "1. use the enumerate() function to print each word on its own line, \n",
    "   along with the index of the word in the 'words' variable\n",
    "   <br><br>\n",
    "   \n",
    "       0 the\n",
    "       1 quick\n",
    "       2 brown\n",
    "       3 fox\n",
    "       4 jumped\n",
    "       5 over\n",
    "       6 the\n",
    "       7 lazy\n",
    "       8 dog\n",
    "\n",
    "3. (harder) replace words that are longer than 4 characters to the string \"too long\"\n",
    "   use enumerate() to do this with minimum number of code lines \n",
    "\n",
    "       ['the', 'too long', 'too long', 'fox', 'too long', 'over', 'the', 'lazy', 'dog'] \n"
   ]
  },
  {
   "cell_type": "code",
   "execution_count": 12,
   "metadata": {},
   "outputs": [
    {
     "name": "stdout",
     "output_type": "stream",
     "text": [
      "0 the\n",
      "1 quick\n",
      "2 brown\n",
      "3 fox\n",
      "4 jumped\n",
      "5 over\n",
      "6 the\n",
      "7 lazy\n",
      "8 dog\n",
      "['the', 'too long', 'too long', 'fox', 'too long', 'over', 'the', 'lazy', 'dog']\n"
     ]
    }
   ],
   "source": [
    "# a\n",
    "words = \"the quick brown fox jumped over the lazy dog\".split()\n",
    "\n",
    "# b \n",
    "for i, word in enumerate(words):\n",
    "    print(i, word)\n",
    "    \n",
    "# c\n",
    "for i, word in enumerate(words):\n",
    "    if len(word) > 4:\n",
    "        words[i] = \"too long\"\n",
    "    \n",
    "print(words)"
   ]
  },
  {
   "cell_type": "code",
   "execution_count": null,
   "metadata": {},
   "outputs": [],
   "source": []
  }
 ],
 "metadata": {
  "kernelspec": {
   "display_name": "Python 3",
   "language": "python",
   "name": "python3"
  },
  "language_info": {
   "codemirror_mode": {
    "name": "ipython",
    "version": 3
   },
   "file_extension": ".py",
   "mimetype": "text/x-python",
   "name": "python",
   "nbconvert_exporter": "python",
   "pygments_lexer": "ipython3",
   "version": "3.7.3"
  }
 },
 "nbformat": 4,
 "nbformat_minor": 2
}
