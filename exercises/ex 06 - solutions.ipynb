{
 "cells": [
  {
   "cell_type": "markdown",
   "metadata": {},
   "source": [
    "\n",
    "<a href=\"https://colab.research.google.com/github/aviadr1/learn-python/blob/master/exercises/ex%2006%20-%20solutions.ipynb\" target=\"_blank\">\n",
    "<img src=\"https://colab.research.google.com/assets/colab-badge.svg\" \n",
    "     title=\"Open this file in Google Colab\" alt=\"Colab\"/>\n",
    "</a>\n"
   ]
  },
  {
   "cell_type": "markdown",
   "metadata": {},
   "source": [
    "[![Open In Colab](https://colab.research.google.com/assets/colab-badge.svg)](https://colab.research.google.com/github/aviadr1/learn-python/)    "
   ]
  },
  {
   "cell_type": "markdown",
   "metadata": {},
   "source": [
    "# regex to match positive integers\n",
    "create and test a regex to:\n",
    "match positive integer numbers\n",
    "\n"
   ]
  },
  {
   "cell_type": "code",
   "execution_count": 1,
   "metadata": {},
   "outputs": [],
   "source": [
    "### useful: test data\n",
    "good_matches = [\n",
    "   \"1\",\n",
    "   \"12\",\n",
    "   \"65324\",\n",
    "   \"0\",\n",
    "]\n",
    "\n",
    "bad_matches = [\n",
    "    \"blah\",\n",
    "    \"f123\",\n",
    "    \"245fsd\"\n",
    "    \"4-5\",\n",
    "    \"4.0\"\n",
    "    \"-10\"\n",
    "]"
   ]
  },
  {
   "cell_type": "code",
   "execution_count": 2,
   "metadata": {},
   "outputs": [
    {
     "name": "stdout",
     "output_type": "stream",
     "text": [
      "\\b[0-9]+\\b\n"
     ]
    }
   ],
   "source": [
    "import re\n",
    "\n",
    "regex = r\"\\b[0-9]+\\b\"\n",
    "for test in good_matches:\n",
    "    if not re.fullmatch(regex, test):\n",
    "        print(\"failed:\", test)\n",
    "\n",
    "for test in bad_matches:\n",
    "    if re.fullmatch(regex, test):\n",
    "        print(\"failed:\", test)\n",
    "\n",
    "print(regex)"
   ]
  },
  {
   "cell_type": "markdown",
   "metadata": {},
   "source": [
    "# regex for positive or negative integers\n",
    "create and test a regex to:\n",
    " match positive or negative integers"
   ]
  },
  {
   "cell_type": "code",
   "execution_count": 3,
   "metadata": {},
   "outputs": [],
   "source": [
    "### useful: test data\n",
    "good_matches = [\n",
    "   \"1\",\n",
    "   \"12\",\n",
    "   \"65324\",\n",
    "   \"+19\",\n",
    "   \"-10\",\n",
    "   \"0\"\n",
    "]\n",
    "\n",
    "bad_matches = [\n",
    "   \"-0\",\n",
    "   \"+0\",\n",
    "   \"blah\",\n",
    "   \"f123\",\n",
    "   \"123you\",\n",
    "   \"4-5\",\n",
    "   \"4.0\"\n",
    "]\n"
   ]
  },
  {
   "cell_type": "code",
   "execution_count": 4,
   "metadata": {},
   "outputs": [
    {
     "name": "stdout",
     "output_type": "stream",
     "text": [
      "([+\\-]?[1-9][0-9]*)|0\n"
     ]
    }
   ],
   "source": [
    "regex = r\"([+\\-]?[1-9][0-9]*)|0\"\n",
    "for test in good_matches:\n",
    "    if not re.fullmatch(regex, test):\n",
    "        print(\"failed:\", test)\n",
    "\n",
    "for test in bad_matches:\n",
    "    if re.fullmatch(regex, test):\n",
    "        print(\"failed:\", test)\n",
    "\n",
    "print(regex)"
   ]
  },
  {
   "cell_type": "markdown",
   "metadata": {},
   "source": [
    "# decimal numbers `*`\n",
    "create and test a regex to:\n",
    "   match decimal numbers"
   ]
  },
  {
   "cell_type": "code",
   "execution_count": 5,
   "metadata": {},
   "outputs": [],
   "source": [
    "### useful: test data\n",
    "good_matches = [\n",
    "       \"1\",\n",
    "       \"12\",\n",
    "       \"123.4554\",\n",
    "       \"0.43\",\n",
    "       \"-10\",\n",
    "       \"0\",\n",
    "       \"+2.3\",\n",
    "       \"-2.3\"\n",
    "   ]\n",
    "   \n",
    "bad_matches = [\n",
    "   \"-0\",\n",
    "   \"+0\",\n",
    "   \"blah\",\n",
    "   \"f123\",\n",
    "   \"123you\",\n",
    "   \"4-5\",\n",
    "   \"..34\",\n",
    "   \".34\",\n",
    "   \"0.\",\n",
    "   \"234.\"\n",
    "]      "
   ]
  },
  {
   "cell_type": "code",
   "execution_count": 6,
   "metadata": {},
   "outputs": [
    {
     "name": "stdout",
     "output_type": "stream",
     "text": [
      "([+-]?[0-9]+\\.[0-9]+)|([+\\-]?[1-9][0-9]*)|0\n"
     ]
    }
   ],
   "source": [
    "regex = r\"([+-]?[0-9]+\\.[0-9]+)|([+\\-]?[1-9][0-9]*)|0\"\n",
    "\n",
    "for test in good_matches:\n",
    "    if not re.fullmatch(regex, test):\n",
    "        print(\"failed:\", test)\n",
    "\n",
    "for test in bad_matches:\n",
    "    if re.fullmatch(regex, test):\n",
    "        print(\"failed:\", test)\n",
    "\n",
    "print(regex)"
   ]
  },
  {
   "cell_type": "markdown",
   "metadata": {},
   "source": [
    "# verbs\n",
    "create and test a regex to:\n",
    "   find words that look like verbs and end in '-ing'\n",
    "\n"
   ]
  },
  {
   "cell_type": "code",
   "execution_count": 7,
   "metadata": {},
   "outputs": [],
   "source": [
    "### useful: test data\n",
    "good_matches = [\n",
    "   \"jumping\",\n",
    "   \"eating\",\n",
    "   'sleeping',\n",
    "   'ting',\n",
    "   'bing',\n",
    "   'zipziplinging'\n",
    "]\n",
    "\n",
    "bad_matches = [\n",
    "   'jump',\n",
    "   'ing',\n",
    "   'jump ing',\n",
    "   '_ing',\n",
    "   '234ing'\n",
    "]         "
   ]
  },
  {
   "cell_type": "code",
   "execution_count": 8,
   "metadata": {},
   "outputs": [
    {
     "name": "stdout",
     "output_type": "stream",
     "text": [
      "[a-zA-Z]+ing\n"
     ]
    }
   ],
   "source": [
    "regex = r\"[a-zA-Z]+ing\"\n",
    "\n",
    "for test in good_matches:\n",
    "    if not re.fullmatch(regex, test):\n",
    "        print(\"failed:\", test)\n",
    "\n",
    "for test in bad_matches:\n",
    "    if re.fullmatch(regex, test):\n",
    "        print(\"failed:\", test)\n",
    "\n",
    "print(regex)"
   ]
  },
  {
   "cell_type": "markdown",
   "metadata": {},
   "source": [
    "# cats are awesome\n",
    "create and test a regex to match:\n",
    "lines that start with the word 'cats' and end with the words 'are awesome' "
   ]
  },
  {
   "cell_type": "code",
   "execution_count": 9,
   "metadata": {},
   "outputs": [],
   "source": [
    "### useful: test data\n",
    "good_matches = [\n",
    "   \"cats are awesome\",\n",
    "   \"cats that sleep are awesome\",\n",
    "   'cats that can count to 10 are awesome',\n",
    "   'cats 1234567890-/.,gdf/.g, are awesome',\n",
    "]\n",
    "\n",
    "bad_matches = [\n",
    "   'cat'\n",
    "   'awesome',\n",
    "   'cats are',\n",
    "   'cats are awesome too',\n",
    "   'my cats are awesome',\n",
    "]"
   ]
  },
  {
   "cell_type": "code",
   "execution_count": 10,
   "metadata": {},
   "outputs": [
    {
     "name": "stdout",
     "output_type": "stream",
     "text": [
      "cats.*are awesome\n"
     ]
    }
   ],
   "source": [
    "regex = r'cats.*are awesome'\n",
    "\n",
    "for test in good_matches:\n",
    "    if not re.fullmatch(regex, test):\n",
    "        print(\"failed:\", test)\n",
    "\n",
    "for test in bad_matches:\n",
    "    if re.fullmatch(regex, test):\n",
    "        print(\"failed:\", test)\n",
    "\n",
    "print(regex)"
   ]
  },
  {
   "cell_type": "markdown",
   "metadata": {},
   "source": [
    "# TODO\n",
    "TODO: excersizes for iterall and match groups"
   ]
  },
  {
   "cell_type": "code",
   "execution_count": null,
   "metadata": {},
   "outputs": [],
   "source": []
  }
 ],
 "metadata": {
  "kernelspec": {
   "display_name": "Python 3",
   "language": "python",
   "name": "python3"
  },
  "language_info": {
   "codemirror_mode": {
    "name": "ipython",
    "version": 3
   },
   "file_extension": ".py",
   "mimetype": "text/x-python",
   "name": "python",
   "nbconvert_exporter": "python",
   "pygments_lexer": "ipython3",
   "version": "3.7.3"
  }
 },
 "nbformat": 4,
 "nbformat_minor": 2
}
