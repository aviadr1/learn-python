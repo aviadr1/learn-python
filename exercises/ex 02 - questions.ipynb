{
 "cells": [
  {
   "cell_type": "markdown",
   "metadata": {},
   "source": [
    "[![Open In Colab](https://colab.research.google.com/assets/colab-badge.svg)](https://colab.research.google.com/github/aviadr1/learn-python/blob/master/exercises/ex%2002%20-%20questions.ipynb)"
   ]
  },
  {
   "cell_type": "markdown",
   "metadata": {},
   "source": [
    "# help for str.split() function\n",
    "print the help for the function str.split"
   ]
  },
  {
   "cell_type": "code",
   "execution_count": 1,
   "metadata": {},
   "outputs": [
    {
     "name": "stdout",
     "output_type": "stream",
     "text": [
      "Help on method_descriptor:\n",
      "\n",
      "split(...)\n",
      "    S.split(sep=None, maxsplit=-1) -> list of strings\n",
      "    \n",
      "    Return a list of the words in S, using sep as the\n",
      "    delimiter string.  If maxsplit is given, at most maxsplit\n",
      "    splits are done. If sep is not specified or is None, any\n",
      "    whitespace string is a separator and empty strings are\n",
      "    removed from the result.\n",
      "\n"
     ]
    }
   ],
   "source": []
  },
  {
   "cell_type": "markdown",
   "metadata": {},
   "source": [
    "# split a string\n",
    "\n",
    "1. create the following string, and put it in a variable called `sent`\n",
    "```\n",
    "\"the quick brown fox jumped over the lazy dog\"\n",
    "```\n",
    "\n",
    "2.  then **split** it into a list \n",
    "    so that each word is an an element in the list. <br> \n",
    "    and put the result into another variable called `words`\n",
    "    \n",
    "   \n",
    "3. print the variable `words`\n",
    "\n",
    "expected ouput:\n",
    "```\n",
    "['the', 'quick', 'brown', 'fox', 'jumped', 'over', 'the', 'lazy', 'dog']\n",
    "```"
   ]
  },
  {
   "cell_type": "code",
   "execution_count": 2,
   "metadata": {},
   "outputs": [
    {
     "name": "stdout",
     "output_type": "stream",
     "text": [
      "['the', 'quick', 'brown', 'fox', 'jumped', 'over', 'the', 'lazy', 'dog']\n"
     ]
    }
   ],
   "source": []
  },
  {
   "cell_type": "markdown",
   "metadata": {},
   "source": [
    "# str.join()\n",
    "\n",
    "1. use the function `help` to read the documentation for the str.join function\n",
    "1. read this code\n",
    "```\n",
    "mylist = [\"one\", \"two\", \"three\"]\n",
    "result = \" \".join(mylist)\n",
    "print(result)\n",
    "```\n",
    "   1. can you guess what this code does ? \n",
    "   1. what is the function join?\n",
    "   1. use help or documentation online if you can't guess\n",
    "   1. copy this code to the cell below and run it to see if you were right\n"
   ]
  },
  {
   "cell_type": "code",
   "execution_count": 3,
   "metadata": {},
   "outputs": [
    {
     "name": "stdout",
     "output_type": "stream",
     "text": [
      "Help on method_descriptor:\n",
      "\n",
      "join(...)\n",
      "    S.join(iterable) -> str\n",
      "    \n",
      "    Return a string which is the concatenation of the strings in the\n",
      "    iterable.  The separator between elements is S.\n",
      "\n",
      "one two three\n"
     ]
    }
   ],
   "source": []
  },
  {
   "cell_type": "markdown",
   "metadata": {},
   "source": [
    "# using str.upper() and str.join()\n",
    "\n",
    "1. split the sentence `\"the quick brown fox jumped over the lazy dog\"` into words using the function .split() \n",
    "   and put the result in a variable called `words` .\n",
    "   \n",
    "\n",
    "2. replace the the words \"dog\" and \"fox\" in the `words` list with *uppercase* \"DOG\" and \"FOX\" <br>\n",
    "\n",
    "   HINTS:\n",
    "   * use the .upper() function\n",
    "   * use indexing like `words[3]` to acccess a particular word in the `words` list\n",
    "   \n",
    "   \n",
    "3. use the function join to convert the list back into a string\n",
    "\n",
    "\n",
    "4. print the result\n",
    "   \n",
    "expected output:\n",
    "```\n",
    "\"the quick brown FOX jumped over the lazy DOG\"\n",
    "```"
   ]
  },
  {
   "cell_type": "code",
   "execution_count": 4,
   "metadata": {},
   "outputs": [
    {
     "name": "stdout",
     "output_type": "stream",
     "text": [
      "the quick brown FOX jumped over the lazy DOG\n"
     ]
    }
   ],
   "source": []
  },
  {
   "cell_type": "markdown",
   "metadata": {},
   "source": [
    "# Dictionary\n",
    "\n",
    "1. create a dictionary that maps the name of cheeses to prices of 100mg of that cheese.\n",
    "\n",
    "        gouda costs 4.99 \n",
    "        Edam costs 2.45\n",
    "        Camambert costs 7.75\n",
    "        Bree costs 7.27\n",
    "    \n",
    "1. without using \"head math\", compute the costs of gouda, edam and camambert together \n",
    "\n"
   ]
  },
  {
   "cell_type": "code",
   "execution_count": 5,
   "metadata": {},
   "outputs": [
    {
     "name": "stdout",
     "output_type": "stream",
     "text": [
      "15.190000000000001\n"
     ]
    }
   ],
   "source": []
  }
 ],
 "metadata": {
  "kernelspec": {
   "display_name": "Python 3",
   "language": "python",
   "name": "python3"
  },
  "language_info": {
   "codemirror_mode": {
    "name": "ipython",
    "version": 3
   },
   "file_extension": ".py",
   "mimetype": "text/x-python",
   "name": "python",
   "nbconvert_exporter": "python",
   "pygments_lexer": "ipython3",
   "version": "3.7.3"
  }
 },
 "nbformat": 4,
 "nbformat_minor": 2
}
