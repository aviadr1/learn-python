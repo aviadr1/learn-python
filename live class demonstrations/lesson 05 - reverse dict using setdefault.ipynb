{
 "cells": [
  {
   "cell_type": "markdown",
   "metadata": {},
   "source": [
    "[![Open In Colab](https://colab.research.google.com/assets/colab-badge.svg)](https://colab.research.google.com/github/aviadr1/learn-python/blob/master/live%20class%20demonstrations/lesson%2005%20-%20reverse%20dict%20using%20setdefault.ipynb)"
   ]
  },
  {
   "cell_type": "code",
   "execution_count": 1,
   "metadata": {},
   "outputs": [],
   "source": [
    "menu = {\n",
    "    'pita' : 1,\n",
    "    'steak' : 150,\n",
    "    'hamburger' : 59,\n",
    "    'pizza' : 40,\n",
    "    'cola' : 12\n",
    "}"
   ]
  },
  {
   "cell_type": "code",
   "execution_count": 2,
   "metadata": {},
   "outputs": [],
   "source": [
    "for item in menu.keys():\n",
    "    price = menu[item]\n",
    "    menu[item] = menu[item] * 1.1"
   ]
  },
  {
   "cell_type": "code",
   "execution_count": 3,
   "metadata": {},
   "outputs": [
    {
     "name": "stdout",
     "output_type": "stream",
     "text": [
      "{'pita': 1.1, 'steak': 165.0, 'hamburger': 64.9, 'pizza': 44.0, 'cola': 13.200000000000001}\n"
     ]
    }
   ],
   "source": [
    "print(menu)"
   ]
  },
  {
   "cell_type": "code",
   "execution_count": 5,
   "metadata": {},
   "outputs": [
    {
     "name": "stdout",
     "output_type": "stream",
     "text": [
      "('pita', 1.1)\n",
      "('steak', 165.0)\n",
      "('hamburger', 64.9)\n",
      "('pizza', 44.0)\n",
      "('cola', 13.200000000000001)\n"
     ]
    }
   ],
   "source": [
    "for keyvalue in menu.items():\n",
    "    item, price = keyvalue\n",
    "    menu[item] = price * 1.1\n"
   ]
  },
  {
   "cell_type": "code",
   "execution_count": 6,
   "metadata": {},
   "outputs": [
    {
     "name": "stdout",
     "output_type": "stream",
     "text": [
      "{'pita': 1.2100000000000002, 'steak': 181.50000000000003, 'hamburger': 71.39000000000001, 'pizza': 48.400000000000006, 'cola': 14.520000000000003}\n"
     ]
    }
   ],
   "source": [
    "print(menu)"
   ]
  },
  {
   "cell_type": "code",
   "execution_count": 7,
   "metadata": {},
   "outputs": [],
   "source": [
    "for item, price in menu.items():\n",
    "    menu[item] = price * 1.1"
   ]
  },
  {
   "cell_type": "code",
   "execution_count": 8,
   "metadata": {},
   "outputs": [
    {
     "name": "stdout",
     "output_type": "stream",
     "text": [
      "{'pita': 1.3310000000000004, 'steak': 199.65000000000003, 'hamburger': 78.52900000000002, 'pizza': 53.24000000000001, 'cola': 15.972000000000005}\n"
     ]
    }
   ],
   "source": [
    "print(menu)"
   ]
  },
  {
   "cell_type": "code",
   "execution_count": 9,
   "metadata": {},
   "outputs": [
    {
     "data": {
      "text/plain": [
       "{'pita': 1.3310000000000004,\n",
       " 'steak': 199.65000000000003,\n",
       " 'hamburger': 78.52900000000002,\n",
       " 'pizza': 53.24000000000001,\n",
       " 'cola': 15.972000000000005}"
      ]
     },
     "execution_count": 9,
     "metadata": {},
     "output_type": "execute_result"
    }
   ],
   "source": [
    "menu"
   ]
  },
  {
   "cell_type": "code",
   "execution_count": 10,
   "metadata": {},
   "outputs": [
    {
     "ename": "KeyError",
     "evalue": "0",
     "output_type": "error",
     "traceback": [
      "\u001b[1;31m---------------------------------------------------------------------------\u001b[0m",
      "\u001b[1;31mKeyError\u001b[0m                                  Traceback (most recent call last)",
      "\u001b[1;32m<ipython-input-10-ca462d9b1d0b>\u001b[0m in \u001b[0;36m<module>\u001b[1;34m\u001b[0m\n\u001b[1;32m----> 1\u001b[1;33m \u001b[0mmenu\u001b[0m\u001b[1;33m[\u001b[0m\u001b[1;36m0\u001b[0m\u001b[1;33m]\u001b[0m\u001b[1;33m\u001b[0m\u001b[0m\n\u001b[0m",
      "\u001b[1;31mKeyError\u001b[0m: 0"
     ]
    }
   ],
   "source": [
    "menu[0]"
   ]
  },
  {
   "cell_type": "code",
   "execution_count": 11,
   "metadata": {},
   "outputs": [],
   "source": [
    "menu['shkashuka'] = 100"
   ]
  },
  {
   "cell_type": "code",
   "execution_count": 12,
   "metadata": {},
   "outputs": [
    {
     "data": {
      "text/plain": [
       "{'pita': 1.3310000000000004,\n",
       " 'steak': 199.65000000000003,\n",
       " 'hamburger': 78.52900000000002,\n",
       " 'pizza': 53.24000000000001,\n",
       " 'cola': 15.972000000000005,\n",
       " 'shkashuka': 100}"
      ]
     },
     "execution_count": 12,
     "metadata": {},
     "output_type": "execute_result"
    }
   ],
   "source": [
    "menu"
   ]
  },
  {
   "cell_type": "code",
   "execution_count": 13,
   "metadata": {},
   "outputs": [
    {
     "data": {
      "text/plain": [
       "15.972000000000005"
      ]
     },
     "execution_count": 13,
     "metadata": {},
     "output_type": "execute_result"
    }
   ],
   "source": [
    "menu.pop('cola')"
   ]
  },
  {
   "cell_type": "code",
   "execution_count": 14,
   "metadata": {},
   "outputs": [
    {
     "data": {
      "text/plain": [
       "{'pita': 1.3310000000000004,\n",
       " 'steak': 199.65000000000003,\n",
       " 'hamburger': 78.52900000000002,\n",
       " 'pizza': 53.24000000000001,\n",
       " 'shkashuka': 100}"
      ]
     },
     "execution_count": 14,
     "metadata": {},
     "output_type": "execute_result"
    }
   ],
   "source": [
    "menu"
   ]
  },
  {
   "cell_type": "code",
   "execution_count": 17,
   "metadata": {},
   "outputs": [
    {
     "name": "stdout",
     "output_type": "stream",
     "text": [
      "Sorry not on menu\n"
     ]
    }
   ],
   "source": [
    "print(menu.get('cats', \"Sorry not on menu\"))"
   ]
  },
  {
   "cell_type": "code",
   "execution_count": 20,
   "metadata": {},
   "outputs": [
    {
     "data": {
      "text/plain": [
       "1.3310000000000004"
      ]
     },
     "execution_count": 20,
     "metadata": {},
     "output_type": "execute_result"
    }
   ],
   "source": [
    "menu.get('pita', \"Sorry not on menu\")"
   ]
  },
  {
   "cell_type": "code",
   "execution_count": 21,
   "metadata": {},
   "outputs": [
    {
     "data": {
      "text/plain": [
       "1.3310000000000004"
      ]
     },
     "execution_count": 21,
     "metadata": {},
     "output_type": "execute_result"
    }
   ],
   "source": [
    "menu.setdefault('pita', \"Sorry not on menu\")"
   ]
  },
  {
   "cell_type": "code",
   "execution_count": 22,
   "metadata": {},
   "outputs": [
    {
     "data": {
      "text/plain": [
       "{'pita': 1.3310000000000004,\n",
       " 'steak': 199.65000000000003,\n",
       " 'hamburger': 78.52900000000002,\n",
       " 'pizza': 53.24000000000001,\n",
       " 'shkashuka': 100}"
      ]
     },
     "execution_count": 22,
     "metadata": {},
     "output_type": "execute_result"
    }
   ],
   "source": [
    "menu"
   ]
  },
  {
   "cell_type": "code",
   "execution_count": 23,
   "metadata": {},
   "outputs": [
    {
     "data": {
      "text/plain": [
       "'Sorry not on menu'"
      ]
     },
     "execution_count": 23,
     "metadata": {},
     "output_type": "execute_result"
    }
   ],
   "source": [
    "menu.setdefault('cats', \"Sorry not on menu\")"
   ]
  },
  {
   "cell_type": "code",
   "execution_count": 24,
   "metadata": {},
   "outputs": [
    {
     "data": {
      "text/plain": [
       "{'pita': 1.3310000000000004,\n",
       " 'steak': 199.65000000000003,\n",
       " 'hamburger': 78.52900000000002,\n",
       " 'pizza': 53.24000000000001,\n",
       " 'shkashuka': 100,\n",
       " 'cats': 'Sorry not on menu'}"
      ]
     },
     "execution_count": 24,
     "metadata": {},
     "output_type": "execute_result"
    }
   ],
   "source": [
    "menu"
   ]
  },
  {
   "cell_type": "code",
   "execution_count": 29,
   "metadata": {},
   "outputs": [],
   "source": [
    "p144 = {\n",
    "    'avi' : 1,\n",
    "    'ben' : 2,\n",
    "    \"gaddy\" : 3,\n",
    "    \"david\" : 4,\n",
    "    \"efrat\" :4\n",
    "    \n",
    "}\n",
    "\n"
   ]
  },
  {
   "cell_type": "code",
   "execution_count": 27,
   "metadata": {},
   "outputs": [],
   "source": [
    "p441 = {}\n",
    "for name, phone in p144.items():\n",
    "    p441[phone] = name"
   ]
  },
  {
   "cell_type": "code",
   "execution_count": 28,
   "metadata": {},
   "outputs": [
    {
     "name": "stdout",
     "output_type": "stream",
     "text": [
      "{1: 'avi', 2: 'ben', 3: 'gaddy', 4: 'david'}\n"
     ]
    }
   ],
   "source": [
    "print(p441)"
   ]
  },
  {
   "cell_type": "code",
   "execution_count": 30,
   "metadata": {},
   "outputs": [],
   "source": [
    "p441 = {}\n",
    "for name, phone in p144.items():\n",
    "    if phone in p441:\n",
    "        list_of_names = p441[phone]\n",
    "        list_of_names.append(name)\n",
    "    else:\n",
    "        p441[phone] = [ name ]"
   ]
  },
  {
   "cell_type": "code",
   "execution_count": 31,
   "metadata": {},
   "outputs": [],
   "source": [
    "p441 = {}\n",
    "for name, phone in p144.items():\n",
    "    if phone in p441:\n",
    "        p441[phone].append(name)\n",
    "    else:\n",
    "        p441[phone] = [ name ]"
   ]
  },
  {
   "cell_type": "code",
   "execution_count": 34,
   "metadata": {},
   "outputs": [
    {
     "name": "stdout",
     "output_type": "stream",
     "text": [
      "p441={}, name=avi, phone=1\n",
      "p441={1: ['avi']}, name=ben, phone=2\n",
      "p441={1: ['avi'], 2: ['ben']}, name=gaddy, phone=3\n",
      "p441={1: ['avi'], 2: ['ben'], 3: ['gaddy']}, name=david, phone=4\n",
      "p441={1: ['avi'], 2: ['ben'], 3: ['gaddy'], 4: ['david']}, name=efrat, phone=4\n"
     ]
    }
   ],
   "source": [
    "p441 = {}\n",
    "for name, phone in p144.items():\n",
    "    p441.setdefault(phone, []).append(name)"
   ]
  },
  {
   "cell_type": "code",
   "execution_count": 33,
   "metadata": {},
   "outputs": [
    {
     "data": {
      "text/plain": [
       "{1: ['avi'], 2: ['ben'], 3: ['gaddy'], 4: ['david', 'efrat']}"
      ]
     },
     "execution_count": 33,
     "metadata": {},
     "output_type": "execute_result"
    }
   ],
   "source": [
    "p441"
   ]
  },
  {
   "cell_type": "code",
   "execution_count": null,
   "metadata": {},
   "outputs": [],
   "source": []
  }
 ],
 "metadata": {
  "kernelspec": {
   "display_name": "Python 3",
   "language": "python",
   "name": "python3"
  },
  "language_info": {
   "codemirror_mode": {
    "name": "ipython",
    "version": 3
   },
   "file_extension": ".py",
   "mimetype": "text/x-python",
   "name": "python",
   "nbconvert_exporter": "python",
   "pygments_lexer": "ipython3",
   "version": "3.6.3"
  }
 },
 "nbformat": 4,
 "nbformat_minor": 2
}
