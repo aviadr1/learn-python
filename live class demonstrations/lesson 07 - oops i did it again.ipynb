{
 "cells": [
  {
   "cell_type": "markdown",
   "metadata": {},
   "source": [
    "[![Open In Colab](https://colab.research.google.com/assets/colab-badge.svg)](https://colab.research.google.com/github/aviadr1/learn-python/blob/master/live%20class%20demonstrations/lesson%2007%20-%20oops%20i%20did%20it%20again.ipynb)"
   ]
  },
  {
   "cell_type": "code",
   "execution_count": 4,
   "metadata": {},
   "outputs": [],
   "source": [
    "oops = \"\"\"\\\n",
    "oops I did it again\n",
    "I played with your heart\n",
    "got lost in the game\n",
    "oh baby baby\n",
    "\n",
    "oops you think I'm in love\n",
    "that I'm sent from above\n",
    "I'm not that innocent\n",
    "\n",
    "oh baby baby\n",
    "oh baby baby\n",
    "oh\n",
    "\"\"\"\n",
    "\n",
    "fout = open('oops.txt', 'w')\n",
    "print(oops, file=fout)\n",
    "fout.close()"
   ]
  },
  {
   "cell_type": "code",
   "execution_count": 5,
   "metadata": {},
   "outputs": [],
   "source": [
    "f = open('oops.txt')\n",
    "fout = open('oops.double.txt', 'w')\n",
    "for line in f:\n",
    "    nextline = f.readline()\n",
    "    print(line.strip(), '/', nextline.strip(), file=fout)\n",
    "\n",
    "fout.close()\n",
    "\n",
    "    "
   ]
  },
  {
   "cell_type": "code",
   "execution_count": null,
   "metadata": {},
   "outputs": [],
   "source": []
  }
 ],
 "metadata": {
  "kernelspec": {
   "display_name": "Python 3",
   "language": "python",
   "name": "python3"
  },
  "language_info": {
   "codemirror_mode": {
    "name": "ipython",
    "version": 3
   },
   "file_extension": ".py",
   "mimetype": "text/x-python",
   "name": "python",
   "nbconvert_exporter": "python",
   "pygments_lexer": "ipython3",
   "version": "3.6.6"
  }
 },
 "nbformat": 4,
 "nbformat_minor": 2
}
