{
 "cells": [
  {
   "cell_type": "markdown",
   "metadata": {},
   "source": [
    "[![Open In Colab](https://colab.research.google.com/assets/colab-badge.svg)](https://colab.research.google.com/github/aviadr1/learn-python/blob/master/live%20class%20demonstrations/lesson%2005%20-%20how%20many%20unique%20words%20in%20dr%20seuss%20book.ipynb)"
   ]
  },
  {
   "cell_type": "code",
   "execution_count": 1,
   "metadata": {},
   "outputs": [
    {
     "data": {
      "text/plain": [
       "{1, 2}"
      ]
     },
     "execution_count": 1,
     "metadata": {},
     "output_type": "execute_result"
    }
   ],
   "source": [
    "set( [1,1,1,2,1,1,1] )"
   ]
  },
  {
   "cell_type": "code",
   "execution_count": 3,
   "metadata": {},
   "outputs": [
    {
     "data": {
      "text/plain": [
       "True"
      ]
     },
     "execution_count": 3,
     "metadata": {},
     "output_type": "execute_result"
    }
   ],
   "source": [
    "{1, 2} == {2,1}"
   ]
  },
  {
   "cell_type": "code",
   "execution_count": 4,
   "metadata": {},
   "outputs": [
    {
     "data": {
      "text/plain": [
       "{1, 2}"
      ]
     },
     "execution_count": 4,
     "metadata": {},
     "output_type": "execute_result"
    }
   ],
   "source": [
    "{2,1}"
   ]
  },
  {
   "cell_type": "code",
   "execution_count": 6,
   "metadata": {},
   "outputs": [
    {
     "data": {
      "text/plain": [
       "True"
      ]
     },
     "execution_count": 6,
     "metadata": {},
     "output_type": "execute_result"
    }
   ],
   "source": [
    "{2,1} == {2,2,2,2,2,2,2,1}"
   ]
  },
  {
   "cell_type": "code",
   "execution_count": 7,
   "metadata": {},
   "outputs": [],
   "source": [
    "greeneggs = \"\"\"\n",
    "I am Sam\n",
    "I am Sam\n",
    "Sam I am\n",
    "That Sam-I-am\n",
    "That Sam-I-am!\n",
    "I do not like\n",
    "That Sam-I-am\n",
    "Do you like\n",
    "Green eggs and ham\n",
    "I do not like them\n",
    "Sam-I-am\n",
    "I do not like\n",
    "Green eggs and ham\n",
    "Would you like them\n",
    "Here or there?\n",
    "I would not like them\n",
    "Here or there\n",
    "I would not like them\n",
    "Anywhere\n",
    "I do not like\n",
    "Green eggs and ham\n",
    "I do not like them\n",
    "Sam-I-am\n",
    "Would you like them\n",
    "In a house?\n",
    "Would you like them\n",
    "With a mouse?\n",
    "I do not like them\n",
    "In a house\n",
    "I do not like them\n",
    "With a mouse\n",
    "I do not like them\n",
    "Here or there\n",
    "I do not like them\n",
    "Anywhere\n",
    "I do not like green eggs and ham\n",
    "I do not like them, Sam-I-am\n",
    "Would you eat them\n",
    "In a box?\n",
    "Would you eat them\n",
    "With a fox?\n",
    "Not in a box\n",
    "Not with a fox\n",
    "Not in a house\n",
    "Not with a mouse\n",
    "I would not eat them here or there\n",
    "I would not eat them anywhere\n",
    "I would not eat green eggs and ham\n",
    "I do not like them, Sam-I-am\n",
    "Would you? Could you?\n",
    "In a car?\n",
    "Eat them! Eat them!\n",
    "Here they are\n",
    "I woould not \n",
    "Could not\n",
    "In a car\n",
    "You may like them\n",
    "You will see\n",
    "You may like them\n",
    "In a tree?\n",
    "D not in a tree\n",
    "I would not, could not in a tree\n",
    "Not in a car! You let me be\n",
    "I do not like them in a box\n",
    "I do not like them with a fox\n",
    "I do not like them in a house\n",
    "I do mot like them with a mouse\n",
    "I do not like them here or there\n",
    "I do not like them anywhere\n",
    "I do not like green eggs and ham\n",
    "I do not like them, Sam-I-am\n",
    "A train! A train!\n",
    "A train! A train!\n",
    "Could you, would you\n",
    "On a train?\n",
    "Not on a train! Not in a tree!\n",
    "Not in a car! Sam! Let me be!\n",
    "I would not, could not, in a box\n",
    "I could not, would not, with a fox\n",
    "I will not eat them with a mouse\n",
    "I will not eat them in a house\n",
    "I will not eat them here or there\n",
    "I will not eat them anywhere\n",
    "I do not like them, Sam-I-am\n",
    "Say!\n",
    "In the dark?\n",
    "Here in the dark!\n",
    "Would you, could you, in the dark?\n",
    "I would not, could not\n",
    "In the dark\n",
    "Would you, could you\n",
    "In the rain?\n",
    "I would not, could not, in the rain\n",
    "Not in the dark. Not on a train\n",
    "Not in a car, Not in a tree\n",
    "I do not like them, Sam, you see\n",
    "Not in a house. Not in a box\n",
    "Not with a mouse. Not with a fox\n",
    "I will not eat them here or there\n",
    "I do not like them anywhere!\n",
    "You do not like\n",
    "Green eggs and ham?\n",
    "I do not\n",
    "Like them\n",
    "Sam-I-am\n",
    "Could you, would you\n",
    "With a goat?\n",
    "I would not\n",
    "Could not\n",
    "With a goat!\n",
    "Would you, could you\n",
    "On a boat?\n",
    "I could not, would not, on a boat\n",
    "I will not, will not, with a goat\n",
    "I will not eat them in the rain\n",
    "I will not eat them on a train\n",
    "Not in the dark! Not in a tree!\n",
    "Not in a car! You let me be!\n",
    "I do not like them in a box\n",
    "I do not like them with a fox\n",
    "I will not eat them in a house\n",
    "I do not like them with a mouse\n",
    "I do not like them here or there\n",
    "I do not like them ANYWHERE!\n",
    "I do not like\n",
    "Green egss\n",
    "And ham!\n",
    "I do not like them\n",
    "Sam-I-am\n",
    "You do not like them\n",
    "SO you say\n",
    "Try them! Try them!\n",
    "ANd you may\n",
    "Try them and you may I say\n",
    "Sam!\n",
    "If you will let me be\n",
    "I will try them\n",
    "You will see\n",
    "Say!\n",
    "I like green eggs and ham!\n",
    "I do!! I like them, Sam-I-am!\n",
    "And I would eat them in a boat!\n",
    "And I would eat them with a goat...\n",
    "And I will eat them in the rain\n",
    "And in the dark. And on a train\n",
    "And in a car. And in a tree\n",
    "They are so goodm so goodm you see!\n",
    "So I will eat them in a box\n",
    "And I will eat them with a fox\n",
    "And I will eat them in a house\n",
    "And I will eat them with a mouse\n",
    "And I will eat them here and there\n",
    "Say! I will eat them ANHYWHERE!\n",
    "I do so like\n",
    "Green eggs and ham!\n",
    "Thank you!\n",
    "Thank you\n",
    "Sam-I-am!\n",
    "\"\"\""
   ]
  },
  {
   "cell_type": "code",
   "execution_count": 11,
   "metadata": {},
   "outputs": [],
   "source": [
    "words = greeneggs.replace('?', ' ').replace(',', ' ').replace('.', ' ').replace('-', ' ').replace('!', ' ').lower().split()"
   ]
  },
  {
   "cell_type": "code",
   "execution_count": 13,
   "metadata": {},
   "outputs": [
    {
     "data": {
      "text/plain": [
       "809"
      ]
     },
     "execution_count": 13,
     "metadata": {},
     "output_type": "execute_result"
    }
   ],
   "source": [
    "len(words)"
   ]
  },
  {
   "cell_type": "code",
   "execution_count": 15,
   "metadata": {},
   "outputs": [],
   "source": [
    "wordset = set(words)"
   ]
  },
  {
   "cell_type": "code",
   "execution_count": 16,
   "metadata": {},
   "outputs": [
    {
     "data": {
      "text/plain": [
       "55"
      ]
     },
     "execution_count": 16,
     "metadata": {},
     "output_type": "execute_result"
    }
   ],
   "source": [
    "len(wordset)"
   ]
  },
  {
   "cell_type": "code",
   "execution_count": 19,
   "metadata": {},
   "outputs": [],
   "source": [
    "oops = \"\"\"\n",
    "Yeah yeah yeah yeah yeah\n",
    "Yeah yeah yeah yeah yeah yeah\n",
    "I think I did it again\n",
    "I made you believe we're more than just friends\n",
    "Oh baby\n",
    "It might seem like a crush\n",
    "But it doesn't mean that I'm serious\n",
    "'Cause to lose all my senses\n",
    "That is just so typically me\n",
    "Oh baby, baby\n",
    "Oops, I did it again\n",
    "I played with your heart, got lost in the game\n",
    "Oh baby, baby\n",
    "Oops, you think I'm in love\n",
    "That I'm sent from above\n",
    "I'm not that innocent\n",
    "You see my problem is this\n",
    "I'm dreaming away\n",
    "Wishing that heroes, they truly exist\n",
    "I cry, watching the days\n",
    "Can't you see I'm a fool in so many ways\n",
    "But to lose all my senses\n",
    "That is just so typically me\n",
    "Oh baby, oh\n",
    "Oops, I did it again\n",
    "I played with your heart, got lost in the game\n",
    "Oh baby, baby\n",
    "Oops, you think I'm in love\n",
    "That I'm sent from above\n",
    "I'm not that innocent\n",
    "Yeah yeah yeah yeah yeah yeah\n",
    "Yeah yeah yeah yeah yeah yeah\n",
    "\"All aboard\"\n",
    "\"Britney, before you go, there's something I want you to have\"\n",
    "\"Oh, it's beautiful, but wait a minute, isn't this?\"\n",
    "\"Yeah, yes it is\"\n",
    "\"But I thought the old lady dropped it into the ocean in the end\"\n",
    "\"Well baby, I went down and got it for you\"\n",
    "\"Aww, you shouldn't have\"\n",
    "Oops, I did it again to your heart\n",
    "Got lost in this game, oh baby\n",
    "Oops, you think that I'm sent from above\n",
    "I'm not that innocent\n",
    "Oops, I did it again\n",
    "I played with your heart, got lost in the game\n",
    "Oh baby, baby\n",
    "Oops, you think I'm in love\n",
    "That I'm sent from above\n",
    "I'm not that innocent\n",
    "Oops, I did it again\n",
    "I played with your heart, got lost in the game\n",
    "Oh baby, baby\n",
    "Oops, you think I'm in love\n",
    "That I'm sent from above\n",
    "I'm not that innocent\n",
    "\"\"\""
   ]
  },
  {
   "cell_type": "code",
   "execution_count": 23,
   "metadata": {},
   "outputs": [],
   "source": [
    "oopswords = oops.replace('?', ' ').replace(',', ' ').replace('.', ' ').replace('-', ' ').replace('!', ' ').replace('\"', \" \").lower().split()"
   ]
  },
  {
   "cell_type": "code",
   "execution_count": 24,
   "metadata": {},
   "outputs": [
    {
     "data": {
      "text/plain": [
       "326"
      ]
     },
     "execution_count": 24,
     "metadata": {},
     "output_type": "execute_result"
    }
   ],
   "source": [
    "len(oopswords)"
   ]
  },
  {
   "cell_type": "code",
   "execution_count": 25,
   "metadata": {},
   "outputs": [],
   "source": [
    "oopsset = set(oopswords)"
   ]
  },
  {
   "cell_type": "code",
   "execution_count": 26,
   "metadata": {},
   "outputs": [
    {
     "data": {
      "text/plain": [
       "98"
      ]
     },
     "execution_count": 26,
     "metadata": {},
     "output_type": "execute_result"
    }
   ],
   "source": [
    "len(oopsset)"
   ]
  },
  {
   "cell_type": "code",
   "execution_count": 27,
   "metadata": {},
   "outputs": [
    {
     "data": {
      "text/plain": [
       "{\"'cause\",\n",
       " 'a',\n",
       " 'aboard',\n",
       " 'above',\n",
       " 'again',\n",
       " 'all',\n",
       " 'and',\n",
       " 'away',\n",
       " 'aww',\n",
       " 'baby',\n",
       " 'beautiful',\n",
       " 'before',\n",
       " 'believe',\n",
       " 'britney',\n",
       " 'but',\n",
       " \"can't\",\n",
       " 'crush',\n",
       " 'cry',\n",
       " 'days',\n",
       " 'did',\n",
       " \"doesn't\",\n",
       " 'down',\n",
       " 'dreaming',\n",
       " 'dropped',\n",
       " 'end',\n",
       " 'exist',\n",
       " 'fool',\n",
       " 'for',\n",
       " 'friends',\n",
       " 'from',\n",
       " 'game',\n",
       " 'go',\n",
       " 'got',\n",
       " 'have',\n",
       " 'heart',\n",
       " 'heroes',\n",
       " 'i',\n",
       " \"i'm\",\n",
       " 'in',\n",
       " 'innocent',\n",
       " 'into',\n",
       " 'is',\n",
       " \"isn't\",\n",
       " 'it',\n",
       " \"it's\",\n",
       " 'just',\n",
       " 'lady',\n",
       " 'like',\n",
       " 'lose',\n",
       " 'lost',\n",
       " 'love',\n",
       " 'made',\n",
       " 'many',\n",
       " 'me',\n",
       " 'mean',\n",
       " 'might',\n",
       " 'minute',\n",
       " 'more',\n",
       " 'my',\n",
       " 'not',\n",
       " 'ocean',\n",
       " 'oh',\n",
       " 'old',\n",
       " 'oops',\n",
       " 'played',\n",
       " 'problem',\n",
       " 'see',\n",
       " 'seem',\n",
       " 'senses',\n",
       " 'sent',\n",
       " 'serious',\n",
       " \"shouldn't\",\n",
       " 'so',\n",
       " 'something',\n",
       " 'than',\n",
       " 'that',\n",
       " 'the',\n",
       " \"there's\",\n",
       " 'they',\n",
       " 'think',\n",
       " 'this',\n",
       " 'thought',\n",
       " 'to',\n",
       " 'truly',\n",
       " 'typically',\n",
       " 'wait',\n",
       " 'want',\n",
       " 'watching',\n",
       " 'ways',\n",
       " \"we're\",\n",
       " 'well',\n",
       " 'went',\n",
       " 'wishing',\n",
       " 'with',\n",
       " 'yeah',\n",
       " 'yes',\n",
       " 'you',\n",
       " 'your'}"
      ]
     },
     "execution_count": 27,
     "metadata": {},
     "output_type": "execute_result"
    }
   ],
   "source": [
    "oopsset"
   ]
  },
  {
   "cell_type": "code",
   "execution_count": 28,
   "metadata": {},
   "outputs": [
    {
     "data": {
      "text/plain": [
       "{'a',\n",
       " 'and',\n",
       " 'i',\n",
       " 'in',\n",
       " 'like',\n",
       " 'me',\n",
       " 'not',\n",
       " 'see',\n",
       " 'so',\n",
       " 'that',\n",
       " 'the',\n",
       " 'they',\n",
       " 'with',\n",
       " 'you'}"
      ]
     },
     "execution_count": 28,
     "metadata": {},
     "output_type": "execute_result"
    }
   ],
   "source": [
    "oopsset & wordset"
   ]
  },
  {
   "cell_type": "code",
   "execution_count": 30,
   "metadata": {},
   "outputs": [
    {
     "data": {
      "text/plain": [
       "{'am',\n",
       " 'anhywhere',\n",
       " 'anywhere',\n",
       " 'are',\n",
       " 'be',\n",
       " 'boat',\n",
       " 'box',\n",
       " 'car',\n",
       " 'could',\n",
       " 'd',\n",
       " 'dark',\n",
       " 'do',\n",
       " 'eat',\n",
       " 'eggs',\n",
       " 'egss',\n",
       " 'fox',\n",
       " 'goat',\n",
       " 'goodm',\n",
       " 'green',\n",
       " 'ham',\n",
       " 'here',\n",
       " 'house',\n",
       " 'if',\n",
       " 'let',\n",
       " 'may',\n",
       " 'mot',\n",
       " 'mouse',\n",
       " 'on',\n",
       " 'or',\n",
       " 'rain',\n",
       " 'sam',\n",
       " 'say',\n",
       " 'thank',\n",
       " 'them',\n",
       " 'there',\n",
       " 'train',\n",
       " 'tree',\n",
       " 'try',\n",
       " 'will',\n",
       " 'woould',\n",
       " 'would'}"
      ]
     },
     "execution_count": 30,
     "metadata": {},
     "output_type": "execute_result"
    }
   ],
   "source": [
    "wordset - oopsset"
   ]
  },
  {
   "cell_type": "code",
   "execution_count": 31,
   "metadata": {},
   "outputs": [
    {
     "data": {
      "text/plain": [
       "{\"'cause\",\n",
       " 'aboard',\n",
       " 'above',\n",
       " 'again',\n",
       " 'all',\n",
       " 'away',\n",
       " 'aww',\n",
       " 'baby',\n",
       " 'beautiful',\n",
       " 'before',\n",
       " 'believe',\n",
       " 'britney',\n",
       " 'but',\n",
       " \"can't\",\n",
       " 'crush',\n",
       " 'cry',\n",
       " 'days',\n",
       " 'did',\n",
       " \"doesn't\",\n",
       " 'down',\n",
       " 'dreaming',\n",
       " 'dropped',\n",
       " 'end',\n",
       " 'exist',\n",
       " 'fool',\n",
       " 'for',\n",
       " 'friends',\n",
       " 'from',\n",
       " 'game',\n",
       " 'go',\n",
       " 'got',\n",
       " 'have',\n",
       " 'heart',\n",
       " 'heroes',\n",
       " \"i'm\",\n",
       " 'innocent',\n",
       " 'into',\n",
       " 'is',\n",
       " \"isn't\",\n",
       " 'it',\n",
       " \"it's\",\n",
       " 'just',\n",
       " 'lady',\n",
       " 'lose',\n",
       " 'lost',\n",
       " 'love',\n",
       " 'made',\n",
       " 'many',\n",
       " 'mean',\n",
       " 'might',\n",
       " 'minute',\n",
       " 'more',\n",
       " 'my',\n",
       " 'ocean',\n",
       " 'oh',\n",
       " 'old',\n",
       " 'oops',\n",
       " 'played',\n",
       " 'problem',\n",
       " 'seem',\n",
       " 'senses',\n",
       " 'sent',\n",
       " 'serious',\n",
       " \"shouldn't\",\n",
       " 'something',\n",
       " 'than',\n",
       " \"there's\",\n",
       " 'think',\n",
       " 'this',\n",
       " 'thought',\n",
       " 'to',\n",
       " 'truly',\n",
       " 'typically',\n",
       " 'wait',\n",
       " 'want',\n",
       " 'watching',\n",
       " 'ways',\n",
       " \"we're\",\n",
       " 'well',\n",
       " 'went',\n",
       " 'wishing',\n",
       " 'yeah',\n",
       " 'yes',\n",
       " 'your'}"
      ]
     },
     "execution_count": 31,
     "metadata": {},
     "output_type": "execute_result"
    }
   ],
   "source": [
    "oopsset - wordset"
   ]
  },
  {
   "cell_type": "code",
   "execution_count": 33,
   "metadata": {},
   "outputs": [
    {
     "data": {
      "text/plain": [
       "18446744073709551616"
      ]
     },
     "execution_count": 33,
     "metadata": {},
     "output_type": "execute_result"
    }
   ],
   "source": [
    "2**64"
   ]
  },
  {
   "cell_type": "code",
   "execution_count": null,
   "metadata": {},
   "outputs": [],
   "source": []
  }
 ],
 "metadata": {
  "kernelspec": {
   "display_name": "Python 3",
   "language": "python",
   "name": "python3"
  },
  "language_info": {
   "codemirror_mode": {
    "name": "ipython",
    "version": 3
   },
   "file_extension": ".py",
   "mimetype": "text/x-python",
   "name": "python",
   "nbconvert_exporter": "python",
   "pygments_lexer": "ipython3",
   "version": "3.6.3"
  }
 },
 "nbformat": 4,
 "nbformat_minor": 2
}
