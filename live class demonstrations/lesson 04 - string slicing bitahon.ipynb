{
 "cells": [
  {
   "cell_type": "markdown",
   "metadata": {},
   "source": [
    "[![Open In Colab](https://colab.research.google.com/assets/colab-badge.svg)](https://colab.research.google.com/github/aviadr1/learn-python/blob/master/live%20class%20demonstrations/lesson%2004%20-%20string%20slicing%20bitahon.ipynb)"
   ]
  },
  {
   "cell_type": "code",
   "execution_count": 1,
   "metadata": {},
   "outputs": [
    {
     "data": {
      "text/plain": [
       "['the', 'quick', 'brown', 'fox', 'jumped', 'over', 'the', 'lazy', 'dog']"
      ]
     },
     "execution_count": 1,
     "metadata": {},
     "output_type": "execute_result"
    }
   ],
   "source": [
    "\"the quick brown fox jumped over the lazy dog\".split()"
   ]
  },
  {
   "cell_type": "code",
   "execution_count": 4,
   "metadata": {},
   "outputs": [
    {
     "data": {
      "text/plain": [
       "['name', 'age', 'country']"
      ]
     },
     "execution_count": 4,
     "metadata": {},
     "output_type": "execute_result"
    }
   ],
   "source": [
    "\"name, age, country\".split(',')"
   ]
  },
  {
   "cell_type": "code",
   "execution_count": 9,
   "metadata": {},
   "outputs": [
    {
     "data": {
      "text/plain": [
       "['Do you like',\n",
       " 'Green eggs and ham',\n",
       " 'I do not like them',\n",
       " 'Sam-I-am',\n",
       " 'I do not like',\n",
       " 'Green eggs and ham',\n",
       " 'Would you like them',\n",
       " 'Here or there?',\n",
       " 'I would not like them',\n",
       " 'Here or there',\n",
       " 'I would not like them',\n",
       " 'Anywhere',\n",
       " 'I do not like',\n",
       " 'Green eggs and ham',\n",
       " 'I do not like them',\n",
       " 'Sam-I-am']"
      ]
     },
     "execution_count": 9,
     "metadata": {},
     "output_type": "execute_result"
    }
   ],
   "source": [
    "greeneggs = \"\"\"\\\n",
    "Do you like\n",
    "Green eggs and ham\n",
    "I do not like them\n",
    "Sam-I-am\n",
    "I do not like\n",
    "Green eggs and ham\n",
    "Would you like them\n",
    "Here or there?\n",
    "I would not like them\n",
    "Here or there\n",
    "I would not like them\n",
    "Anywhere\n",
    "I do not like\n",
    "Green eggs and ham\n",
    "I do not like them\n",
    "Sam-I-am\n",
    "\"\"\"\n",
    "greeneggs.splitlines()"
   ]
  },
  {
   "cell_type": "code",
   "execution_count": 7,
   "metadata": {},
   "outputs": [
    {
     "data": {
      "text/plain": [
       "'the quick brown fox jumped over the lazy dog'"
      ]
     },
     "execution_count": 7,
     "metadata": {},
     "output_type": "execute_result"
    }
   ],
   "source": [
    "words = \"the quick brown fox jumped over the lazy dog\".split()\n",
    "\" \".join(words)"
   ]
  },
  {
   "cell_type": "code",
   "execution_count": 8,
   "metadata": {},
   "outputs": [
    {
     "data": {
      "text/plain": [
       "'name,  age,  country'"
      ]
     },
     "execution_count": 8,
     "metadata": {},
     "output_type": "execute_result"
    }
   ],
   "source": [
    "fields = \"name, age, country\".split(',')\n",
    "\", \".join(fields)"
   ]
  },
  {
   "cell_type": "code",
   "execution_count": 13,
   "metadata": {},
   "outputs": [
    {
     "data": {
      "text/plain": [
       "'D'"
      ]
     },
     "execution_count": 13,
     "metadata": {},
     "output_type": "execute_result"
    }
   ],
   "source": [
    "greeneggs[0]"
   ]
  },
  {
   "cell_type": "code",
   "execution_count": 14,
   "metadata": {},
   "outputs": [
    {
     "data": {
      "text/plain": [
       "'g'"
      ]
     },
     "execution_count": 14,
     "metadata": {},
     "output_type": "execute_result"
    }
   ],
   "source": [
    "greeneggs[20]"
   ]
  },
  {
   "cell_type": "code",
   "execution_count": 16,
   "metadata": {},
   "outputs": [
    {
     "data": {
      "text/plain": [
       "'Do you like\\nGreen eggs'"
      ]
     },
     "execution_count": 16,
     "metadata": {},
     "output_type": "execute_result"
    }
   ],
   "source": [
    "greeneggs[0:22]"
   ]
  },
  {
   "cell_type": "code",
   "execution_count": 17,
   "metadata": {},
   "outputs": [
    {
     "data": {
      "text/plain": [
       "'Do you like\\nGreen eggs'"
      ]
     },
     "execution_count": 17,
     "metadata": {},
     "output_type": "execute_result"
    }
   ],
   "source": [
    "greeneggs[:22]"
   ]
  },
  {
   "cell_type": "code",
   "execution_count": 20,
   "metadata": {},
   "outputs": [
    {
     "name": "stdout",
     "output_type": "stream",
     "text": [
      " and ham\n",
      "I do not like them\n",
      "Sam-I-am\n",
      "I do not like\n",
      "Green eggs and ham\n",
      "Would you like them\n",
      "Here or there?\n",
      "I would not like them\n",
      "Here or there\n",
      "I would not like them\n",
      "Anywhere\n",
      "I do not like\n",
      "Green eggs and ham\n",
      "I do not like them\n",
      "Sam-I-am\n"
     ]
    }
   ],
   "source": [
    "x = greeneggs[22:len(greeneggs) -1]\n",
    "print(x)"
   ]
  },
  {
   "cell_type": "code",
   "execution_count": 21,
   "metadata": {},
   "outputs": [
    {
     "name": "stdout",
     "output_type": "stream",
     "text": [
      " and ham\n",
      "I do not like them\n",
      "Sam-I-am\n",
      "I do not like\n",
      "Green eggs and ham\n",
      "Would you like them\n",
      "Here or there?\n",
      "I would not like them\n",
      "Here or there\n",
      "I would not like them\n",
      "Anywhere\n",
      "I do not like\n",
      "Green eggs and ham\n",
      "I do not like them\n",
      "Sam-I-am\n"
     ]
    }
   ],
   "source": [
    "x = greeneggs[22: -1]\n",
    "print(x)"
   ]
  },
  {
   "cell_type": "code",
   "execution_count": 22,
   "metadata": {},
   "outputs": [
    {
     "name": "stdout",
     "output_type": "stream",
     "text": [
      " and ham\n",
      "I do not like them\n",
      "Sam-I-am\n",
      "I do not like\n",
      "Green eggs and ham\n",
      "Would you like them\n",
      "Here or there?\n",
      "I would not like them\n",
      "Here or there\n",
      "I would not like them\n",
      "Anywhere\n",
      "I do not like\n",
      "Green eggs and ham\n",
      "I do not like them\n",
      "Sam-I-am\n",
      "\n"
     ]
    }
   ],
   "source": [
    "x = greeneggs[22: ]\n",
    "print(x)"
   ]
  },
  {
   "cell_type": "code",
   "execution_count": 23,
   "metadata": {},
   "outputs": [
    {
     "name": "stdout",
     "output_type": "stream",
     "text": [
      "Do you like\n",
      "Green eggs and ham\n",
      "I do not like them\n",
      "Sam-I-am\n",
      "I do not like\n",
      "Green eggs and ham\n",
      "Would you like them\n",
      "Here or there?\n",
      "I would not like them\n",
      "Here or there\n",
      "I would not like them\n",
      "Anywhere\n",
      "I do not like\n",
      "Green eggs and ham\n",
      "I do not like them\n",
      "Sam-I-am\n",
      "\n"
     ]
    }
   ],
   "source": [
    "x = greeneggs[: ]\n",
    "print(x)"
   ]
  },
  {
   "cell_type": "code",
   "execution_count": 24,
   "metadata": {},
   "outputs": [
    {
     "name": "stdout",
     "output_type": "stream",
     "text": [
      " and ham\n"
     ]
    }
   ],
   "source": [
    "x = greeneggs[22:30 ]\n",
    "print(x)"
   ]
  },
  {
   "cell_type": "code",
   "execution_count": 25,
   "metadata": {},
   "outputs": [
    {
     "name": "stdout",
     "output_type": "stream",
     "text": [
      " n a\n"
     ]
    }
   ],
   "source": [
    "x = greeneggs[22:30:2 ]\n",
    "print(x)"
   ]
  },
  {
   "cell_type": "code",
   "execution_count": 26,
   "metadata": {},
   "outputs": [
    {
     "name": "stdout",
     "output_type": "stream",
     "text": [
      " and ham\n"
     ]
    }
   ],
   "source": [
    "x = greeneggs[22:30:1 ]\n",
    "print(x)"
   ]
  },
  {
   "cell_type": "code",
   "execution_count": 27,
   "metadata": {},
   "outputs": [
    {
     "name": "stdout",
     "output_type": "stream",
     "text": [
      "D o ieGeneg n a\n",
      " ontlk hmSmIa\n",
      " ontlk\n",
      "re gsadhmWudyulk hmHr rtee\n",
      " ol o iete\n",
      "eeo hr\n",
      " ol o iete\n",
      "nweeId o ieGeneg n a\n",
      " ontlk hmSmIa\n",
      "\n"
     ]
    }
   ],
   "source": [
    "x = greeneggs[::2 ]\n",
    "print(x)"
   ]
  },
  {
   "cell_type": "code",
   "execution_count": 28,
   "metadata": {},
   "outputs": [
    {
     "name": "stdout",
     "output_type": "stream",
     "text": [
      "\n",
      "ma-I-maS\n",
      "meht ekil ton od I\n",
      "mah dna sgge neerG\n",
      "ekil ton od I\n",
      "erehwynA\n",
      "meht ekil ton dluow I\n",
      "ereht ro ereH\n",
      "meht ekil ton dluow I\n",
      "?ereht ro ereH\n",
      "meht ekil uoy dluoW\n",
      "mah dna sgge neerG\n",
      "ekil ton od I\n",
      "ma-I-maS\n",
      "meht ekil ton od I\n",
      "mah dna sgge neerG\n",
      "ekil uoy oD\n"
     ]
    }
   ],
   "source": [
    "x = greeneggs[::-1]\n",
    "print(x)"
   ]
  },
  {
   "cell_type": "code",
   "execution_count": null,
   "metadata": {},
   "outputs": [],
   "source": []
  }
 ],
 "metadata": {
  "kernelspec": {
   "display_name": "Python 3",
   "language": "python",
   "name": "python3"
  },
  "language_info": {
   "codemirror_mode": {
    "name": "ipython",
    "version": 3
   },
   "file_extension": ".py",
   "mimetype": "text/x-python",
   "name": "python",
   "nbconvert_exporter": "python",
   "pygments_lexer": "ipython3",
   "version": "3.6.3"
  }
 },
 "nbformat": 4,
 "nbformat_minor": 2
}
