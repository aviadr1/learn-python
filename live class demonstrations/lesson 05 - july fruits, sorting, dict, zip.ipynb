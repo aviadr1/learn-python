{
 "cells": [
  {
   "cell_type": "code",
   "execution_count": 34,
   "metadata": {},
   "outputs": [],
   "source": [
    "fruits = [\n",
    "    'apple',\n",
    "    'mango',\n",
    "    'pear',\n",
    "    'grapes'\n",
    "]\n",
    "\n",
    "prices = [\n",
    "    14,\n",
    "    7,\n",
    "    8,\n",
    "    25\n",
    "]"
   ]
  },
  {
   "cell_type": "code",
   "execution_count": 2,
   "metadata": {},
   "outputs": [
    {
     "data": {
      "text/plain": [
       "'pear'"
      ]
     },
     "execution_count": 2,
     "metadata": {},
     "output_type": "execute_result"
    }
   ],
   "source": [
    "max(fruits)"
   ]
  },
  {
   "cell_type": "code",
   "execution_count": 3,
   "metadata": {},
   "outputs": [
    {
     "data": {
      "text/plain": [
       "'apple'"
      ]
     },
     "execution_count": 3,
     "metadata": {},
     "output_type": "execute_result"
    }
   ],
   "source": [
    "min(fruits)"
   ]
  },
  {
   "cell_type": "code",
   "execution_count": 4,
   "metadata": {},
   "outputs": [
    {
     "data": {
      "text/plain": [
       "25"
      ]
     },
     "execution_count": 4,
     "metadata": {},
     "output_type": "execute_result"
    }
   ],
   "source": [
    "max(prices)"
   ]
  },
  {
   "cell_type": "code",
   "execution_count": 5,
   "metadata": {},
   "outputs": [
    {
     "data": {
      "text/plain": [
       "'w'"
      ]
     },
     "execution_count": 5,
     "metadata": {},
     "output_type": "execute_result"
    }
   ],
   "source": [
    "max('hello world')"
   ]
  },
  {
   "cell_type": "code",
   "execution_count": 6,
   "metadata": {},
   "outputs": [
    {
     "data": {
      "text/plain": [
       "9"
      ]
     },
     "execution_count": 6,
     "metadata": {},
     "output_type": "execute_result"
    }
   ],
   "source": [
    "max(range(10))"
   ]
  },
  {
   "cell_type": "code",
   "execution_count": 7,
   "metadata": {},
   "outputs": [
    {
     "data": {
      "text/plain": [
       "[0, 1, 2, 3, 4, 5, 6, 7, 8, 9]"
      ]
     },
     "execution_count": 7,
     "metadata": {},
     "output_type": "execute_result"
    }
   ],
   "source": [
    "x = list(range(10))\n",
    "x"
   ]
  },
  {
   "cell_type": "code",
   "execution_count": 8,
   "metadata": {},
   "outputs": [
    {
     "data": {
      "text/plain": [
       "9"
      ]
     },
     "execution_count": 8,
     "metadata": {},
     "output_type": "execute_result"
    }
   ],
   "source": [
    "max(x)"
   ]
  },
  {
   "cell_type": "code",
   "execution_count": 9,
   "metadata": {},
   "outputs": [
    {
     "data": {
      "text/plain": [
       "54"
      ]
     },
     "execution_count": 9,
     "metadata": {},
     "output_type": "execute_result"
    }
   ],
   "source": [
    "sum(prices)"
   ]
  },
  {
   "cell_type": "code",
   "execution_count": 10,
   "metadata": {},
   "outputs": [],
   "source": [
    "x,y,z = \"abc\""
   ]
  },
  {
   "cell_type": "code",
   "execution_count": 15,
   "metadata": {},
   "outputs": [
    {
     "ename": "ValueError",
     "evalue": "not enough values to unpack (expected 3, got 2)",
     "output_type": "error",
     "traceback": [
      "\u001b[1;31m---------------------------------------------------------------------------\u001b[0m",
      "\u001b[1;31mValueError\u001b[0m                                Traceback (most recent call last)",
      "\u001b[1;32m<ipython-input-15-6f419fd02ba5>\u001b[0m in \u001b[0;36m<module>\u001b[1;34m\u001b[0m\n\u001b[1;32m----> 1\u001b[1;33m \u001b[0mx\u001b[0m\u001b[1;33m,\u001b[0m\u001b[0my\u001b[0m\u001b[1;33m,\u001b[0m\u001b[0mz\u001b[0m \u001b[1;33m=\u001b[0m \u001b[1;33m(\u001b[0m\u001b[1;36m1\u001b[0m\u001b[1;33m,\u001b[0m\u001b[1;36m2\u001b[0m\u001b[1;33m)\u001b[0m\u001b[1;33m\u001b[0m\u001b[0m\n\u001b[0m",
      "\u001b[1;31mValueError\u001b[0m: not enough values to unpack (expected 3, got 2)"
     ]
    }
   ],
   "source": [
    "x,y,z = (1,2)"
   ]
  },
  {
   "cell_type": "code",
   "execution_count": 17,
   "metadata": {},
   "outputs": [
    {
     "data": {
      "text/plain": [
       "'moshe cohen, 28, 1/1/1980, ussr, no'"
      ]
     },
     "execution_count": 17,
     "metadata": {},
     "output_type": "execute_result"
    }
   ],
   "source": [
    "\"moshe cohen, 28, 1/1/1980, ussr, no\""
   ]
  },
  {
   "cell_type": "code",
   "execution_count": 19,
   "metadata": {},
   "outputs": [],
   "source": [
    "name, age, *others = \"moshe cohen, 28, 1/1/1980, ussr, no\".split(',')"
   ]
  },
  {
   "cell_type": "code",
   "execution_count": 20,
   "metadata": {},
   "outputs": [
    {
     "data": {
      "text/plain": [
       "'moshe cohen'"
      ]
     },
     "execution_count": 20,
     "metadata": {},
     "output_type": "execute_result"
    }
   ],
   "source": [
    "name"
   ]
  },
  {
   "cell_type": "code",
   "execution_count": 21,
   "metadata": {},
   "outputs": [
    {
     "data": {
      "text/plain": [
       "' 28'"
      ]
     },
     "execution_count": 21,
     "metadata": {},
     "output_type": "execute_result"
    }
   ],
   "source": [
    "age"
   ]
  },
  {
   "cell_type": "code",
   "execution_count": 22,
   "metadata": {},
   "outputs": [
    {
     "data": {
      "text/plain": [
       "[' 1/1/1980', ' ussr', ' no']"
      ]
     },
     "execution_count": 22,
     "metadata": {},
     "output_type": "execute_result"
    }
   ],
   "source": [
    "others"
   ]
  },
  {
   "cell_type": "code",
   "execution_count": 23,
   "metadata": {},
   "outputs": [],
   "source": [
    "name, *everythingelse, address = \"moshe cohen, 28, 1/1/1980, ussr, kremlin\".split(',')"
   ]
  },
  {
   "cell_type": "code",
   "execution_count": 24,
   "metadata": {},
   "outputs": [
    {
     "data": {
      "text/plain": [
       "'moshe cohen'"
      ]
     },
     "execution_count": 24,
     "metadata": {},
     "output_type": "execute_result"
    }
   ],
   "source": [
    "name"
   ]
  },
  {
   "cell_type": "code",
   "execution_count": 25,
   "metadata": {},
   "outputs": [
    {
     "data": {
      "text/plain": [
       "' kremlin'"
      ]
     },
     "execution_count": 25,
     "metadata": {},
     "output_type": "execute_result"
    }
   ],
   "source": [
    "address"
   ]
  },
  {
   "cell_type": "code",
   "execution_count": 26,
   "metadata": {},
   "outputs": [
    {
     "data": {
      "text/plain": [
       "[' 28', ' 1/1/1980', ' ussr']"
      ]
     },
     "execution_count": 26,
     "metadata": {},
     "output_type": "execute_result"
    }
   ],
   "source": [
    "everythingelse"
   ]
  },
  {
   "cell_type": "code",
   "execution_count": 28,
   "metadata": {},
   "outputs": [],
   "source": [
    "name, *everythingelse, address = \"moshe cohen, 28, 1/1/1980, ussr, kremlin\".split(',')"
   ]
  },
  {
   "cell_type": "code",
   "execution_count": 29,
   "metadata": {},
   "outputs": [],
   "source": [
    "*blah, country, address = \"moshe cohen, 28, 1/1/1980, ussr, kremlin\".split(',')"
   ]
  },
  {
   "cell_type": "code",
   "execution_count": 30,
   "metadata": {},
   "outputs": [
    {
     "data": {
      "text/plain": [
       "['moshe cohen', ' 28', ' 1/1/1980']"
      ]
     },
     "execution_count": 30,
     "metadata": {},
     "output_type": "execute_result"
    }
   ],
   "source": [
    "blah"
   ]
  },
  {
   "cell_type": "code",
   "execution_count": 31,
   "metadata": {},
   "outputs": [
    {
     "data": {
      "text/plain": [
       "' ussr'"
      ]
     },
     "execution_count": 31,
     "metadata": {},
     "output_type": "execute_result"
    }
   ],
   "source": [
    "country"
   ]
  },
  {
   "cell_type": "code",
   "execution_count": 32,
   "metadata": {},
   "outputs": [
    {
     "data": {
      "text/plain": [
       "['apple', 'mango', 'pear', 'grapes']"
      ]
     },
     "execution_count": 32,
     "metadata": {},
     "output_type": "execute_result"
    }
   ],
   "source": [
    "fruits"
   ]
  },
  {
   "cell_type": "code",
   "execution_count": 35,
   "metadata": {},
   "outputs": [],
   "source": [
    "fruits += ['watermelon']"
   ]
  },
  {
   "cell_type": "code",
   "execution_count": 36,
   "metadata": {},
   "outputs": [
    {
     "data": {
      "text/plain": [
       "['apple', 'mango', 'pear', 'grapes', 'watermelon']"
      ]
     },
     "execution_count": 36,
     "metadata": {},
     "output_type": "execute_result"
    }
   ],
   "source": [
    "fruits"
   ]
  },
  {
   "cell_type": "code",
   "execution_count": 37,
   "metadata": {},
   "outputs": [],
   "source": [
    "fruits = ['tomato'] + fruits"
   ]
  },
  {
   "cell_type": "code",
   "execution_count": 38,
   "metadata": {},
   "outputs": [
    {
     "data": {
      "text/plain": [
       "['tomato', 'apple', 'mango', 'pear', 'grapes', 'watermelon']"
      ]
     },
     "execution_count": 38,
     "metadata": {},
     "output_type": "execute_result"
    }
   ],
   "source": [
    "fruits"
   ]
  },
  {
   "cell_type": "code",
   "execution_count": 40,
   "metadata": {},
   "outputs": [],
   "source": [
    "fruits.insert(3, 'banana')"
   ]
  },
  {
   "cell_type": "code",
   "execution_count": 41,
   "metadata": {},
   "outputs": [
    {
     "data": {
      "text/plain": [
       "['tomato', 'apple', 'mango', 'banana', 'pear', 'grapes', 'watermelon']"
      ]
     },
     "execution_count": 41,
     "metadata": {},
     "output_type": "execute_result"
    }
   ],
   "source": [
    "fruits"
   ]
  },
  {
   "cell_type": "code",
   "execution_count": 42,
   "metadata": {},
   "outputs": [
    {
     "data": {
      "text/plain": [
       "'banana'"
      ]
     },
     "execution_count": 42,
     "metadata": {},
     "output_type": "execute_result"
    }
   ],
   "source": [
    "fruits.pop(3)"
   ]
  },
  {
   "cell_type": "code",
   "execution_count": 43,
   "metadata": {},
   "outputs": [
    {
     "data": {
      "text/plain": [
       "['tomato', 'apple', 'mango', 'pear', 'grapes', 'watermelon']"
      ]
     },
     "execution_count": 43,
     "metadata": {},
     "output_type": "execute_result"
    }
   ],
   "source": [
    "fruits"
   ]
  },
  {
   "cell_type": "code",
   "execution_count": 44,
   "metadata": {},
   "outputs": [],
   "source": [
    "fruits.remove('pear')"
   ]
  },
  {
   "cell_type": "code",
   "execution_count": 45,
   "metadata": {},
   "outputs": [
    {
     "data": {
      "text/plain": [
       "['tomato', 'apple', 'mango', 'grapes', 'watermelon']"
      ]
     },
     "execution_count": 45,
     "metadata": {},
     "output_type": "execute_result"
    }
   ],
   "source": [
    "fruits"
   ]
  },
  {
   "cell_type": "code",
   "execution_count": 46,
   "metadata": {},
   "outputs": [
    {
     "data": {
      "text/plain": [
       "1"
      ]
     },
     "execution_count": 46,
     "metadata": {},
     "output_type": "execute_result"
    }
   ],
   "source": [
    "fruits.index('apple')"
   ]
  },
  {
   "cell_type": "code",
   "execution_count": 47,
   "metadata": {},
   "outputs": [
    {
     "data": {
      "text/plain": [
       "'apple'"
      ]
     },
     "execution_count": 47,
     "metadata": {},
     "output_type": "execute_result"
    }
   ],
   "source": [
    "fruits.pop(fruits.index('apple'))"
   ]
  },
  {
   "cell_type": "code",
   "execution_count": 48,
   "metadata": {},
   "outputs": [],
   "source": [
    "x = [1,1,1,1,2,2,2,1,1,1]"
   ]
  },
  {
   "cell_type": "code",
   "execution_count": 49,
   "metadata": {},
   "outputs": [],
   "source": [
    "x.remove(1)"
   ]
  },
  {
   "cell_type": "code",
   "execution_count": 50,
   "metadata": {},
   "outputs": [
    {
     "data": {
      "text/plain": [
       "[1, 1, 1, 2, 2, 2, 1, 1, 1]"
      ]
     },
     "execution_count": 50,
     "metadata": {},
     "output_type": "execute_result"
    }
   ],
   "source": [
    "x"
   ]
  },
  {
   "cell_type": "code",
   "execution_count": 52,
   "metadata": {},
   "outputs": [],
   "source": [
    "while 1 in x:\n",
    "    x.remove(1)"
   ]
  },
  {
   "cell_type": "code",
   "execution_count": 53,
   "metadata": {},
   "outputs": [
    {
     "data": {
      "text/plain": [
       "[2, 2, 2]"
      ]
     },
     "execution_count": 53,
     "metadata": {},
     "output_type": "execute_result"
    }
   ],
   "source": [
    "x"
   ]
  },
  {
   "cell_type": "code",
   "execution_count": 55,
   "metadata": {},
   "outputs": [],
   "source": [
    "fruits = ['tomato', 'apple', 'mango', 'banana', 'pear', 'grapes', 'watermelon']"
   ]
  },
  {
   "cell_type": "code",
   "execution_count": 56,
   "metadata": {},
   "outputs": [
    {
     "data": {
      "text/plain": [
       "['apple', 'banana', 'grapes', 'mango', 'pear', 'tomato', 'watermelon']"
      ]
     },
     "execution_count": 56,
     "metadata": {},
     "output_type": "execute_result"
    }
   ],
   "source": [
    "sorted(fruits)"
   ]
  },
  {
   "cell_type": "code",
   "execution_count": 57,
   "metadata": {},
   "outputs": [
    {
     "data": {
      "text/plain": [
       "['pear', 'apple', 'mango', 'tomato', 'banana', 'grapes', 'watermelon']"
      ]
     },
     "execution_count": 57,
     "metadata": {},
     "output_type": "execute_result"
    }
   ],
   "source": [
    "sorted(fruits, key=len)"
   ]
  },
  {
   "cell_type": "code",
   "execution_count": 58,
   "metadata": {},
   "outputs": [],
   "source": [
    "prices = [\n",
    "    10,\n",
    "    8,\n",
    "    5,\n",
    "    13,\n",
    "    20,\n",
    "    2,\n",
    "    17\n",
    "]"
   ]
  },
  {
   "cell_type": "code",
   "execution_count": 59,
   "metadata": {},
   "outputs": [
    {
     "data": {
      "text/plain": [
       "{'tomato': 10,\n",
       " 'apple': 8,\n",
       " 'mango': 5,\n",
       " 'banana': 13,\n",
       " 'pear': 20,\n",
       " 'grapes': 2,\n",
       " 'watermelon': 17}"
      ]
     },
     "execution_count": 59,
     "metadata": {},
     "output_type": "execute_result"
    }
   ],
   "source": [
    "d = dict(zip(fruits, prices))\n",
    "d"
   ]
  },
  {
   "cell_type": "code",
   "execution_count": 60,
   "metadata": {},
   "outputs": [
    {
     "data": {
      "text/plain": [
       "8"
      ]
     },
     "execution_count": 60,
     "metadata": {},
     "output_type": "execute_result"
    }
   ],
   "source": [
    "d.get('apple')"
   ]
  },
  {
   "cell_type": "code",
   "execution_count": 61,
   "metadata": {},
   "outputs": [
    {
     "data": {
      "text/plain": [
       "2"
      ]
     },
     "execution_count": 61,
     "metadata": {},
     "output_type": "execute_result"
    }
   ],
   "source": [
    "d.get('grapes')"
   ]
  },
  {
   "cell_type": "code",
   "execution_count": 62,
   "metadata": {},
   "outputs": [
    {
     "data": {
      "text/plain": [
       "['grapes', 'mango', 'apple', 'tomato', 'banana', 'watermelon', 'pear']"
      ]
     },
     "execution_count": 62,
     "metadata": {},
     "output_type": "execute_result"
    }
   ],
   "source": [
    "sorted(fruits, key=d.get)"
   ]
  },
  {
   "cell_type": "code",
   "execution_count": 65,
   "metadata": {},
   "outputs": [
    {
     "data": {
      "text/plain": [
       "['pear', 'watermelon', 'banana', 'tomato', 'apple', 'mango', 'grapes']"
      ]
     },
     "execution_count": 65,
     "metadata": {},
     "output_type": "execute_result"
    }
   ],
   "source": [
    "sorted(fruits, key=d.get, reverse=True)"
   ]
  },
  {
   "cell_type": "code",
   "execution_count": 66,
   "metadata": {},
   "outputs": [],
   "source": [
    "fruits.sort()"
   ]
  },
  {
   "cell_type": "code",
   "execution_count": 67,
   "metadata": {},
   "outputs": [
    {
     "data": {
      "text/plain": [
       "['apple', 'banana', 'grapes', 'mango', 'pear', 'tomato', 'watermelon']"
      ]
     },
     "execution_count": 67,
     "metadata": {},
     "output_type": "execute_result"
    }
   ],
   "source": [
    "fruits"
   ]
  },
  {
   "cell_type": "code",
   "execution_count": 68,
   "metadata": {},
   "outputs": [],
   "source": [
    "oops = \"\"\"\n",
    "Yeah yeah yeah yeah yeah\n",
    "Yeah yeah yeah yeah yeah yeah\n",
    "I think I did it again\n",
    "I made you believe we're more than just friends\n",
    "Oh baby\n",
    "It might seem like a crush\n",
    "But it doesn't mean that I'm serious\n",
    "'Cause to lose all my senses\n",
    "That is just so typically me\n",
    "Oh baby, baby\n",
    "Oops, I did it again\n",
    "I played with your heart, got lost in the game\n",
    "Oh baby, baby\n",
    "Oops, you think I'm in love\n",
    "That I'm sent from above\n",
    "I'm not that innocent\n",
    "You see my problem is this\n",
    "I'm dreaming away\n",
    "Wishing that heroes, they truly exist\n",
    "I cry, watching the days\n",
    "Can't you see I'm a fool in so many ways\n",
    "But to lose all my senses\n",
    "That is just so typically me\n",
    "Oh baby, oh\n",
    "Oops, I did it again\n",
    "I played with your heart, got lost in the game\n",
    "Oh baby, baby\n",
    "Oops, you think I'm in love\n",
    "That I'm sent from above\n",
    "I'm not that innocent\n",
    "Yeah yeah yeah yeah yeah yeah\n",
    "Yeah yeah yeah yeah yeah yeah\n",
    "\"All aboard\"\n",
    "\"Britney, before you go, there's something I want you to have\"\n",
    "\"Oh, it's beautiful, but wait a minute, isn't this?\"\n",
    "\"Yeah, yes it is\"\n",
    "\"But I thought the old lady dropped it into the ocean in the end\"\n",
    "\"Well baby, I went down and got it for you\"\n",
    "\"Aww, you shouldn't have\"\n",
    "Oops, I did it again to your heart\n",
    "Got lost in this game, oh baby\n",
    "Oops, you think that I'm sent from above\n",
    "I'm not that innocent\n",
    "Oops, I did it again\n",
    "I played with your heart, got lost in the game\n",
    "Oh baby, baby\n",
    "Oops, you think I'm in love\n",
    "That I'm sent from above\n",
    "I'm not that innocent\n",
    "Oops, I did it again\n",
    "I played with your heart, got lost in the game\n",
    "Oh baby, baby\n",
    "Oops, you think I'm in love\n",
    "That I'm sent from above\n",
    "I'm not that innocent\n",
    "\"\"\""
   ]
  },
  {
   "cell_type": "code",
   "execution_count": 77,
   "metadata": {},
   "outputs": [],
   "source": [
    "oops2 = oops.translate(str.maketrans('', '', \"\"\"!,\"'`.\"\"\"))\n",
    "#print(oops2)"
   ]
  },
  {
   "cell_type": "code",
   "execution_count": 78,
   "metadata": {},
   "outputs": [
    {
     "data": {
      "text/plain": [
       "107"
      ]
     },
     "execution_count": 78,
     "metadata": {},
     "output_type": "execute_result"
    }
   ],
   "source": [
    "len(set(oops2.split()))"
   ]
  },
  {
   "cell_type": "code",
   "execution_count": 79,
   "metadata": {},
   "outputs": [],
   "source": [
    "myfruits = d"
   ]
  },
  {
   "cell_type": "code",
   "execution_count": 80,
   "metadata": {},
   "outputs": [
    {
     "data": {
      "text/plain": [
       "{'tomato': 10,\n",
       " 'apple': 8,\n",
       " 'mango': 5,\n",
       " 'banana': 13,\n",
       " 'pear': 20,\n",
       " 'grapes': 2,\n",
       " 'watermelon': 17}"
      ]
     },
     "execution_count": 80,
     "metadata": {},
     "output_type": "execute_result"
    }
   ],
   "source": [
    "myfruits"
   ]
  },
  {
   "cell_type": "code",
   "execution_count": 81,
   "metadata": {},
   "outputs": [
    {
     "data": {
      "text/plain": [
       "dict_keys(['tomato', 'apple', 'mango', 'banana', 'pear', 'grapes', 'watermelon'])"
      ]
     },
     "execution_count": 81,
     "metadata": {},
     "output_type": "execute_result"
    }
   ],
   "source": [
    "myfruits.keys()"
   ]
  },
  {
   "cell_type": "code",
   "execution_count": 82,
   "metadata": {},
   "outputs": [
    {
     "name": "stdout",
     "output_type": "stream",
     "text": [
      "tomato\n",
      "apple\n",
      "mango\n",
      "banana\n",
      "pear\n",
      "grapes\n",
      "watermelon\n"
     ]
    }
   ],
   "source": [
    "for key in myfruits.keys():\n",
    "    print(key)"
   ]
  },
  {
   "cell_type": "code",
   "execution_count": 83,
   "metadata": {},
   "outputs": [
    {
     "data": {
      "text/plain": [
       "8"
      ]
     },
     "execution_count": 83,
     "metadata": {},
     "output_type": "execute_result"
    }
   ],
   "source": [
    "myfruits['apple']"
   ]
  },
  {
   "cell_type": "code",
   "execution_count": 84,
   "metadata": {},
   "outputs": [
    {
     "name": "stdout",
     "output_type": "stream",
     "text": [
      "tomato\n",
      "10\n",
      "apple\n",
      "8\n",
      "mango\n",
      "5\n",
      "banana\n",
      "13\n",
      "pear\n",
      "20\n",
      "grapes\n",
      "2\n",
      "watermelon\n",
      "17\n"
     ]
    }
   ],
   "source": [
    "for key in myfruits.keys():\n",
    "    print(key)\n",
    "    price = myfruits[key]\n",
    "    print(price)"
   ]
  },
  {
   "cell_type": "code",
   "execution_count": 85,
   "metadata": {},
   "outputs": [
    {
     "data": {
      "text/plain": [
       "dict_values([10, 8, 5, 13, 20, 2, 17])"
      ]
     },
     "execution_count": 85,
     "metadata": {},
     "output_type": "execute_result"
    }
   ],
   "source": [
    "myfruits.values()"
   ]
  },
  {
   "cell_type": "code",
   "execution_count": 86,
   "metadata": {},
   "outputs": [
    {
     "data": {
      "text/plain": [
       "dict_items([('tomato', 10), ('apple', 8), ('mango', 5), ('banana', 13), ('pear', 20), ('grapes', 2), ('watermelon', 17)])"
      ]
     },
     "execution_count": 86,
     "metadata": {},
     "output_type": "execute_result"
    }
   ],
   "source": [
    "myfruits.items()"
   ]
  },
  {
   "cell_type": "code",
   "execution_count": 87,
   "metadata": {},
   "outputs": [
    {
     "name": "stdout",
     "output_type": "stream",
     "text": [
      "tomato 10\n",
      "apple 8\n",
      "mango 5\n",
      "banana 13\n",
      "pear 20\n",
      "grapes 2\n",
      "watermelon 17\n"
     ]
    }
   ],
   "source": [
    "for keyvalue in myfruits.items():\n",
    "    name = keyvalue[0]\n",
    "    price = keyvalue[1]\n",
    "    print(name, price)"
   ]
  },
  {
   "cell_type": "code",
   "execution_count": 88,
   "metadata": {},
   "outputs": [
    {
     "name": "stdout",
     "output_type": "stream",
     "text": [
      "tomato 10\n",
      "apple 8\n",
      "mango 5\n",
      "banana 13\n",
      "pear 20\n",
      "grapes 2\n",
      "watermelon 17\n"
     ]
    }
   ],
   "source": [
    "for keyvalue in myfruits.items():\n",
    "    name, price = keyvalue\n",
    "    print(name, price)"
   ]
  },
  {
   "cell_type": "code",
   "execution_count": 89,
   "metadata": {},
   "outputs": [
    {
     "name": "stdout",
     "output_type": "stream",
     "text": [
      "tomato 10\n",
      "apple 8\n",
      "mango 5\n",
      "banana 13\n",
      "pear 20\n",
      "grapes 2\n",
      "watermelon 17\n"
     ]
    }
   ],
   "source": [
    "for name, price in myfruits.items():\n",
    "    print(name, price)"
   ]
  },
  {
   "cell_type": "code",
   "execution_count": 90,
   "metadata": {},
   "outputs": [
    {
     "data": {
      "text/plain": [
       "'\\nYeah yeah yeah yeah yeah\\nYeah yeah yeah yeah yeah yeah\\nI think I did it again\\nI made you believe were more than just friends\\nOh baby\\nIt might seem like a crush\\nBut it doesnt mean that Im serious\\nCause to lose all my senses\\nThat is just so typically me\\nOh baby baby\\nOops I did it again\\nI played with your heart got lost in the game\\nOh baby baby\\nOops you think Im in love\\nThat Im sent from above\\nIm not that innocent\\nYou see my problem is this\\nIm dreaming away\\nWishing that heroes they truly exist\\nI cry watching the days\\nCant you see Im a fool in so many ways\\nBut to lose all my senses\\nThat is just so typically me\\nOh baby oh\\nOops I did it again\\nI played with your heart got lost in the game\\nOh baby baby\\nOops you think Im in love\\nThat Im sent from above\\nIm not that innocent\\nYeah yeah yeah yeah yeah yeah\\nYeah yeah yeah yeah yeah yeah\\nAll aboard\\nBritney before you go theres something I want you to have\\nOh its beautiful but wait a minute isnt this?\\nYeah yes it is\\nBut I thought the old lady dropped it into the ocean in the end\\nWell baby I went down and got it for you\\nAww you shouldnt have\\nOops I did it again to your heart\\nGot lost in this game oh baby\\nOops you think that Im sent from above\\nIm not that innocent\\nOops I did it again\\nI played with your heart got lost in the game\\nOh baby baby\\nOops you think Im in love\\nThat Im sent from above\\nIm not that innocent\\nOops I did it again\\nI played with your heart got lost in the game\\nOh baby baby\\nOops you think Im in love\\nThat Im sent from above\\nIm not that innocent\\n'"
      ]
     },
     "execution_count": 90,
     "metadata": {},
     "output_type": "execute_result"
    }
   ],
   "source": [
    "oops2"
   ]
  },
  {
   "cell_type": "code",
   "execution_count": 91,
   "metadata": {},
   "outputs": [],
   "source": [
    "import collections"
   ]
  },
  {
   "cell_type": "code",
   "execution_count": 93,
   "metadata": {},
   "outputs": [],
   "source": [
    "words = collections.Counter(oops2.split())"
   ]
  },
  {
   "cell_type": "code",
   "execution_count": 97,
   "metadata": {},
   "outputs": [
    {
     "data": {
      "text/plain": [
       "[('yeah', 19),\n",
       " ('Im', 17),\n",
       " ('I', 16),\n",
       " ('baby', 14),\n",
       " ('you', 11),\n",
       " ('in', 11),\n",
       " ('it', 10),\n",
       " ('Oops', 10),\n",
       " ('Oh', 8),\n",
       " ('that', 8),\n",
       " ('the', 8),\n",
       " ('think', 6),\n",
       " ('did', 6),\n",
       " ('again', 6),\n",
       " ('That', 6),\n",
       " ('Yeah', 5),\n",
       " ('your', 5),\n",
       " ('heart', 5),\n",
       " ('got', 5),\n",
       " ('lost', 5),\n",
       " ('game', 5),\n",
       " ('sent', 5),\n",
       " ('from', 5),\n",
       " ('above', 5),\n",
       " ('not', 5),\n",
       " ('innocent', 5),\n",
       " ('to', 4),\n",
       " ('is', 4),\n",
       " ('played', 4),\n",
       " ('with', 4),\n",
       " ('love', 4),\n",
       " ('just', 3),\n",
       " ('a', 3),\n",
       " ('But', 3),\n",
       " ('my', 3),\n",
       " ('so', 3),\n",
       " ('lose', 2),\n",
       " ('all', 2),\n",
       " ('senses', 2),\n",
       " ('typically', 2),\n",
       " ('me', 2),\n",
       " ('see', 2),\n",
       " ('this', 2),\n",
       " ('oh', 2),\n",
       " ('have', 2),\n",
       " ('made', 1),\n",
       " ('believe', 1),\n",
       " ('were', 1),\n",
       " ('more', 1),\n",
       " ('than', 1),\n",
       " ('friends', 1),\n",
       " ('It', 1),\n",
       " ('might', 1),\n",
       " ('seem', 1),\n",
       " ('like', 1),\n",
       " ('crush', 1),\n",
       " ('doesnt', 1),\n",
       " ('mean', 1),\n",
       " ('serious', 1),\n",
       " ('Cause', 1),\n",
       " ('You', 1),\n",
       " ('problem', 1),\n",
       " ('dreaming', 1),\n",
       " ('away', 1),\n",
       " ('Wishing', 1),\n",
       " ('heroes', 1),\n",
       " ('they', 1),\n",
       " ('truly', 1),\n",
       " ('exist', 1),\n",
       " ('cry', 1),\n",
       " ('watching', 1),\n",
       " ('days', 1),\n",
       " ('Cant', 1),\n",
       " ('fool', 1),\n",
       " ('many', 1),\n",
       " ('ways', 1),\n",
       " ('All', 1),\n",
       " ('aboard', 1),\n",
       " ('Britney', 1),\n",
       " ('before', 1),\n",
       " ('go', 1),\n",
       " ('theres', 1),\n",
       " ('something', 1),\n",
       " ('want', 1),\n",
       " ('its', 1),\n",
       " ('beautiful', 1),\n",
       " ('but', 1),\n",
       " ('wait', 1),\n",
       " ('minute', 1),\n",
       " ('isnt', 1),\n",
       " ('this?', 1),\n",
       " ('yes', 1),\n",
       " ('thought', 1),\n",
       " ('old', 1),\n",
       " ('lady', 1),\n",
       " ('dropped', 1),\n",
       " ('into', 1),\n",
       " ('ocean', 1),\n",
       " ('end', 1),\n",
       " ('Well', 1),\n",
       " ('went', 1),\n",
       " ('down', 1),\n",
       " ('and', 1),\n",
       " ('for', 1),\n",
       " ('Aww', 1),\n",
       " ('shouldnt', 1),\n",
       " ('Got', 1)]"
      ]
     },
     "execution_count": 97,
     "metadata": {},
     "output_type": "execute_result"
    }
   ],
   "source": [
    "sorted(words.items(), key=lambda x: x[1], reverse=True)"
   ]
  },
  {
   "cell_type": "code",
   "execution_count": null,
   "metadata": {},
   "outputs": [],
   "source": []
  }
 ],
 "metadata": {
  "kernelspec": {
   "display_name": "Python 3",
   "language": "python",
   "name": "python3"
  },
  "language_info": {
   "codemirror_mode": {
    "name": "ipython",
    "version": 3
   },
   "file_extension": ".py",
   "mimetype": "text/x-python",
   "name": "python",
   "nbconvert_exporter": "python",
   "pygments_lexer": "ipython3",
   "version": "3.6.5"
  }
 },
 "nbformat": 4,
 "nbformat_minor": 2
}
