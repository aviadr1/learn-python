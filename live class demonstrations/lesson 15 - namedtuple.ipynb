{
 "cells": [
  {
   "cell_type": "markdown",
   "metadata": {},
   "source": [
    "\n",
    "<a href=\"https://colab.research.google.com/github/aviadr1/learn-python/blob/master/live%20class%20demonstrations/lesson%2015%20-%20namedtuple.ipynb\" target=\"_blank\">\n",
    "<img src=\"https://colab.research.google.com/assets/colab-badge.svg\" \n",
    "     title=\"Open this file in Google Colab\" alt=\"Colab\"/>\n",
    "</a>\n"
   ]
  },
  {
   "cell_type": "code",
   "execution_count": 9,
   "metadata": {},
   "outputs": [],
   "source": [
    "oops = \"\"\"\n",
    "Yeah yeah yeah yeah yeah\n",
    "Yeah yeah yeah yeah yeah yeah\n",
    "I think I did it again\n",
    "I made you believe we're more than just friends\n",
    "Oh baby\n",
    "It might seem like a crush\n",
    "But it doesn't mean that I'm serious\n",
    "'Cause to lose all my senses\n",
    "That is just so typically me\n",
    "Oh baby, baby\n",
    "Oops, I did it again\n",
    "I played with your heart, got lost in the game\n",
    "Oh baby, baby\n",
    "Oops, you think I'm in love\n",
    "That I'm sent from above\n",
    "I'm not that innocent\n",
    "You see my problem is this\n",
    "I'm dreaming away\n",
    "Wishing that heroes, they truly exist\n",
    "I cry, watching the days\n",
    "Can't you see I'm a fool in so many ways\n",
    "But to lose all my senses\n",
    "That is just so typically me\n",
    "Oh baby, oh\n",
    "Oops, I did it again\n",
    "I played with your heart, got lost in the game\n",
    "Oh baby, baby\n",
    "Oops, you think I'm in love\n",
    "That I'm sent from above\n",
    "I'm not that innocent\n",
    "Yeah yeah yeah yeah yeah yeah\n",
    "Yeah yeah yeah yeah yeah yeah\n",
    "\"All aboard\"\n",
    "\"Britney, before you go, there's something I want you to have\"\n",
    "\"Oh, it's beautiful, but wait a minute, isn't this?\"\n",
    "\"Yeah, yes it is\"\n",
    "\"But I thought the old lady dropped it into the ocean in the end\"\n",
    "\"Well baby, I went down and got it for you\"\n",
    "\"Aww, you shouldn't have\"\n",
    "Oops, I did it again to your heart\n",
    "Got lost in this game, oh baby\n",
    "Oops, you think that I'm sent from above\n",
    "I'm not that innocent\n",
    "Oops, I did it again\n",
    "I played with your heart, got lost in the game\n",
    "Oh baby, baby\n",
    "Oops, you think I'm in love\n",
    "That I'm sent from above\n",
    "I'm not that innocent\n",
    "Oops, I did it again\n",
    "I played with your heart, got lost in the game\n",
    "Oh baby, baby\n",
    "Oops, you think I'm in love\n",
    "That I'm sent from above\n",
    "I'm not that innocent\n",
    "\"\"\".replace(',', ' ').replace('.', ' ').replace('`', ' ').split()"
   ]
  },
  {
   "cell_type": "code",
   "execution_count": 4,
   "metadata": {},
   "outputs": [],
   "source": [
    "from collections import Counter"
   ]
  },
  {
   "cell_type": "code",
   "execution_count": 10,
   "metadata": {},
   "outputs": [],
   "source": [
    "x = Counter(oops)"
   ]
  },
  {
   "cell_type": "code",
   "execution_count": 13,
   "metadata": {},
   "outputs": [
    {
     "data": {
      "text/plain": [
       "[('yeah', 19),\n",
       " (\"I'm\", 17),\n",
       " ('I', 16),\n",
       " ('baby', 14),\n",
       " ('in', 11),\n",
       " ('it', 10),\n",
       " ('you', 10),\n",
       " ('Oops', 10),\n",
       " ('that', 8),\n",
       " ('the', 8),\n",
       " ('Oh', 7),\n",
       " ('think', 6),\n",
       " ('did', 6),\n",
       " ('again', 6),\n",
       " ('That', 6),\n",
       " ('your', 5),\n",
       " ('heart', 5),\n",
       " ('got', 5),\n",
       " ('lost', 5),\n",
       " ('game', 5),\n",
       " ('sent', 5),\n",
       " ('from', 5),\n",
       " ('above', 5),\n",
       " ('not', 5),\n",
       " ('innocent', 5)]"
      ]
     },
     "execution_count": 13,
     "metadata": {},
     "output_type": "execute_result"
    }
   ],
   "source": [
    "x.most_common(25)"
   ]
  },
  {
   "cell_type": "code",
   "execution_count": 12,
   "metadata": {},
   "outputs": [
    {
     "data": {
      "text/plain": [
       "112"
      ]
     },
     "execution_count": 12,
     "metadata": {},
     "output_type": "execute_result"
    }
   ],
   "source": [
    "len(x)"
   ]
  },
  {
   "cell_type": "code",
   "execution_count": 15,
   "metadata": {},
   "outputs": [],
   "source": [
    "hotel = \"\"\"\n",
    "On a dark desert highway, cool wind in my hair\n",
    "Warm smell of colitas, rising up through the air\n",
    "Up ahead in the distance, I saw a shimmering light\n",
    "My head grew heavy and my sight grew dim\n",
    "I had to stop for the night.\n",
    "There she stood in the doorway;\n",
    "I heard the mission bell\n",
    "And I was thinking to myself\n",
    "'This could be heaven or this could be Hell'\n",
    "Then she lit up a candle and she showed me the way\n",
    "There were voices down the corridor,\n",
    "I thought I heard them say\n",
    "Welcome to the Hotel California\n",
    "Such a lovely place (such a lovely place)\n",
    "Such a lovely face.\n",
    "Plenty of room at the Hotel California\n",
    "Any time of year (any time of year) you can find it here\n",
    "Her mind is Tiffany-twisted, she got the Mercedes bends\n",
    "She got a lot of pretty, pretty boys, that she calls friends\n",
    "How they dance in the courtyard, sweet summer sweat\n",
    "Some dance to remember, some dance to forget\n",
    "So I called up the Captain,\n",
    "'Please bring me my wine'\n",
    "He said, 'we haven't had that spirit here since nineteen sixty-nine'\n",
    "And still those voices are calling from far away,\n",
    "Wake you up in the middle of the night\n",
    "Just to hear them say\"\n",
    "Welcome to the Hotel California\n",
    "Such a lovely place (such a lovely place)\n",
    "Such a lovely face.\n",
    "They livin' it up at the Hotel California\n",
    "What a nice surprise (what a nice surprise), bring your alibis\n",
    "Mirrors on the ceiling,\n",
    "The pink champagne on ice\n",
    "And she said, 'we are all just prisoners here, of our own device'\n",
    "And in the master's chambers,\n",
    "They gathered for the feast\n",
    "They stab it with their steely knives,\n",
    "But they just can't kill the beast\n",
    "Last thing I remember, I was\n",
    "Running for the door\n",
    "I had to find the passage back to the place I was before\n",
    "'Relax' said the night man,\n",
    "'We are programmed to receive.\n",
    "You can check out any time you like,\n",
    "But you can never leave!'\n",
    "\"\"\".replace(',', ' ').replace('.', ' ').replace('`', ' ').replace('!', ' ').split()"
   ]
  },
  {
   "cell_type": "code",
   "execution_count": 16,
   "metadata": {},
   "outputs": [],
   "source": [
    "y = Counter(hotel)"
   ]
  },
  {
   "cell_type": "code",
   "execution_count": 20,
   "metadata": {},
   "outputs": [
    {
     "data": {
      "text/plain": [
       "{\"I'm\",\n",
       " 'Oh',\n",
       " 'Oops',\n",
       " 'That',\n",
       " 'above',\n",
       " 'again',\n",
       " 'baby',\n",
       " 'did',\n",
       " 'from',\n",
       " 'game',\n",
       " 'got',\n",
       " 'heart',\n",
       " 'innocent',\n",
       " 'lost',\n",
       " 'not',\n",
       " 'sent',\n",
       " 'that',\n",
       " 'think',\n",
       " 'yeah',\n",
       " 'your'}"
      ]
     },
     "execution_count": 20,
     "metadata": {},
     "output_type": "execute_result"
    }
   ],
   "source": [
    "set([word for word,n in x.most_common(25)]) - set([word for word,n in y.most_common(25)] )"
   ]
  },
  {
   "cell_type": "code",
   "execution_count": 21,
   "metadata": {},
   "outputs": [
    {
     "data": {
      "text/plain": [
       "344"
      ]
     },
     "execution_count": 21,
     "metadata": {},
     "output_type": "execute_result"
    }
   ],
   "source": [
    "len(hotel)"
   ]
  },
  {
   "cell_type": "code",
   "execution_count": 22,
   "metadata": {},
   "outputs": [
    {
     "data": {
      "text/plain": [
       "326"
      ]
     },
     "execution_count": 22,
     "metadata": {},
     "output_type": "execute_result"
    }
   ],
   "source": [
    "len(oops)"
   ]
  },
  {
   "cell_type": "code",
   "execution_count": 23,
   "metadata": {},
   "outputs": [
    {
     "data": {
      "text/plain": [
       "[('the', 24),\n",
       " ('a', 12),\n",
       " ('I', 11),\n",
       " ('to', 10),\n",
       " ('of', 7),\n",
       " ('in', 6),\n",
       " ('she', 6),\n",
       " ('lovely', 6),\n",
       " ('up', 5),\n",
       " ('And', 4),\n",
       " ('Hotel', 4),\n",
       " ('California', 4),\n",
       " ('Such', 4),\n",
       " ('you', 4),\n",
       " ('my', 3),\n",
       " ('had', 3),\n",
       " ('for', 3),\n",
       " ('night', 3),\n",
       " ('was', 3),\n",
       " ('place', 3),\n",
       " ('time', 3),\n",
       " ('can', 3),\n",
       " ('it', 3),\n",
       " ('here', 3),\n",
       " ('dance', 3)]"
      ]
     },
     "execution_count": 23,
     "metadata": {},
     "output_type": "execute_result"
    }
   ],
   "source": [
    " y.most_common(25)"
   ]
  },
  {
   "cell_type": "code",
   "execution_count": 24,
   "metadata": {},
   "outputs": [
    {
     "data": {
      "text/plain": [
       "[('yeah', 19),\n",
       " (\"I'm\", 17),\n",
       " ('I', 16),\n",
       " ('baby', 14),\n",
       " ('in', 11),\n",
       " ('it', 10),\n",
       " ('you', 10),\n",
       " ('Oops', 10),\n",
       " ('that', 8),\n",
       " ('the', 8),\n",
       " ('Oh', 7),\n",
       " ('think', 6),\n",
       " ('did', 6),\n",
       " ('again', 6),\n",
       " ('That', 6),\n",
       " ('your', 5),\n",
       " ('heart', 5),\n",
       " ('got', 5),\n",
       " ('lost', 5),\n",
       " ('game', 5),\n",
       " ('sent', 5),\n",
       " ('from', 5),\n",
       " ('above', 5),\n",
       " ('not', 5),\n",
       " ('innocent', 5)]"
      ]
     },
     "execution_count": 24,
     "metadata": {},
     "output_type": "execute_result"
    }
   ],
   "source": [
    "x.most_common(25)"
   ]
  },
  {
   "cell_type": "code",
   "execution_count": 25,
   "metadata": {},
   "outputs": [],
   "source": [
    "from collections import OrderedDict"
   ]
  },
  {
   "cell_type": "code",
   "execution_count": 27,
   "metadata": {},
   "outputs": [],
   "source": [
    "from collections import namedtuple"
   ]
  },
  {
   "cell_type": "code",
   "execution_count": 28,
   "metadata": {},
   "outputs": [
    {
     "name": "stdout",
     "output_type": "stream",
     "text": [
      "Help on function namedtuple in module collections:\n",
      "\n",
      "namedtuple(typename, field_names, *, verbose=False, rename=False, module=None)\n",
      "    Returns a new subclass of tuple with named fields.\n",
      "    \n",
      "    >>> Point = namedtuple('Point', ['x', 'y'])\n",
      "    >>> Point.__doc__                   # docstring for the new class\n",
      "    'Point(x, y)'\n",
      "    >>> p = Point(11, y=22)             # instantiate with positional args or keywords\n",
      "    >>> p[0] + p[1]                     # indexable like a plain tuple\n",
      "    33\n",
      "    >>> x, y = p                        # unpack like a regular tuple\n",
      "    >>> x, y\n",
      "    (11, 22)\n",
      "    >>> p.x + p.y                       # fields also accessible by name\n",
      "    33\n",
      "    >>> d = p._asdict()                 # convert to a dictionary\n",
      "    >>> d['x']\n",
      "    11\n",
      "    >>> Point(**d)                      # convert from a dictionary\n",
      "    Point(x=11, y=22)\n",
      "    >>> p._replace(x=100)               # _replace() is like str.replace() but targets named fields\n",
      "    Point(x=100, y=22)\n",
      "\n"
     ]
    }
   ],
   "source": [
    "help(namedtuple)"
   ]
  },
  {
   "cell_type": "code",
   "execution_count": 31,
   "metadata": {},
   "outputs": [],
   "source": [
    "Person = namedtuple('Person', ['name', 'age', 'country', 'id'])"
   ]
  },
  {
   "cell_type": "code",
   "execution_count": 33,
   "metadata": {},
   "outputs": [],
   "source": [
    "beni = Person( 'beni', 25, 'israel', '123')"
   ]
  },
  {
   "cell_type": "code",
   "execution_count": 34,
   "metadata": {},
   "outputs": [
    {
     "data": {
      "text/plain": [
       "'beni'"
      ]
     },
     "execution_count": 34,
     "metadata": {},
     "output_type": "execute_result"
    }
   ],
   "source": [
    "beni.name"
   ]
  },
  {
   "cell_type": "code",
   "execution_count": 35,
   "metadata": {},
   "outputs": [
    {
     "data": {
      "text/plain": [
       "'123'"
      ]
     },
     "execution_count": 35,
     "metadata": {},
     "output_type": "execute_result"
    }
   ],
   "source": [
    "beni.id"
   ]
  },
  {
   "cell_type": "code",
   "execution_count": 37,
   "metadata": {},
   "outputs": [
    {
     "data": {
      "text/plain": [
       "25"
      ]
     },
     "execution_count": 37,
     "metadata": {},
     "output_type": "execute_result"
    }
   ],
   "source": [
    "beni[1]"
   ]
  },
  {
   "cell_type": "code",
   "execution_count": null,
   "metadata": {},
   "outputs": [],
   "source": [
    "beni."
   ]
  }
 ],
 "metadata": {
  "kernelspec": {
   "display_name": "Python 3",
   "language": "python",
   "name": "python3"
  },
  "language_info": {
   "codemirror_mode": {
    "name": "ipython",
    "version": 3
   },
   "file_extension": ".py",
   "mimetype": "text/x-python",
   "name": "python",
   "nbconvert_exporter": "python",
   "pygments_lexer": "ipython3",
   "version": "3.6.5"
  }
 },
 "nbformat": 4,
 "nbformat_minor": 2
}
