{
 "cells": [
  {
   "cell_type": "markdown",
   "metadata": {},
   "source": [
    "[![Open In Colab](https://colab.research.google.com/assets/colab-badge.svg)](https://colab.research.google.com/github/aviadr1/learn-python/blob/master/live%20class%20demonstrations/lesson%2004%20-%20string%20formatting%20checkpoint.ipynb)"
   ]
  },
  {
   "cell_type": "code",
   "execution_count": 1,
   "metadata": {},
   "outputs": [],
   "source": [
    "import math"
   ]
  },
  {
   "cell_type": "code",
   "execution_count": 2,
   "metadata": {},
   "outputs": [
    {
     "data": {
      "text/plain": [
       "0.0"
      ]
     },
     "execution_count": 2,
     "metadata": {},
     "output_type": "execute_result"
    }
   ],
   "source": [
    "math.sin(0)"
   ]
  },
  {
   "cell_type": "code",
   "execution_count": 3,
   "metadata": {},
   "outputs": [
    {
     "data": {
      "text/plain": [
       "1.2246467991473532e-16"
      ]
     },
     "execution_count": 3,
     "metadata": {},
     "output_type": "execute_result"
    }
   ],
   "source": [
    "math.sin(math.pi)"
   ]
  },
  {
   "cell_type": "code",
   "execution_count": 8,
   "metadata": {},
   "outputs": [
    {
     "data": {
      "text/plain": [
       "'0.00'"
      ]
     },
     "execution_count": 8,
     "metadata": {},
     "output_type": "execute_result"
    }
   ],
   "source": [
    "\"{:.2f}\".format(math.sin(math.pi))"
   ]
  },
  {
   "cell_type": "code",
   "execution_count": 23,
   "metadata": {},
   "outputs": [
    {
     "name": "stdout",
     "output_type": "stream",
     "text": [
      "\n",
      "shakshuka:      10.99 NIS\n",
      "break:           7.50 NIS\n",
      "steak:            175 NIS\n",
      "vat%            17.00 %\n",
      "vat:            15.82 NIS  \n",
      "total:         142.67 NIS\n",
      "\n"
     ]
    }
   ],
   "source": [
    "\"\"\"\n",
    "shakshuka:        10.99 NIS\n",
    "break:             7.50 NIS\n",
    "steak:           125.00 NIS\n",
    "vat%              17.00%\n",
    "vat:              15.82 NIS  \n",
    "total:           142.67 NIS\n",
    "\"\"\"\n",
    "\n",
    "x = \"\"\"\n",
    "shakshuka: {:>10.2f} NIS\n",
    "break:     {:>10.2f} NIS\n",
    "steak:     {:>10x} NIS\n",
    "vat%       {:>10.2f} %\n",
    "vat:       {:>10.2f} NIS  \n",
    "total:     {:>10.2f} NIS\n",
    "\"\"\".format(10.99, 7.50, 125, 17, 15.82, 142.67)\n",
    "print(x)"
   ]
  },
  {
   "cell_type": "code",
   "execution_count": 24,
   "metadata": {},
   "outputs": [
    {
     "data": {
      "text/plain": [
       "'FF'"
      ]
     },
     "execution_count": 24,
     "metadata": {},
     "output_type": "execute_result"
    }
   ],
   "source": [
    "\"{:X}\".format(255)"
   ]
  },
  {
   "cell_type": "code",
   "execution_count": 30,
   "metadata": {},
   "outputs": [
    {
     "name": "stdout",
     "output_type": "stream",
     "text": [
      "\n",
      "shakshuka:      10.50 NIS\n",
      "bread:           5.00 NIS\n",
      "steak:         125.00 NIS\n",
      "vat%:           17.00 %\n",
      "vat:            23.89 NIS\n",
      "\n"
     ]
    }
   ],
   "source": [
    "shaksuha = 10.5\n",
    "bread = 5\n",
    "steak = 125\n",
    "vatper = 17\n",
    "x = f\"\"\"\n",
    "shakshuka: {shaksuha:>10.2f} NIS\n",
    "bread:     {bread:>10.2f} NIS\n",
    "steak:     {steak:>10.2f} NIS\n",
    "vat%:      {vatper:>10.2f} %\n",
    "vat:       {(shaksuha+bread+steak)*vatper/100:>10.2f} NIS\n",
    "\"\"\"\n",
    "print(x)"
   ]
  },
  {
   "cell_type": "code",
   "execution_count": null,
   "metadata": {},
   "outputs": [],
   "source": []
  }
 ],
 "metadata": {
  "kernelspec": {
   "display_name": "Python 3",
   "language": "python",
   "name": "python3"
  },
  "language_info": {
   "codemirror_mode": {
    "name": "ipython",
    "version": 3
   },
   "file_extension": ".py",
   "mimetype": "text/x-python",
   "name": "python",
   "nbconvert_exporter": "python",
   "pygments_lexer": "ipython3",
   "version": "3.7.3"
  }
 },
 "nbformat": 4,
 "nbformat_minor": 2
}
