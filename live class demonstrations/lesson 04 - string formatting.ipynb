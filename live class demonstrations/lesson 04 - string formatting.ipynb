{
 "cells": [
  {
   "cell_type": "markdown",
   "metadata": {},
   "source": [
    "[![Open In Colab](https://colab.research.google.com/assets/colab-badge.svg)](https://colab.research.google.com/github/aviadr1/learn-python/blob/master/live%20class%20demonstrations/lesson%2004%20-%20string%20formatting.ipynb)"
   ]
  },
  {
   "cell_type": "code",
   "execution_count": 2,
   "metadata": {},
   "outputs": [],
   "source": [
    "x = \"\"\"\n",
    "Item 1:      112.50$\n",
    "item 2:        2.99$\n",
    "VAT:          17.00%\n",
    "VAT AMOUNT:    3.45$\n",
    "TOTAL:        18.34$ \n",
    "\"\"\""
   ]
  },
  {
   "cell_type": "code",
   "execution_count": 4,
   "metadata": {},
   "outputs": [
    {
     "name": "stdout",
     "output_type": "stream",
     "text": [
      "              112.00$\n",
      "                0.99$\n",
      "               19.21$\n"
     ]
    }
   ],
   "source": [
    "print(\"{0: >20.2f}$\".format(112))\n",
    "print(\"{0: >20.2f}$\".format(0.99))\n",
    "print(\"{0: >20.2f}$\".format((112 + 0.99) *0.17))"
   ]
  },
  {
   "cell_type": "code",
   "execution_count": 6,
   "metadata": {},
   "outputs": [
    {
     "name": "stdout",
     "output_type": "stream",
     "text": [
      "\n",
      "              112.00$                 0.99$\n",
      "              119.21$\n",
      "              112.00$\n",
      "\n"
     ]
    }
   ],
   "source": [
    "print(\"\"\"\n",
    "{0: >20.2f}$ \n",
    "{1: >20.2f}$\n",
    "{2: >20.2f}$\n",
    "{0: >20.2f}$\n",
    "\"\"\".format(112, 0.99, 119.21))\n"
   ]
  },
  {
   "cell_type": "code",
   "execution_count": null,
   "metadata": {},
   "outputs": [],
   "source": []
  }
 ],
 "metadata": {
  "kernelspec": {
   "display_name": "Python 3",
   "language": "python",
   "name": "python3"
  },
  "language_info": {
   "codemirror_mode": {
    "name": "ipython",
    "version": 3
   },
   "file_extension": ".py",
   "mimetype": "text/x-python",
   "name": "python",
   "nbconvert_exporter": "python",
   "pygments_lexer": "ipython3",
   "version": "3.6.5"
  }
 },
 "nbformat": 4,
 "nbformat_minor": 2
}
