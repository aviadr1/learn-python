{
 "cells": [
  {
   "cell_type": "markdown",
   "metadata": {},
   "source": [
    "[![Open In Colab](https://colab.research.google.com/assets/colab-badge.svg)](https://colab.research.google.com/github/aviadr1/learn-python/blob/master/live%20class%20demonstrations/lesson%2006%20-%20sub%20python2-to-python3.ipynb)"
   ]
  },
  {
   "cell_type": "code",
   "execution_count": 13,
   "metadata": {},
   "outputs": [
    {
     "name": "stdout",
     "output_type": "stream",
     "text": [
      "\n",
      "print(\"hello\", \"world\")\n",
      "for i in range(10):\n",
      "    print(i)\n",
      "    \n",
      "\n"
     ]
    }
   ],
   "source": [
    "import re\n",
    "\n",
    "body = \"\"\"\n",
    "print       \"hello\", \"world\"\n",
    "for i in range(10):\n",
    "    print i\n",
    "    \n",
    "\"\"\"\n",
    "\n",
    "regex = r\"([ \\t]*)print[ \\t]+(.*)\"\n",
    "replacement = r\"\\1print(\\2)\"\n",
    "\n",
    "result = re.sub(regex, replacement, body)\n",
    "print(result)"
   ]
  },
  {
   "cell_type": "code",
   "execution_count": 3,
   "metadata": {},
   "outputs": [
    {
     "name": "stdout",
     "output_type": "stream",
     "text": [
      "\n",
      "print \"hello\", \"world\"\n",
      "for i in range(10):\n",
      "    print i\n",
      "    \n",
      "\n"
     ]
    }
   ],
   "source": [
    "print(body)"
   ]
  },
  {
   "cell_type": "code",
   "execution_count": null,
   "metadata": {},
   "outputs": [],
   "source": []
  }
 ],
 "metadata": {
  "kernelspec": {
   "display_name": "Python 3",
   "language": "python",
   "name": "python3"
  },
  "language_info": {
   "codemirror_mode": {
    "name": "ipython",
    "version": 3
   },
   "file_extension": ".py",
   "mimetype": "text/x-python",
   "name": "python",
   "nbconvert_exporter": "python",
   "pygments_lexer": "ipython3",
   "version": "3.6.5"
  }
 },
 "nbformat": 4,
 "nbformat_minor": 2
}
