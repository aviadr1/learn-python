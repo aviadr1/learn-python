{
 "cells": [
  {
   "cell_type": "markdown",
   "metadata": {},
   "source": [
    "[![Open In Colab](https://colab.research.google.com/assets/colab-badge.svg)](https://colab.research.google.com/github/aviadr1/learn-python/blob/master/live%20class%20demonstrations/lesson%2009%20-%20lazy%20lists%20generators.ipynb)"
   ]
  },
  {
   "cell_type": "code",
   "execution_count": 3,
   "metadata": {},
   "outputs": [],
   "source": [
    "nums = [4, 9, 16, 25, -9, -100, 10000]"
   ]
  },
  {
   "cell_type": "code",
   "execution_count": 7,
   "metadata": {},
   "outputs": [
    {
     "ename": "SyntaxError",
     "evalue": "invalid syntax (<ipython-input-7-00a6234a803b>, line 2)",
     "output_type": "error",
     "traceback": [
      "\u001b[1;36m  File \u001b[1;32m\"<ipython-input-7-00a6234a803b>\"\u001b[1;36m, line \u001b[1;32m2\u001b[0m\n\u001b[1;33m    [math.sqrt(x) for x in nums if x>=0 else None]\u001b[0m\n\u001b[1;37m                                           ^\u001b[0m\n\u001b[1;31mSyntaxError\u001b[0m\u001b[1;31m:\u001b[0m invalid syntax\n"
     ]
    }
   ],
   "source": [
    "import math\n",
    "[math.sqrt(x) for x in nums if x>=0 ]"
   ]
  },
  {
   "cell_type": "code",
   "execution_count": 8,
   "metadata": {},
   "outputs": [
    {
     "data": {
      "text/plain": [
       "[2.0, 3.0, 4.0, 5.0, None, None, 100.0]"
      ]
     },
     "execution_count": 8,
     "metadata": {},
     "output_type": "execute_result"
    }
   ],
   "source": [
    "[ math.sqrt(x)   for x in nums   ]"
   ]
  },
  {
   "cell_type": "code",
   "execution_count": 9,
   "metadata": {},
   "outputs": [
    {
     "data": {
      "text/plain": [
       "10.0"
      ]
     },
     "execution_count": 9,
     "metadata": {},
     "output_type": "execute_result"
    }
   ],
   "source": [
    "x = 100\n"
   ]
  },
  {
   "cell_type": "code",
   "execution_count": 12,
   "metadata": {},
   "outputs": [
    {
     "data": {
      "text/plain": [
       "[3, 2, 1]"
      ]
     },
     "execution_count": 12,
     "metadata": {},
     "output_type": "execute_result"
    }
   ],
   "source": [
    "list(reversed([1,2,3]))"
   ]
  },
  {
   "cell_type": "code",
   "execution_count": 13,
   "metadata": {},
   "outputs": [],
   "source": [
    "f = open(\"green eggs and ham.txt\")"
   ]
  },
  {
   "cell_type": "code",
   "execution_count": 14,
   "metadata": {},
   "outputs": [
    {
     "data": {
      "text/plain": [
       "<_io.TextIOWrapper name='green eggs and ham.txt' mode='r' encoding='cp1255'>"
      ]
     },
     "execution_count": 14,
     "metadata": {},
     "output_type": "execute_result"
    }
   ],
   "source": [
    "f"
   ]
  },
  {
   "cell_type": "code",
   "execution_count": 15,
   "metadata": {},
   "outputs": [
    {
     "data": {
      "text/plain": [
       "['I am Sam\\n',\n",
       " 'I am Sam\\n',\n",
       " 'Sam I am\\n',\n",
       " 'That Sam-I-am\\n',\n",
       " 'That Sam-I-am!\\n',\n",
       " 'I do not like\\n',\n",
       " 'That Sam-I-am\\n',\n",
       " 'Do you like\\n',\n",
       " 'Green eggs and ham\\n',\n",
       " 'I do not like them\\n',\n",
       " 'Sam-I-am\\n',\n",
       " 'I do not like\\n',\n",
       " 'Green eggs and ham\\n',\n",
       " 'Would you like them\\n',\n",
       " 'Here or there?\\n',\n",
       " 'I would not like them\\n',\n",
       " 'Here or there\\n',\n",
       " 'I would not like them\\n',\n",
       " 'Anywhere\\n',\n",
       " 'I do not like\\n',\n",
       " 'Green eggs and ham\\n',\n",
       " 'I do not like them\\n',\n",
       " 'Sam-I-am\\n',\n",
       " 'Would you like them\\n',\n",
       " 'In a house?\\n',\n",
       " 'Would you like them\\n',\n",
       " 'With a mouse?\\n',\n",
       " 'I do not like them\\n',\n",
       " 'In a house']"
      ]
     },
     "execution_count": 15,
     "metadata": {},
     "output_type": "execute_result"
    }
   ],
   "source": [
    "list(f)"
   ]
  },
  {
   "cell_type": "code",
   "execution_count": null,
   "metadata": {},
   "outputs": [],
   "source": []
  }
 ],
 "metadata": {
  "kernelspec": {
   "display_name": "Python 3",
   "language": "python",
   "name": "python3"
  },
  "language_info": {
   "codemirror_mode": {
    "name": "ipython",
    "version": 3
   },
   "file_extension": ".py",
   "mimetype": "text/x-python",
   "name": "python",
   "nbconvert_exporter": "python",
   "pygments_lexer": "ipython3",
   "version": "3.6.5"
  }
 },
 "nbformat": 4,
 "nbformat_minor": 2
}
