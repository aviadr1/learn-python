{
 "cells": [
  {
   "cell_type": "markdown",
   "metadata": {},
   "source": [
    "[![Open In Colab](https://colab.research.google.com/assets/colab-badge.svg)](https://colab.research.google.com/github/aviadr1/learn-python/blob/master/live%20class%20demonstrations/lesson%2007%20-%20files.ipynb)"
   ]
  },
  {
   "cell_type": "code",
   "execution_count": 3,
   "metadata": {},
   "outputs": [],
   "source": [
    "greeneggs = \"\"\"\\\n",
    "Green Eggs And Ham\n",
    "I am Sam\n",
    "I am Sam\n",
    "Sam I am\n",
    "That Sam-I-am\n",
    "That Sam-I-am!\n",
    "I do not like\n",
    "That Sam-I-am\n",
    "Do you like\n",
    "Green eggs and ham\n",
    "I do not like them\n",
    "Sam-I-am\n",
    "I do not like\n",
    "Green eggs and ham\n",
    "Would you like them\n",
    "Here or there?\n",
    "I would not like them\n",
    "Here or there\n",
    "I would not like them\n",
    "Anywhere\n",
    "I do not like\n",
    "Green eggs and ham\n",
    "I do not like them\n",
    "Sam-I-am\n",
    "\"\"\"\n",
    "fout = open(\"green.txt\", \"w\")\n",
    "print(greeneggs, file=fout)\n",
    "fout.close()"
   ]
  },
  {
   "cell_type": "code",
   "execution_count": 4,
   "metadata": {},
   "outputs": [
    {
     "name": "stdout",
     "output_type": "stream",
     "text": [
      "Green Eggs And Ham\n",
      "\n",
      "I am Sam\n",
      "\n",
      "I am Sam\n",
      "\n",
      "Sam I am\n",
      "\n",
      "That Sam-I-am\n",
      "\n",
      "That Sam-I-am!\n",
      "\n",
      "I do not like\n",
      "\n",
      "That Sam-I-am\n",
      "\n",
      "Do you like\n",
      "\n",
      "Green eggs and ham\n",
      "\n",
      "I do not like them\n",
      "\n",
      "Sam-I-am\n",
      "\n",
      "I do not like\n",
      "\n",
      "Green eggs and ham\n",
      "\n",
      "Would you like them\n",
      "\n",
      "Here or there?\n",
      "\n",
      "I would not like them\n",
      "\n",
      "Here or there\n",
      "\n",
      "I would not like them\n",
      "\n",
      "Anywhere\n",
      "\n",
      "I do not like\n",
      "\n",
      "Green eggs and ham\n",
      "\n",
      "I do not like them\n",
      "\n",
      "Sam-I-am\n",
      "\n",
      "\n",
      "\n"
     ]
    }
   ],
   "source": [
    "f = open(\"green.txt\")\n",
    "for line in f:\n",
    "    print(line)"
   ]
  },
  {
   "cell_type": "code",
   "execution_count": 8,
   "metadata": {},
   "outputs": [],
   "source": [
    "csv = \"\"\"\\\n",
    "name, age, money\n",
    "david, 30, 1000\n",
    "moshe, 25, 500\n",
    "lea, 35, 50000\n",
    "tamar, 29, 600\"\"\"\n",
    "fout = open(\"csv.txt\", \"w\")\n",
    "print(csv, file=fout)\n",
    "fout.close()"
   ]
  },
  {
   "cell_type": "code",
   "execution_count": 10,
   "metadata": {},
   "outputs": [
    {
     "name": "stdout",
     "output_type": "stream",
     "text": [
      "name=david,, age=30,, money=1000\n",
      "name=moshe,, age=25,, money=500\n",
      "name=lea,, age=35,, money=50000\n",
      "name=tamar,, age=29,, money=600\n"
     ]
    }
   ],
   "source": [
    "f = open(\"csv.txt\")\n",
    "column1, column2, *others = f.readline().split()\n",
    "for line in f:\n",
    "    name, age, money = line.split()\n",
    "    print(f\"name={name}, age={age}, money={money}\")"
   ]
  },
  {
   "cell_type": "code",
   "execution_count": 11,
   "metadata": {},
   "outputs": [
    {
     "data": {
      "text/plain": [
       "['money']"
      ]
     },
     "execution_count": 11,
     "metadata": {},
     "output_type": "execute_result"
    }
   ],
   "source": [
    "others"
   ]
  },
  {
   "cell_type": "code",
   "execution_count": 12,
   "metadata": {},
   "outputs": [
    {
     "name": "stdout",
     "output_type": "stream",
     "text": [
      "here fout has been closed already\n"
     ]
    }
   ],
   "source": [
    "with open(\"green.txt\", \"w\") as fout:\n",
    "    print(greeneggs, file=fout)\n",
    "    \n",
    "print(\"here fout has been closed already\")"
   ]
  },
  {
   "cell_type": "code",
   "execution_count": 13,
   "metadata": {},
   "outputs": [
    {
     "data": {
      "text/plain": [
       "['_CHUNK_SIZE',\n",
       " '__class__',\n",
       " '__del__',\n",
       " '__delattr__',\n",
       " '__dict__',\n",
       " '__dir__',\n",
       " '__doc__',\n",
       " '__enter__',\n",
       " '__eq__',\n",
       " '__exit__',\n",
       " '__format__',\n",
       " '__ge__',\n",
       " '__getattribute__',\n",
       " '__getstate__',\n",
       " '__gt__',\n",
       " '__hash__',\n",
       " '__init__',\n",
       " '__init_subclass__',\n",
       " '__iter__',\n",
       " '__le__',\n",
       " '__lt__',\n",
       " '__ne__',\n",
       " '__new__',\n",
       " '__next__',\n",
       " '__reduce__',\n",
       " '__reduce_ex__',\n",
       " '__repr__',\n",
       " '__setattr__',\n",
       " '__sizeof__',\n",
       " '__str__',\n",
       " '__subclasshook__',\n",
       " '_checkClosed',\n",
       " '_checkReadable',\n",
       " '_checkSeekable',\n",
       " '_checkWritable',\n",
       " '_finalizing',\n",
       " 'buffer',\n",
       " 'close',\n",
       " 'closed',\n",
       " 'detach',\n",
       " 'encoding',\n",
       " 'errors',\n",
       " 'fileno',\n",
       " 'flush',\n",
       " 'isatty',\n",
       " 'line_buffering',\n",
       " 'mode',\n",
       " 'name',\n",
       " 'newlines',\n",
       " 'read',\n",
       " 'readable',\n",
       " 'readline',\n",
       " 'readlines',\n",
       " 'seek',\n",
       " 'seekable',\n",
       " 'tell',\n",
       " 'truncate',\n",
       " 'writable',\n",
       " 'write',\n",
       " 'writelines']"
      ]
     },
     "execution_count": 13,
     "metadata": {},
     "output_type": "execute_result"
    }
   ],
   "source": [
    "dir(fout)"
   ]
  },
  {
   "cell_type": "code",
   "execution_count": 15,
   "metadata": {},
   "outputs": [
    {
     "name": "stderr",
     "output_type": "stream",
     "text": [
      "error\n"
     ]
    }
   ],
   "source": [
    "import sys\n",
    "x = 0\n",
    "if x == 0:\n",
    "    print(\"error\", file=sys.stderr)"
   ]
  },
  {
   "cell_type": "code",
   "execution_count": 27,
   "metadata": {},
   "outputs": [],
   "source": [
    "f = open(\"csv.txt\")\n"
   ]
  },
  {
   "cell_type": "code",
   "execution_count": 30,
   "metadata": {},
   "outputs": [
    {
     "name": "stdout",
     "output_type": "stream",
     "text": [
      "name=e,, age=age,, money=money\n",
      "name=david,, age=30,, money=1000\n",
      "name=moshe,, age=25,, money=500\n",
      "name=lea,, age=35,, money=50000\n",
      "name=tamar,, age=29,, money=600\n"
     ]
    }
   ],
   "source": [
    "#column1, column2, *others = f.readline().split()\n",
    "for line in f:\n",
    "    name, age, money = line.split()\n",
    "    print(f\"name={name}, age={age}, money={money}\")"
   ]
  },
  {
   "cell_type": "code",
   "execution_count": 29,
   "metadata": {},
   "outputs": [
    {
     "data": {
      "text/plain": [
       "3"
      ]
     },
     "execution_count": 29,
     "metadata": {},
     "output_type": "execute_result"
    }
   ],
   "source": [
    "f.seek(3)"
   ]
  },
  {
   "cell_type": "code",
   "execution_count": 35,
   "metadata": {},
   "outputs": [],
   "source": [
    "data = {\n",
    "    1: [],\n",
    "    2: [ {1: [\"one\"]}],\n",
    "    3: \"blah\",\n",
    "    4: [[[],[],[123]]]\n",
    "     \n",
    "}"
   ]
  },
  {
   "cell_type": "code",
   "execution_count": 43,
   "metadata": {},
   "outputs": [],
   "source": [
    "fout = open(\"data.json.txt\", \"w\")\n",
    "import json\n",
    "json.dump(data, fout, indent=1)\n",
    "fout.close()"
   ]
  },
  {
   "cell_type": "code",
   "execution_count": 37,
   "metadata": {},
   "outputs": [],
   "source": [
    "fin = open(\"data.json.txt\")\n",
    "dataout = json.load(fin)\n"
   ]
  },
  {
   "cell_type": "code",
   "execution_count": 38,
   "metadata": {},
   "outputs": [
    {
     "data": {
      "text/plain": [
       "{'1': [], '2': [{'1': ['one']}], '3': 'blah', '4': [[[], [], [123456]]]}"
      ]
     },
     "execution_count": 38,
     "metadata": {},
     "output_type": "execute_result"
    }
   ],
   "source": [
    "dataout"
   ]
  },
  {
   "cell_type": "code",
   "execution_count": 39,
   "metadata": {},
   "outputs": [
    {
     "data": {
      "text/plain": [
       "{'1': [], '2': [{'1': ['one']}], '3': 'blah', '4': [[[], [], [123456]]]}"
      ]
     },
     "execution_count": 39,
     "metadata": {},
     "output_type": "execute_result"
    }
   ],
   "source": [
    "{\"1\": [], \"2\": [{\"1\": [\"one\"]}], \"3\": \"blah\", \"4\": [[[], [], [123456]]]}"
   ]
  },
  {
   "cell_type": "code",
   "execution_count": 41,
   "metadata": {},
   "outputs": [
    {
     "data": {
      "text/plain": [
       "True"
      ]
     },
     "execution_count": 41,
     "metadata": {},
     "output_type": "execute_result"
    }
   ],
   "source": [
    "dataout == {\"1\": [], \"2\": [{\"1\": [\"one\"]}], \"3\": \"blah\", \"4\": [[[], [], [123456]]]}"
   ]
  },
  {
   "cell_type": "code",
   "execution_count": 42,
   "metadata": {},
   "outputs": [
    {
     "name": "stdout",
     "output_type": "stream",
     "text": [
      "Help on function dump in module json:\n",
      "\n",
      "dump(obj, fp, *, skipkeys=False, ensure_ascii=True, check_circular=True, allow_nan=True, cls=None, indent=None, separators=None, default=None, sort_keys=False, **kw)\n",
      "    Serialize ``obj`` as a JSON formatted stream to ``fp`` (a\n",
      "    ``.write()``-supporting file-like object).\n",
      "    \n",
      "    If ``skipkeys`` is true then ``dict`` keys that are not basic types\n",
      "    (``str``, ``int``, ``float``, ``bool``, ``None``) will be skipped\n",
      "    instead of raising a ``TypeError``.\n",
      "    \n",
      "    If ``ensure_ascii`` is false, then the strings written to ``fp`` can\n",
      "    contain non-ASCII characters if they appear in strings contained in\n",
      "    ``obj``. Otherwise, all such characters are escaped in JSON strings.\n",
      "    \n",
      "    If ``check_circular`` is false, then the circular reference check\n",
      "    for container types will be skipped and a circular reference will\n",
      "    result in an ``OverflowError`` (or worse).\n",
      "    \n",
      "    If ``allow_nan`` is false, then it will be a ``ValueError`` to\n",
      "    serialize out of range ``float`` values (``nan``, ``inf``, ``-inf``)\n",
      "    in strict compliance of the JSON specification, instead of using the\n",
      "    JavaScript equivalents (``NaN``, ``Infinity``, ``-Infinity``).\n",
      "    \n",
      "    If ``indent`` is a non-negative integer, then JSON array elements and\n",
      "    object members will be pretty-printed with that indent level. An indent\n",
      "    level of 0 will only insert newlines. ``None`` is the most compact\n",
      "    representation.\n",
      "    \n",
      "    If specified, ``separators`` should be an ``(item_separator, key_separator)``\n",
      "    tuple.  The default is ``(', ', ': ')`` if *indent* is ``None`` and\n",
      "    ``(',', ': ')`` otherwise.  To get the most compact JSON representation,\n",
      "    you should specify ``(',', ':')`` to eliminate whitespace.\n",
      "    \n",
      "    ``default(obj)`` is a function that should return a serializable version\n",
      "    of obj or raise TypeError. The default simply raises TypeError.\n",
      "    \n",
      "    If *sort_keys* is true (default: ``False``), then the output of\n",
      "    dictionaries will be sorted by key.\n",
      "    \n",
      "    To use a custom ``JSONEncoder`` subclass (e.g. one that overrides the\n",
      "    ``.default()`` method to serialize additional types), specify it with\n",
      "    the ``cls`` kwarg; otherwise ``JSONEncoder`` is used.\n",
      "\n"
     ]
    }
   ],
   "source": [
    "help(json.dump)"
   ]
  },
  {
   "cell_type": "code",
   "execution_count": null,
   "metadata": {},
   "outputs": [],
   "source": []
  }
 ],
 "metadata": {
  "kernelspec": {
   "display_name": "Python 3",
   "language": "python",
   "name": "python3"
  },
  "language_info": {
   "codemirror_mode": {
    "name": "ipython",
    "version": 3
   },
   "file_extension": ".py",
   "mimetype": "text/x-python",
   "name": "python",
   "nbconvert_exporter": "python",
   "pygments_lexer": "ipython3",
   "version": "3.6.5"
  }
 },
 "nbformat": 4,
 "nbformat_minor": 2
}
