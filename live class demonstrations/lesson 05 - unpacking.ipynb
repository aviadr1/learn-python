{
 "cells": [
  {
   "cell_type": "markdown",
   "metadata": {},
   "source": [
    "[![Open In Colab](https://colab.research.google.com/assets/colab-badge.svg)](https://colab.research.google.com/github/aviadr1/learn-python/blob/master/live%20class%20demonstrations/lesson%2005%20-%20unpacking.ipynb)"
   ]
  },
  {
   "cell_type": "code",
   "execution_count": 1,
   "metadata": {},
   "outputs": [],
   "source": [
    "cheeses = [\"adam\", \"bree\", \"cheDDar\", \"GOUDA\", \"camambert\"]\n",
    "# change the names to Title case"
   ]
  },
  {
   "cell_type": "code",
   "execution_count": 2,
   "metadata": {},
   "outputs": [
    {
     "name": "stdout",
     "output_type": "stream",
     "text": [
      "['Adam', 'Bree', 'Cheddar', 'Gouda', 'Camambert']\n"
     ]
    }
   ],
   "source": [
    "for i in range(len(cheeses)):\n",
    "    cheeses[i] = cheeses[i].title()\n",
    "\n",
    "print(cheeses)"
   ]
  },
  {
   "cell_type": "code",
   "execution_count": 6,
   "metadata": {},
   "outputs": [
    {
     "name": "stdout",
     "output_type": "stream",
     "text": [
      "['Adam', 'Bree', 'Cheddar', 'Gouda', 'Camambert']\n"
     ]
    }
   ],
   "source": [
    "i=0\n",
    "for cheese in cheeses:\n",
    "    cheeses[i]= cheese.title()\n",
    "    i+=1\n",
    "    \n",
    "print(cheeses)"
   ]
  },
  {
   "cell_type": "code",
   "execution_count": 8,
   "metadata": {},
   "outputs": [
    {
     "name": "stdout",
     "output_type": "stream",
     "text": [
      "['Adam', 'Bree', 'Cheddar', 'Gouda', 'Camambert']\n"
     ]
    }
   ],
   "source": [
    "for i, cheese in enumerate(cheeses):\n",
    "    cheeses[i] = cheese.title()\n",
    "    \n",
    "print(cheeses)"
   ]
  },
  {
   "cell_type": "code",
   "execution_count": 9,
   "metadata": {},
   "outputs": [
    {
     "data": {
      "text/plain": [
       "[(0, 'Adam'), (1, 'Bree'), (2, 'Cheddar'), (3, 'Gouda'), (4, 'Camambert')]"
      ]
     },
     "execution_count": 9,
     "metadata": {},
     "output_type": "execute_result"
    }
   ],
   "source": [
    "list(enumerate(cheeses))"
   ]
  },
  {
   "cell_type": "code",
   "execution_count": 10,
   "metadata": {},
   "outputs": [
    {
     "name": "stdout",
     "output_type": "stream",
     "text": [
      "1 2 3\n",
      "1 2 3\n"
     ]
    }
   ],
   "source": [
    "x= [1,2,3]\n",
    "a=x[0]\n",
    "b=x[1]\n",
    "c=x[2]\n",
    "print(a,b,c)\n",
    "\n",
    "# unpacking\n",
    "aa, bb, cc= x\n",
    "print(aa, bb, cc)"
   ]
  },
  {
   "cell_type": "code",
   "execution_count": 11,
   "metadata": {},
   "outputs": [
    {
     "ename": "ValueError",
     "evalue": "too many values to unpack (expected 3)",
     "output_type": "error",
     "traceback": [
      "\u001b[1;31m---------------------------------------------------------------------------\u001b[0m",
      "\u001b[1;31mValueError\u001b[0m                                Traceback (most recent call last)",
      "\u001b[1;32m<ipython-input-11-8b65758a2680>\u001b[0m in \u001b[0;36m<module>\u001b[1;34m\u001b[0m\n\u001b[0;32m      1\u001b[0m \u001b[1;31m# unpacking doesnt work with unbalanced left and right hand sides of '='\u001b[0m\u001b[1;33m\u001b[0m\u001b[1;33m\u001b[0m\u001b[1;33m\u001b[0m\u001b[0m\n\u001b[1;32m----> 2\u001b[1;33m \u001b[0maa\u001b[0m\u001b[1;33m,\u001b[0m \u001b[0mbb\u001b[0m\u001b[1;33m,\u001b[0m \u001b[0mcc\u001b[0m \u001b[1;33m=\u001b[0m \u001b[1;33m[\u001b[0m\u001b[1;36m1\u001b[0m\u001b[1;33m,\u001b[0m\u001b[1;36m2\u001b[0m\u001b[1;33m,\u001b[0m\u001b[1;36m3\u001b[0m\u001b[1;33m,\u001b[0m\u001b[1;36m4\u001b[0m\u001b[1;33m]\u001b[0m\u001b[1;33m\u001b[0m\u001b[1;33m\u001b[0m\u001b[0m\n\u001b[0m",
      "\u001b[1;31mValueError\u001b[0m: too many values to unpack (expected 3)"
     ]
    }
   ],
   "source": [
    "# unpacking doesnt work with unbalanced left and right hand sides of '='\n",
    "aa, bb, cc = [1,2,3,4]"
   ]
  },
  {
   "cell_type": "code",
   "execution_count": 13,
   "metadata": {},
   "outputs": [
    {
     "name": "stdout",
     "output_type": "stream",
     "text": [
      "10 100\n"
     ]
    }
   ],
   "source": [
    "x = 10\n",
    "y = 100\n",
    "\n",
    "# classic swap\n",
    "z = x\n",
    "x = y\n",
    "y = z\n",
    "\n",
    "# swap using unpacking\n",
    "x,y = [y,x] # list\n",
    "x,y = (y,x) # tuple\n",
    "x,y =  y,x  # tuple\n",
    "print(x,y)"
   ]
  },
  {
   "cell_type": "code",
   "execution_count": 14,
   "metadata": {},
   "outputs": [
    {
     "data": {
      "text/plain": [
       "20"
      ]
     },
     "execution_count": 14,
     "metadata": {},
     "output_type": "execute_result"
    }
   ],
   "source": [
    "(2+3)*4"
   ]
  },
  {
   "cell_type": "code",
   "execution_count": 17,
   "metadata": {},
   "outputs": [
    {
     "name": "stdout",
     "output_type": "stream",
     "text": [
      "(10, 20, 30)\n",
      "(10, 20)\n",
      "(10,)\n",
      "(10,)\n"
     ]
    }
   ],
   "source": [
    "print( (10, 20, 30) )\n",
    "print( (10, 20) )\n",
    "print( (10, ) )\n",
    "x= 10,  \n",
    "print(x)"
   ]
  },
  {
   "cell_type": "code",
   "execution_count": 29,
   "metadata": {},
   "outputs": [
    {
     "name": "stdout",
     "output_type": "stream",
     "text": [
      "['name, family, age, country', 'moshe, cohen, 20, israel', 'david, lev, 30, france']\n",
      "name, family, age, country\n",
      "['moshe, cohen, 20, israel', 'david, lev, 30, france']\n",
      "['moshe,', 'cohen,', '20,', 'israel']\n",
      "moshe, israel ['cohen,', '20,']\n"
     ]
    }
   ],
   "source": [
    "csv = \"\"\"\\\n",
    "name, family, age, country\n",
    "moshe, cohen, 20, israel\n",
    "david, lev, 30, france\n",
    "\"\"\"\n",
    "lines= csv.splitlines()\n",
    "print(lines)\n",
    "header, *content = lines\n",
    "#header, content= lines[0], lines[1:]\n",
    "print(header)\n",
    "print(content)\n",
    "mosheline = content[0].split()\n",
    "print(mosheline)\n",
    "name, *eveything, country = mosheline\n",
    "print(name, country, eveything)"
   ]
  },
  {
   "cell_type": "code",
   "execution_count": null,
   "metadata": {},
   "outputs": [],
   "source": [
    "\n"
   ]
  },
  {
   "cell_type": "code",
   "execution_count": null,
   "metadata": {},
   "outputs": [],
   "source": []
  }
 ],
 "metadata": {
  "kernelspec": {
   "display_name": "Python 3",
   "language": "python",
   "name": "python3"
  },
  "language_info": {
   "codemirror_mode": {
    "name": "ipython",
    "version": 3
   },
   "file_extension": ".py",
   "mimetype": "text/x-python",
   "name": "python",
   "nbconvert_exporter": "python",
   "pygments_lexer": "ipython3",
   "version": "3.7.3"
  }
 },
 "nbformat": 4,
 "nbformat_minor": 2
}
