{
 "cells": [
  {
   "cell_type": "markdown",
   "metadata": {},
   "source": [
    "[![Open In Colab](https://colab.research.google.com/assets/colab-badge.svg)](https://colab.research.google.com/github/aviadr1/learn-python/blob/master/live%20class%20demonstrations/lesson%2009%20-%20coroutines.ipynb)"
   ]
  },
  {
   "cell_type": "code",
   "execution_count": null,
   "metadata": {},
   "outputs": [],
   "source": [
    "f = open('dir.txt')\n",
    "while not f.eof():\n",
    "    line = f.readline()\n",
    "    "
   ]
  },
  {
   "cell_type": "code",
   "execution_count": null,
   "metadata": {},
   "outputs": [],
   "source": [
    "for line in f.readlines():\n",
    "    "
   ]
  },
  {
   "cell_type": "code",
   "execution_count": 1,
   "metadata": {},
   "outputs": [],
   "source": [
    "def line_reader(f):\n",
    "    while not f.eof():\n",
    "        line = f.readline()\n",
    "        yield line\n"
   ]
  },
  {
   "cell_type": "code",
   "execution_count": null,
   "metadata": {},
   "outputs": [],
   "source": [
    "for line in line_reader(f):\n",
    "    "
   ]
  },
  {
   "cell_type": "code",
   "execution_count": 5,
   "metadata": {},
   "outputs": [],
   "source": [
    "def get_password():\n",
    "    while True:\n",
    "        p = input('give password')\n",
    "        if len(p) <4:\n",
    "            yield (False, 'Too short', p)\n",
    "        elif p.islower():\n",
    "            yield (False, 'need upper', p)\n",
    "        else:\n",
    "            break\n",
    "    yield (True, ' ', p)\n",
    "    \n",
    "            "
   ]
  },
  {
   "cell_type": "code",
   "execution_count": 6,
   "metadata": {},
   "outputs": [
    {
     "name": "stdout",
     "output_type": "stream",
     "text": [
      "give password1\n",
      "1 is not a good password because Too short\n",
      "give password2\n",
      "2 is not a good password because Too short\n",
      "give password3\n",
      "3 is not a good password because Too short\n",
      "give password4\n",
      "4 is not a good password because Too short\n",
      "give password234\n",
      "234 is not a good password because Too short\n",
      "give passwordblahBLAH\n",
      "hurray\n"
     ]
    }
   ],
   "source": [
    "for newpass in get_password():\n",
    "    if not newpass[0]:\n",
    "        print(newpass[2], 'is not a good password because', newpass[1])\n",
    "    else:\n",
    "        print('hurray')\n",
    "        break"
   ]
  },
  {
   "cell_type": "code",
   "execution_count": null,
   "metadata": {},
   "outputs": [],
   "source": []
  }
 ],
 "metadata": {
  "kernelspec": {
   "display_name": "Python 3",
   "language": "python",
   "name": "python3"
  },
  "language_info": {
   "codemirror_mode": {
    "name": "ipython",
    "version": 3
   },
   "file_extension": ".py",
   "mimetype": "text/x-python",
   "name": "python",
   "nbconvert_exporter": "python",
   "pygments_lexer": "ipython3",
   "version": "3.6.5"
  }
 },
 "nbformat": 4,
 "nbformat_minor": 2
}
