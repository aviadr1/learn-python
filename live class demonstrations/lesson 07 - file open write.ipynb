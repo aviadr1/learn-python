{
 "cells": [
  {
   "cell_type": "markdown",
   "metadata": {},
   "source": [
    "[![Open In Colab](https://colab.research.google.com/assets/colab-badge.svg)](https://colab.research.google.com/github/aviadr1/learn-python/blob/master/live%20class%20demonstrations/lesson%2007%20-%20file%20open%20write.ipynb)"
   ]
  },
  {
   "cell_type": "code",
   "execution_count": 1,
   "metadata": {},
   "outputs": [],
   "source": [
    "f= open(\"myfile.txt\", \"w\")\n",
    "print(\"hello\", file=f)"
   ]
  },
  {
   "cell_type": "code",
   "execution_count": 2,
   "metadata": {},
   "outputs": [],
   "source": [
    "f.close()"
   ]
  },
  {
   "cell_type": "code",
   "execution_count": 6,
   "metadata": {},
   "outputs": [],
   "source": [
    "f=open(\"myfile.txt\")\n",
    "lines = f.readlines()\n",
    "print(lines)\n",
    "f.close()"
   ]
  },
  {
   "cell_type": "code",
   "execution_count": 10,
   "metadata": {},
   "outputs": [
    {
     "name": "stdout",
     "output_type": "stream",
     "text": [
      "I am Daniel\n",
      "\n",
      "I am Sam\n",
      "Sam I am\n",
      "\n",
      "That Sam-I-am\n",
      "That Sam-I-am!\n",
      "I do not like\n",
      "That Sam-I-am\n",
      "\n",
      "Do you like\n",
      "Green eggs and ham\n",
      "\n",
      "I do not like them,\n",
      "Sam-I-am.\n",
      "I do not like\n",
      "Green eggs and ham.\n",
      "\n",
      "Would you like them\n",
      "Here or there?\n",
      "\n",
      "I would not like them\n",
      "Here or there.\n",
      "I would not like them\n",
      "Anywhere.\n",
      "I do not like\n",
      "Green eggs and ham.\n",
      "I do not like them,\n",
      "Sam-I-am\n",
      "\n",
      "Would you like them\n",
      "In a house?\n",
      "Would you like them\n",
      "With a mouse?\n",
      "\n",
      "I do not like them\n",
      "In a house.\n",
      "I do not like them\n",
      "With a mouse.\n",
      "I do not like them\n",
      "Here or there.\n",
      "I do not like them\n",
      "Anywhere.\n",
      "I do not like green eggs and ham.\n",
      "I do not like them, Sam-I-am.\n",
      "\n",
      "Would you eat them\n",
      "In a box?\n",
      "Would you eat them\n",
      "With a fox?\n",
      "\n",
      "Not in a box.\n",
      "Not with a fox.\n",
      "Not in a house.\n",
      "Not with a mouse.\n",
      "I would not eat them here or there.\n",
      "I would not eat them anywhere.\n",
      "I would not eat green eggs and ham.\n",
      "I do not like them, Sam-I-am.\n",
      "\n",
      "Would you? Could you?\n",
      "In a car?\n",
      "Eat them! Eat them!\n",
      "Here they are.\n",
      "\n",
      "I woould not,\n",
      "Could not,\n",
      "In a car\n",
      "\n",
      "You may like them.\n",
      "You will see.\n",
      "You may like them\n",
      "In a tree?\n",
      "\n",
      "I would not, could not in a tree.\n",
      "Not in a car! You let me be.\n",
      "I do not like them in a box.\n",
      "I do not like them with a fox\n",
      "I do not like them in a house\n",
      "I do mot like them with a mouse\n",
      "I do not like them here or there.\n",
      "I do not like them anywhere.\n",
      "I do not like green eggs and ham.\n",
      "I do not like them, Sam-I-am.\n",
      "\n",
      "A train! A train!\n",
      "A train! A train!\n",
      "Could you, would you\n",
      "On a train?\n",
      "\n",
      "Not on a train! Not in a tree!\n",
      "Not in a car! Sam! Let me be!\n",
      "I would not, could not, in a box.\n",
      "I could not, would not, with a fox.\n",
      "I will not eat them with a mouse\n",
      "I will not eat them in a house.\n",
      "I will not eat them here or there.\n",
      "I will not eat them anywhere.\n",
      "I do not like them, Sam-I-am.\n",
      "\n",
      "Say!\n",
      "In the dark?\n",
      "Here in the dark!\n",
      "Would you, could you, in the dark?\n",
      "\n",
      "I would not, could not,\n",
      "In the dark.\n",
      "\n",
      "Would you, could you,\n",
      "In the rain?\n",
      "\n",
      "I would not, could not, in the rain.\n",
      "Not in the dark. Not on a train,\n",
      "Not in a car, Not in a tree.\n",
      "I do not like them, Sam, you see.\n",
      "Not in a house. Not in a box.\n",
      "Not with a mouse. Not with a fox.\n",
      "I will not eat them here or there.\n",
      "I do not like them anywhere!\n",
      "\n",
      "You do not like\n",
      "Green eggs and ham?\n",
      "\n",
      "I do not\n",
      "Like them,\n",
      "Sam-I-am.\n",
      "\n",
      "Could you, would you,\n",
      "With a goat?\n",
      "\n",
      "I would not,\n",
      "Could not.\n",
      "With a goat!\n",
      "\n",
      "Would you, could you,\n",
      "On a boat?"
     ]
    }
   ],
   "source": [
    "f=open(\"myfile.txt\")\n",
    "for line in f:\n",
    "    print(line, end=\"\")\n",
    "f.close()"
   ]
  },
  {
   "cell_type": "code",
   "execution_count": null,
   "metadata": {},
   "outputs": [],
   "source": []
  },
  {
   "cell_type": "code",
   "execution_count": 9,
   "metadata": {},
   "outputs": [
    {
     "name": "stdout",
     "output_type": "stream",
     "text": [
      "0 : I am Daniel\n",
      "1 : \n",
      "2 : I am Sam\n",
      "3 : Sam I am\n",
      "4 : \n",
      "5 : That Sam-I-am\n",
      "6 : That Sam-I-am!\n",
      "7 : I do not like\n",
      "8 : That Sam-I-am\n",
      "9 : \n",
      "10 : Do you like\n",
      "11 : Green eggs and ham\n",
      "12 : \n",
      "13 : I do not like them,\n",
      "14 : Sam-I-am.\n",
      "15 : I do not like\n",
      "16 : Green eggs and ham.\n",
      "17 : \n",
      "18 : Would you like them\n",
      "19 : Here or there?\n",
      "20 : \n",
      "21 : I would not like them\n",
      "22 : Here or there.\n",
      "23 : I would not like them\n",
      "24 : Anywhere.\n",
      "25 : I do not like\n",
      "26 : Green eggs and ham.\n",
      "27 : I do not like them,\n",
      "28 : Sam-I-am\n",
      "29 : \n",
      "30 : Would you like them\n",
      "31 : In a house?\n",
      "32 : Would you like them\n",
      "33 : With a mouse?\n",
      "34 : \n",
      "35 : I do not like them\n",
      "36 : In a house.\n",
      "37 : I do not like them\n",
      "38 : With a mouse.\n",
      "39 : I do not like them\n",
      "40 : Here or there.\n",
      "41 : I do not like them\n",
      "42 : Anywhere.\n",
      "43 : I do not like green eggs and ham.\n",
      "44 : I do not like them, Sam-I-am.\n",
      "45 : \n",
      "46 : Would you eat them\n",
      "47 : In a box?\n",
      "48 : Would you eat them\n",
      "49 : With a fox?\n",
      "50 : \n",
      "51 : Not in a box.\n",
      "52 : Not with a fox.\n",
      "53 : Not in a house.\n",
      "54 : Not with a mouse.\n",
      "55 : I would not eat them here or there.\n",
      "56 : I would not eat them anywhere.\n",
      "57 : I would not eat green eggs and ham.\n",
      "58 : I do not like them, Sam-I-am.\n",
      "59 : \n",
      "60 : Would you? Could you?\n",
      "61 : In a car?\n",
      "62 : Eat them! Eat them!\n",
      "63 : Here they are.\n",
      "64 : \n",
      "65 : I woould not,\n",
      "66 : Could not,\n",
      "67 : In a car\n",
      "68 : \n",
      "69 : You may like them.\n",
      "70 : You will see.\n",
      "71 : You may like them\n",
      "72 : In a tree?\n",
      "73 : \n",
      "74 : I would not, could not in a tree.\n",
      "75 : Not in a car! You let me be.\n",
      "76 : I do not like them in a box.\n",
      "77 : I do not like them with a fox\n",
      "78 : I do not like them in a house\n",
      "79 : I do mot like them with a mouse\n",
      "80 : I do not like them here or there.\n",
      "81 : I do not like them anywhere.\n",
      "82 : I do not like green eggs and ham.\n",
      "83 : I do not like them, Sam-I-am.\n",
      "84 : \n",
      "85 : A train! A train!\n",
      "86 : A train! A train!\n",
      "87 : Could you, would you\n",
      "88 : On a train?\n",
      "89 : \n",
      "90 : Not on a train! Not in a tree!\n",
      "91 : Not in a car! Sam! Let me be!\n",
      "92 : I would not, could not, in a box.\n",
      "93 : I could not, would not, with a fox.\n",
      "94 : I will not eat them with a mouse\n",
      "95 : I will not eat them in a house.\n",
      "96 : I will not eat them here or there.\n",
      "97 : I will not eat them anywhere.\n",
      "98 : I do not like them, Sam-I-am.\n",
      "99 : \n",
      "100 : Say!\n",
      "101 : In the dark?\n",
      "102 : Here in the dark!\n",
      "103 : Would you, could you, in the dark?\n",
      "104 : \n",
      "105 : I would not, could not,\n",
      "106 : In the dark.\n",
      "107 : \n",
      "108 : Would you, could you,\n",
      "109 : In the rain?\n",
      "110 : \n",
      "111 : I would not, could not, in the rain.\n",
      "112 : Not in the dark. Not on a train,\n",
      "113 : Not in a car, Not in a tree.\n",
      "114 : I do not like them, Sam, you see.\n",
      "115 : Not in a house. Not in a box.\n",
      "116 : Not with a mouse. Not with a fox.\n",
      "117 : I will not eat them here or there.\n",
      "118 : I do not like them anywhere!\n",
      "119 : \n",
      "120 : You do not like\n",
      "121 : Green eggs and ham?\n",
      "122 : \n",
      "123 : I do not\n",
      "124 : Like them,\n",
      "125 : Sam-I-am.\n",
      "126 : \n",
      "127 : Could you, would you,\n",
      "128 : With a goat?\n",
      "129 : \n",
      "130 : I would not,\n",
      "131 : Could not.\n",
      "132 : With a goat!\n",
      "133 : \n",
      "134 : Would you, could you,\n",
      "135 : On a boat?"
     ]
    }
   ],
   "source": [
    "f=open(\"myfile.txt\")\n",
    "for linenumber, line in enumerate(f):\n",
    "    print(linenumber, \":\", line, end=\"\")\n",
    "    "
   ]
  },
  {
   "cell_type": "code",
   "execution_count": 13,
   "metadata": {},
   "outputs": [],
   "source": [
    "with open(\"output.txt\", \"w\") as f:\n",
    "    print(\"hello\", file=f)\n",
    "    #f.write(\"hello\\n\")\n",
    "\n"
   ]
  },
  {
   "cell_type": "code",
   "execution_count": 16,
   "metadata": {},
   "outputs": [
    {
     "name": "stdout",
     "output_type": "stream",
     "text": [
      "hello\n",
      "world\n"
     ]
    }
   ],
   "source": [
    "import sys\n",
    "print('hello')\n",
    "print('world', file=sys.stdout)"
   ]
  },
  {
   "cell_type": "code",
   "execution_count": 17,
   "metadata": {},
   "outputs": [
    {
     "name": "stderr",
     "output_type": "stream",
     "text": [
      "sorry, stuff failed\n"
     ]
    }
   ],
   "source": [
    "print('sorry, stuff failed', file=sys.stderr)"
   ]
  },
  {
   "cell_type": "code",
   "execution_count": 18,
   "metadata": {},
   "outputs": [
    {
     "data": {
      "text/plain": [
       "<_io.TextIOWrapper name='<stdin>' mode='r' encoding='cp1252'>"
      ]
     },
     "execution_count": 18,
     "metadata": {},
     "output_type": "execute_result"
    }
   ],
   "source": [
    "sys.stdin\n"
   ]
  },
  {
   "cell_type": "code",
   "execution_count": 22,
   "metadata": {},
   "outputs": [
    {
     "name": "stdout",
     "output_type": "stream",
     "text": [
      "1 ['hello.py will read from this file\\n']\n",
      "2 []\n",
      "3 ['hello.py will read from this file\\n']\n"
     ]
    }
   ],
   "source": [
    "f = open(\"input.txt\")\n",
    "print(1, f.readlines())\n",
    "print(2, f.readlines())\n",
    "f.seek(0)\n",
    "print(3, f.readlines())\n",
    "\n"
   ]
  },
  {
   "cell_type": "code",
   "execution_count": null,
   "metadata": {},
   "outputs": [],
   "source": []
  }
 ],
 "metadata": {
  "kernelspec": {
   "display_name": "Python 3",
   "language": "python",
   "name": "python3"
  },
  "language_info": {
   "codemirror_mode": {
    "name": "ipython",
    "version": 3
   },
   "file_extension": ".py",
   "mimetype": "text/x-python",
   "name": "python",
   "nbconvert_exporter": "python",
   "pygments_lexer": "ipython3",
   "version": "3.7.3"
  }
 },
 "nbformat": 4,
 "nbformat_minor": 2
}
