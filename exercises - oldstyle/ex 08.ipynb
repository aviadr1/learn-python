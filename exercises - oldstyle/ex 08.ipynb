{
 "cells": [
  {
   "cell_type": "code",
   "execution_count": null,
   "metadata": {},
   "outputs": [],
   "source": [
    "\"\"\"\n",
    "1) create a function named 'multiply_by_10' that \n",
    "   - receives one parameter x\n",
    "   - returns x multiplied by 10\n",
    "   \n",
    "2) we're going to print triangles that look like this:\n",
    "   *\n",
    "   **\n",
    "   ***\n",
    "   ****\n",
    "   using functions\n",
    "   \n",
    "   create a function called 'print_asterics' that \n",
    "   - receives one parameter called n\n",
    "   - prints to screen one line with n asterics\n",
    "   >>> print_asterics(4)\n",
    "   ****\n",
    "   >>> print_asterics(8)\n",
    "   ********\n",
    "   \n",
    "   use this function and a for loop to print a triangle\n",
    "   having 10 lines\n",
    "   \n",
    "3) create a new function called 'print_char' that works \n",
    "   similarly to print_asterics, \n",
    "   - except it receives the character to print as an \n",
    "     additional parameter called 'c'\n",
    "   - the param c should have a default value of '*'\n",
    "   >>> print_char(4)\n",
    "   ****\n",
    "   >>> print_char(8, '@')\n",
    "   @@@@@@@@ \n",
    "   \n",
    "   use this function to create this triangle with a loop\n",
    "   \n",
    "   @\n",
    "   @@\n",
    "   @@@\n",
    "   @@@@\n",
    "   \n",
    "4) create a function print_trian to print triangles like in #3 \n",
    "   it should receive two parameters\n",
    "   - n determines how many lines the triangle would have\n",
    "   - c determines the character to use, with '*' as default\n",
    "   >>> print_trian(5, '$')\n",
    "   $\n",
    "   $$\n",
    "   $$$\n",
    "   $$$$\n",
    "   $$$$$\n",
    "    \n",
    "   - hint: this function should use print_char internally\n",
    "\n",
    "4b) create a new function called get_trian, that is very similar to\n",
    "    print_trian from #4, but instead of printing the triangle\n",
    "    it returns the triangle as a string\n",
    "    \n",
    "   >>> x = get_trian(5, '$')\n",
    "   >>> print(x)\n",
    "   $\n",
    "   $$\n",
    "   $$$\n",
    "   $$$$\n",
    "   $$$$$\n",
    "\n",
    "5) create a function called maxitem \n",
    "   that finds and returns the maximum item in a list\n",
    "   >>> maxitem([1,2,3,4,3,1])\n",
    "   4\n",
    "   \n",
    "6**) create a function called 'sort_lists' that can sort a list of lists.\n",
    "     [find hints on how to do it below.]\n",
    "     \n",
    "     it will work in the following way:\n",
    "     - we will sort lists according to which one has the maxmium item\n",
    "       (like in #5)\n",
    "     - example:\n",
    "     >>> sort_lists(\n",
    "         [1,2,3],\n",
    "         [2,3,4],\n",
    "         [1,1,1],\n",
    "         [2]\n",
    "         )\n",
    "     [\n",
    "      [1,1,1],\n",
    "      [2],\n",
    "      [1,2,3],\n",
    "      [2,3,4\n",
    "     ]\n",
    "     \n",
    "     - hint: use the function maxitem from #5 \n",
    "       and the existing function 'sorted'\n",
    "       \n",
    "7**) create a function called make_add_x() \n",
    "     that receives one parameter x\n",
    "     and returns an inner *function* ...\n",
    "     this inner function will receive one parameter y\n",
    "     and return x+y\n",
    "     \n",
    "     >>> add7 = make_add_x(7)\n",
    "     >>> add7(3)\n",
    "     10\n",
    "     >>> add7(5)\n",
    "     12\n",
    "     >>> add10 = make_add_x(10)\n",
    "     >>> add10(100)\n",
    "     110\n",
    "     \n",
    "8*) create a function called myprint that has similar properties to the built-in print() function:\n",
    "    - it is variadic: it can support 0,1,2,3 or more parameters (unlimited number)\n",
    "    - it supports the file, sep and end arguments\n",
    "    \n",
    "    it differrs from print by prefering the character @\n",
    "    >>> myprint(1, 2, 3)\n",
    "    1 @ 2 @ 3 @\n",
    "    >>> myprint( [1, 2, 3], [4, 5, 6] )\n",
    "    [1, 2, 3] @ [4, 5, 6] @\n",
    "    \n",
    "    >>> myprint(1, 2, 3, file=sys.stdout, sep=' ', end='\\n')\n",
    "    1 2 3\n",
    "\n",
    "9***) create a function called make_debuggable(func) that:\n",
    "       - receives one paramter called func\n",
    "       - returns a new function that does the same thing as func, \n",
    "         and can accept any argument that func accepts\n",
    "       - but in addition the returned function also helps debugging by \n",
    "         printing out the parameters it received, and the return value it is about to return\n",
    "     \n",
    "     hints:\n",
    "       use a nested function that accepts variadic positional and keyword arguments\n",
    "\n",
    "\"\"\""
   ]
  },
  {
   "cell_type": "code",
   "execution_count": 2,
   "metadata": {},
   "outputs": [
    {
     "data": {
      "text/plain": [
       "30"
      ]
     },
     "execution_count": 2,
     "metadata": {},
     "output_type": "execute_result"
    }
   ],
   "source": [
    "\"\"\"\n",
    "1) create a function named 'multiply_by_10' that \n",
    "   - receives one parameter x\n",
    "   - returns x multiplied by 10\n",
    "\"\"\"\n",
    "\n",
    "def multiply_by_10(x):\n",
    "    return x*10\n",
    "\n",
    "multiply_by_10(3)"
   ]
  },
  {
   "cell_type": "code",
   "execution_count": 4,
   "metadata": {},
   "outputs": [
    {
     "name": "stdout",
     "output_type": "stream",
     "text": [
      "*\n",
      "**\n",
      "***\n",
      "****\n",
      "*****\n",
      "******\n",
      "*******\n",
      "********\n",
      "*********\n",
      "**********\n"
     ]
    }
   ],
   "source": [
    "\"\"\"\n",
    "2) we're going to print triangles that look like this:\n",
    "   *\n",
    "   **\n",
    "   ***\n",
    "   ****\n",
    "   using functions\n",
    "   \n",
    "   create a function called 'print_asterics' that \n",
    "   - receives one parameter called n\n",
    "   - prints to screen one line with n asterics\n",
    "   >>> print_asterics(4)\n",
    "   ****\n",
    "   >>> print_asterics(8)\n",
    "   ********\n",
    "   \n",
    "   use this function and a for loop to print a triangle\n",
    "   having 10 lines\n",
    "\"\"\"\n",
    "\n",
    "def print_asterics(n):\n",
    "    line = '*' * n\n",
    "    print(line)\n",
    "    \n",
    "for i in range(10):\n",
    "    print_asterics(i+1)\n"
   ]
  },
  {
   "cell_type": "code",
   "execution_count": 5,
   "metadata": {},
   "outputs": [
    {
     "name": "stdout",
     "output_type": "stream",
     "text": [
      "@\n",
      "@@\n",
      "@@@\n",
      "@@@@\n",
      "@@@@@\n"
     ]
    }
   ],
   "source": [
    "\"\"\"3) create a new function called 'print_char' that works \n",
    "   similarly to print_asterics, \n",
    "   - except it receives the character to print as an \n",
    "     additional parameter called 'c'\n",
    "   - the param c should have a default value of '*'\n",
    "   >>> print_char(4)\n",
    "   ****\n",
    "   >>> print_char(8, '@')\n",
    "   @@@@@@@@ \n",
    "   \n",
    "   use this function to create this triangle with a loop\n",
    "   \n",
    "   @\n",
    "   @@\n",
    "   @@@\n",
    "   @@@@\n",
    "\"\"\"\n",
    "\n",
    "def print_char(n, c='*'):\n",
    "    line = c * n\n",
    "    print(line)\n",
    "    \n",
    "for i in range(5):\n",
    "    print_char(i+1, '@')"
   ]
  },
  {
   "cell_type": "code",
   "execution_count": 6,
   "metadata": {},
   "outputs": [
    {
     "name": "stdout",
     "output_type": "stream",
     "text": [
      "$\n",
      "$$\n",
      "$$$\n",
      "$$$$\n",
      "$$$$$\n"
     ]
    }
   ],
   "source": [
    "\"\"\"\n",
    "4) create a function print_trian to print triangles like in #3 \n",
    "   it should receive two parameters\n",
    "   - n determines how many lines the triangle would have\n",
    "   - c determines the character to use, with '*' as default\n",
    "   >>> print_trian(5, '$')\n",
    "   $\n",
    "   $$\n",
    "   $$$\n",
    "   $$$$\n",
    "   $$$$$\n",
    "    \n",
    "   - hint: this function should use print_char internally\n",
    "\n",
    "\"\"\"\n",
    "def print_trian(n, c='*'):\n",
    "    for i in range(n):\n",
    "        print_char(i+1, c)\n",
    "        \n",
    "print_trian(5, '$')\n",
    "    "
   ]
  },
  {
   "cell_type": "code",
   "execution_count": 9,
   "metadata": {},
   "outputs": [
    {
     "name": "stdout",
     "output_type": "stream",
     "text": [
      "@\n",
      "@@\n",
      "@@@\n",
      "@@@@\n",
      "@@@@@\n"
     ]
    }
   ],
   "source": [
    "\"\"\"\n",
    "4b) create a new function called get_trian, that is very similar to\n",
    "    print_trian from #4, but instead of printing the triangle\n",
    "    it returns the triangle as a string\n",
    "    \n",
    "   >>> x = get_trian(5, '$')\n",
    "   >>> print(x)\n",
    "   $\n",
    "   $$\n",
    "   $$$\n",
    "   $$$$\n",
    "   $$$$$\n",
    "\"\"\"\n",
    "\n",
    "def get_trian(n, c='*'):\n",
    "    result = []\n",
    "    for i in range(n):\n",
    "        line = c * (i+1)\n",
    "        result.append(line)\n",
    "    \n",
    "    return \"\\n\".join(result)\n",
    "\n",
    "x = get_trian(5, '@')\n",
    "print(x)"
   ]
  },
  {
   "cell_type": "code",
   "execution_count": 10,
   "metadata": {},
   "outputs": [
    {
     "data": {
      "text/plain": [
       "4"
      ]
     },
     "execution_count": 10,
     "metadata": {},
     "output_type": "execute_result"
    }
   ],
   "source": [
    "\"\"\"\n",
    "5) create a function called maxitem \n",
    "   that finds and returns the maximum item in a list\n",
    "   >>> maxitem([1,2,3,4,3,1])\n",
    "   4\n",
    "\"\"\"\n",
    "\n",
    "def maxitem(lst):\n",
    "    themax = lst[0]\n",
    "    for x in lst[1:]:\n",
    "        if x > themax:\n",
    "            themax = x\n",
    "    return themax\n",
    "\n",
    "maxitem([1,2,3,4,3,1])"
   ]
  },
  {
   "cell_type": "code",
   "execution_count": 13,
   "metadata": {},
   "outputs": [
    {
     "data": {
      "text/plain": [
       "[[1, 1, 1], [2], [1, 2, 3], [2, 3, 4]]"
      ]
     },
     "execution_count": 13,
     "metadata": {},
     "output_type": "execute_result"
    }
   ],
   "source": [
    "\"\"\"\n",
    "6**) create a function called 'sort_lists' that can sort a list of lists.\n",
    "     [find hints on how to do it below.]\n",
    "     \n",
    "     it will work in the following way:\n",
    "     - we will sort lists according to which one has the maxmium item\n",
    "       (like in #5)\n",
    "     - example:\n",
    "     >>> sort_lists([\n",
    "         [1,2,3],\n",
    "         [2,3,4],\n",
    "         [1,1,1],\n",
    "         [2]\n",
    "         ])\n",
    "     [\n",
    "      [1,1,1],\n",
    "      [2],\n",
    "      [1,2,3],\n",
    "      [2,3,4\n",
    "     ]\n",
    "     \n",
    "     - hint: use the function maxitem from #5 \n",
    "       and the existing function 'sorted'\n",
    "       \n",
    "\"\"\"\n",
    "\n",
    "def sort_lists(lst):\n",
    "    return sorted(lst, key=maxitem)\n",
    "\n",
    "sort_lists([\n",
    "         [1,2,3],\n",
    "         [2,3,4],\n",
    "         [1,1,1],\n",
    "         [2]\n",
    "        ])"
   ]
  },
  {
   "cell_type": "code",
   "execution_count": 15,
   "metadata": {},
   "outputs": [
    {
     "name": "stdout",
     "output_type": "stream",
     "text": [
      "10\n",
      "12\n",
      "110\n"
     ]
    }
   ],
   "source": [
    "\"\"\"\n",
    "7**) create a function called make_add_x() \n",
    "     that receives one parameter x\n",
    "     and returns an inner *function* ...\n",
    "     this inner function will receive one parameter y\n",
    "     and return x+y\n",
    "     \n",
    "     >>> add7 = make_add_x(7)\n",
    "     >>> add7(3)\n",
    "     10\n",
    "     >>> add7(5)\n",
    "     12\n",
    "     >>> add10 = make_add_x(10)\n",
    "     >>> add10(100)\n",
    "     110\n",
    "\"\"\"\n",
    "\n",
    "def make_add_x(x):\n",
    "    def add_x(y):\n",
    "        return x+y\n",
    "    return add_x\n",
    "\n",
    "add7 = make_add_x(7)\n",
    "print(add7(3)) # 10\n",
    "print(add7(5)) # 12\n",
    "\n",
    "add10 = make_add_x(10)\n",
    "print(add10(100)) # 110"
   ]
  },
  {
   "cell_type": "code",
   "execution_count": 3,
   "metadata": {},
   "outputs": [
    {
     "name": "stdout",
     "output_type": "stream",
     "text": [
      "1 @ 2 @ 3 @\n",
      "[1, 2, 3] @ [4, 5, 6] @\n",
      "1 2 3\n"
     ]
    }
   ],
   "source": [
    "\"\"\"8*) create a function called myprint that has similar properties to the built-in print() function:\n",
    "    - it is variadic: it can support 0,1,2,3 or more parameters (unlimited number)\n",
    "    - it supports the file, sep and end arguments\n",
    "    \n",
    "    it differrs from print by prefering the character @\n",
    "    >>> myprint(1, 2, 3)\n",
    "    1 @ 2 @ 3 @\n",
    "    >>> myprint( [1, 2, 3], [4, 5, 6] )\n",
    "    [1, 2, 3] @ [4, 5, 6] @\n",
    "    \n",
    "    >>> myprint(1, 2, 3, file=sys.stdout, sep=' ', end='\\n')\n",
    "    1 2 3\n",
    "\"\"\"\n",
    "\n",
    "import sys\n",
    "def myprint(*args, sep=' @ ', end=' @\\n', file=sys.stdout):\n",
    "    return print(*args, sep=sep, end=end, file=file)\n",
    "\n",
    "myprint(1, 2, 3)                #     1 @ 2 @ 3 @\n",
    "myprint( [1, 2, 3], [4, 5, 6] ) #    [1, 2, 3] @ [4, 5, 6] @\n",
    "myprint(1, 2, 3, file=sys.stdout, sep=' ', end='\\n') # 1 2 3"
   ]
  },
  {
   "cell_type": "code",
   "execution_count": 24,
   "metadata": {},
   "outputs": [
    {
     "name": "stdout",
     "output_type": "stream",
     "text": [
      "calling sqrt(100)\n",
      "sqrt(100) -->> 10.0\n",
      "\n",
      "calling print(1, 2, 3, sep= @@@ )\n",
      "1 @@@ 2 @@@ 3\n",
      "print(1, 2, 3, sep= @@@ ) -->> None\n"
     ]
    }
   ],
   "source": [
    "\"\"\"\n",
    "9***) create a function called make_debuggable(func) that:\n",
    "       - receives one paramter called func\n",
    "       - returns a new function that does the same thing as func, \n",
    "         and can accept any argument that func accepts\n",
    "       - but in addition the returned function also helps debugging by \n",
    "         printing out the parameters it received, and the return value it is about to return\n",
    "     \n",
    "     hints:\n",
    "       use a nested function that accepts variadic positional and keyword arguments\n",
    "\n",
    "\"\"\"\n",
    "def make_debuggable(func):\n",
    "    def __get_signature(func, args, kwargs):\n",
    "        fullargs = [str(a) for a in args] + [ f\"{k}={v}\" for k,v in kwargs.items()]\n",
    "        return \"{}({})\".format(func.__name__, ', '.join(fullargs))\n",
    "        \n",
    "    def nested(*args, **kwargs):\n",
    "        print(f\"calling {__get_signature(func, args, kwargs)}\")\n",
    "        \n",
    "        v = func(*args, **kwargs)\n",
    "        \n",
    "        print(f\"{__get_signature(func, args, kwargs)} -->> {v}\")\n",
    "        return v\n",
    "    \n",
    "    return nested\n",
    "\n",
    "import math\n",
    "debug_sqrt = make_debuggable(math.sqrt)\n",
    "debug_sqrt(100)\n",
    "#debug_sqrt(-100)\n",
    "\n",
    "print()\n",
    "\n",
    "debug_print = make_debuggable(print)\n",
    "debug_print(1,2,3, sep = ' @@@ ')\n"
   ]
  },
  {
   "cell_type": "code",
   "execution_count": null,
   "metadata": {},
   "outputs": [],
   "source": []
  }
 ],
 "metadata": {
  "kernelspec": {
   "display_name": "Python 3",
   "language": "python",
   "name": "python3"
  },
  "language_info": {
   "codemirror_mode": {
    "name": "ipython",
    "version": 3
   },
   "file_extension": ".py",
   "mimetype": "text/x-python",
   "name": "python",
   "nbconvert_exporter": "python",
   "pygments_lexer": "ipython3",
   "version": "3.6.5"
  }
 },
 "nbformat": 4,
 "nbformat_minor": 2
}
