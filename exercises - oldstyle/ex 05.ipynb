{
 "cells": [
  {
   "cell_type": "code",
   "execution_count": 1,
   "metadata": {},
   "outputs": [],
   "source": [
    "\"\"\" drive: bit.ly/aviad-python\n",
    "\n",
    "1) using the following code, create a list of 25 random numbers\n",
    "\n",
    "   import random\n",
    "   random.randint(0, 100) # generates a random number between 0 and 100\n",
    "   \n",
    "   example result: (write code to randomly create this list)\n",
    "   [90, 10, 14, 15,    20, 20, 87, 23,\n",
    "    8,  2,  44, 29,    10, 13, 33, 99,\n",
    "    9,  3,  23, 25]\n",
    "   \n",
    "2) create a list of all the numbers between 0-1000 that are dividible by 7\n",
    "   0, 7, 14, ... how many different ways can you think of to do this?\n",
    "   \n",
    "   a) using a for loop\n",
    "   b) using range\n",
    "   c) using range and slicing\n",
    "\n",
    "3) remove from the list in #1, all the numbers that are divisible by 7\n",
    "\n",
    "4) print the words in the following sentence in reverse order\n",
    "\n",
    "    the quick brown fox jumped over the lazy dog   \n",
    "    --> dog lazy the over jumped fox brown quick the\n",
    "    \n",
    "    do it many ways\n",
    "    a) using slicing\n",
    "    b) using pop\n",
    "    c) using loop and range\n",
    "    ...\n",
    "\n",
    "5) remove the first and last numbers from the list #1 and put them in variable x,y\n",
    "   how can you do this with the least number of lines?\n",
    "   \n",
    "   a) using indexing and -1\n",
    "   b) using unpacking\n",
    "   c) using pop\n",
    "   \n",
    "6) create any two lists list1, list2\n",
    "     example:\n",
    "      list1 = \"the fox condemns the trap, not himself\".split()\n",
    "      list2 = \"the quick brown fox jumped over them lazy dog\".split()\n",
    "      \n",
    "    a) now, using the keyword 'in' and a loop check if list1 has *any* item that also belongs in list2\n",
    "    b) now also create a list called list_1_2 that has the entire list of items that exist in both list1 and list2 \n",
    "\n",
    "set\n",
    "7) solve #6 using sets \n",
    "    hint: you no longer need loops\n",
    "    \n",
    "8) using the type set, \n",
    "   create a list of exactly 20 random numbers(between 0-100), \n",
    "   that dont have any duplicates  \n",
    "\n",
    "9) using the type set()  \n",
    "   remove all the duplicate numbers from the list from #1\n",
    "   \n",
    "   a) do it without caring about the order of items\n",
    "   b**) can you also do it, while preserving the original order of the list?\n",
    "\n",
    "10**) get a list of 20 random numbers, each in range 0-10\n",
    "     from this list, which numbers were  ...\n",
    "       a) unique? i.e. they appeared only once in the list?\n",
    "       b) dups? i.e. they appeared more than once in the list?\n",
    "   \n",
    "   hint: you may need a for loop and having one or two sets\n",
    "   \n",
    "11) imagine you're running automated tests for a new build of your project. \n",
    "    and this build \"build1\" fails some test. \n",
    "    then the engineers go on to try to fix the bugs and create \"build2\" which also fails some tests\n",
    "    \n",
    "    example:\n",
    "      build1_fails = [1, 3, 6, 12, 13, 19, 20, 23, 24, 25, 33, 34, 45, 66, 67, 87, 100, 145, 278]\n",
    "      build2_fails = [2, 9, 10, 11, 12, 13, 14, 15, 16, 19, 20, 87, 88, 89, 145, 146 ]\n",
    "      \n",
    "    a) which tests were fixed by build2? that is, they failed in build1 and stopped failing in build2?\n",
    "    b) which tests got broken by build2? that is, they worked on build1 and started failing in build2?\n",
    "    c) which broken tests did not get solved by build2? that is, they failed on both build1 and build2?\n",
    "    d**) which tests succeeded in both builds (hint: imagine there are 300 tests overall, named 1, 2, ..., 299, 300) \n",
    "   \n",
    "   \n",
    "dictionary:\n",
    "12) create a dictionary \"144\" \n",
    "   that maps names of people to their phone numbers\n",
    "   \n",
    "13) take the dictionary from #9 and create a \"411\" dictionary\n",
    "    that maps phone numbers back to people's names\n",
    "    \n",
    "    b**) what happens if two people share the same phone number?\n",
    "       can you still reverse the dictionary and preserve all the information?\n",
    "\"\"\""
   ]
  },
  {
   "cell_type": "code",
   "execution_count": 4,
   "metadata": {},
   "outputs": [
    {
     "name": "stdout",
     "output_type": "stream",
     "text": [
      "[68, 87, 29, 5, 88, 98, 91, 72, 56, 1, 39, 69, 40, 47, 80, 60, 19, 14, 95, 49, 12, 7, 62, 69, 46]\n"
     ]
    }
   ],
   "source": [
    "\"\"\"\n",
    "1) using the following code, create a list of 25 random numbers\n",
    "\n",
    "   import random\n",
    "   random.randint(0, 100) # generates a random number between 0 and 100\n",
    "   \n",
    "   example result: (write code to randomly create this list)\n",
    "   [90, 10, 14, 15,    20, 20, 87, 23,\n",
    "    8,  2,  44, 29,    10, 13, 33, 99,\n",
    "    9,  3,  23, 25]\n",
    "\"\"\"\n",
    "import random\n",
    "rand = []\n",
    "for i in range(25):\n",
    "    rand.append(random.randint(0, 100))\n",
    "    \n",
    "print(rand)"
   ]
  },
  {
   "cell_type": "code",
   "execution_count": 5,
   "metadata": {},
   "outputs": [
    {
     "name": "stdout",
     "output_type": "stream",
     "text": [
      "[0, 7, 14, 21, 28, 35, 42, 49, 56, 63, 70, 77, 84, 91, 98]\n",
      "[0, 7, 14, 21, 28, 35, 42, 49, 56, 63, 70, 77, 84, 91, 98]\n",
      "[0, 7, 14, 21, 28, 35, 42, 49, 56, 63, 70, 77, 84, 91, 98]\n"
     ]
    }
   ],
   "source": [
    "\"\"\"\n",
    "create a list of all the numbers between 0-1000 that are dividible by 7\n",
    "   0, 7, 14, ... how many different ways can you think of to do this?\n",
    "   \n",
    "   a) using a for loop\n",
    "   b) using range\n",
    "   c) using range and slicing\n",
    "\"\"\"\n",
    "# a\n",
    "a = []\n",
    "for i in range(100):\n",
    "    if i%7==0:\n",
    "        a.append(i)\n",
    "print(a)\n",
    "\n",
    "#b\n",
    "b = list(range(0, 100,7))\n",
    "print(b)\n",
    "\n",
    "#c\n",
    "c = list(range(100))[::7]\n",
    "print(c)"
   ]
  },
  {
   "cell_type": "code",
   "execution_count": 10,
   "metadata": {},
   "outputs": [
    {
     "name": "stdout",
     "output_type": "stream",
     "text": [
      "[68, 87, 29, 5, 88, 98, 91, 72, 56, 1, 39, 69, 40, 47, 80, 60, 19, 14, 95, 49, 12, 7, 62, 69, 46]\n",
      "[68, 87, 29, 5, 88, 91, 72, 1, 39, 69, 40, 47, 80, 60, 19, 95, 12, 62, 69, 46]\n",
      "[68, 87, 29, 5, 88, 91, 72, 1, 39, 69, 40, 47, 80, 60, 19, 95, 12, 62, 69, 46]\n"
     ]
    }
   ],
   "source": [
    "\"\"\"\n",
    "3) remove from the list in #1, all the numbers that are divisible by 7\n",
    "\"\"\"\n",
    "# remove\n",
    "list1 = rand[:] # copy list from #1\n",
    "print(list1)\n",
    "number7s = list(range(0, 100, 7)) # multiples of 7\n",
    "for x in list1:\n",
    "    if x in number7s:\n",
    "        list1.remove(x)\n",
    "print(list1)\n",
    "\n",
    "# pop\n",
    "list2 = rand[:]\n",
    "for i, x in enumerate(list2):\n",
    "    if x in number7s:\n",
    "        list2.pop(i)\n",
    "print(list2)\n",
    "                "
   ]
  },
  {
   "cell_type": "code",
   "execution_count": 5,
   "metadata": {},
   "outputs": [
    {
     "name": "stdout",
     "output_type": "stream",
     "text": [
      "dog lazy the over jumped fox brown quick the\n",
      "dog lazy the over jumped fox brown quick the \n",
      "dog lazy the over jumped fox brown quick the \n",
      "dog lazy the over jumped fox brown quick the \n",
      "dog lazy the over jumped fox brown quick the\n",
      "dog lazy the over jumped fox brown quick the\n"
     ]
    }
   ],
   "source": [
    "\"\"\"\n",
    "4) print the words in the following sentence in reverse order\n",
    "\n",
    "    the quick brown fox jumped over the lazy dog   \n",
    "    --> dog lazy the over jumped fox brown quick the\n",
    "    \n",
    "    do it many ways\n",
    "    a) using slicing\n",
    "    b) using pop\n",
    "    c) using loop and range\n",
    "    ...\n",
    "\"\"\"\n",
    "x=\"the quick brown fox jumped over the lazy dog\"\n",
    "# slicing\n",
    "print(\" \".join(x.split()[::-1]))\n",
    "\n",
    "\n",
    "# pop\n",
    "words = x.split()\n",
    "while words:\n",
    "    print(words.pop(), end=\" \")\n",
    "print()\n",
    "\n",
    "# loop and range\n",
    "words = x.split()\n",
    "for i in range (-1, -len(words) -1, -1):\n",
    "    print(words[i], end=\" \")\n",
    "print()\n",
    "\n",
    "# loop and slicing\n",
    "for word in x.split()[::-1]:\n",
    "    print(word, end=\" \")\n",
    "print()\n",
    "\n",
    "# reversed\n",
    "print(\" \".join(list(reversed(x.split()))))\n",
    "\n",
    "# in place reverse\n",
    "words = x.split()\n",
    "words.reverse() # in-place\n",
    "print(\" \".join(words))"
   ]
  },
  {
   "cell_type": "code",
   "execution_count": 17,
   "metadata": {},
   "outputs": [
    {
     "name": "stdout",
     "output_type": "stream",
     "text": [
      "68 46\n",
      "68 46\n",
      "68 46\n"
     ]
    }
   ],
   "source": [
    "\"\"\"\n",
    "5) remove the first and last numbers from the list #1 \n",
    "   and put them in variable x,y\n",
    "   how can you do this with the least number of lines?\n",
    "   \n",
    "   a) using indexing and -1\n",
    "   b) using unpacking\n",
    "   c) using pop\n",
    "\"\"\"\n",
    "list1 = rand[:] # list from #1\n",
    "\n",
    "# using indexing and -1\n",
    "x, y = list1[0], list1[-1]\n",
    "print(x, y)\n",
    "\n",
    "#using unpacking\n",
    "x, *everythingelse, y = list1\n",
    "print(x, y)\n",
    "\n",
    "# using pop\n",
    "x,y =list1.pop(0), list1.pop(-1)\n",
    "print(x,y)\n"
   ]
  },
  {
   "cell_type": "code",
   "execution_count": 16,
   "metadata": {},
   "outputs": [
    {
     "name": "stdout",
     "output_type": "stream",
     "text": [
      "6a: the\n",
      "6b: ['the', 'fox', 'the']\n"
     ]
    }
   ],
   "source": [
    "\"\"\"\n",
    "6) create any two lists list1, list2\n",
    "     example:\n",
    "      list1 = \"the fox condemns the trap , not himself\".split()\n",
    "      list2 = \"the quick brown fox jumped over the lazy dog\".split()\n",
    "      \n",
    "    a) now, using the keyword 'in' and a loop check if list1 has *any* item that also belongs in list2\n",
    "    b) now also create a list called list_1_2 that has the entire list of items that exist in both list1 and list2 \n",
    "\n",
    "\"\"\"\n",
    "\n",
    "\n",
    "list1 = \"the fox condemns the trap, not himself\".split()\n",
    "list2 = \"the quick brown fox jumped over the lazy dog\".split()\n",
    "\n",
    "# a)\n",
    "for word in list1:\n",
    "    if word in list2:\n",
    "        print('6a:', word)\n",
    "        break\n",
    "        \n",
    "# b)\n",
    "words = []\n",
    "for word in list1:\n",
    "    if word in list2:\n",
    "        words.append(word)\n",
    "\n",
    "print('6b:', words)"
   ]
  },
  {
   "cell_type": "code",
   "execution_count": 18,
   "metadata": {},
   "outputs": [
    {
     "name": "stdout",
     "output_type": "stream",
     "text": [
      "{'fox', 'the'}\n"
     ]
    }
   ],
   "source": [
    "\"\"\"\n",
    "set\n",
    "7) solve #6 using sets \n",
    "    hint: you no longer need loops\n",
    "\"\"\"\n",
    "print( set(list1) & set(list2)) # & calls set.intersection\n",
    "\n"
   ]
  },
  {
   "cell_type": "code",
   "execution_count": 49,
   "metadata": {},
   "outputs": [
    {
     "name": "stdout",
     "output_type": "stream",
     "text": [
      "[3, 7, 12, 27, 31, 32, 38, 39, 42, 43, 48, 53, 54, 70, 71, 75, 80, 84, 90, 96]\n"
     ]
    }
   ],
   "source": [
    "\"\"\"set\n",
    "8) using the type set, create a list of 20 random numbers(between 0-100), \n",
    "   that dont have any duplicates  \n",
    "\"\"\"\n",
    "\n",
    "result=set()\n",
    "while len(result) < 20:\n",
    "    result.add(random.randint(0, 100))\n",
    "print(sorted(result))"
   ]
  },
  {
   "cell_type": "code",
   "execution_count": 52,
   "metadata": {},
   "outputs": [
    {
     "name": "stdout",
     "output_type": "stream",
     "text": [
      "[10, 2, 8, 0, 2, 4, 1, 5, 3, 3, 2, 1, 8, 6, 8]\n",
      "{0, 1, 2, 3, 4, 5, 6, 8, 10}\n",
      "[10, 2, 8, 0, 4, 1, 5, 3, 6]\n"
     ]
    }
   ],
   "source": [
    "\"\"\"\n",
    "9) create a list of 20 random numbers (repeats are ok)\n",
    "   using the type set() clean the list from repetitions \n",
    "   \n",
    "   ** can you also keep the order of the original list\n",
    "\"\"\"\n",
    "rand = []\n",
    "for i in range(15):\n",
    "    rand.append(random.randint(0, 10))\n",
    "\n",
    "list1 = rand[:]\n",
    "print(list1)\n",
    "# in normal sorted order \n",
    "print(set(list1))\n",
    "\n",
    "# in the same order as the original list\n",
    "print(sorted(set(list1), key=list1.index))\n"
   ]
  },
  {
   "cell_type": "code",
   "execution_count": 54,
   "metadata": {},
   "outputs": [
    {
     "data": {
      "text/plain": [
       "1"
      ]
     },
     "execution_count": 54,
     "metadata": {},
     "output_type": "execute_result"
    }
   ],
   "source": []
  },
  {
   "cell_type": "code",
   "execution_count": 55,
   "metadata": {},
   "outputs": [
    {
     "name": "stdout",
     "output_type": "stream",
     "text": [
      "[0, 0, 1, 1, 2, 2, 2, 3, 3, 3, 3, 4, 4, 5, 6, 6, 7, 8, 10, 10]\n",
      "seen:  {0, 1, 2, 3, 4, 5, 6, 7, 8, 10}\n",
      "uniques:  {5, 7, 8}\n",
      "dups:  {0, 1, 2, 3, 4, 6, 10}\n"
     ]
    }
   ],
   "source": [
    "\"\"\"\n",
    "10**) get a list of 20 random numbers, each in range 0-10\n",
    "     from this list, which numbers were  ...\n",
    "       a) unique? i.e. they appeared only once in the list?\n",
    "       b) dups? i.e. they appeared more than once in the list?\n",
    "   \n",
    "   hint: you may need a for loop and having one or two sets\n",
    "\"\"\"\n",
    "\n",
    "# create random list\n",
    "rand = []\n",
    "for i in range(20):\n",
    "    rand.append(random.randint(0, 10))\n",
    "\n",
    "# calculate uniques\n",
    "seen = set()\n",
    "uniq = set()\n",
    "for x in rand:\n",
    "    if x not in seen:\n",
    "        uniq.add(x)\n",
    "        seen.add(x)\n",
    "    else:\n",
    "        uniq.discard(x)\n",
    "\n",
    "# print results\n",
    "dups = seen - uniq\n",
    "print(sorted(rand))\n",
    "print(\"seen: \", seen)\n",
    "print(\"uniques: \", uniq)\n",
    "print(\"dups: \", dups)\n",
    "    "
   ]
  },
  {
   "cell_type": "code",
   "execution_count": 21,
   "metadata": {},
   "outputs": [
    {
     "name": "stdout",
     "output_type": "stream",
     "text": [
      "a:  {1, 66, 67, 3, 33, 6, 34, 100, 45, 278, 23, 24, 25}\n",
      "b:  {2, 9, 10, 11, 14, 15, 16, 146, 88, 89}\n",
      "c:  {12, 13, 145, 19, 20, 87}\n",
      "\n",
      "d:  {0, 4, 5, 7, 8, 17, 18, 21, 22, 26, 27, 28, 29, 30, 31, 32, 35, 36, 37, 38, 39, 40, 41, 42, 43, 44, 46, 47, 48, 49, 50, 51, 52, 53, 54, 55, 56, 57, 58, 59, 60, 61, 62, 63, 64, 65, 68, 69, 70, 71, 72, 73, 74, 75, 76, 77, 78, 79, 80, 81, 82, 83, 84, 85, 86, 90, 91, 92, 93, 94, 95, 96, 97, 98, 99, 101, 102, 103, 104, 105, 106, 107, 108, 109, 110, 111, 112, 113, 114, 115, 116, 117, 118, 119, 120, 121, 122, 123, 124, 125, 126, 127, 128, 129, 130, 131, 132, 133, 134, 135, 136, 137, 138, 139, 140, 141, 142, 143, 144, 147, 148, 149, 150, 151, 152, 153, 154, 155, 156, 157, 158, 159, 160, 161, 162, 163, 164, 165, 166, 167, 168, 169, 170, 171, 172, 173, 174, 175, 176, 177, 178, 179, 180, 181, 182, 183, 184, 185, 186, 187, 188, 189, 190, 191, 192, 193, 194, 195, 196, 197, 198, 199, 200, 201, 202, 203, 204, 205, 206, 207, 208, 209, 210, 211, 212, 213, 214, 215, 216, 217, 218, 219, 220, 221, 222, 223, 224, 225, 226, 227, 228, 229, 230, 231, 232, 233, 234, 235, 236, 237, 238, 239, 240, 241, 242, 243, 244, 245, 246, 247, 248, 249, 250, 251, 252, 253, 254, 255, 256, 257, 258, 259, 260, 261, 262, 263, 264, 265, 266, 267, 268, 269, 270, 271, 272, 273, 274, 275, 276, 277, 279, 280, 281, 282, 283, 284, 285, 286, 287, 288, 289, 290, 291, 292, 293, 294, 295, 296, 297, 298, 299}\n"
     ]
    }
   ],
   "source": [
    "\"\"\"11) imagine you're running automated tests for a new build of your project. \n",
    "    and this build \"build1\" fails some test. \n",
    "    then the engineers go on to try to fix the bugs and create \"build2\" which also fails some tests\n",
    "    \n",
    "    example:\n",
    "      build1_fails = [1, 3, 6, 12, 13, 19, 20, 23, 24, 25, 33, 34, 45, 66, 67, 87, 100, 145, 278]\n",
    "      build2_fails = [2, 9, 10, 11, 12, 13, 14, 15, 16, 19, 20, 87, 88, 89, 145, 146 ]\n",
    "      \n",
    "    a) which tests were fixed by build2? that is, they failed in build1 and stopped failing in build2?\n",
    "    b) which tests got broken by build2? that is, they worked on build1 and started failing in build2?\n",
    "    c) which broken tests did not get solved by build2? that is, they failed on both build1 and build2?\n",
    "    d**) which tests succeeded in both builds (hint: imagine there are 300 tests overall, named 1, 2, ..., 299, 300) \n",
    "\"\"\" \n",
    "\n",
    "build1_fails = {1, 3, 6, 12, 13, 19, 20, 23, 24, 25, 33, 34, 45, 66, 67, 87, 100, 145, 278}\n",
    "build2_fails = {2, 9, 10, 11, 12, 13, 14, 15, 16, 19, 20, 87, 88, 89, 145, 146 }\n",
    "\n",
    "#a\n",
    "print(\"a: \", set(build1_fails) - set(build2_fails))\n",
    "print(\"b: \", set(build2_fails) - set(build1_fails))\n",
    "print(\"c: \", set(build1_fails) & set(build2_fails))\n",
    "\n",
    "print()\n",
    "print(\"d: \", set(range(300)) - (set(build2_fails) | set(build1_fails) ))"
   ]
  },
  {
   "cell_type": "code",
   "execution_count": 63,
   "metadata": {},
   "outputs": [],
   "source": [
    "\"\"\"\n",
    "12) create a dictionary \"144\" \n",
    "   that maps names of people to their phone numbers\n",
    "\"\"\"   \n",
    "d144 = {\n",
    "    \"avi\" : \"053-111\",\n",
    "    \"ben\" : \"053-222\",\n",
    "    \"hen\" : \"053-222\",\n",
    "    \"gaddy\" : \"053-333\",\n",
    "    \"daddy\" : \"053-333\",\n",
    "    \"zvi\" : \"053-444\",\n",
    "    \"zvika\" : \"053-444\"\n",
    "}"
   ]
  },
  {
   "cell_type": "code",
   "execution_count": 64,
   "metadata": {},
   "outputs": [
    {
     "name": "stdout",
     "output_type": "stream",
     "text": [
      "{'053-111': 'avi', '053-222': 'hen', '053-333': 'daddy', '053-444': 'zvika'}\n",
      "{'053-111': ['avi'], '053-222': ['ben', 'hen'], '053-333': ['gaddy', 'daddy'], '053-444': ['zvi', 'zvika']}\n"
     ]
    }
   ],
   "source": [
    "\"\"\"\n",
    "13) take the dictionary from #9 and create a \"411\" dictionary\n",
    "    that maps phone numbers back to people's names\n",
    "    \n",
    "    b**) what happens if two people share the same phone number?\n",
    "       can you still reverse the dictionary and preserve all the information?\n",
    "\"\"\"\n",
    "# a\n",
    "d441 = {}\n",
    "for name, phone in d144.items():\n",
    "    d441[phone] = name\n",
    "print(d441)\n",
    "\n",
    "# b**\n",
    "d441 = {}\n",
    "for name, phone in d144.items():\n",
    "    if phone not in d441:\n",
    "        d441[phone] = [name]\n",
    "    else:\n",
    "        names = d441[phone]\n",
    "        names.append(name)\n",
    "\n",
    "print(d441)       "
   ]
  },
  {
   "cell_type": "code",
   "execution_count": null,
   "metadata": {},
   "outputs": [],
   "source": []
  }
 ],
 "metadata": {
  "kernelspec": {
   "display_name": "Python 3",
   "language": "python",
   "name": "python3"
  },
  "language_info": {
   "codemirror_mode": {
    "name": "ipython",
    "version": 3
   },
   "file_extension": ".py",
   "mimetype": "text/x-python",
   "name": "python",
   "nbconvert_exporter": "python",
   "pygments_lexer": "ipython3",
   "version": "3.6.5"
  }
 },
 "nbformat": 4,
 "nbformat_minor": 2
}
