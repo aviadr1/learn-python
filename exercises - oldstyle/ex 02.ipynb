{
 "cells": [
  {
   "cell_type": "code",
   "execution_count": 3,
   "metadata": {},
   "outputs": [
    {
     "data": {
      "text/plain": [
       "'\\n1) create the following string, and then *split* it into a list, \\n   so that each word is an an element in the list \\n \\n \"the quick brown fox jumped over the lazy dog\"\\n \\n [\"the\", \"quick\", .... ,\"dog\"]\\n \\n2) print the help for the function str.split\\n\\n3) what does the following code do? what is the function join?\\n   use help or documentation online if you can\\'t guess\\n   \\n   \" \".join([1,2,3])\\n'"
      ]
     },
     "execution_count": 3,
     "metadata": {},
     "output_type": "execute_result"
    }
   ],
   "source": [
    "\"\"\"\n",
    "1) create the following string, and then *split* it into a list, \n",
    "   so that each word is an an element in the list \n",
    " \n",
    " \"the quick brown fox jumped over the lazy dog\"\n",
    " \n",
    " [\"the\", \"quick\", .... ,\"dog\"]\n",
    " \n",
    "2) print the help for the function str.split\n",
    "\n",
    "3) what does the following code do? what is the function join?\n",
    "   use help or documentation online if you can't guess\n",
    "   \n",
    "   \" \".join([\"one\",\"two\",\"three\"])\n",
    "   \n",
    "4) convert the words \"dog\" and \"fox\" from the list in ex #1 to upper case, \n",
    "   then the function join to convert the list into a str.\n",
    "   \n",
    "   the result should be \"the quick brown FOX jumped over the lazy DOG\"\n",
    "   \n",
    "6) create a dictionary that maps the name of cheeses to prices of 100mg of that cheese.\n",
    "    gouda costs 4.99 \n",
    "    Edam costs 2.45\n",
    "    Camambert costs 7.75\n",
    "    Bree costs 7.27\n",
    "    Cheddar costs 2.89\n",
    "    \n",
    "    without using \"head math\", compute the costs of gouda, edam and camambert together \n",
    "\"\"\""
   ]
  },
  {
   "cell_type": "code",
   "execution_count": 8,
   "metadata": {},
   "outputs": [
    {
     "name": "stdout",
     "output_type": "stream",
     "text": [
      "['the', 'quick', 'brown', 'fox', 'jumped', 'over', 'the', 'lazy', 'dog']\n"
     ]
    }
   ],
   "source": [
    "\"\"\"\n",
    "1) create the following string, and then *split* it into a list, \n",
    "   so that each word is an an element in the list \n",
    " \n",
    " \"the quick brown fox jumped over the lazy dog\"\n",
    " \n",
    " [\"the\", \"quick\", .... ,\"dog\"]\n",
    "\"\"\"\n",
    "print(\"the quick brown fox jumped over the lazy dog\".split())"
   ]
  },
  {
   "cell_type": "code",
   "execution_count": 6,
   "metadata": {},
   "outputs": [
    {
     "name": "stdout",
     "output_type": "stream",
     "text": [
      "Help on method_descriptor:\n",
      "\n",
      "split(...)\n",
      "    S.split(sep=None, maxsplit=-1) -> list of strings\n",
      "    \n",
      "    Return a list of the words in S, using sep as the\n",
      "    delimiter string.  If maxsplit is given, at most maxsplit\n",
      "    splits are done. If sep is not specified or is None, any\n",
      "    whitespace string is a separator and empty strings are\n",
      "    removed from the result.\n",
      "\n"
     ]
    }
   ],
   "source": [
    "\"\"\"\n",
    "print the help for the function str.split\n",
    "\"\"\"\n",
    "help(str.split)"
   ]
  },
  {
   "cell_type": "code",
   "execution_count": 7,
   "metadata": {},
   "outputs": [
    {
     "data": {
      "text/plain": [
       "'one two three'"
      ]
     },
     "execution_count": 7,
     "metadata": {},
     "output_type": "execute_result"
    }
   ],
   "source": [
    "\"\"\"\n",
    "what does the following code do? what is the function join?\n",
    "   use help or documentation online if you can't guess\n",
    "   \n",
    "   \" \".join([\"one\",\"two\",\"three\"])\n",
    "\"\"\"\n",
    "\n",
    "# it takes a list of words and joins them into a string, putting spaces between them\n",
    "\" \".join([\"one\",\"two\",\"three\"])\n"
   ]
  },
  {
   "cell_type": "code",
   "execution_count": 9,
   "metadata": {},
   "outputs": [
    {
     "name": "stdout",
     "output_type": "stream",
     "text": [
      "['the', 'quick', 'brown', 'fox', 'jumped', 'over', 'the', 'lazy', 'dog']\n",
      "['the', 'quick', 'brown', 'FOX', 'jumped', 'over', 'the', 'lazy', 'DOG']\n",
      "the quick brown FOX jumped over the lazy DOG\n"
     ]
    }
   ],
   "source": [
    "\"\"\"\n",
    "4) create the following string, and then *split* it into a list, \n",
    "   so that each word is an an element in the list \n",
    " \n",
    " \"the quick brown fox jumped over the lazy dog\"\n",
    " \n",
    " [\"the\", \"quick\", .... ,\"dog\"]\n",
    " \n",
    "\"\"\"\n",
    "\n",
    "words = \"the quick brown fox jumped over the lazy dog\".split()\n",
    "print(words)\n",
    "words[3] = words[3].upper()\n",
    "words[-1] = words[-1].upper()\n",
    "print(words)\n",
    "result = \" \".join(words)\n",
    "print(result)"
   ]
  },
  {
   "cell_type": "code",
   "execution_count": 10,
   "metadata": {},
   "outputs": [
    {
     "name": "stdout",
     "output_type": "stream",
     "text": [
      "15.190000000000001\n"
     ]
    }
   ],
   "source": [
    "\"\"\"\n",
    "6) create a dictionary that maps the name of cheeses to prices of 100mg of that cheese.\n",
    "    gouda costs 4.99 \n",
    "    Edam costs 2.45\n",
    "    Camambert costs 7.75\n",
    "    Bree costs 7.27\n",
    "    Cheddar costs 2.89\n",
    "    \n",
    "    without using \"head math\", compute the costs of gouda, edam and camambert together \n",
    "\"\"\"\n",
    "\n",
    "costs = {\n",
    "    \"Gouda\" : 4.99 ,\n",
    "    \"Edam\" : 2.45,\n",
    "    \"Camambert\" : 7.75,\n",
    "    \"Bree\" : 7.27,\n",
    "    \"Cheddar\":  2.89,\n",
    "}\n",
    "\n",
    "print(costs[\"Gouda\"] + costs[\"Edam\"] + costs[\"Camambert\"])"
   ]
  },
  {
   "cell_type": "code",
   "execution_count": null,
   "metadata": {},
   "outputs": [],
   "source": []
  }
 ],
 "metadata": {
  "kernelspec": {
   "display_name": "Python 3",
   "language": "python",
   "name": "python3"
  },
  "language_info": {
   "codemirror_mode": {
    "name": "ipython",
    "version": 3
   },
   "file_extension": ".py",
   "mimetype": "text/x-python",
   "name": "python",
   "nbconvert_exporter": "python",
   "pygments_lexer": "ipython3",
   "version": "3.6.6"
  }
 },
 "nbformat": 4,
 "nbformat_minor": 2
}
