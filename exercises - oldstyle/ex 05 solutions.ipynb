{
  "nbformat": 4,
  "nbformat_minor": 0,
  "metadata": {
    "colab": {
      "name": "ex 05 - solutions.ipynb",
      "version": "0.3.2",
      "provenance": [],
      "include_colab_link": true
    },
    "kernelspec": {
      "name": "python3",
      "display_name": "Python 3"
    }
  },
  "cells": [
    {
      "cell_type": "markdown",
      "metadata": {
        "id": "view-in-github",
        "colab_type": "text"
      },
      "source": [
        "<a href=\"https://colab.research.google.com/github/aviadr1/learn-python/blob/master/exercises%20-%20oldstyle/ex%2005%20solutions.ipynb\" target=\"_parent\"><img src=\"https://colab.research.google.com/assets/colab-badge.svg\" alt=\"Open In Colab\"/></a>"
      ]
    },
    {
      "cell_type": "code",
      "metadata": {
        "id": "h0Iim6wvUk7t",
        "colab_type": "code",
        "colab": {}
      },
      "source": [
        "1) using the following code, create a list of 25 random numbers\n",
        "\n",
        "   import random\n",
        "   random.randint(0, 100) # generates a random number between 0 and 100\n",
        "   \n",
        "   example result: (write code to randomly create this list)\n",
        "   [90, 10, 14, 15,    20, 20, 87, 23,\n",
        "    8,  2,  44, 29,    10, 13, 33, 99,\n",
        "    9,  3,  23, 25]\n",
        "   "
      ],
      "execution_count": 0,
      "outputs": []
    },
    {
      "cell_type": "markdown",
      "metadata": {
        "id": "GQIbfUuPUmZS",
        "colab_type": "text"
      },
      "source": [
        "# Create list\n",
        "using the following code, create a list of 25 random numbers\n",
        "```\n",
        "   import random\n",
        "   random.randint(0, 100) # generates a random number between 0 and 100\n",
        " ```\n",
        "   example result: (write code to randomly create this list)\n",
        "   [90, 10, 14, 15,    20, 20, 87, 23,\n",
        "    8,  2,  44, 29,    10, 13, 33, 99,\n",
        "    9,  3,  23, 25]\n",
        "   "
      ]
    },
    {
      "cell_type": "code",
      "metadata": {
        "id": "6ZGHIyGfUres",
        "colab_type": "code",
        "colab": {
          "base_uri": "https://localhost:8080/",
          "height": 34
        },
        "outputId": "839dbaaf-e3f2-463b-e2e8-52d952bed6cf"
      },
      "source": [
        "import random\n",
        "rand = []\n",
        "for i in range(25):\n",
        "    rand.append(random.randint(0, 100))\n",
        "    \n",
        "print(rand)"
      ],
      "execution_count": 1,
      "outputs": [
        {
          "output_type": "stream",
          "text": [
            "[10, 56, 93, 85, 15, 55, 46, 99, 48, 68, 87, 19, 63, 67, 26, 79, 92, 83, 93, 84, 60, 91, 97, 9, 69]\n"
          ],
          "name": "stdout"
        }
      ]
    },
    {
      "cell_type": "markdown",
      "metadata": {
        "id": "bnYI8vmCU5ep",
        "colab_type": "text"
      },
      "source": [
        "# create a sub-list\n",
        "create a list of all the numbers between 0-1000 that are dividible by 7\n",
        "   0, 7, 14, ... how many different ways can you think of to do this?\n",
        "   \n",
        " 1. using a for loop\n",
        " 2. using range\n",
        " 3. using range and slicing"
      ]
    },
    {
      "cell_type": "code",
      "metadata": {
        "id": "Opah3XapU4Jq",
        "colab_type": "code",
        "colab": {
          "base_uri": "https://localhost:8080/",
          "height": 68
        },
        "outputId": "b63e7492-00b1-469d-e8ba-947403aa809b"
      },
      "source": [
        "# 1\n",
        "a = []\n",
        "for i in range(100):\n",
        "    if i%7==0:\n",
        "        a.append(i)\n",
        "print(a)\n",
        "\n",
        "#2\n",
        "b = list(range(0, 100,7))\n",
        "print(b)\n",
        "\n",
        "#3\n",
        "c = list(range(100))[::7]\n",
        "print(c)"
      ],
      "execution_count": 2,
      "outputs": [
        {
          "output_type": "stream",
          "text": [
            "[0, 7, 14, 21, 28, 35, 42, 49, 56, 63, 70, 77, 84, 91, 98]\n",
            "[0, 7, 14, 21, 28, 35, 42, 49, 56, 63, 70, 77, 84, 91, 98]\n",
            "[0, 7, 14, 21, 28, 35, 42, 49, 56, 63, 70, 77, 84, 91, 98]\n"
          ],
          "name": "stdout"
        }
      ]
    },
    {
      "cell_type": "markdown",
      "metadata": {
        "id": "sjJvmSHfVQbI",
        "colab_type": "text"
      },
      "source": [
        ""
      ]
    },
    {
      "cell_type": "code",
      "metadata": {
        "id": "BWnqOGWjVOxj",
        "colab_type": "code",
        "colab": {}
      },
      "source": [
        ""
      ],
      "execution_count": 0,
      "outputs": []
    }
  ]
}