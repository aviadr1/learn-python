{
 "cells": [
  {
   "cell_type": "code",
   "execution_count": null,
   "metadata": {},
   "outputs": [],
   "source": [
    "\"\"\" \n",
    "\n",
    "1) use list comprehension to compute a list containing the powers of 2:\n",
    "    [2**0, 2**1, 2**2, 2**3, ..., 2**15]\n",
    "    \n",
    "\n",
    "2) using JUST ONE LINE, find the length of the longest word in a given sentence\n",
    "    \n",
    "    hints - use the functions str.split(), max() and len():\n",
    "        a) break the sentence into words using the function str.split()\n",
    "        b) use list comprehension to compute the length of all words\n",
    "        c) use he function max to get the maximum length from the list of lengths\n",
    "      \n",
    "3) a restaurant stores the menu and prices of items in a dictionary.\n",
    "   now it needs to double the prices of all the items.\n",
    "   can you do this in one line with a dictionary comprehension?\n",
    "   \n",
    "   menu = {\n",
    "       'steak' : 150,\n",
    "       'falafel' : 20,\n",
    "       'pizza' : 59,\n",
    "       'hamburger' : 63,\n",
    "       'chips' : 18,\n",
    "       'salad' : 30\n",
    "   }\n",
    "   \n",
    "4) for the list of \"interesting\" angles: 0, 30, 60, 90, 120, 150, 180\n",
    "   \n",
    "   a) compute the list of radian values using list comprehension\n",
    "        0  --> 0\n",
    "        30 --> 30 *math.pi/180\n",
    "        60 --> 60 *math.pi/180\n",
    "         x -->  x *math.pi/180\n",
    "       180 --> 180*math.pi/180\n",
    "         \n",
    "   b) compute the math.sin value for each of the rad from (a) using list comprehension\n",
    "        0        --> math.sin(0)\n",
    "        x        --> math.sin(x)\n",
    "        \n",
    "   c) use the format \"{:.2f}\" and list comprehension to compute nicely formatted strings for the numbers in (b)\n",
    "      x --> \"{:.2f}\".format(x)\n",
    "\n",
    "5) can you use a set to check that a password has one of the following special characters:\n",
    "    !@#$%^&*()-=_+`~;'\"|/.,<>?\\\n",
    "   \n",
    "\n",
    "9***)\n",
    "can you write a generator function (function with 'yield' statement) that:\n",
    "  a) uses input() to ask the user for a password\n",
    "  b) checks the password (not too long, not too short, has both upper and lower characters)\n",
    "        \n",
    " \"\"\""
   ]
  },
  {
   "cell_type": "code",
   "execution_count": 1,
   "metadata": {},
   "outputs": [
    {
     "data": {
      "text/plain": [
       "[1, 2, 4, 8, 16, 32, 64, 128, 256, 512, 1024, 2048, 4096, 8192, 16384, 32768]"
      ]
     },
     "execution_count": 1,
     "metadata": {},
     "output_type": "execute_result"
    }
   ],
   "source": [
    "\"\"\"\n",
    "1) use list comprehension to compute a list containing the powers of 2:\n",
    "    [2**0, 2**1, 2**2, 2**3, ..., 2**15]\n",
    "    \n",
    "\"\"\"\n",
    "\n",
    "[2**x for x in range(16)]"
   ]
  },
  {
   "cell_type": "code",
   "execution_count": 2,
   "metadata": {},
   "outputs": [
    {
     "name": "stdout",
     "output_type": "stream",
     "text": [
      "6\n",
      "6\n"
     ]
    }
   ],
   "source": [
    "\"\"\"\n",
    "2) using JUST ONE LINE, find the length of the longest word in a given sentence\n",
    "    \n",
    "    hints - use the functions str.split(), max() and len():\n",
    "        a) break the sentence into words using the function str.split()\n",
    "        b) use list comprehension to compute the length of all words\n",
    "        c) use he function max to get the maximum length from the list of lengths\n",
    "      \n",
    "\"\"\"\n",
    "\n",
    "sent = \"the quick brown fox jumped over the lazy dog\"\n",
    "\n",
    "# short\n",
    "longest_word = max([len(word) for word in sent.split()])\n",
    "print(longest_word)\n",
    "\n",
    "# long\n",
    "words = sent.split()\n",
    "lengths = [len(word) for word in words]\n",
    "longest_word = max(lengths)\n",
    "print(longest_word)"
   ]
  },
  {
   "cell_type": "code",
   "execution_count": 9,
   "metadata": {},
   "outputs": [
    {
     "name": "stdout",
     "output_type": "stream",
     "text": [
      "{'steak': 300, 'falafel': 40, 'pizza': 118, 'hamburger': 126, 'chips': 36, 'salad': 60}\n"
     ]
    }
   ],
   "source": [
    "\"\"\"\n",
    "3) a restaurant stores the menu and prices of items in a dictionary.\n",
    "   now it needs to double the prices of all the items.\n",
    "   can you create a new menu with doubled prices using one line with a dictionary comprehension?\n",
    "   \n",
    "   menu = {\n",
    "       'steak' : 150,\n",
    "       'falafel' : 20,\n",
    "       'pizza' : 59,\n",
    "       'hamburger' : 63,\n",
    "       'chips' : 18,\n",
    "       'salad' : 30\n",
    "   }\n",
    "\"\"\"\n",
    "\n",
    "menu = {\n",
    "        'steak' : 150,\n",
    "       'falafel' : 20,\n",
    "       'pizza' : 59,\n",
    "       'hamburger' : 63,\n",
    "       'chips' : 18,\n",
    "       'salad' : 30\n",
    "   }\n",
    "\n",
    "newmenu = { item : price *2 for item,price in menu.items() }\n",
    "print(newmenu)"
   ]
  },
  {
   "cell_type": "code",
   "execution_count": null,
   "metadata": {},
   "outputs": [],
   "source": []
  },
  {
   "cell_type": "code",
   "execution_count": 6,
   "metadata": {},
   "outputs": [
    {
     "name": "stdout",
     "output_type": "stream",
     "text": [
      "['0.00', '0.50', '0.87', '1.00', '0.87', '0.50', '0.00']\n",
      "['0.00', '0.50', '0.87', '1.00', '0.87', '0.50', '0.00']\n"
     ]
    }
   ],
   "source": [
    "\"\"\"\n",
    "4) for the list of \"interesting\" angles: 0, 30, 60, 90, 120, 150, 180\n",
    "   \n",
    "   a) compute the list of radian values using list comprehension\n",
    "        0  --> 0\n",
    "        30 --> 30 *math.pi/180\n",
    "        60 --> 60 *math.pi/180\n",
    "         x -->  x *math.pi/180\n",
    "       180 --> 180*math.pi/180\n",
    "         \n",
    "   b) compute the math.sin value for each of the rad from (a) using list comprehension\n",
    "        0        --> math.sin(0)\n",
    "        x        --> math.sin(x)\n",
    "        \n",
    "   c) use the format \"{:.2f}\" and list comprehension to compute nicely formatted strings for the numbers in (b)\n",
    "      x --> \"{:.2f}\".format(x)\n",
    "\"\"\"\n",
    "import math\n",
    "\n",
    "degs = [0, 30, 60, 90, 120, 150, 180]\n",
    "\n",
    "#\n",
    "# slowly step by step\n",
    "#\n",
    "\n",
    "rads = [x*math.pi/180 for x in degs]\n",
    "sins = [math.sin(r) for r in rads]\n",
    "pretty_sins = [\"{:.2f}\".format(x) for x in sins]\n",
    "\n",
    "print(pretty_sins)\n",
    "\n",
    "#\n",
    "# everything in one row\n",
    "#\n",
    "\n",
    "result = [ \"{:.2f}\".format(math.sin(rad)) for rad in [ d*math.pi/180 for d in [0, 30, 60, 90, 120, 150, 180] ]]\n",
    "print (result)\n",
    "\n"
   ]
  },
  {
   "cell_type": "code",
   "execution_count": 15,
   "metadata": {},
   "outputs": [
    {
     "name": "stdout",
     "output_type": "stream",
     "text": [
      "give me a password@\n",
      "great password with special characters\n"
     ]
    }
   ],
   "source": [
    "\"\"\"\n",
    "5) can you use a set to check that a password has one of the following special characters:\n",
    "    !@#$%^&*()-=_+`~;'\"|/.,<>?\\\n",
    "\"\"\"\n",
    "password = input('give me a password')\n",
    "special_chars = set(\"\"\"!@#$%^&*()-=_+`~;'\"|/.,<>?\\\\\"\"\")\n",
    "if set(password) & special_chars:\n",
    "    print('great password with special characters')\n",
    "else:\n",
    "    print('please use a password with some of this special characters:\\n', ' '.join(special_chars))"
   ]
  },
  {
   "cell_type": "code",
   "execution_count": 44,
   "metadata": {},
   "outputs": [
    {
     "name": "stdout",
     "output_type": "stream",
     "text": [
      "[['avi', 15000], ['beni', 20000], ['gad', 10000]]\n",
      "[{'name': 'avi', 'balance': 15000}, {'name': 'beni', 'balance': 20000}, {'name': 'gad', 'balance': 10000}]\n"
     ]
    }
   ],
   "source": [
    "from pprint import pprint\n",
    "\n",
    "transactions = [\n",
    "    ['avi', 5000, 10000],\n",
    "    ['beni', -5000, 25000],\n",
    "    ['gad', 5000, 5000]\n",
    "]\n",
    "\n",
    "result = [ [name, balance+salary] for name, balance, salary in transactions]\n",
    "pprint(result)\n",
    "\n",
    "transactions = [\n",
    "    { 'name':'avi', 'balance': 5000, 'salary': 10000},\n",
    "    { 'name':'beni', 'balance': -5000, 'salary': 25000},\n",
    "    { 'name':'gad', 'balance': 5000, 'salary': 5000}\n",
    "]\n",
    "\n",
    "result = [ {'name' : item['name'], 'balance' : item['balance'] + item['salary'] } for item in transactions]\n",
    "print(result)"
   ]
  },
  {
   "cell_type": "code",
   "execution_count": 40,
   "metadata": {},
   "outputs": [
    {
     "name": "stdout",
     "output_type": "stream",
     "text": [
      "Help on function pprint in module pprint:\n",
      "\n",
      "pprint(object, stream=None, indent=1, width=80, depth=None, *, compact=False)\n",
      "    Pretty-print a Python object to a stream [default is sys.stdout].\n",
      "\n"
     ]
    }
   ],
   "source": [
    "help(pprint)"
   ]
  },
  {
   "cell_type": "code",
   "execution_count": null,
   "metadata": {},
   "outputs": [],
   "source": []
  }
 ],
 "metadata": {
  "kernelspec": {
   "display_name": "Python 3",
   "language": "python",
   "name": "python3"
  },
  "language_info": {
   "codemirror_mode": {
    "name": "ipython",
    "version": 3
   },
   "file_extension": ".py",
   "mimetype": "text/x-python",
   "name": "python",
   "nbconvert_exporter": "python",
   "pygments_lexer": "ipython3",
   "version": "3.6.5"
  }
 },
 "nbformat": 4,
 "nbformat_minor": 2
}
