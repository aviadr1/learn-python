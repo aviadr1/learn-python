{
 "cells": [
  {
   "cell_type": "markdown",
   "metadata": {},
   "source": [
    "\n",
    "<a href=\"https://colab.research.google.com/github/aviadr1/learn-python/blob/master/content/03_flow_control/notebooks/july_enumerate_zip.ipynb\" target=\"_blank\">\n",
    "<img src=\"https://colab.research.google.com/assets/colab-badge.svg\" \n",
    "     title=\"Open this file in Google Colab\" alt=\"Colab\"/>\n",
    "</a>\n"
   ]
  },
  {
   "cell_type": "code",
   "execution_count": 1,
   "metadata": {},
   "outputs": [],
   "source": [
    "song = \"\"\"Yeah yeah yeah yeah yeah yeah\n",
    "Yeah yeah yeah yeah yeah yeah\n",
    "I think I did it again\n",
    "I made you believe we're more than just friends\n",
    "Oh baby\n",
    "It might seem like a crush\n",
    "But it doesn't mean that I'm serious\n",
    "'Cause to lose all my senses\n",
    "That is just so typically me\n",
    "Oh baby, baby\"\"\".splitlines()\n"
   ]
  },
  {
   "cell_type": "code",
   "execution_count": 3,
   "metadata": {},
   "outputs": [],
   "source": [
    "song = ['Yeah yeah yeah yeah yeah yeah',\n",
    " 'Yeah yeah yeah yeah yeah yeah',\n",
    " 'I think I did it again',\n",
    " \"I made you believe we're more than just friends\",\n",
    " 'Oh baby',\n",
    " 'It might seem like a crush',\n",
    " \"But it doesn't mean that I'm serious\",\n",
    " \"'Cause to lose all my senses\",\n",
    " 'That is just so typically me',\n",
    " 'Oh baby, baby']"
   ]
  },
  {
   "cell_type": "code",
   "execution_count": 4,
   "metadata": {},
   "outputs": [
    {
     "data": {
      "text/plain": [
       "['Yeah yeah yeah yeah yeah yeah',\n",
       " 'Yeah yeah yeah yeah yeah yeah',\n",
       " 'I think I did it again',\n",
       " \"I made you believe we're more than just friends\",\n",
       " 'Oh baby',\n",
       " 'It might seem like a crush',\n",
       " \"But it doesn't mean that I'm serious\",\n",
       " \"'Cause to lose all my senses\",\n",
       " 'That is just so typically me',\n",
       " 'Oh baby, baby']"
      ]
     },
     "execution_count": 4,
     "metadata": {},
     "output_type": "execute_result"
    }
   ],
   "source": [
    "song"
   ]
  },
  {
   "cell_type": "code",
   "execution_count": 10,
   "metadata": {},
   "outputs": [],
   "source": [
    "song_with_line_numbers = list(enumerate(song, 1))"
   ]
  },
  {
   "cell_type": "code",
   "execution_count": 11,
   "metadata": {},
   "outputs": [
    {
     "data": {
      "text/plain": [
       "[(1, 'Yeah yeah yeah yeah yeah yeah'),\n",
       " (2, 'Yeah yeah yeah yeah yeah yeah'),\n",
       " (3, 'I think I did it again'),\n",
       " (4, \"I made you believe we're more than just friends\"),\n",
       " (5, 'Oh baby'),\n",
       " (6, 'It might seem like a crush'),\n",
       " (7, \"But it doesn't mean that I'm serious\"),\n",
       " (8, \"'Cause to lose all my senses\"),\n",
       " (9, 'That is just so typically me'),\n",
       " (10, 'Oh baby, baby')]"
      ]
     },
     "execution_count": 11,
     "metadata": {},
     "output_type": "execute_result"
    }
   ],
   "source": [
    "song_with_line_numbers"
   ]
  },
  {
   "cell_type": "code",
   "execution_count": 12,
   "metadata": {},
   "outputs": [],
   "source": [
    "i, item = (1, 'Yeah yeah yeah yeah yeah yeah')"
   ]
  },
  {
   "cell_type": "code",
   "execution_count": 13,
   "metadata": {},
   "outputs": [
    {
     "data": {
      "text/plain": [
       "1"
      ]
     },
     "execution_count": 13,
     "metadata": {},
     "output_type": "execute_result"
    }
   ],
   "source": [
    "i"
   ]
  },
  {
   "cell_type": "code",
   "execution_count": 14,
   "metadata": {},
   "outputs": [
    {
     "data": {
      "text/plain": [
       "'Yeah yeah yeah yeah yeah yeah'"
      ]
     },
     "execution_count": 14,
     "metadata": {},
     "output_type": "execute_result"
    }
   ],
   "source": [
    "item"
   ]
  },
  {
   "cell_type": "code",
   "execution_count": 16,
   "metadata": {},
   "outputs": [
    {
     "name": "stdout",
     "output_type": "stream",
     "text": [
      "0 : Yeah yeah yeah yeah yeah yeah\n",
      "1 : Yeah yeah yeah yeah yeah yeah\n",
      "2 : I think I did it again\n",
      "3 : I made you believe we're more than just friends\n",
      "4 : Oh baby\n",
      "5 : It might seem like a crush\n",
      "6 : But it doesn't mean that I'm serious\n",
      "7 : 'Cause to lose all my senses\n",
      "8 : That is just so typically me\n",
      "9 : Oh baby, baby\n"
     ]
    }
   ],
   "source": [
    "for i, item in enumerate(song):\n",
    "    print(i, ':', item)"
   ]
  },
  {
   "cell_type": "code",
   "execution_count": 17,
   "metadata": {},
   "outputs": [],
   "source": [
    "words = \"the quick brown fox jumped over the lazy dog\".split()"
   ]
  },
  {
   "cell_type": "code",
   "execution_count": 19,
   "metadata": {},
   "outputs": [],
   "source": [
    "for i, word in enumerate(words):\n",
    "    words[i] = word.capitalize()"
   ]
  },
  {
   "cell_type": "code",
   "execution_count": 20,
   "metadata": {},
   "outputs": [
    {
     "data": {
      "text/plain": [
       "['The', 'Quick', 'Brown', 'Fox', 'Jumped', 'Over', 'The', 'Lazy', 'Dog']"
      ]
     },
     "execution_count": 20,
     "metadata": {},
     "output_type": "execute_result"
    }
   ],
   "source": [
    "words"
   ]
  },
  {
   "cell_type": "code",
   "execution_count": 21,
   "metadata": {},
   "outputs": [],
   "source": [
    "fruits = [\n",
    "    'apple',\n",
    "    'mango',\n",
    "    'pear',\n",
    "    'grapes'\n",
    "]\n",
    "\n",
    "prices = [\n",
    "    14,\n",
    "    7,\n",
    "    8,\n",
    "    25\n",
    "]"
   ]
  },
  {
   "cell_type": "code",
   "execution_count": 25,
   "metadata": {},
   "outputs": [
    {
     "data": {
      "text/plain": [
       "[('apple', 14), ('mango', 7), ('pear', 8), ('grapes', 25)]"
      ]
     },
     "execution_count": 25,
     "metadata": {},
     "output_type": "execute_result"
    }
   ],
   "source": [
    "list(zip(fruits, prices))"
   ]
  },
  {
   "cell_type": "code",
   "execution_count": 26,
   "metadata": {},
   "outputs": [
    {
     "name": "stdout",
     "output_type": "stream",
     "text": [
      "apple 14\n",
      "mango 7\n",
      "pear 8\n",
      "grapes 25\n"
     ]
    }
   ],
   "source": [
    "for fruit, price in zip(fruits, prices):\n",
    "    print(fruit, price)"
   ]
  },
  {
   "cell_type": "code",
   "execution_count": 27,
   "metadata": {},
   "outputs": [
    {
     "ename": "TypeError",
     "evalue": "dict expected at most 1 arguments, got 2",
     "output_type": "error",
     "traceback": [
      "\u001b[1;31m---------------------------------------------------------------------------\u001b[0m",
      "\u001b[1;31mTypeError\u001b[0m                                 Traceback (most recent call last)",
      "\u001b[1;32m<ipython-input-27-f21d9a0d94b6>\u001b[0m in \u001b[0;36m<module>\u001b[1;34m\u001b[0m\n\u001b[1;32m----> 1\u001b[1;33m \u001b[0mdict\u001b[0m \u001b[1;33m(\u001b[0m\u001b[0mfruits\u001b[0m\u001b[1;33m,\u001b[0m \u001b[0mprices\u001b[0m\u001b[1;33m)\u001b[0m\u001b[1;33m\u001b[0m\u001b[0m\n\u001b[0m",
      "\u001b[1;31mTypeError\u001b[0m: dict expected at most 1 arguments, got 2"
     ]
    }
   ],
   "source": [
    "dict (fruits, prices)"
   ]
  },
  {
   "cell_type": "code",
   "execution_count": 28,
   "metadata": {},
   "outputs": [
    {
     "data": {
      "text/plain": [
       "{'apple': 14, 'mango': 7, 'pear': 8, 'grapes': 25}"
      ]
     },
     "execution_count": 28,
     "metadata": {},
     "output_type": "execute_result"
    }
   ],
   "source": [
    "dict(zip(fruits, prices))"
   ]
  },
  {
   "cell_type": "code",
   "execution_count": null,
   "metadata": {},
   "outputs": [],
   "source": []
  }
 ],
 "metadata": {
  "kernelspec": {
   "display_name": "Python 3",
   "language": "python",
   "name": "python3"
  },
  "language_info": {
   "codemirror_mode": {
    "name": "ipython",
    "version": 3
   },
   "file_extension": ".py",
   "mimetype": "text/x-python",
   "name": "python",
   "nbconvert_exporter": "python",
   "pygments_lexer": "ipython3",
   "version": "3.6.5"
  }
 },
 "nbformat": 4,
 "nbformat_minor": 2
}
