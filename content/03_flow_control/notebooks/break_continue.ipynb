{
 "cells": [
  {
   "cell_type": "markdown",
   "metadata": {},
   "source": [
    "\n",
    "<a href=\"https://colab.research.google.com/github/aviadr1/learn-python/blob/master/content/03_flow_control/notebooks/break_continue.ipynb\" target=\"_blank\">\n",
    "<img src=\"https://colab.research.google.com/assets/colab-badge.svg\" \n",
    "     title=\"Open this file in Google Colab\" alt=\"Colab\"/>\n",
    "</a>\n"
   ]
  },
  {
   "cell_type": "code",
   "execution_count": 1,
   "metadata": {},
   "outputs": [
    {
     "name": "stdout",
     "output_type": "stream",
     "text": [
      "give me a password:BLAHblah\n",
      "great password\n",
      "loop finished\n"
     ]
    }
   ],
   "source": [
    "while True:\n",
    "    password = input(\"give me a password:\")\n",
    "    if len(password) <= 4 :\n",
    "        print(\"too short\")\n",
    "    elif password.islower():\n",
    "        print(\"please mix some uppercase letters\")\n",
    "    elif password.isupper():\n",
    "        print(\"please mix some lowercase letters\")\n",
    "    else:\n",
    "        print(\"great password\")\n",
    "        break\n",
    "        print(1,2,3)\n",
    "\n",
    "print(\"loop finished\")"
   ]
  },
  {
   "cell_type": "code",
   "execution_count": 1,
   "metadata": {},
   "outputs": [
    {
     "name": "stdout",
     "output_type": "stream",
     "text": [
      "give me a password:blah\n",
      "too short\n",
      "please mix some uppercase letters\n",
      "great password\n",
      "loop finished\n"
     ]
    }
   ],
   "source": [
    "finished = False\n",
    "while not finished:\n",
    "    password = input(\"give me a password:\")\n",
    "    if len(password) <= 4 :\n",
    "        print(\"too short\")\n",
    "        \n",
    "    if password.islower():\n",
    "        print(\"please mix some uppercase letters\")\n",
    "        \n",
    "    if password.isupper():\n",
    "        print(\"please mix some lowercase letters\")\n",
    "        \n",
    "    else:\n",
    "        print(\"great password\")\n",
    "        finished = True\n",
    "\n",
    "print(\"loop finished\")"
   ]
  },
  {
   "cell_type": "code",
   "execution_count": null,
   "metadata": {},
   "outputs": [],
   "source": []
  }
 ],
 "metadata": {
  "kernelspec": {
   "display_name": "Python 3",
   "language": "python",
   "name": "python3"
  },
  "language_info": {
   "codemirror_mode": {
    "name": "ipython",
    "version": 3
   },
   "file_extension": ".py",
   "mimetype": "text/x-python",
   "name": "python",
   "nbconvert_exporter": "python",
   "pygments_lexer": "ipython3",
   "version": "3.7.3"
  }
 },
 "nbformat": 4,
 "nbformat_minor": 2
}
