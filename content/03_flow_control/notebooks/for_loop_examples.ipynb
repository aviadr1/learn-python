{
 "cells": [
  {
   "cell_type": "markdown",
   "metadata": {},
   "source": [
    "\n",
    "<a href=\"https://colab.research.google.com/github/aviadr1/learn-python/blob/master/content/03_flow_control/notebooks/for_loop_examples.ipynb\" target=\"_blank\">\n",
    "<img src=\"https://colab.research.google.com/assets/colab-badge.svg\" \n",
    "     title=\"Open this file in Google Colab\" alt=\"Colab\"/>\n",
    "</a>\n"
   ]
  },
  {
   "cell_type": "code",
   "execution_count": 0,
   "metadata": {
    "colab": {},
    "colab_type": "code",
    "id": "KG9b3fHnjv_w"
   },
   "outputs": [],
   "source": [
    "costs = {\n",
    "    \"Gouda\" : 4.99 ,\n",
    "    \"Edam\" : 2.45,\n",
    "    \"Camambert\" : 7.75,\n",
    "    \"Bree\" : 7.27\n",
    "}\n",
    "\n",
    "costs['Gouda'] = costs['Gouda'] * 1.27\n",
    "costs['Edam'] = costs['Edam'] * 1.27\n",
    "costs['Camambert'] = costs['Camambert'] * 1.27\n",
    "costs['Bree'] = costs['Bree'] * 1.27"
   ]
  },
  {
   "cell_type": "code",
   "execution_count": 0,
   "metadata": {
    "colab": {},
    "colab_type": "code",
    "id": "oQustJctxr2V"
   },
   "outputs": [],
   "source": [
    "prices = [4.99 , 2.45, 7.75, 7.27, 10, 20, 30, 40, 50, 60]"
   ]
  },
  {
   "cell_type": "code",
   "execution_count": 5,
   "metadata": {
    "colab": {
     "base_uri": "https://localhost:8080/",
     "height": 34
    },
    "colab_type": "code",
    "id": "qSpvO9Wnx4ia",
    "outputId": "6f6bde64-4a3f-44cc-eac2-61c16ea9a179"
   },
   "outputs": [
    {
     "name": "stdout",
     "output_type": "stream",
     "text": [
      "22.46\n"
     ]
    }
   ],
   "source": [
    "total = 0\n",
    "total = total + prices[0]\n",
    "total = total + prices[1]\n",
    "total = total + prices[2]\n",
    "total = total + prices[3]\n",
    "print(total)"
   ]
  },
  {
   "cell_type": "code",
   "execution_count": 12,
   "metadata": {
    "colab": {
     "base_uri": "https://localhost:8080/",
     "height": 51
    },
    "colab_type": "code",
    "id": "ExyuAD7MyDeD",
    "outputId": "67e96dd2-53d0-47b2-8dbd-b8284c867f99"
   },
   "outputs": [
    {
     "name": "stdout",
     "output_type": "stream",
     "text": [
      "\n",
      "result:  232.46\n"
     ]
    }
   ],
   "source": [
    "total = 0\n",
    "for price in prices:\n",
    "    #print('this price:', price)\n",
    "    total = total + price\n",
    "    #print('total now:', total)\n",
    "\n",
    "print()  \n",
    "print(\"result: \", total)"
   ]
  },
  {
   "cell_type": "code",
   "execution_count": 13,
   "metadata": {
    "colab": {
     "base_uri": "https://localhost:8080/",
     "height": 69
    },
    "colab_type": "code",
    "id": "rUNYWoGUyVE7",
    "outputId": "90207a02-81c7-4458-b171-f42c23683826"
   },
   "outputs": [
    {
     "name": "stdout",
     "output_type": "stream",
     "text": [
      "a\n",
      "b\n",
      "c\n"
     ]
    }
   ],
   "source": [
    "print(\"a\")\n",
    "print(\"b\")\n",
    "print(\"c\")\n"
   ]
  },
  {
   "cell_type": "code",
   "execution_count": 17,
   "metadata": {
    "colab": {
     "base_uri": "https://localhost:8080/",
     "height": 34
    },
    "colab_type": "code",
    "id": "9M3O6DjJ3XGF",
    "outputId": "c8ff09ec-b10b-4a97-9c0e-44b52c933005"
   },
   "outputs": [
    {
     "name": "stdout",
     "output_type": "stream",
     "text": [
      "a b c "
     ]
    }
   ],
   "source": [
    "print(\"a\", end=\" \")\n",
    "print(\"b\", end=\" \")\n",
    "print(\"c\", end=\" \")"
   ]
  },
  {
   "cell_type": "code",
   "execution_count": 18,
   "metadata": {
    "colab": {
     "base_uri": "https://localhost:8080/",
     "height": 206
    },
    "colab_type": "code",
    "id": "6jy2B0zS3fzU",
    "outputId": "ad49a8ed-5fc2-49a4-a5f0-df584bc26bf3"
   },
   "outputs": [
    {
     "name": "stdout",
     "output_type": "stream",
     "text": [
      "i\n",
      "l\n",
      "l\n",
      " \n",
      "b\n",
      "e\n",
      " \n",
      "b\n",
      "a\n",
      "c\n",
      "k\n"
     ]
    }
   ],
   "source": [
    "quote = \"ill be back\"\n",
    "for character in quote:\n",
    "    print(character)\n",
    "\n",
    "#iillll  bbee  bbaacckk"
   ]
  },
  {
   "cell_type": "code",
   "execution_count": 19,
   "metadata": {
    "colab": {
     "base_uri": "https://localhost:8080/",
     "height": 34
    },
    "colab_type": "code",
    "id": "sC4I23mU4BvW",
    "outputId": "96fd18ef-9302-4c04-c118-bd5d5f1c0df5"
   },
   "outputs": [
    {
     "data": {
      "text/plain": [
       "'ill be back'"
      ]
     },
     "execution_count": 19,
     "metadata": {
      "tags": []
     },
     "output_type": "execute_result"
    }
   ],
   "source": [
    "quote"
   ]
  },
  {
   "cell_type": "code",
   "execution_count": 23,
   "metadata": {
    "colab": {
     "base_uri": "https://localhost:8080/",
     "height": 34
    },
    "colab_type": "code",
    "id": "NgknaEGr8fLa",
    "outputId": "c4d38e82-8f83-4da0-f130-4c582a2364f6"
   },
   "outputs": [
    {
     "name": "stdout",
     "output_type": "stream",
     "text": [
      "ill ill be be back back "
     ]
    }
   ],
   "source": [
    "for word in quote.split():\n",
    "    print(word, end=' ')\n",
    "    print(word, end=' ')"
   ]
  },
  {
   "cell_type": "code",
   "execution_count": 30,
   "metadata": {
    "colab": {
     "base_uri": "https://localhost:8080/",
     "height": 34
    },
    "colab_type": "code",
    "id": "HtTkJU178s9g",
    "outputId": "e893555d-76b3-4820-e408-2274ef9c9450"
   },
   "outputs": [
    {
     "name": "stdout",
     "output_type": "stream",
     "text": [
      "!!!!!!!!!!!"
     ]
    }
   ],
   "source": [
    "for char in quote:\n",
    "    print('!', end='')"
   ]
  },
  {
   "cell_type": "code",
   "execution_count": 52,
   "metadata": {
    "colab": {
     "base_uri": "https://localhost:8080/",
     "height": 34
    },
    "colab_type": "code",
    "id": "0Hcr2GBtANo0",
    "outputId": "30171ebf-fb2e-4498-a85d-feb1cb0b37cc"
   },
   "outputs": [
    {
     "name": "stdout",
     "output_type": "stream",
     "text": [
      "0 1 2 3 4 5 6 7 8 9 "
     ]
    }
   ],
   "source": [
    "for x in range(10):\n",
    "    print(x, end=' ')"
   ]
  },
  {
   "cell_type": "code",
   "execution_count": 51,
   "metadata": {
    "colab": {
     "base_uri": "https://localhost:8080/",
     "height": 34
    },
    "colab_type": "code",
    "id": "ukhm2ONJAbPb",
    "outputId": "abd2259b-af94-45ed-af79-96f4cd4e7b6a"
   },
   "outputs": [
    {
     "name": "stdout",
     "output_type": "stream",
     "text": [
      "10 11 12 13 14 15 16 17 18 19 "
     ]
    }
   ],
   "source": [
    "for x in range(10, 20):\n",
    "    print(x, end=' ')"
   ]
  },
  {
   "cell_type": "code",
   "execution_count": 41,
   "metadata": {
    "colab": {
     "base_uri": "https://localhost:8080/",
     "height": 34
    },
    "colab_type": "code",
    "id": "yxWsHvzG-Z4f",
    "outputId": "ea83df89-5932-481b-ee0d-56e0b29db188"
   },
   "outputs": [
    {
     "data": {
      "text/plain": [
       "[0, 1, 2, 3, 4, 5, 6, 7, 8]"
      ]
     },
     "execution_count": 41,
     "metadata": {
      "tags": []
     },
     "output_type": "execute_result"
    }
   ],
   "source": [
    "nums = []\n",
    "nums.append(0)\n",
    "nums.append(1)\n",
    "nums.append(2)\n",
    "nums.append(3)\n",
    "nums.append(4)\n",
    "nums.append(5)\n",
    "nums.append(6)\n",
    "nums.append(7)\n",
    "nums.append(8)\n",
    "\n",
    "nums"
   ]
  },
  {
   "cell_type": "code",
   "execution_count": 43,
   "metadata": {
    "colab": {
     "base_uri": "https://localhost:8080/",
     "height": 34
    },
    "colab_type": "code",
    "id": "dI3NFA1f-cQX",
    "outputId": "e6f42969-db67-4553-b0b3-86ae9cb23728"
   },
   "outputs": [
    {
     "name": "stdout",
     "output_type": "stream",
     "text": [
      "[0, 1, 2, 3, 4, 5, 6, 7, 8, 9]\n"
     ]
    }
   ],
   "source": [
    "nums = []\n",
    "for x in range(10):\n",
    "    nums.append(x)\n",
    "\n",
    "print(nums)"
   ]
  },
  {
   "cell_type": "code",
   "execution_count": 46,
   "metadata": {
    "colab": {
     "base_uri": "https://localhost:8080/",
     "height": 34
    },
    "colab_type": "code",
    "id": "R3sUkkfy-dLA",
    "outputId": "5fcb50bb-f888-4fc3-e8df-e05bd3739d40"
   },
   "outputs": [
    {
     "name": "stdout",
     "output_type": "stream",
     "text": [
      "**********"
     ]
    }
   ],
   "source": [
    "for x in range(10):\n",
    "    print('*', end=\"\")"
   ]
  },
  {
   "cell_type": "code",
   "execution_count": 49,
   "metadata": {
    "colab": {
     "base_uri": "https://localhost:8080/",
     "height": 189
    },
    "colab_type": "code",
    "id": "vQeT6sAT-dy3",
    "outputId": "b5eff070-e5c2-496a-9705-2c4d4bf63a69"
   },
   "outputs": [
    {
     "name": "stdout",
     "output_type": "stream",
     "text": [
      "**********\n",
      "**********\n",
      "**********\n",
      "**********\n",
      "**********\n",
      "**********\n",
      "**********\n",
      "**********\n",
      "**********\n",
      "**********\n"
     ]
    }
   ],
   "source": [
    "for x in range(10):\n",
    "    for y in range(10):\n",
    "        print('*', end=\"\")\n",
    "    print()"
   ]
  }
 ],
 "metadata": {
  "colab": {
   "name": "for loop.ipynb",
   "provenance": []
  },
  "kernelspec": {
   "display_name": "Python 3",
   "language": "python",
   "name": "python3"
  },
  "language_info": {
   "codemirror_mode": {
    "name": "ipython",
    "version": 3
   },
   "file_extension": ".py",
   "mimetype": "text/x-python",
   "name": "python",
   "nbconvert_exporter": "python",
   "pygments_lexer": "ipython3",
   "version": "3.7.3"
  }
 },
 "nbformat": 4,
 "nbformat_minor": 1
}
