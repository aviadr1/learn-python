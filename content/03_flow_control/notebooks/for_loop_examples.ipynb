{
  "nbformat": 4,
  "nbformat_minor": 0,
  "metadata": {
    "colab": {
      "name": "for loop.ipynb",
      "provenance": []
    },
    "kernelspec": {
      "name": "python3",
      "display_name": "Python 3"
    }
  },
  "cells": [
    {
      "cell_type": "code",
      "metadata": {
        "id": "KG9b3fHnjv_w",
        "colab_type": "code",
        "colab": {}
      },
      "source": [
        "costs = {\n",
        "    \"Gouda\" : 4.99 ,\n",
        "    \"Edam\" : 2.45,\n",
        "    \"Camambert\" : 7.75,\n",
        "    \"Bree\" : 7.27\n",
        "}\n",
        "\n",
        "costs['Gouda'] = costs['Gouda'] * 1.27\n",
        "costs['Edam'] = costs['Edam'] * 1.27\n",
        "costs['Camambert'] = costs['Camambert'] * 1.27\n",
        "costs['Bree'] = costs['Bree'] * 1.27"
      ],
      "execution_count": 0,
      "outputs": []
    },
    {
      "cell_type": "code",
      "metadata": {
        "id": "oQustJctxr2V",
        "colab_type": "code",
        "colab": {}
      },
      "source": [
        "prices = [4.99 , 2.45, 7.75, 7.27, 10, 20, 30, 40, 50, 60]"
      ],
      "execution_count": 0,
      "outputs": []
    },
    {
      "cell_type": "code",
      "metadata": {
        "id": "qSpvO9Wnx4ia",
        "colab_type": "code",
        "colab": {
          "base_uri": "https://localhost:8080/",
          "height": 34
        },
        "outputId": "6f6bde64-4a3f-44cc-eac2-61c16ea9a179"
      },
      "source": [
        "total = 0\n",
        "total = total + prices[0]\n",
        "total = total + prices[1]\n",
        "total = total + prices[2]\n",
        "total = total + prices[3]\n",
        "print(total)"
      ],
      "execution_count": 5,
      "outputs": [
        {
          "output_type": "stream",
          "text": [
            "22.46\n"
          ],
          "name": "stdout"
        }
      ]
    },
    {
      "cell_type": "code",
      "metadata": {
        "id": "ExyuAD7MyDeD",
        "colab_type": "code",
        "colab": {
          "base_uri": "https://localhost:8080/",
          "height": 51
        },
        "outputId": "67e96dd2-53d0-47b2-8dbd-b8284c867f99"
      },
      "source": [
        "total = 0\n",
        "for price in prices:\n",
        "    #print('this price:', price)\n",
        "    total = total + price\n",
        "    #print('total now:', total)\n",
        "\n",
        "print()  \n",
        "print(\"result: \", total)"
      ],
      "execution_count": 12,
      "outputs": [
        {
          "output_type": "stream",
          "text": [
            "\n",
            "result:  232.46\n"
          ],
          "name": "stdout"
        }
      ]
    },
    {
      "cell_type": "code",
      "metadata": {
        "id": "rUNYWoGUyVE7",
        "colab_type": "code",
        "colab": {
          "base_uri": "https://localhost:8080/",
          "height": 69
        },
        "outputId": "90207a02-81c7-4458-b171-f42c23683826"
      },
      "source": [
        "print(\"a\")\n",
        "print(\"b\")\n",
        "print(\"c\")\n"
      ],
      "execution_count": 13,
      "outputs": [
        {
          "output_type": "stream",
          "text": [
            "a\n",
            "b\n",
            "c\n"
          ],
          "name": "stdout"
        }
      ]
    },
    {
      "cell_type": "code",
      "metadata": {
        "id": "9M3O6DjJ3XGF",
        "colab_type": "code",
        "colab": {
          "base_uri": "https://localhost:8080/",
          "height": 34
        },
        "outputId": "c8ff09ec-b10b-4a97-9c0e-44b52c933005"
      },
      "source": [
        "print(\"a\", end=\" \")\n",
        "print(\"b\", end=\" \")\n",
        "print(\"c\", end=\" \")"
      ],
      "execution_count": 17,
      "outputs": [
        {
          "output_type": "stream",
          "text": [
            "a b c "
          ],
          "name": "stdout"
        }
      ]
    },
    {
      "cell_type": "code",
      "metadata": {
        "id": "6jy2B0zS3fzU",
        "colab_type": "code",
        "colab": {
          "base_uri": "https://localhost:8080/",
          "height": 206
        },
        "outputId": "ad49a8ed-5fc2-49a4-a5f0-df584bc26bf3"
      },
      "source": [
        "quote = \"ill be back\"\n",
        "for character in quote:\n",
        "    print(character)\n",
        "\n",
        "#iillll  bbee  bbaacckk"
      ],
      "execution_count": 18,
      "outputs": [
        {
          "output_type": "stream",
          "text": [
            "i\n",
            "l\n",
            "l\n",
            " \n",
            "b\n",
            "e\n",
            " \n",
            "b\n",
            "a\n",
            "c\n",
            "k\n"
          ],
          "name": "stdout"
        }
      ]
    },
    {
      "cell_type": "code",
      "metadata": {
        "id": "sC4I23mU4BvW",
        "colab_type": "code",
        "colab": {
          "base_uri": "https://localhost:8080/",
          "height": 34
        },
        "outputId": "96fd18ef-9302-4c04-c118-bd5d5f1c0df5"
      },
      "source": [
        "quote"
      ],
      "execution_count": 19,
      "outputs": [
        {
          "output_type": "execute_result",
          "data": {
            "text/plain": [
              "'ill be back'"
            ]
          },
          "metadata": {
            "tags": []
          },
          "execution_count": 19
        }
      ]
    },
    {
      "cell_type": "code",
      "metadata": {
        "id": "NgknaEGr8fLa",
        "colab_type": "code",
        "colab": {
          "base_uri": "https://localhost:8080/",
          "height": 34
        },
        "outputId": "c4d38e82-8f83-4da0-f130-4c582a2364f6"
      },
      "source": [
        "for word in quote.split():\n",
        "    print(word, end=' ')\n",
        "    print(word, end=' ')"
      ],
      "execution_count": 23,
      "outputs": [
        {
          "output_type": "stream",
          "text": [
            "ill ill be be back back "
          ],
          "name": "stdout"
        }
      ]
    },
    {
      "cell_type": "code",
      "metadata": {
        "id": "HtTkJU178s9g",
        "colab_type": "code",
        "colab": {
          "base_uri": "https://localhost:8080/",
          "height": 34
        },
        "outputId": "e893555d-76b3-4820-e408-2274ef9c9450"
      },
      "source": [
        "for char in quote:\n",
        "    print('!', end='')"
      ],
      "execution_count": 30,
      "outputs": [
        {
          "output_type": "stream",
          "text": [
            "!!!!!!!!!!!"
          ],
          "name": "stdout"
        }
      ]
    },
    {
      "cell_type": "code",
      "metadata": {
        "id": "0Hcr2GBtANo0",
        "colab_type": "code",
        "colab": {
          "base_uri": "https://localhost:8080/",
          "height": 34
        },
        "outputId": "30171ebf-fb2e-4498-a85d-feb1cb0b37cc"
      },
      "source": [
        "for x in range(10):\n",
        "    print(x, end=' ')"
      ],
      "execution_count": 52,
      "outputs": [
        {
          "output_type": "stream",
          "text": [
            "0 1 2 3 4 5 6 7 8 9 "
          ],
          "name": "stdout"
        }
      ]
    },
    {
      "cell_type": "code",
      "metadata": {
        "id": "ukhm2ONJAbPb",
        "colab_type": "code",
        "colab": {
          "base_uri": "https://localhost:8080/",
          "height": 34
        },
        "outputId": "abd2259b-af94-45ed-af79-96f4cd4e7b6a"
      },
      "source": [
        "for x in range(10, 20):\n",
        "    print(x, end=' ')"
      ],
      "execution_count": 51,
      "outputs": [
        {
          "output_type": "stream",
          "text": [
            "10 11 12 13 14 15 16 17 18 19 "
          ],
          "name": "stdout"
        }
      ]
    },
    {
      "cell_type": "code",
      "metadata": {
        "id": "yxWsHvzG-Z4f",
        "colab_type": "code",
        "colab": {
          "base_uri": "https://localhost:8080/",
          "height": 34
        },
        "outputId": "ea83df89-5932-481b-ee0d-56e0b29db188"
      },
      "source": [
        "nums = []\n",
        "nums.append(0)\n",
        "nums.append(1)\n",
        "nums.append(2)\n",
        "nums.append(3)\n",
        "nums.append(4)\n",
        "nums.append(5)\n",
        "nums.append(6)\n",
        "nums.append(7)\n",
        "nums.append(8)\n",
        "\n",
        "nums"
      ],
      "execution_count": 41,
      "outputs": [
        {
          "output_type": "execute_result",
          "data": {
            "text/plain": [
              "[0, 1, 2, 3, 4, 5, 6, 7, 8]"
            ]
          },
          "metadata": {
            "tags": []
          },
          "execution_count": 41
        }
      ]
    },
    {
      "cell_type": "code",
      "metadata": {
        "id": "dI3NFA1f-cQX",
        "colab_type": "code",
        "colab": {
          "base_uri": "https://localhost:8080/",
          "height": 34
        },
        "outputId": "e6f42969-db67-4553-b0b3-86ae9cb23728"
      },
      "source": [
        "nums = []\n",
        "for x in range(10):\n",
        "    nums.append(x)\n",
        "\n",
        "print(nums)"
      ],
      "execution_count": 43,
      "outputs": [
        {
          "output_type": "stream",
          "text": [
            "[0, 1, 2, 3, 4, 5, 6, 7, 8, 9]\n"
          ],
          "name": "stdout"
        }
      ]
    },
    {
      "cell_type": "code",
      "metadata": {
        "id": "R3sUkkfy-dLA",
        "colab_type": "code",
        "colab": {
          "base_uri": "https://localhost:8080/",
          "height": 34
        },
        "outputId": "5fcb50bb-f888-4fc3-e8df-e05bd3739d40"
      },
      "source": [
        "for x in range(10):\n",
        "    print('*', end=\"\")"
      ],
      "execution_count": 46,
      "outputs": [
        {
          "output_type": "stream",
          "text": [
            "**********"
          ],
          "name": "stdout"
        }
      ]
    },
    {
      "cell_type": "code",
      "metadata": {
        "id": "vQeT6sAT-dy3",
        "colab_type": "code",
        "colab": {
          "base_uri": "https://localhost:8080/",
          "height": 189
        },
        "outputId": "b5eff070-e5c2-496a-9705-2c4d4bf63a69"
      },
      "source": [
        "for x in range(10):\n",
        "    for y in range(10):\n",
        "        print('*', end=\"\")\n",
        "    print()"
      ],
      "execution_count": 49,
      "outputs": [
        {
          "output_type": "stream",
          "text": [
            "**********\n",
            "**********\n",
            "**********\n",
            "**********\n",
            "**********\n",
            "**********\n",
            "**********\n",
            "**********\n",
            "**********\n",
            "**********\n"
          ],
          "name": "stdout"
        }
      ]
    }
  ]
}