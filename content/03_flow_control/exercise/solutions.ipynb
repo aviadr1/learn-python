{
  "nbformat": 4,
  "nbformat_minor": 0,
  "metadata": {
    "kernelspec": {
      "display_name": "Python 3",
      "language": "python",
      "name": "python3"
    },
    "language_info": {
      "codemirror_mode": {
        "name": "ipython",
        "version": 3
      },
      "file_extension": ".py",
      "mimetype": "text/x-python",
      "name": "python",
      "nbconvert_exporter": "python",
      "pygments_lexer": "ipython3",
      "version": "3.7.3"
    },
    "colab": {
      "name": "solutions.ipynb",
      "provenance": []
    }
  },
  "cells": [
    {
      "cell_type": "markdown",
      "metadata": {
        "id": "BTtGm_lQBKik",
        "colab_type": "text"
      },
      "source": [
        "\n",
        "<a href=\"https://colab.research.google.com/github/aviadr1/learn-python/blob/master/content/03_flow_control/exercise/solutions.ipynb\" target=\"_blank\">\n",
        "<img src=\"https://colab.research.google.com/assets/colab-badge.svg\" \n",
        "     title=\"Open this file in Google Colab\" alt=\"Colab\"/>\n",
        "</a>\n"
      ]
    },
    {
      "cell_type": "markdown",
      "metadata": {
        "id": "3b1Ml-ZHBKil",
        "colab_type": "text"
      },
      "source": [
        "# IMPORTANT\n",
        "\n",
        "this is an incredibly crucial lesson. and requirs A LOT of excersizes to really get the hang of. please do all the excersizes, and if you found them challenging, keep doing more excersizes and even doing the same excersizes again and again until you can reliably solve them easily.\n",
        "\n",
        "### Where to find more excercises?\n",
        "\n",
        "For more exercizes on loops, see this [link](https://bit.ly/aviad-python-loops) which contains 44 exercises with solutions:"
      ]
    },
    {
      "cell_type": "markdown",
      "metadata": {
        "id": "oztHCHk_1yXE",
        "colab_type": "text"
      },
      "source": [
        "# for loops"
      ]
    },
    {
      "cell_type": "markdown",
      "metadata": {
        "id": "IB8Efca4Bw0U",
        "colab_type": "text"
      },
      "source": [
        "### iterating over a word list with a `for` loop\n",
        "Here's a line from [some old movie](https://www.youtube.com/watch?v=ZtYU87QNjPw)\n",
        "```python\n",
        "quote = \"Strange women lying in ponds, distributing swords, is no basis for a system of government!\"\n",
        "```\n",
        "\n",
        "1. use the .split() function to split it into a list of words. \n",
        "2. use the `for` loop to iterate over each word in the list\n",
        "   - for each word, print the word and its `len()`\n",
        "\n",
        "expected output:\n",
        "```\n",
        "Strange 7\n",
        "women 5\n",
        "lying 5\n",
        "in 2\n",
        "ponds, 6\n",
        "distributing 12\n",
        "swords, 7\n",
        "is 2\n",
        "no 2\n",
        "basis 5\n",
        "for 3\n",
        "a 1\n",
        "system 6\n",
        "of 2\n",
        "government! 11\n",
        "```\n",
        "\n",
        "\n",
        "\n"
      ]
    },
    {
      "cell_type": "code",
      "metadata": {
        "id": "XwoSf917DeHv",
        "colab_type": "code",
        "outputId": "20fe793d-7810-4dac-c32c-f447c52545a8",
        "colab": {
          "base_uri": "https://localhost:8080/",
          "height": 275
        }
      },
      "source": [
        "quote = \"Strange women lying in ponds, distributing swords, is no basis for a system of government!\"\n",
        "words = quote.split()\n",
        "for word in words:\n",
        "    print(word, len(word))"
      ],
      "execution_count": 1,
      "outputs": [
        {
          "output_type": "stream",
          "text": [
            "Strange 7\n",
            "women 5\n",
            "lying 5\n",
            "in 2\n",
            "ponds, 6\n",
            "distributing 12\n",
            "swords, 7\n",
            "is 2\n",
            "no 2\n",
            "basis 5\n",
            "for 3\n",
            "a 1\n",
            "system 6\n",
            "of 2\n",
            "government! 11\n"
          ],
          "name": "stdout"
        }
      ]
    },
    {
      "cell_type": "markdown",
      "metadata": {
        "id": "zKqHd2orGHF3",
        "colab_type": "text"
      },
      "source": [
        "### comments\n",
        "\n",
        "> - Sometimes we want to write something that will explain the code we write, for this we can use comments.\n",
        "> ``` python\n",
        "> # this is a comment\n",
        "> x = 10 + 90\n",
        "> x = x * 2 # this is a comment at the end of a line \n",
        "> print(x) # will print 200\n",
        "> ```\n",
        "> \n",
        "> - comments start with the `#` character and continue until the end of the line\n",
        "> - comments are just for reading by humans, the python interepreter completely ignores them\n",
        "\n",
        "#### write helpful comments \n",
        "copy this code to the answer below, and write short comments between the lines that explain the code\n",
        "```python\n",
        "hamburger = 59\n",
        "pizza = 39\n",
        "steak = 150\n",
        "soup = 42\n",
        "salad = 35\n",
        "chips=18\n",
        "\n",
        "dinner = [\n",
        "    hamburger,\n",
        "    hamburger,\n",
        "    salad,\n",
        "    chips\n",
        "]\n",
        "\n",
        "cost_of_dinner = 0\n",
        "for food_item_cost in dinner:\n",
        "    cost_of_dinner = cost_of_dinner + food_item_cost\n",
        "\n",
        "print(cost_of_dinner)\n",
        "```"
      ]
    },
    {
      "cell_type": "code",
      "metadata": {
        "id": "zlowRzRRJ262",
        "colab_type": "code",
        "outputId": "391fc5e3-2acf-4d1f-f2d6-2cec94b03601",
        "colab": {
          "base_uri": "https://localhost:8080/",
          "height": 34
        }
      },
      "source": [
        "# put the cost of each item in the menu in a variable\n",
        "hamburger = 59\n",
        "pizza = 39\n",
        "steak = 150\n",
        "soup = 42\n",
        "salad = 35\n",
        "chips=18\n",
        " \n",
        "# create a list of all the item costs for a particular dinner\n",
        "dinner = [\n",
        "    hamburger,\n",
        "    hamburger,\n",
        "    salad,\n",
        "    chips,\n",
        "    steak,\n",
        "    salad,\n",
        "    soup\n",
        "]\n",
        "\n",
        "# calculate the cost of the dinner :\n",
        "cost_of_dinner = 0 # before people ordered food, the cost of the dinner was 0\n",
        "for food_item_cost in dinner: # now go through each item people ordered for dinner\n",
        "    cost_of_dinner = cost_of_dinner + food_item_cost # add the cost of this item to the total cost\n",
        "\n",
        "# now we have the full cost of the dinner, let's print it\n",
        "print(cost_of_dinner)"
      ],
      "execution_count": 2,
      "outputs": [
        {
          "output_type": "stream",
          "text": [
            "398\n"
          ],
          "name": "stdout"
        }
      ]
    },
    {
      "cell_type": "markdown",
      "metadata": {
        "id": "giONkQnFDcwB",
        "colab_type": "text"
      },
      "source": [
        "### a nice dinner for two\n",
        "1. copy this code below\n",
        "```python\n",
        "dinner = [\n",
        "        # Sashimi plate\n",
        "        60, \n",
        "        # some maki\n",
        "        30, 35, 39,\n",
        "        # agadashi \n",
        "        28,\n",
        "        # miso\n",
        "        18, 18,\n",
        "        # lots of sake\n",
        "        33, 39, 33,\n",
        "        ]\n",
        "```\n",
        "\n",
        "\n",
        "1. use a `for` loop to calculate the cost of the dinner\n",
        "   > this should take 3 lines\n",
        "\n",
        "1. this is a dinner for two. what is the average cost per person for this dinner?\n",
        "   > hint: divide by 2\n",
        "\n",
        "\n",
        "\n",
        "\n"
      ]
    },
    {
      "cell_type": "code",
      "metadata": {
        "id": "dP7D-FhWMRfw",
        "colab_type": "code",
        "outputId": "fbf43ded-83ba-4254-e0a8-e51feb146e48",
        "colab": {
          "base_uri": "https://localhost:8080/",
          "height": 34
        }
      },
      "source": [
        "dinner = [\n",
        "    # Sashimi plate\n",
        "    60, \n",
        "    # some maki\n",
        "    30, 35, 39,\n",
        "    # agadashi \n",
        "    28,\n",
        "    # miso\n",
        "    18, 18,\n",
        "    # lots of sake\n",
        "    33, 39, 33,\n",
        "    ]\n",
        "\n",
        "cost_of_dinner = 0\n",
        "for food_item_cost in dinner:\n",
        "    # we use += because it is just a shorter way of writing\n",
        "    # cost_of_dinner = cost_of_dinner + food_item_cost\n",
        "    cost_of_dinner += food_item_cost\n",
        "\n",
        "number_of_people = 2\n",
        "average_per_person = cost_of_dinner/ number_of_people\n",
        "print(average_per_person)"
      ],
      "execution_count": 3,
      "outputs": [
        {
          "output_type": "stream",
          "text": [
            "166.5\n"
          ],
          "name": "stdout"
        }
      ]
    },
    {
      "cell_type": "markdown",
      "metadata": {
        "id": "nQvt0_r94hz8",
        "colab_type": "text"
      },
      "source": [
        "### iterating over letters in a string\n",
        "1. what does the following code do? try it\n",
        "```python \n",
        "monty = \"This is an ex parrot\"\n",
        "for letter in monty:\n",
        "    print(letter, end=\" \")\n",
        "``` \n",
        "2. what does the `end=\" \"` part do? try to chage it to different values:\n",
        "   - `\" @ \"` \n",
        "   - `\"\"`\n",
        "   - `\" --- \"` \n",
        "   - `\"\\n\"`\n",
        "\n",
        "3. can you write a loop that prints each letter twice?\n",
        "   > expected output:\n",
        "   ```\n",
        "   TThhiiss  iiss  aann  eexx  ppaarrrroott\n",
        "   ```\n"
      ]
    },
    {
      "cell_type": "code",
      "metadata": {
        "id": "WP26k_9H6KfN",
        "colab_type": "code",
        "colab": {
          "base_uri": "https://localhost:8080/",
          "height": 34
        },
        "outputId": "e6788f2a-b312-4f80-8a90-fb2dad3e72f2"
      },
      "source": [
        "monty = \"This is an ex parrot\"\n",
        "for letter in monty:\n",
        "    print(letter, end='')\n",
        "    print(letter, end='')"
      ],
      "execution_count": 4,
      "outputs": [
        {
          "output_type": "stream",
          "text": [
            "TThhiiss  iiss  aann  eexx  ppaarrrroott"
          ],
          "name": "stdout"
        }
      ]
    },
    {
      "cell_type": "markdown",
      "metadata": {
        "id": "PyL0ekfeOB_Z",
        "colab_type": "text"
      },
      "source": [
        "### range() - lists of numbers\n",
        "\n",
        "1. run the following code\n",
        "   ```python\n",
        "   print(range(10))\n",
        "   ```\n",
        "   what does it print? \n",
        "\n",
        "1. the function `range(10)` __actually__ returns a _list-like_ object . iterate over all the elements of `range(10)` using a `for` loop and print each item in that list\n",
        "   - repeat for `range(15)`\n",
        "2. what does the function `range(10,20)` return ? print everything in that list \n",
        "   - repeat for `range(1,5)`\n",
        "3. what does the function `range(0,10,2)` return? print everything in that list \n",
        "   - repeat for `range(0, 100, 10)`\n",
        "   - repeat for `range(100, 0, -10)`\n",
        "\n",
        "4. generally speaking, can you explain what function `range` does? \n",
        "\n",
        "5. 😵 can you solve this exercise with much fewer lines of code?\n",
        "   > hint:\n",
        "   > 1. put all the interesting ranges into a list of ranges\n",
        "   > 2. iterate over the list of ranges with a `for` loop\n",
        "   > 3. for each range in the list, use another _nested_/_inner_ `for` loop to print out all the elements of the list  \n",
        "\n",
        "\n"
      ]
    },
    {
      "cell_type": "code",
      "metadata": {
        "id": "gymI1XP9ObDJ",
        "colab_type": "code",
        "outputId": "89f70a7f-2a7e-4e36-d0c6-1ac4d16df0ce",
        "colab": {
          "base_uri": "https://localhost:8080/",
          "height": 0
        }
      },
      "source": [
        "###\n",
        "### solution #1\n",
        "### \n",
        "print(range(10))\n",
        "for x in range(10):\n",
        "   print(x, end=' ')\n",
        "\n",
        "print(\"\\n\")\n",
        "print(range(15))\n",
        "for x in range(15):\n",
        "   print(x, end=' ')\n",
        "\n",
        "print(\"\\n\")\n",
        "print(range(10, 20))\n",
        "for x in range(10, 20):\n",
        "   print(x, end=' ')\n",
        "\n",
        "print(\"\\n\")\n",
        "print(range(1, 5))\n",
        "for x in range(1, 5):\n",
        "   print(x, end=' ')\n",
        "\n",
        "print(\"\\n\")\n",
        "print(range(0, 10, 2))\n",
        "for x in range(0, 10, 2):\n",
        "   print(x, end=' ')\n",
        "\n",
        "print(\"\\n\")\n",
        "print(range(0, 100, 10))\n",
        "for x in range(0, 100, 10):\n",
        "   print(x, end=' ')\n",
        "\n",
        "print(\"\\n\")\n",
        "print(range(100, 0, -10))\n",
        "for x in range(100, 0, -10):\n",
        "   print(x, end=' ')"
      ],
      "execution_count": 5,
      "outputs": [
        {
          "output_type": "stream",
          "text": [
            "range(0, 10)\n",
            "0 1 2 3 4 5 6 7 8 9 \n",
            "\n",
            "range(0, 15)\n",
            "0 1 2 3 4 5 6 7 8 9 10 11 12 13 14 \n",
            "\n",
            "range(10, 20)\n",
            "10 11 12 13 14 15 16 17 18 19 \n",
            "\n",
            "range(1, 5)\n",
            "1 2 3 4 \n",
            "\n",
            "range(0, 10, 2)\n",
            "0 2 4 6 8 \n",
            "\n",
            "range(0, 100, 10)\n",
            "0 10 20 30 40 50 60 70 80 90 \n",
            "\n",
            "range(100, 0, -10)\n",
            "100 90 80 70 60 50 40 30 20 10 "
          ],
          "name": "stdout"
        }
      ]
    },
    {
      "cell_type": "code",
      "metadata": {
        "id": "4aMmnvgPRMKr",
        "colab_type": "code",
        "outputId": "a185ece3-2807-41ca-d506-de68024ed441",
        "colab": {
          "base_uri": "https://localhost:8080/",
          "height": 0
        }
      },
      "source": [
        "###\n",
        "### solution #2\n",
        "###\n",
        "my_ranges = [range(10), range(15), range(10, 20), range(1, 5), range(0, 10, 2), range(0, 100, 10), range(100, 0, -10)]\n",
        "for my_range in my_ranges:\n",
        "    print(\"\\n\")\n",
        "    print(my_range)\n",
        "    for x in my_range:\n",
        "        print(x, end=' ')"
      ],
      "execution_count": 6,
      "outputs": [
        {
          "output_type": "stream",
          "text": [
            "\n",
            "\n",
            "range(0, 10)\n",
            "0 1 2 3 4 5 6 7 8 9 \n",
            "\n",
            "range(0, 15)\n",
            "0 1 2 3 4 5 6 7 8 9 10 11 12 13 14 \n",
            "\n",
            "range(10, 20)\n",
            "10 11 12 13 14 15 16 17 18 19 \n",
            "\n",
            "range(1, 5)\n",
            "1 2 3 4 \n",
            "\n",
            "range(0, 10, 2)\n",
            "0 2 4 6 8 \n",
            "\n",
            "range(0, 100, 10)\n",
            "0 10 20 30 40 50 60 70 80 90 \n",
            "\n",
            "range(100, 0, -10)\n",
            "100 90 80 70 60 50 40 30 20 10 "
          ],
          "name": "stdout"
        }
      ]
    },
    {
      "cell_type": "markdown",
      "metadata": {
        "id": "96WzAPQTUWNN",
        "colab_type": "text"
      },
      "source": [
        "### sum of numbers\n",
        "\n",
        "calculate the sum of the numbers between 0 and 1000\n",
        "$$0 + 1 + 2 + 3 + 4 + ... + 997 + 998 +999$$ \n",
        "\n",
        "> hint: \n",
        "> - you dont need math or any formula ...\n",
        "> - use the `range()` function and a `for` loop\n",
        "> - to test your code you can see if it gets the right answer for numbers between 0 and 5 $$0+ 1+ 2+ 3+ 4 = 10$$\n"
      ]
    },
    {
      "cell_type": "code",
      "metadata": {
        "id": "MYUl5jSwVGJu",
        "colab_type": "code",
        "outputId": "dd92710f-b914-45bf-a599-9336b4d15b4b",
        "colab": {
          "base_uri": "https://localhost:8080/",
          "height": 34
        }
      },
      "source": [
        "total = 0\n",
        "for x in range(1000):\n",
        "    total += x\n",
        "\n",
        "print(total)"
      ],
      "execution_count": 7,
      "outputs": [
        {
          "output_type": "stream",
          "text": [
            "499500\n"
          ],
          "name": "stdout"
        }
      ]
    },
    {
      "cell_type": "markdown",
      "metadata": {
        "id": "AMHMXaHn1-mW",
        "colab_type": "text"
      },
      "source": [
        "### average grades\n",
        "here are some grades for students in a class. calculate the average grade\n",
        "\n",
        "```python\n",
        "grades = [ 60, 90, 70, 100, 65, 95, 80, 80, 80]\n",
        "```\n",
        "\n",
        "> hints:\n",
        "> 1. use a for loop\n",
        "> 2. $average = \\frac{grade_1 + grade_2 + ... + grade_{n-1} + grade_n}{n}$\n",
        "\n"
      ]
    },
    {
      "cell_type": "code",
      "metadata": {
        "id": "zv6eFXoN279u",
        "colab_type": "code",
        "colab": {
          "base_uri": "https://localhost:8080/",
          "height": 34
        },
        "outputId": "e7727e81-f89a-4bd1-e978-56d2d991c0b0"
      },
      "source": [
        "grades = [ 60, 90, 70, 100, 65, 95, 80, 80, 80]\n",
        "total = 0\n",
        "for grade in grades:\n",
        "    total += grade\n",
        "\n",
        "print(total / len(grades))"
      ],
      "execution_count": 8,
      "outputs": [
        {
          "output_type": "stream",
          "text": [
            "80.0\n"
          ],
          "name": "stdout"
        }
      ]
    },
    {
      "cell_type": "markdown",
      "metadata": {
        "id": "IF6Uy5vfWix1",
        "colab_type": "text"
      },
      "source": [
        "### printing asterics\n",
        "1. what does the following code do?\n",
        "```python\n",
        "print('*', end=\"\")\n",
        "print('*', end=\"\")\n",
        "print('*', end=\"\")\n",
        "print('*', end=\"\")\n",
        "```\n",
        "\n",
        "1. use a `for` loop, `range()` and `print('*', end=\"\")` to print a line of 10 asterics\n",
        "   > expected output:\n",
        "   >   ```\n",
        "   >   **********\n",
        "   >   ```\n",
        "   > hint: this takes just two lines\n",
        "\n",
        "\n",
        "\n",
        "\n",
        "use a for loop"
      ]
    },
    {
      "cell_type": "code",
      "metadata": {
        "id": "_It6R1g7XJEc",
        "colab_type": "code",
        "outputId": "4a164701-b546-451f-9217-f00befc87585",
        "colab": {
          "base_uri": "https://localhost:8080/",
          "height": 34
        }
      },
      "source": [
        "for i in range(10):\n",
        "    print('*', end=\"\")"
      ],
      "execution_count": 9,
      "outputs": [
        {
          "output_type": "stream",
          "text": [
            "**********"
          ],
          "name": "stdout"
        }
      ]
    },
    {
      "cell_type": "markdown",
      "metadata": {
        "id": "DyAbbyRrBKi-",
        "colab_type": "text"
      },
      "source": [
        "### squares\n",
        "\n",
        "here's a square made of the `'*'` character with length 5\n",
        "\n",
        "    *****\n",
        "    *****\n",
        "    *****\n",
        "    *****\n",
        "    *****\n",
        "\n",
        "1. use the input() function to take a number from the user\n",
        "   ```\n",
        "   num = int(input('how big? '))\n",
        "   ```\n",
        "   \n",
        "1. can you use for loop(s) to print such a square of length `num`?\n",
        "\n",
        "hints: \n",
        "* use `print('*', end=\"\")` to print a single `'*'` character\n",
        "* you need more than one for loop"
      ]
    },
    {
      "cell_type": "code",
      "metadata": {
        "id": "9HN-8zPKBKi_",
        "colab_type": "code",
        "outputId": "00e9d783-524c-4f90-d504-6cf827129485",
        "colab": {
          "base_uri": "https://localhost:8080/",
          "height": 206
        }
      },
      "source": [
        "num = int(input('how big? '))\n",
        "for row in range(num):\n",
        "    for i in range(num):\n",
        "        print('*', end=\"\")\n",
        "    print()"
      ],
      "execution_count": 11,
      "outputs": [
        {
          "output_type": "stream",
          "text": [
            "how big? 10\n",
            "**********\n",
            "**********\n",
            "**********\n",
            "**********\n",
            "**********\n",
            "**********\n",
            "**********\n",
            "**********\n",
            "**********\n",
            "**********\n"
          ],
          "name": "stdout"
        }
      ]
    },
    {
      "cell_type": "markdown",
      "metadata": {
        "id": "i7i8TECMBKjB",
        "colab_type": "text"
      },
      "source": [
        "### triangles\n",
        "here's a triangle made of the `'*'` character with length 5\n",
        "   \n",
        "     *\n",
        "     **\n",
        "     ***\n",
        "     ****\n",
        "     *****\n",
        "\n",
        "can you use for loop(s) to print such a triangle of length 10?\n"
      ]
    },
    {
      "cell_type": "code",
      "metadata": {
        "id": "oYwLIbE1BKjB",
        "colab_type": "code",
        "outputId": "616d9e21-0581-428e-b887-328ec9aa37b1",
        "colab": {
          "base_uri": "https://localhost:8080/",
          "height": 189
        }
      },
      "source": [
        "for row in range(10):\n",
        "    for i in range(row+1):\n",
        "        print('*', end=\"\")\n",
        "    print()"
      ],
      "execution_count": 12,
      "outputs": [
        {
          "output_type": "stream",
          "text": [
            "*\n",
            "**\n",
            "***\n",
            "****\n",
            "*****\n",
            "******\n",
            "*******\n",
            "********\n",
            "*********\n",
            "**********\n"
          ],
          "name": "stdout"
        }
      ]
    },
    {
      "cell_type": "markdown",
      "metadata": {
        "id": "soolVgaHBKi3",
        "colab_type": "text"
      },
      "source": [
        "### for loop - multiplication matrix\n",
        "> - this question is slightly harder 🤯\n",
        "> - multiplication matrix = לוח הכפל\n",
        "\n",
        "this time, use `for` loop(s) and `range` to print the multiplication matrix\n",
        "in the following way (total of 100 lines)\n",
        "\n",
        "      1 x 1 = 1\n",
        "      1 x 2 = 2\n",
        "      ...\n",
        "      1 x 10 = 10\n",
        "      2 x 1 = 1\n",
        "      2 x 2 = 2\n",
        "      ...\n",
        "      2 x 10 = 20\n",
        "      ...\n",
        "      ...\n",
        "      10 x 1 = 10\n",
        "      10 x 2 = 20\n",
        "      ...\n",
        "      10 x 10 = 100"
      ]
    },
    {
      "cell_type": "code",
      "metadata": {
        "id": "v0_V_rQeBKi3",
        "colab_type": "code",
        "outputId": "2b09e4c4-26c0-4bf8-d009-70034fd786e3",
        "colab": {
          "base_uri": "https://localhost:8080/",
          "height": 1000
        }
      },
      "source": [
        "for i in range(1,10+1):\n",
        "    for j in range(1,10+1):\n",
        "         print(i, '*', j, '=', i*j)"
      ],
      "execution_count": 13,
      "outputs": [
        {
          "output_type": "stream",
          "text": [
            "1 * 1 = 1\n",
            "1 * 2 = 2\n",
            "1 * 3 = 3\n",
            "1 * 4 = 4\n",
            "1 * 5 = 5\n",
            "1 * 6 = 6\n",
            "1 * 7 = 7\n",
            "1 * 8 = 8\n",
            "1 * 9 = 9\n",
            "1 * 10 = 10\n",
            "2 * 1 = 2\n",
            "2 * 2 = 4\n",
            "2 * 3 = 6\n",
            "2 * 4 = 8\n",
            "2 * 5 = 10\n",
            "2 * 6 = 12\n",
            "2 * 7 = 14\n",
            "2 * 8 = 16\n",
            "2 * 9 = 18\n",
            "2 * 10 = 20\n",
            "3 * 1 = 3\n",
            "3 * 2 = 6\n",
            "3 * 3 = 9\n",
            "3 * 4 = 12\n",
            "3 * 5 = 15\n",
            "3 * 6 = 18\n",
            "3 * 7 = 21\n",
            "3 * 8 = 24\n",
            "3 * 9 = 27\n",
            "3 * 10 = 30\n",
            "4 * 1 = 4\n",
            "4 * 2 = 8\n",
            "4 * 3 = 12\n",
            "4 * 4 = 16\n",
            "4 * 5 = 20\n",
            "4 * 6 = 24\n",
            "4 * 7 = 28\n",
            "4 * 8 = 32\n",
            "4 * 9 = 36\n",
            "4 * 10 = 40\n",
            "5 * 1 = 5\n",
            "5 * 2 = 10\n",
            "5 * 3 = 15\n",
            "5 * 4 = 20\n",
            "5 * 5 = 25\n",
            "5 * 6 = 30\n",
            "5 * 7 = 35\n",
            "5 * 8 = 40\n",
            "5 * 9 = 45\n",
            "5 * 10 = 50\n",
            "6 * 1 = 6\n",
            "6 * 2 = 12\n",
            "6 * 3 = 18\n",
            "6 * 4 = 24\n",
            "6 * 5 = 30\n",
            "6 * 6 = 36\n",
            "6 * 7 = 42\n",
            "6 * 8 = 48\n",
            "6 * 9 = 54\n",
            "6 * 10 = 60\n",
            "7 * 1 = 7\n",
            "7 * 2 = 14\n",
            "7 * 3 = 21\n",
            "7 * 4 = 28\n",
            "7 * 5 = 35\n",
            "7 * 6 = 42\n",
            "7 * 7 = 49\n",
            "7 * 8 = 56\n",
            "7 * 9 = 63\n",
            "7 * 10 = 70\n",
            "8 * 1 = 8\n",
            "8 * 2 = 16\n",
            "8 * 3 = 24\n",
            "8 * 4 = 32\n",
            "8 * 5 = 40\n",
            "8 * 6 = 48\n",
            "8 * 7 = 56\n",
            "8 * 8 = 64\n",
            "8 * 9 = 72\n",
            "8 * 10 = 80\n",
            "9 * 1 = 9\n",
            "9 * 2 = 18\n",
            "9 * 3 = 27\n",
            "9 * 4 = 36\n",
            "9 * 5 = 45\n",
            "9 * 6 = 54\n",
            "9 * 7 = 63\n",
            "9 * 8 = 72\n",
            "9 * 9 = 81\n",
            "9 * 10 = 90\n",
            "10 * 1 = 10\n",
            "10 * 2 = 20\n",
            "10 * 3 = 30\n",
            "10 * 4 = 40\n",
            "10 * 5 = 50\n",
            "10 * 6 = 60\n",
            "10 * 7 = 70\n",
            "10 * 8 = 80\n",
            "10 * 9 = 90\n",
            "10 * 10 = 100\n"
          ],
          "name": "stdout"
        }
      ]
    },
    {
      "cell_type": "markdown",
      "metadata": {
        "id": "uMfnuhkkBKi5",
        "colab_type": "text"
      },
      "source": [
        "### for loop - multiplication matrix with nice formatting\n",
        "- > this question is harder 🤯🤯\n",
        "\n",
        "1. copy your _for loop multiplication matrix_ solution  above \n",
        "   <br><br>\n",
        "   \n",
        "2. modify the solution so that it actually prints the multiplication table in table form <br>\n",
        "      hint: \n",
        "        >> print(1,2,3, end=\"\\t\")\n",
        "        >> print(4,5,6)\n",
        "        1 2 3    4 5 6\n",
        "\n",
        "expected output:\n",
        "\n",
        "     1    2     3     4     5     6     7     8     9     10    \n",
        "     2    4     6     8     10    12    14    16    18    20    \n",
        "     3    6     9     12    15    18    21    24    27    30    \n",
        "     4    8     12    16    20    24    28    32    36    40    \n",
        "     5    10    15    20    25    30    35    40    45    50    \n",
        "     6    12    18    24    30    36    42    48    54    60    \n",
        "     7    14    21    28    35    42    49    56    63    70    \n",
        "     8    16    24    32    40    48    56    64    72    80    \n",
        "     9    18    27    36    45    54    63    72    81    90    \n",
        "     10   20    30    40    50    60    70    80    90    100    \n"
      ]
    },
    {
      "cell_type": "code",
      "metadata": {
        "id": "XS-btRlMBKi6",
        "colab_type": "code",
        "outputId": "a81d8366-3268-42a4-8df3-ff2c77162f32",
        "colab": {
          "base_uri": "https://localhost:8080/",
          "height": 189
        }
      },
      "source": [
        "for i in range(1,10+1):\n",
        "    for j in range(1,10+1):\n",
        "        print( i*j, end=\"\\t\")\n",
        "    print()"
      ],
      "execution_count": 14,
      "outputs": [
        {
          "output_type": "stream",
          "text": [
            "1\t2\t3\t4\t5\t6\t7\t8\t9\t10\t\n",
            "2\t4\t6\t8\t10\t12\t14\t16\t18\t20\t\n",
            "3\t6\t9\t12\t15\t18\t21\t24\t27\t30\t\n",
            "4\t8\t12\t16\t20\t24\t28\t32\t36\t40\t\n",
            "5\t10\t15\t20\t25\t30\t35\t40\t45\t50\t\n",
            "6\t12\t18\t24\t30\t36\t42\t48\t54\t60\t\n",
            "7\t14\t21\t28\t35\t42\t49\t56\t63\t70\t\n",
            "8\t16\t24\t32\t40\t48\t56\t64\t72\t80\t\n",
            "9\t18\t27\t36\t45\t54\t63\t72\t81\t90\t\n",
            "10\t20\t30\t40\t50\t60\t70\t80\t90\t100\t\n"
          ],
          "name": "stdout"
        }
      ]
    },
    {
      "cell_type": "markdown",
      "metadata": {
        "id": "IG6A4cqs7nt1",
        "colab_type": "text"
      },
      "source": [
        "# conditionals and while loop"
      ]
    },
    {
      "cell_type": "markdown",
      "metadata": {
        "id": "Yun9bI69BKim",
        "colab_type": "text"
      },
      "source": [
        "### if/elif/else - checking a password\n",
        "\n",
        "1. use the input() function to take a password from the user\n",
        "   <br><br>\n",
        "   \n",
        "1. check that the password is \"good\" according to the following criterions:\n",
        "   1. the password length must be at least 4\n",
        "   1. the password length must be no more than 12\n",
        "   1. the password must not be just numbers\n",
        "   1. the password must have both lowercase and uppercase letters\n",
        "   <br><br>\n",
        "   \n",
        "1. if the password is good, print \"excellent password\". \n",
        "   otherwise, print the reason why the password was rejected\n",
        "   <br><br>\n",
        "   \n",
        "HINTS:\n",
        "* use the `len()`, `.isdigit()`, `.isupper()`, `.islower()` functions\n"
      ]
    },
    {
      "cell_type": "code",
      "metadata": {
        "id": "G4wn9t0hBKim",
        "colab_type": "code",
        "colab": {}
      },
      "source": [
        "p = input(\"your password, sir/madam? \")\n",
        "if len(p) < 4:\n",
        "    print(\"password too short\")\n",
        "elif len(p) > 12:\n",
        "    print(\"password too long\")\n",
        "elif p.isdigit():\n",
        "    print(\"cannot be just numbers\")\n",
        "elif p.islower():\n",
        "    print(\"need uppercase letters\")\n",
        "elif p.isupper():\n",
        "    print(\"need lowercase letters\")\n",
        "else:\n",
        "    print(\"excellent password\")\n",
        "    finished = True"
      ],
      "execution_count": 0,
      "outputs": []
    },
    {
      "cell_type": "markdown",
      "metadata": {
        "id": "C_UavysUBKip",
        "colab_type": "text"
      },
      "source": [
        "### While loop - until we find a good password\n",
        "\n",
        "1. copy the password testing code you wrote above\n",
        "   <br> <br>\n",
        "   \n",
        "1. now use a while loop to continue asking for a new password\n",
        "   until a password that passes all the tests is given"
      ]
    },
    {
      "cell_type": "code",
      "metadata": {
        "id": "A2B5mSZABKiq",
        "colab_type": "code",
        "colab": {}
      },
      "source": [
        "finished = False\n",
        "while not finished:\n",
        "    p = input(\"your password, sir/madam? \")\n",
        "    if len(p) < 4:\n",
        "        print(\"password too short\")\n",
        "    elif len(p) > 12:\n",
        "        print(\"password too long\")\n",
        "    elif p.isdigit():\n",
        "        print(\"cannot be just numbers\")\n",
        "    elif p.islower():\n",
        "        print(\"need uppercase letters\")\n",
        "    elif p.isupper():\n",
        "        print(\"need lowercase letters\")\n",
        "    else:\n",
        "        print(\"excellent password\")\n",
        "        finished = True"
      ],
      "execution_count": 0,
      "outputs": []
    },
    {
      "cell_type": "markdown",
      "metadata": {
        "id": "6TSWkkeTBKis",
        "colab_type": "text"
      },
      "source": [
        "### While loop - password with maximum 3 attemps \n",
        "\n",
        "1. copy your answer for the while loop above\n",
        "   <br><br>\n",
        "   \n",
        "1. now modify the code such that no more than 3 attemps are possible\n",
        "   after 3 failed attemps, the program should say \"too many attemps, access denied\"\n",
        "   <br><br>\n"
      ]
    },
    {
      "cell_type": "code",
      "metadata": {
        "id": "as0VFXomBKis",
        "colab_type": "code",
        "colab": {}
      },
      "source": [
        "tries_left = 3\n",
        "finished = False\n",
        "while not finished and tries_left >0:\n",
        "    tries_left = tries_left - 1\n",
        "    p = input(\"your password, sir/madam? \")\n",
        "    if len(p) < 4:\n",
        "        print(\"password too short\")   \n",
        "    elif len(p) > 12:\n",
        "        print(\"password too long\")\n",
        "    elif p.isdigit():\n",
        "        print(\"cannot be just numbers\")\n",
        "    elif p.islower():\n",
        "        print(\"need uppercase letters\")\n",
        "    elif p.isupper():\n",
        "        print(\"need lowercase letters\")\n",
        "    else:\n",
        "        print(\"excellent password\")\n",
        "        finished = True\n",
        "        \n",
        "if tries_left == 0 and not finished:\n",
        "    print(\"too many attempts, access denied\")"
      ],
      "execution_count": 0,
      "outputs": []
    },
    {
      "cell_type": "markdown",
      "metadata": {
        "id": "2Whf7pHfBKiu",
        "colab_type": "text"
      },
      "source": [
        "# while loop - numbers 0-100 divisible by 7\n",
        "\n",
        "using a while loop, print all the numbers between 0 and 100 \n",
        "that are divisible by 7\n",
        "\n",
        "> **we say that x is divisible by 7 when `x%7 == 0`**\n"
      ]
    },
    {
      "cell_type": "code",
      "metadata": {
        "id": "SJCtlxjcBKiv",
        "colab_type": "code",
        "colab": {}
      },
      "source": [
        "i=0\n",
        "while i<=100:\n",
        "    if i%7==0:\n",
        "        print(i)\n",
        "    i+=1"
      ],
      "execution_count": 0,
      "outputs": []
    },
    {
      "cell_type": "markdown",
      "metadata": {
        "id": "4i_dl2acBKix",
        "colab_type": "text"
      },
      "source": [
        "### for loop -  numbers 0-100 divisible by 7\n",
        "\n",
        "> **Just like the question above, this time with a `for` loop**\n",
        "\n",
        "print all the numbers between 0 and 100 that are divisible by 7\n",
        "using a `for` loop and `range(100)`\n"
      ]
    },
    {
      "cell_type": "code",
      "metadata": {
        "id": "N4QLCJwVBKiy",
        "colab_type": "code",
        "colab": {}
      },
      "source": [
        "for i in range(100):\n",
        "    if i%7 ==0:\n",
        "        print(i)"
      ],
      "execution_count": 0,
      "outputs": []
    },
    {
      "cell_type": "markdown",
      "metadata": {
        "id": "LAEfBNZNBKi0",
        "colab_type": "text"
      },
      "source": [
        "### While loop - multiplication matrix\n",
        "- > this question is harder 🤯🤯🤯\n",
        "- > multiplication matrix = לוח הכפל\n",
        "\n",
        "using while loop(s), print the multiplication matrix\n",
        "in the following way (total of 100 lines)\n",
        "\n",
        "      1 x 1 = 1\n",
        "      1 x 2 = 2\n",
        "      ...\n",
        "      1 x 10 = 10\n",
        "      2 x 1 = 1\n",
        "      2 x 2 = 2\n",
        "      ...\n",
        "      2 x 10 = 20\n",
        "      ...\n",
        "      ...\n",
        "      10 x 1 = 10\n",
        "      10 x 2 = 20\n",
        "      ...\n",
        "      10 x 10 = 100"
      ]
    },
    {
      "cell_type": "code",
      "metadata": {
        "scrolled": false,
        "id": "PY7FTP78BKi1",
        "colab_type": "code",
        "colab": {}
      },
      "source": [
        "i=1\n",
        "while i<=10:\n",
        "    j=1\n",
        "    while j<=10:\n",
        "        print(i, '*', j, '=', i*j)\n",
        "        j+=1\n",
        "    i+=1\n",
        "    "
      ],
      "execution_count": 0,
      "outputs": []
    },
    {
      "cell_type": "markdown",
      "metadata": {
        "id": "cTQXpTAvBKi8",
        "colab_type": "text"
      },
      "source": [
        "### loop to find long words\n",
        "\n",
        "print all the words in the following sentence that are longer than 4 characters:\n",
        "   \n",
        "    \"The quick brown fox jumped over the lazy dog\"\n",
        "   \n",
        "expected output:\n",
        "   \n",
        "    quick\n",
        "    brown\n",
        "    jumped"
      ]
    },
    {
      "cell_type": "code",
      "metadata": {
        "id": "6QrsaU3zBKi8",
        "colab_type": "code",
        "colab": {}
      },
      "source": [
        "sent = \"the quick brown fox jumped over the lazy dog\"\n",
        "words = sent.split()\n",
        "for word in words:\n",
        "    if len(word) > 4:\n",
        "        print(word)"
      ],
      "execution_count": 0,
      "outputs": []
    },
    {
      "cell_type": "markdown",
      "metadata": {
        "id": "gavgPAtxBKjD",
        "colab_type": "text"
      },
      "source": [
        "### enumerate\n",
        "1. split the string \"the quick brown fox jumped over the lazy dog\" into words\n",
        "  using the .split() function, and put the list in the variable 'words'\n",
        "  <br><br>\n",
        "\n",
        "1. use the enumerate() function to print each word on its own line, \n",
        "   along with the index of the word in the 'words' variable\n",
        "   <br><br>\n",
        "   \n",
        "       0 the\n",
        "       1 quick\n",
        "       2 brown\n",
        "       3 fox\n",
        "       4 jumped\n",
        "       5 over\n",
        "       6 the\n",
        "       7 lazy\n",
        "       8 dog\n",
        "\n",
        "3. (harder) replace words that are longer than 4 characters to the string \"too long\"\n",
        "   use enumerate() to do this with minimum number of code lines \n",
        "\n",
        "       ['the', 'too long', 'too long', 'fox', 'too long', 'over', 'the', 'lazy', 'dog'] \n"
      ]
    },
    {
      "cell_type": "code",
      "metadata": {
        "id": "DqBu69ggBKjE",
        "colab_type": "code",
        "colab": {}
      },
      "source": [
        "# a\n",
        "words = \"the quick brown fox jumped over the lazy dog\".split()\n",
        "\n",
        "# b \n",
        "for i, word in enumerate(words):\n",
        "    print(i, word)\n",
        "    \n",
        "# c\n",
        "for i, word in enumerate(words):\n",
        "    if len(word) > 4:\n",
        "        words[i] = \"too long\"\n",
        "    \n",
        "print(words)"
      ],
      "execution_count": 0,
      "outputs": []
    },
    {
      "cell_type": "code",
      "metadata": {
        "id": "RtX9JB29BKjG",
        "colab_type": "code",
        "colab": {}
      },
      "source": [
        ""
      ],
      "execution_count": 0,
      "outputs": []
    }
  ]
}