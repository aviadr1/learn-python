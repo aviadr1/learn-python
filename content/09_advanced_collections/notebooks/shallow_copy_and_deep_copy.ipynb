{
 "cells": [
  {
   "cell_type": "markdown",
   "metadata": {},
   "source": [
    "\n",
    "<a href=\"https://colab.research.google.com/github/aviadr1/learn-python/blob/master/content/09_advanced_collections/notebooks/shallow_copy_and_deep_copy.ipynb\" target=\"_blank\">\n",
    "<img src=\"https://colab.research.google.com/assets/colab-badge.svg\" \n",
    "     title=\"Open this file in Google Colab\" alt=\"Colab\"/>\n",
    "</a>\n"
   ]
  },
  {
   "cell_type": "code",
   "execution_count": 1,
   "metadata": {},
   "outputs": [],
   "source": [
    "bank = [\n",
    "    {\"name\" : \"avi\", \"money\" : 100, \"city\" : \"rehovot\"},\n",
    "    {\"name\" : \"ben\", \"money\" : -20, \"city\" : \"raanana\"},\n",
    "    {\"name\" : \"carrie\", \"money\" : 500, \"city\" : \"tel-aviv\"},\n",
    "    {\"name\" : \"david\", \"money\" : 250, \"city\" : \"nes-ziona\"},\n",
    "    {\"name\" : \"efrat\", \"money\" : 1000, \"city\" : \"beer-sheeva\"},\n",
    "    {\"name\" : \"fred\", \"money\" : 50, \"city\" : \"yafo\"},\n",
    "]"
   ]
  },
  {
   "cell_type": "code",
   "execution_count": 2,
   "metadata": {},
   "outputs": [],
   "source": [
    "bank_by_money = sorted(bank, key=lambda customer: customer['money'])"
   ]
  },
  {
   "cell_type": "code",
   "execution_count": 3,
   "metadata": {},
   "outputs": [
    {
     "data": {
      "text/plain": [
       "[{'name': 'ben', 'money': -20, 'city': 'raanana'},\n",
       " {'name': 'fred', 'money': 50, 'city': 'yafo'},\n",
       " {'name': 'avi', 'money': 100, 'city': 'rehovot'},\n",
       " {'name': 'david', 'money': 250, 'city': 'nes-ziona'},\n",
       " {'name': 'carrie', 'money': 500, 'city': 'tel-aviv'},\n",
       " {'name': 'efrat', 'money': 1000, 'city': 'beer-sheeva'}]"
      ]
     },
     "execution_count": 3,
     "metadata": {},
     "output_type": "execute_result"
    }
   ],
   "source": [
    "bank_by_money"
   ]
  },
  {
   "cell_type": "code",
   "execution_count": 4,
   "metadata": {},
   "outputs": [
    {
     "data": {
      "text/plain": [
       "[{'name': 'avi', 'money': 100, 'city': 'rehovot'},\n",
       " {'name': 'ben', 'money': -20, 'city': 'raanana'},\n",
       " {'name': 'carrie', 'money': 500, 'city': 'tel-aviv'},\n",
       " {'name': 'david', 'money': 250, 'city': 'nes-ziona'},\n",
       " {'name': 'efrat', 'money': 1000, 'city': 'beer-sheeva'},\n",
       " {'name': 'fred', 'money': 50, 'city': 'yafo'}]"
      ]
     },
     "execution_count": 4,
     "metadata": {},
     "output_type": "execute_result"
    }
   ],
   "source": [
    "bank"
   ]
  },
  {
   "cell_type": "code",
   "execution_count": 5,
   "metadata": {},
   "outputs": [
    {
     "data": {
      "text/plain": [
       "[{'name': 'ben', 'money': -20, 'city': 'raanana'},\n",
       " {'name': 'fred', 'money': 50, 'city': 'yafo'},\n",
       " {'name': 'avi', 'money': 100, 'city': 'rehovot'},\n",
       " {'name': 'david', 'money': 250, 'city': 'nes-ziona'},\n",
       " {'name': 'carrie', 'money': 500, 'city': 'tel-aviv'},\n",
       " {'name': 'efrat', 'money': 1000, 'city': 'beer-sheeva'}]"
      ]
     },
     "execution_count": 5,
     "metadata": {},
     "output_type": "execute_result"
    }
   ],
   "source": [
    "bank_by_money"
   ]
  },
  {
   "cell_type": "code",
   "execution_count": 6,
   "metadata": {},
   "outputs": [],
   "source": [
    "bank_by_money[0]['city'] = 'eilat'"
   ]
  },
  {
   "cell_type": "code",
   "execution_count": 7,
   "metadata": {},
   "outputs": [
    {
     "data": {
      "text/plain": [
       "[{'name': 'ben', 'money': -20, 'city': 'eilat'},\n",
       " {'name': 'fred', 'money': 50, 'city': 'yafo'},\n",
       " {'name': 'avi', 'money': 100, 'city': 'rehovot'},\n",
       " {'name': 'david', 'money': 250, 'city': 'nes-ziona'},\n",
       " {'name': 'carrie', 'money': 500, 'city': 'tel-aviv'},\n",
       " {'name': 'efrat', 'money': 1000, 'city': 'beer-sheeva'}]"
      ]
     },
     "execution_count": 7,
     "metadata": {},
     "output_type": "execute_result"
    }
   ],
   "source": [
    "bank_by_money"
   ]
  },
  {
   "cell_type": "code",
   "execution_count": 8,
   "metadata": {},
   "outputs": [
    {
     "data": {
      "text/plain": [
       "[{'name': 'avi', 'money': 100, 'city': 'rehovot'},\n",
       " {'name': 'ben', 'money': -20, 'city': 'eilat'},\n",
       " {'name': 'carrie', 'money': 500, 'city': 'tel-aviv'},\n",
       " {'name': 'david', 'money': 250, 'city': 'nes-ziona'},\n",
       " {'name': 'efrat', 'money': 1000, 'city': 'beer-sheeva'},\n",
       " {'name': 'fred', 'money': 50, 'city': 'yafo'}]"
      ]
     },
     "execution_count": 8,
     "metadata": {},
     "output_type": "execute_result"
    }
   ],
   "source": [
    "bank"
   ]
  },
  {
   "cell_type": "code",
   "execution_count": 9,
   "metadata": {},
   "outputs": [],
   "source": [
    "bank2 = bank"
   ]
  },
  {
   "cell_type": "code",
   "execution_count": 10,
   "metadata": {},
   "outputs": [
    {
     "data": {
      "text/plain": [
       "[{'name': 'avi', 'money': 100, 'city': 'rehovot'},\n",
       " {'name': 'ben', 'money': -20, 'city': 'eilat'},\n",
       " {'name': 'carrie', 'money': 500, 'city': 'tel-aviv'},\n",
       " {'name': 'david', 'money': 250, 'city': 'nes-ziona'},\n",
       " {'name': 'efrat', 'money': 1000, 'city': 'beer-sheeva'},\n",
       " {'name': 'fred', 'money': 50, 'city': 'yafo'}]"
      ]
     },
     "execution_count": 10,
     "metadata": {},
     "output_type": "execute_result"
    }
   ],
   "source": [
    "bank2"
   ]
  },
  {
   "cell_type": "code",
   "execution_count": 11,
   "metadata": {},
   "outputs": [],
   "source": [
    "bank2.append({'name' : \"greg\", \"money\" : 10000, \"city\" : \"NY\"})"
   ]
  },
  {
   "cell_type": "code",
   "execution_count": 12,
   "metadata": {},
   "outputs": [
    {
     "data": {
      "text/plain": [
       "[{'name': 'avi', 'money': 100, 'city': 'rehovot'},\n",
       " {'name': 'ben', 'money': -20, 'city': 'eilat'},\n",
       " {'name': 'carrie', 'money': 500, 'city': 'tel-aviv'},\n",
       " {'name': 'david', 'money': 250, 'city': 'nes-ziona'},\n",
       " {'name': 'efrat', 'money': 1000, 'city': 'beer-sheeva'},\n",
       " {'name': 'fred', 'money': 50, 'city': 'yafo'},\n",
       " {'name': 'greg', 'money': 10000, 'city': 'NY'}]"
      ]
     },
     "execution_count": 12,
     "metadata": {},
     "output_type": "execute_result"
    }
   ],
   "source": [
    "bank2\n"
   ]
  },
  {
   "cell_type": "code",
   "execution_count": 13,
   "metadata": {},
   "outputs": [
    {
     "data": {
      "text/plain": [
       "[{'name': 'avi', 'money': 100, 'city': 'rehovot'},\n",
       " {'name': 'ben', 'money': -20, 'city': 'eilat'},\n",
       " {'name': 'carrie', 'money': 500, 'city': 'tel-aviv'},\n",
       " {'name': 'david', 'money': 250, 'city': 'nes-ziona'},\n",
       " {'name': 'efrat', 'money': 1000, 'city': 'beer-sheeva'},\n",
       " {'name': 'fred', 'money': 50, 'city': 'yafo'},\n",
       " {'name': 'greg', 'money': 10000, 'city': 'NY'}]"
      ]
     },
     "execution_count": 13,
     "metadata": {},
     "output_type": "execute_result"
    }
   ],
   "source": [
    "bank"
   ]
  },
  {
   "cell_type": "code",
   "execution_count": 14,
   "metadata": {},
   "outputs": [],
   "source": [
    "bank_shallow_copy = bank[:]"
   ]
  },
  {
   "cell_type": "code",
   "execution_count": 15,
   "metadata": {},
   "outputs": [],
   "source": [
    "del bank_shallow_copy[-1]"
   ]
  },
  {
   "cell_type": "code",
   "execution_count": 16,
   "metadata": {},
   "outputs": [
    {
     "data": {
      "text/plain": [
       "[{'name': 'avi', 'money': 100, 'city': 'rehovot'},\n",
       " {'name': 'ben', 'money': -20, 'city': 'eilat'},\n",
       " {'name': 'carrie', 'money': 500, 'city': 'tel-aviv'},\n",
       " {'name': 'david', 'money': 250, 'city': 'nes-ziona'},\n",
       " {'name': 'efrat', 'money': 1000, 'city': 'beer-sheeva'},\n",
       " {'name': 'fred', 'money': 50, 'city': 'yafo'}]"
      ]
     },
     "execution_count": 16,
     "metadata": {},
     "output_type": "execute_result"
    }
   ],
   "source": [
    "bank_shallow_copy"
   ]
  },
  {
   "cell_type": "code",
   "execution_count": 17,
   "metadata": {},
   "outputs": [
    {
     "data": {
      "text/plain": [
       "[{'name': 'avi', 'money': 100, 'city': 'rehovot'},\n",
       " {'name': 'ben', 'money': -20, 'city': 'eilat'},\n",
       " {'name': 'carrie', 'money': 500, 'city': 'tel-aviv'},\n",
       " {'name': 'david', 'money': 250, 'city': 'nes-ziona'},\n",
       " {'name': 'efrat', 'money': 1000, 'city': 'beer-sheeva'},\n",
       " {'name': 'fred', 'money': 50, 'city': 'yafo'},\n",
       " {'name': 'greg', 'money': 10000, 'city': 'NY'}]"
      ]
     },
     "execution_count": 17,
     "metadata": {},
     "output_type": "execute_result"
    }
   ],
   "source": [
    "bank"
   ]
  },
  {
   "cell_type": "code",
   "execution_count": 18,
   "metadata": {},
   "outputs": [],
   "source": [
    "import copy"
   ]
  },
  {
   "cell_type": "code",
   "execution_count": 19,
   "metadata": {},
   "outputs": [],
   "source": [
    "deep_copy_bank = copy.deepcopy(bank)"
   ]
  },
  {
   "cell_type": "code",
   "execution_count": 20,
   "metadata": {},
   "outputs": [
    {
     "data": {
      "text/plain": [
       "[{'name': 'avi', 'money': 100, 'city': 'rehovot'},\n",
       " {'name': 'ben', 'money': -20, 'city': 'eilat'},\n",
       " {'name': 'carrie', 'money': 500, 'city': 'tel-aviv'},\n",
       " {'name': 'david', 'money': 250, 'city': 'nes-ziona'},\n",
       " {'name': 'efrat', 'money': 1000, 'city': 'beer-sheeva'},\n",
       " {'name': 'fred', 'money': 50, 'city': 'yafo'},\n",
       " {'name': 'greg', 'money': 10000, 'city': 'NY'}]"
      ]
     },
     "execution_count": 20,
     "metadata": {},
     "output_type": "execute_result"
    }
   ],
   "source": [
    "deep_copy_bank"
   ]
  },
  {
   "cell_type": "code",
   "execution_count": 22,
   "metadata": {},
   "outputs": [],
   "source": [
    "deep_copy_bank[0][\"money\"] = 10000000000"
   ]
  },
  {
   "cell_type": "code",
   "execution_count": 23,
   "metadata": {},
   "outputs": [
    {
     "data": {
      "text/plain": [
       "[{'name': 'avi', 'money': 10000000000, 'city': 'rehovot'},\n",
       " {'name': 'ben', 'money': -20, 'city': 'eilat'},\n",
       " {'name': 'carrie', 'money': 500, 'city': 'tel-aviv'},\n",
       " {'name': 'david', 'money': 250, 'city': 'nes-ziona'},\n",
       " {'name': 'efrat', 'money': 1000, 'city': 'beer-sheeva'},\n",
       " {'name': 'fred', 'money': 50, 'city': 'yafo'},\n",
       " {'name': 'greg', 'money': 10000, 'city': 'NY'}]"
      ]
     },
     "execution_count": 23,
     "metadata": {},
     "output_type": "execute_result"
    }
   ],
   "source": [
    "deep_copy_bank"
   ]
  },
  {
   "cell_type": "code",
   "execution_count": 24,
   "metadata": {},
   "outputs": [
    {
     "data": {
      "text/plain": [
       "[{'name': 'avi', 'money': 100, 'city': 'rehovot'},\n",
       " {'name': 'ben', 'money': -20, 'city': 'eilat'},\n",
       " {'name': 'carrie', 'money': 500, 'city': 'tel-aviv'},\n",
       " {'name': 'david', 'money': 250, 'city': 'nes-ziona'},\n",
       " {'name': 'efrat', 'money': 1000, 'city': 'beer-sheeva'},\n",
       " {'name': 'fred', 'money': 50, 'city': 'yafo'},\n",
       " {'name': 'greg', 'money': 10000, 'city': 'NY'}]"
      ]
     },
     "execution_count": 24,
     "metadata": {},
     "output_type": "execute_result"
    }
   ],
   "source": [
    "bank"
   ]
  },
  {
   "cell_type": "code",
   "execution_count": 25,
   "metadata": {},
   "outputs": [],
   "source": [
    "xxx = [[1] , [2], [3] ]"
   ]
  },
  {
   "cell_type": "code",
   "execution_count": 26,
   "metadata": {},
   "outputs": [],
   "source": [
    "yyy = xxx[:]"
   ]
  },
  {
   "cell_type": "code",
   "execution_count": 27,
   "metadata": {},
   "outputs": [
    {
     "data": {
      "text/plain": [
       "[[1], [2], [3]]"
      ]
     },
     "execution_count": 27,
     "metadata": {},
     "output_type": "execute_result"
    }
   ],
   "source": [
    "yyy"
   ]
  },
  {
   "cell_type": "code",
   "execution_count": 28,
   "metadata": {},
   "outputs": [],
   "source": [
    "yyy.append( [4])"
   ]
  },
  {
   "cell_type": "code",
   "execution_count": 29,
   "metadata": {},
   "outputs": [
    {
     "data": {
      "text/plain": [
       "[[1], [2], [3], [4]]"
      ]
     },
     "execution_count": 29,
     "metadata": {},
     "output_type": "execute_result"
    }
   ],
   "source": [
    "yyy"
   ]
  },
  {
   "cell_type": "code",
   "execution_count": 30,
   "metadata": {},
   "outputs": [
    {
     "data": {
      "text/plain": [
       "[[1], [2], [3]]"
      ]
     },
     "execution_count": 30,
     "metadata": {},
     "output_type": "execute_result"
    }
   ],
   "source": [
    "xxx"
   ]
  },
  {
   "cell_type": "code",
   "execution_count": 31,
   "metadata": {},
   "outputs": [],
   "source": [
    "del yyy[0]"
   ]
  },
  {
   "cell_type": "code",
   "execution_count": 32,
   "metadata": {},
   "outputs": [
    {
     "data": {
      "text/plain": [
       "[[2], [3], [4]]"
      ]
     },
     "execution_count": 32,
     "metadata": {},
     "output_type": "execute_result"
    }
   ],
   "source": [
    "yyy"
   ]
  },
  {
   "cell_type": "code",
   "execution_count": 33,
   "metadata": {},
   "outputs": [
    {
     "data": {
      "text/plain": [
       "[[1], [2], [3]]"
      ]
     },
     "execution_count": 33,
     "metadata": {},
     "output_type": "execute_result"
    }
   ],
   "source": [
    "xxx"
   ]
  },
  {
   "cell_type": "code",
   "execution_count": 37,
   "metadata": {},
   "outputs": [],
   "source": [
    "yyy[0][0] = \"gotcha\""
   ]
  },
  {
   "cell_type": "code",
   "execution_count": 38,
   "metadata": {},
   "outputs": [
    {
     "data": {
      "text/plain": [
       "[[1], ['gotcha'], [3]]"
      ]
     },
     "execution_count": 38,
     "metadata": {},
     "output_type": "execute_result"
    }
   ],
   "source": [
    "xxx"
   ]
  },
  {
   "cell_type": "code",
   "execution_count": 39,
   "metadata": {},
   "outputs": [],
   "source": [
    "zzz = copy.copy(xxx)"
   ]
  },
  {
   "cell_type": "code",
   "execution_count": 40,
   "metadata": {},
   "outputs": [
    {
     "data": {
      "text/plain": [
       "<function list.copy>"
      ]
     },
     "execution_count": 40,
     "metadata": {},
     "output_type": "execute_result"
    }
   ],
   "source": [
    "zzz.copy"
   ]
  },
  {
   "cell_type": "code",
   "execution_count": 41,
   "metadata": {},
   "outputs": [
    {
     "name": "stdout",
     "output_type": "stream",
     "text": [
      "Help on built-in function copy:\n",
      "\n",
      "copy(...) method of builtins.list instance\n",
      "    L.copy() -> list -- a shallow copy of L\n",
      "\n"
     ]
    }
   ],
   "source": [
    "help(zzz.copy)"
   ]
  },
  {
   "cell_type": "code",
   "execution_count": 42,
   "metadata": {},
   "outputs": [],
   "source": [
    "zzz[0][0] = \"shallow is not deep\""
   ]
  },
  {
   "cell_type": "code",
   "execution_count": 43,
   "metadata": {},
   "outputs": [
    {
     "data": {
      "text/plain": [
       "[['shallow is not deep'], ['gotcha'], [3]]"
      ]
     },
     "execution_count": 43,
     "metadata": {},
     "output_type": "execute_result"
    }
   ],
   "source": [
    "xxx"
   ]
  },
  {
   "cell_type": "code",
   "execution_count": null,
   "metadata": {},
   "outputs": [],
   "source": []
  }
 ],
 "metadata": {
  "kernelspec": {
   "display_name": "Python 3",
   "language": "python",
   "name": "python3"
  },
  "language_info": {
   "codemirror_mode": {
    "name": "ipython",
    "version": 3
   },
   "file_extension": ".py",
   "mimetype": "text/x-python",
   "name": "python",
   "nbconvert_exporter": "python",
   "pygments_lexer": "ipython3",
   "version": "3.6.5"
  }
 },
 "nbformat": 4,
 "nbformat_minor": 2
}
