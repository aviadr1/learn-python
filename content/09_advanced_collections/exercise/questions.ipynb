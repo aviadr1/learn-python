{
 "cells": [
  {
   "cell_type": "markdown",
   "metadata": {},
   "source": [
    "\n",
    "<a href=\"https://colab.research.google.com/github/aviadr1/learn-python/blob/master/content/09_advanced_collections/exercise/questions.ipynb\" target=\"_blank\">\n",
    "<img src=\"https://colab.research.google.com/assets/colab-badge.svg\" \n",
    "     title=\"Open this file in Google Colab\" alt=\"Colab\"/>\n",
    "</a>\n"
   ]
  },
  {
   "cell_type": "markdown",
   "metadata": {},
   "source": [
    "# List comprehension"
   ]
  },
  {
   "cell_type": "markdown",
   "metadata": {},
   "source": [
    "### simple list comprehension: powers of 2\n",
    "use __list comprehension__ to compute a list containing the powers of 2:\n",
    "i.e.  `[2**0, 2**1, 2**2, 2**3, ..., 2**15]`\n",
    "\n",
    "> NOTE: the code should be one just line <br>\n",
    "> reminder: list comprehensions look like `[ _____ for _____ in ____ ]` where you fill in the blanks \n",
    "\n"
   ]
  },
  {
   "cell_type": "code",
   "execution_count": 1,
   "metadata": {},
   "outputs": [
    {
     "data": {
      "text/plain": [
       "[1, 2, 4, 8, 16, 32, 64, 128, 256, 512, 1024, 2048, 4096, 8192, 16384, 32768]"
      ]
     },
     "execution_count": 1,
     "metadata": {},
     "output_type": "execute_result"
    }
   ],
   "source": []
  },
  {
   "cell_type": "markdown",
   "metadata": {},
   "source": [
    "### list comprehension with filtering\n",
    "take the sentnence `\"everything shuold be as simple as possible but no simpler\"` (this is a qoute by albert einstein). <br>\n",
    "use list comprehension to \n",
    "1. take only words that are shorter than 6 letters\n",
    "2. convert words to uppercase\n",
    "  \n",
    "expected output:\n",
    "```['BE', 'AS', 'AS', 'BUT', 'NO']```\n",
    "  \n",
    "> reminder: list comprehension with filtering has the form `[ _____ for ____ in ____ if ____ ]`"
   ]
  },
  {
   "cell_type": "code",
   "execution_count": 2,
   "metadata": {},
   "outputs": [],
   "source": [
    "### useful: the qoute to work on\n",
    "words = \"everything should be as simple as possible but no simpler\".split()"
   ]
  },
  {
   "cell_type": "code",
   "execution_count": 3,
   "metadata": {},
   "outputs": [
    {
     "data": {
      "text/plain": [
       "['BE', 'AS', 'AS', 'BUT', 'NO']"
      ]
     },
     "execution_count": 3,
     "metadata": {},
     "output_type": "execute_result"
    }
   ],
   "source": []
  },
  {
   "cell_type": "markdown",
   "metadata": {},
   "source": [
    "### max length of words in a list\n",
    "using JUST ONE LINE, find the length of the longest word in a given sentence\n",
    "    \n",
    "hints - use the functions `str.split()`, `max()` and `len()`:\n",
    "- break the sentence into words using the function `str.split()`\n",
    "- use __list comprehension__ to compute the length of all words\n",
    "- use the function `max` to get the maximum length from the list of lengths"
   ]
  },
  {
   "cell_type": "code",
   "execution_count": 4,
   "metadata": {},
   "outputs": [],
   "source": [
    "### useful: sentence to work on from \"life of brian\" \n",
    "brian = \"\"\"“\n",
    "Alright, but apart from the sanitation, the medicine, education, wine, public order, \n",
    "irrigation, roads, the fresh-water system, and public health, \n",
    "what have the Romans ever done for us?”\n",
    "\"\"\""
   ]
  },
  {
   "cell_type": "code",
   "execution_count": 5,
   "metadata": {},
   "outputs": [
    {
     "data": {
      "text/plain": [
       "11"
      ]
     },
     "execution_count": 5,
     "metadata": {},
     "output_type": "execute_result"
    }
   ],
   "source": []
  },
  {
   "cell_type": "markdown",
   "metadata": {},
   "source": [
    "### max lengh of words, and the actual word too\n",
    "\n",
    "build on the [previous exercise](#max-length-of-words-in-a-list) <br>\n",
    "now, get the _length_ of the longest word _as well as_ the __actual word__\n",
    "\n",
    "expected output for the life of brian qoute:\n",
    "```\n",
    "[11, 'sanitation']\n",
    "```\n",
    "\n",
    "or alternatively:\n",
    "```\n",
    "[[11, 'sanitation,'], [11, 'irrigation,'], [11, 'fresh-water']]\n",
    "```"
   ]
  },
  {
   "cell_type": "code",
   "execution_count": 6,
   "metadata": {},
   "outputs": [
    {
     "name": "stdout",
     "output_type": "stream",
     "text": [
      "[11, 'sanitation,']\n",
      "[[11, 'sanitation,'], [11, 'irrigation,'], [11, 'fresh-water']]\n"
     ]
    }
   ],
   "source": []
  },
  {
   "cell_type": "markdown",
   "metadata": {},
   "source": [
    "### multiple comprehensions\n",
    "for the list of \"interesting\" angles: `0, 30, 60, 90, 120, 150, 180`\n",
    "   \n",
    "   a) compute the list of radian values using list comprehension\n",
    "   ```\n",
    "        0  --> 0\n",
    "        30 --> 30 *math.pi/180\n",
    "        60 --> 60 *math.pi/180\n",
    "         x -->  x *math.pi/180\n",
    "       180 --> 180*math.pi/180\n",
    "   ```      \n",
    "   b) compute the math.sin value for each of the rad from (a) using list comprehension\n",
    "   ```\n",
    "        0        --> math.sin(0)\n",
    "        x        --> math.sin(x)\n",
    "   ```\n",
    "   \n",
    "   c) use the format `\"{:.2f}\"` and list comprehension to compute nicely formatted strings for the numbers in (b)\n",
    "   ```\n",
    "      x --> \"{:.2f}\".format(x)\n",
    "   ```\n",
    "   \n",
    "expected output:\n",
    "```\n",
    "['0.00', '0.50', '0.87', '1.00', '0.87', '0.50', '0.00']\n",
    "```"
   ]
  },
  {
   "cell_type": "code",
   "execution_count": 7,
   "metadata": {},
   "outputs": [
    {
     "name": "stdout",
     "output_type": "stream",
     "text": [
      "['0.00', '0.50', '0.87', '1.00', '0.87', '0.50', '0.00']\n"
     ]
    }
   ],
   "source": []
  },
  {
   "cell_type": "markdown",
   "metadata": {},
   "source": [
    "### dictionary comprehension\n",
    "a restaurant stores the menu and prices of items in a dictionary.\n",
    "now it needs to __double the prices of all the items__.\n",
    "can you do this in one line with a __dictionary comprehension__?\n",
    "   ```\n",
    "   menu = {\n",
    "       'steak' : 150,\n",
    "       'falafel' : 20,\n",
    "       'pizza' : 59,\n",
    "       'hamburger' : 63,\n",
    "       'chips' : 18,\n",
    "       'salad' : 30\n",
    "   }\n",
    "   ```\n",
    "   \n",
    "> reminders: \n",
    "  - dictionary comprehension has the form `{ ____ : ____ for ___ in ____ }`\n",
    "  - remember the `.items()` function of dictionaries"
   ]
  },
  {
   "cell_type": "code",
   "execution_count": 8,
   "metadata": {},
   "outputs": [],
   "source": [
    "### useful: here is the menu\n",
    "menu = {\n",
    "       'steak' : 150,\n",
    "       'falafel' : 20,\n",
    "       'pizza' : 59,\n",
    "       'hamburger' : 63,\n",
    "       'chips' : 18,\n",
    "       'salad' : 30\n",
    "   }"
   ]
  },
  {
   "cell_type": "code",
   "execution_count": 9,
   "metadata": {},
   "outputs": [
    {
     "data": {
      "text/plain": [
       "{'steak': 300,\n",
       " 'falafel': 40,\n",
       " 'pizza': 118,\n",
       " 'hamburger': 126,\n",
       " 'chips': 36,\n",
       " 'salad': 60}"
      ]
     },
     "execution_count": 9,
     "metadata": {},
     "output_type": "execute_result"
    }
   ],
   "source": []
  },
  {
   "cell_type": "markdown",
   "metadata": {},
   "source": [
    "### dictionary comprehension with filtering\n",
    "\n",
    "> doubling all prices turns out to be too expensive !\n",
    "\n",
    "we want raise prices in a different way:\n",
    "1. remove all the items that already cost 100 NIS or more from the menu\n",
    "2. all other items should have their price increased by 20%\n",
    "3. make sure every price is in whole shekels (no pennies / agorot) \n",
    "\n",
    "> hint: \n",
    "  - instead of removing, just keep the ones that are cheaper than 100\n",
    "  - use the function `round()`\n",
    "  \n",
    "expected output:\n",
    "```\n",
    "{'falafel': 24, 'pizza': 71, 'hamburger': 76, 'chips': 22, 'salad': 36}\n",
    "```"
   ]
  },
  {
   "cell_type": "code",
   "execution_count": 10,
   "metadata": {},
   "outputs": [
    {
     "data": {
      "text/plain": [
       "{'falafel': 24, 'pizza': 71, 'hamburger': 76, 'chips': 22, 'salad': 36}"
      ]
     },
     "execution_count": 10,
     "metadata": {},
     "output_type": "execute_result"
    }
   ],
   "source": []
  },
  {
   "cell_type": "markdown",
   "metadata": {},
   "source": [
    "### cost of a meal\n",
    "\n",
    "People came into our restaurant and ordered a meal for the table:\n",
    "```\n",
    "order = ['steak', 'steak', 'steak', 'falafel', 'chips', 'salad', 'salad']\n",
    "```\n",
    "lets use the original menu\n",
    "  ```\n",
    "   menu = {\n",
    "       'steak' : 150,\n",
    "       'falafel' : 20,\n",
    "       'pizza' : 59,\n",
    "       'hamburger' : 63,\n",
    "       'chips' : 18,\n",
    "       'salad' : 30\n",
    "   }\n",
    "   ```\n",
    "\n",
    "and _using list comprehension_ calculate the cost of the meal\n",
    "hint:\n",
    "- use list comprehension\n",
    "- use the function `sum()`\n",
    "\n",
    "expected output:\n",
    "```\n",
    "548\n",
    "```\n",
    "\n",
    "> also see [This video](https://www.youtube.com/watch?v=kyCWPqQYHEA)"
   ]
  },
  {
   "cell_type": "code",
   "execution_count": 11,
   "metadata": {},
   "outputs": [],
   "source": [
    "### useful: the order\n",
    "order = ['steak', 'steak', 'steak', 'falafel', 'chips', 'salad', 'salad']"
   ]
  },
  {
   "cell_type": "code",
   "execution_count": 12,
   "metadata": {},
   "outputs": [
    {
     "data": {
      "text/plain": [
       "548"
      ]
     },
     "execution_count": 12,
     "metadata": {},
     "output_type": "execute_result"
    }
   ],
   "source": []
  },
  {
   "cell_type": "markdown",
   "metadata": {},
   "source": [
    "### 😵Create a matrix using list comprehension\n",
    "use list comprehension to create an NxM marix with numbers going from 0 to NxM\n",
    "> hint: you need nested list comprehension - list comprehension within list comprehension\n",
    "\n",
    "example with N=6 M=4\n",
    "```\n",
    "[[0,  1,  2,  3],\n",
    " [4,  5,  6,  7],\n",
    " [8,  9,  10, 11],\n",
    " [12, 13, 14, 15],\n",
    " [16, 17, 18, 19],\n",
    " [20, 21, 22, 23]]\n",
    "```"
   ]
  },
  {
   "cell_type": "code",
   "execution_count": 15,
   "metadata": {},
   "outputs": [
    {
     "data": {
      "text/plain": [
       "[[0, 1, 2, 3],\n",
       " [4, 5, 6, 7],\n",
       " [8, 9, 10, 11],\n",
       " [12, 13, 14, 15],\n",
       " [16, 17, 18, 19],\n",
       " [20, 21, 22, 23]]"
      ]
     },
     "execution_count": 15,
     "metadata": {},
     "output_type": "execute_result"
    }
   ],
   "source": []
  },
  {
   "cell_type": "markdown",
   "metadata": {},
   "source": [
    "### set comprehension\n",
    "\n",
    "use set comprehension to find all the unique words in the song \"knights of the round table\" by monty python\n",
    "\n",
    "> 1. sort the words in the set using the `sorted()` function \n",
    "> 1. see if there are words that look similar\n",
    "> 2. remove duplicates by turning all words into lowercase\n",
    "> 3. use the `.replace('.', '')` function to remove the coma `'.'` characters in words\n",
    "      - alernatively remove special characters using the `str.translate()` and `str.maketrans()` functions\n",
    "> 4. print all the unique words in this song\n"
   ]
  },
  {
   "cell_type": "code",
   "execution_count": 13,
   "metadata": {},
   "outputs": [],
   "source": [
    "### useful: song lyrics\n",
    "knights_of_round_table = \"\"\"\n",
    "We're knights of the round table\n",
    "We dance whene'er we're able\n",
    "We do routines and scenes\n",
    "With footwork impeccable.\n",
    "We dine well here in Camelot\n",
    "We eat ham and jam and spam a lot.\n",
    "We're knights of the Round Table\n",
    "Our shows are formidable\n",
    "But many times we're given rhymes\n",
    "That are quite unsingable\n",
    "We're opera mad in Camelot\n",
    "We sing from the diaphragm a lot.\n",
    "In war we're tough and able.\n",
    "Quite indefatigable\n",
    "Between our quests we sequin vests\n",
    "And impersonate Clark Gable\n",
    "It's a busy life in Camelot.\n",
    "I have to push the pram a lot.\n",
    "\"\"\""
   ]
  },
  {
   "cell_type": "code",
   "execution_count": 14,
   "metadata": {},
   "outputs": [
    {
     "data": {
      "text/plain": [
       "['a',\n",
       " 'able',\n",
       " 'and',\n",
       " 'are',\n",
       " 'between',\n",
       " 'busy',\n",
       " 'but',\n",
       " 'camelot',\n",
       " 'clark',\n",
       " 'dance',\n",
       " 'diaphragm',\n",
       " 'dine',\n",
       " 'do',\n",
       " 'eat',\n",
       " 'footwork',\n",
       " 'formidable',\n",
       " 'from',\n",
       " 'gable',\n",
       " 'given',\n",
       " 'ham',\n",
       " 'have',\n",
       " 'here',\n",
       " 'i',\n",
       " 'impeccable',\n",
       " 'impersonate',\n",
       " 'in',\n",
       " 'indefatigable',\n",
       " \"it's\",\n",
       " 'jam',\n",
       " 'knights',\n",
       " 'life',\n",
       " 'lot',\n",
       " 'mad',\n",
       " 'many',\n",
       " 'of',\n",
       " 'opera',\n",
       " 'our',\n",
       " 'pram',\n",
       " 'push',\n",
       " 'quests',\n",
       " 'quite',\n",
       " 'rhymes',\n",
       " 'round',\n",
       " 'routines',\n",
       " 'scenes',\n",
       " 'sequin',\n",
       " 'shows',\n",
       " 'sing',\n",
       " 'spam',\n",
       " 'table',\n",
       " 'that',\n",
       " 'the',\n",
       " 'times',\n",
       " 'to',\n",
       " 'tough',\n",
       " 'unsingable',\n",
       " 'vests',\n",
       " 'war',\n",
       " 'we',\n",
       " \"we're\",\n",
       " 'well',\n",
       " \"whene'er\",\n",
       " 'with']"
      ]
     },
     "execution_count": 14,
     "metadata": {},
     "output_type": "execute_result"
    }
   ],
   "source": []
  },
  {
   "cell_type": "markdown",
   "metadata": {},
   "source": [
    "### using sets to test a password\n",
    "can you use a `set` to check that a password has one of the following special characters:\n",
    "```\n",
    "special_chars = \"\"\"!@#$%^&*()-=_+`~;'\"|/.,<>?\"\"\"\n",
    "```\n",
    "    \n",
    "hint: it requires only one line, no loops and no list comprehension"
   ]
  },
  {
   "cell_type": "code",
   "execution_count": 16,
   "metadata": {},
   "outputs": [
    {
     "data": {
      "text/plain": [
       "{'!', '#', '@'}"
      ]
     },
     "execution_count": 16,
     "metadata": {},
     "output_type": "execute_result"
    }
   ],
   "source": []
  },
  {
   "cell_type": "markdown",
   "metadata": {},
   "source": [
    "# pprint"
   ]
  },
  {
   "cell_type": "markdown",
   "metadata": {},
   "source": [
    "sometimes regular old `print()` makes it difficult to read a data structure.\n",
    "for instance take a look at the following code\n",
    "\n",
    "```\n",
    "people = [\n",
    "    ['adva', 28, 'physicist'],\n",
    "    ['ben', 25, 'hairdresser'],\n",
    "    ['carmel', 30, 'mountaineer'],\n",
    "    ['daria', 32, 'doctor'],\n",
    "    ['edward', 45, 'king']\n",
    "    ]\n",
    "\n",
    "print(people)\n",
    "```\n",
    "\n",
    "1. whats weird or annoying about the output of the program? try it yourself\n",
    "2. run the following code which imports a __pretty print__ function called `pprint`\n",
    "    ```\n",
    "    from pprint import pprint\n",
    "    pprint(people)\n",
    "    ```\n",
    "   any differece?\n",
    "3. read the documentation of the pprint function https://docs.python.org/3.7/library/pprint.html\n",
    "4. try using pprint with parameter `depth=1`\n",
    "4. try using pprint with parameter `indent=4`"
   ]
  },
  {
   "cell_type": "code",
   "execution_count": 32,
   "metadata": {},
   "outputs": [
    {
     "name": "stdout",
     "output_type": "stream",
     "text": [
      " \n",
      "1\n",
      "--------------------\n",
      "[['adva', 28, 'physicist'], ['ben', 25, 'hairdresser'], ['carmel', 30, 'mountaineer'], ['daria', 32, 'doctor'], ['edward', 45, 'king']]\n",
      " \n",
      "2\n",
      "--------------------\n",
      "[['adva', 28, 'physicist'],\n",
      " ['ben', 25, 'hairdresser'],\n",
      " ['carmel', 30, 'mountaineer'],\n",
      " ['daria', 32, 'doctor'],\n",
      " ['edward', 45, 'king']]\n",
      " \n",
      "4\n",
      "--------------------\n",
      "[[...], [...], [...], [...], [...]]\n",
      " \n",
      "5\n",
      "--------------------\n",
      "[   ['adva', 28, 'physicist'],\n",
      "    ['ben', 25, 'hairdresser'],\n",
      "    ['carmel', 30, 'mountaineer'],\n",
      "    ['daria', 32, 'doctor'],\n",
      "    ['edward', 45, 'king']]\n"
     ]
    }
   ],
   "source": []
  },
  {
   "cell_type": "markdown",
   "metadata": {},
   "source": [
    "# zip"
   ]
  },
  {
   "cell_type": "markdown",
   "metadata": {},
   "source": [
    "### basic use of the zip function\n",
    "look at the following code, read it, can you figure out what it does?\n",
    "\n",
    "```\n",
    "fruits = [\"apricots\", \"banannas\", \"cherries\"]\n",
    "colors = [\"pink\", \"yellow\", \"red\"]\n",
    "for fruit, color in zip(fruits, colors):\n",
    "    print(fruit, \"are\", color)\n",
    "```\n",
    "\n",
    "1. copy the code below and try it for yourself to see if your were right\n",
    "\n",
    "2. read the documentation for the zip function https://docs.python.org/3.7/library/functions.html#zip\n",
    "\n",
    "3.  we have data about people in **columns**\n",
    "    ```\n",
    "    first_name_column = ['adva', 'ben', 'carmel']\n",
    "    age_column = [28, 25, 30]\n",
    "    job_column = ['physicist', 'hairdresser', 'mountaineer']\n",
    "    ```\n",
    "    we would like to print data about each person with one **row per person**, in csv format\n",
    "   \n",
    "    expected output:\n",
    "    ```\n",
    "    adva, 28, physicist\n",
    "    ben, 25, hairdresser\n",
    "    carmel, 30, mountaineer\n",
    "    daria, 32, doctor\n",
    "    edward, 45, king\n",
    "    ```\n",
    "\n",
    "4. now we want the data as a list of lists,\n",
    "   that is a list of rows, where each row is the data for a person\n",
    "\n",
    "   expected output ( **use `pprint()`** ):\n",
    "    ```\n",
    "    [['adva', 28, 'physicist'],\n",
    "     ['ben', 25, 'hairdresser'],\n",
    "     ['carmel', 30, 'mountaineer'],\n",
    "     ['daria', 32, 'doctor'],\n",
    "     ['edward', 45, 'king']]\n",
    "    ```\n",
    "    \n",
    "   hint: we provide a few solutions, its worthwhile to go through them\n"
   ]
  },
  {
   "cell_type": "code",
   "execution_count": 22,
   "metadata": {},
   "outputs": [],
   "source": [
    "### useful: data\n",
    "first_name_column = ['adva', 'ben', 'carmel', 'daria', 'edward']\n",
    "age_column = [28, 25, 30, 32, 45]\n",
    "job_column = ['physicist', 'hairdresser', 'mountaineer', 'doctor', 'king']\n"
   ]
  },
  {
   "cell_type": "code",
   "execution_count": 36,
   "metadata": {},
   "outputs": [
    {
     "name": "stdout",
     "output_type": "stream",
     "text": [
      "adva, 28, physicist\n",
      "ben, 25, hairdresser\n",
      "carmel, 30, mountaineer\n",
      "daria, 32, doctor\n",
      "edward, 45, king\n",
      "\n",
      "[['adva', 28, 'physicist'],\n",
      " ['ben', 25, 'hairdresser'],\n",
      " ['carmel', 30, 'mountaineer'],\n",
      " ['daria', 32, 'doctor'],\n",
      " ['edward', 45, 'king']]\n",
      "\n",
      "[('adva', 28, 'physicist'),\n",
      " ('ben', 25, 'hairdresser'),\n",
      " ('carmel', 30, 'mountaineer'),\n",
      " ('daria', 32, 'doctor'),\n",
      " ('edward', 45, 'king')]\n",
      "\n",
      "[('adva', 28, 'physicist'),\n",
      " ('ben', 25, 'hairdresser'),\n",
      " ('carmel', 30, 'mountaineer'),\n",
      " ('daria', 32, 'doctor'),\n",
      " ('edward', 45, 'king')]\n"
     ]
    }
   ],
   "source": []
  },
  {
   "cell_type": "markdown",
   "metadata": {},
   "source": [
    "### unzipping\n",
    "> There’s a question that comes up frequently in forums for new Pythonistas: “If there’s a `zip()` function, then why is there no `unzip()` function that does the opposite?”\n",
    "\n",
    "> The reason why there’s no `unzip()` function in Python is because the opposite of `zip()` is… well, `zip()`. So, how do you unzip Python objects?\n",
    "\n",
    "here's a trick:\n",
    "```\n",
    "rows = [['adva', 28, 'physicist'],\n",
    "        ['ben', 25, 'hairdresser'],\n",
    "        ['carmel', 30, 'mountaineer'],\n",
    "        ['daria', 32, 'doctor'],\n",
    "        ['edward', 45, 'king']]\n",
    "\n",
    "# notice the * unpacking operator\n",
    "name_col, age_col, job_col = zip(*rows)\n",
    "\n",
    "print(name_col)\n",
    "print(age_col)\n",
    "print(job_col)\n",
    "```\n",
    "\n",
    "notice how it turns rows of data into columns of data?\n",
    "\n",
    "1. now, using just one line, calculate a variable called `columns` from `rows` using `zip()`. \n",
    "\n",
    "   print `columns` ( **use `pprint()`** )\n",
    "   \n",
    "2. now, using just one line, reverse `columns` back into rows using `zip()`\n",
    "\n",
    "> **you've learned how to transpose between columns and rows of data**"
   ]
  },
  {
   "cell_type": "code",
   "execution_count": 38,
   "metadata": {},
   "outputs": [],
   "source": [
    "### useful: data\n",
    "rows = [['adva', 28, 'physicist'],\n",
    "        ['ben', 25, 'hairdresser'],\n",
    "        ['carmel', 30, 'mountaineer'],\n",
    "        ['daria', 32, 'doctor'],\n",
    "        ['edward', 45, 'king']]"
   ]
  },
  {
   "cell_type": "code",
   "execution_count": 41,
   "metadata": {},
   "outputs": [
    {
     "name": "stdout",
     "output_type": "stream",
     "text": [
      " \n",
      "1\n",
      "--------------------\n",
      "[('adva', 'ben', 'carmel', 'daria', 'edward'),\n",
      " (28, 25, 30, 32, 45),\n",
      " ('physicist', 'hairdresser', 'mountaineer', 'doctor', 'king')]\n",
      " \n",
      "2\n",
      "--------------------\n",
      "[['adva', 28, 'physicist'],\n",
      " ['ben', 25, 'hairdresser'],\n",
      " ['carmel', 30, 'mountaineer'],\n",
      " ['daria', 32, 'doctor'],\n",
      " ['edward', 45, 'king']]\n"
     ]
    }
   ],
   "source": []
  },
  {
   "cell_type": "markdown",
   "metadata": {},
   "source": [
    "# Generators and coroutins"
   ]
  },
  {
   "cell_type": "markdown",
   "metadata": {},
   "source": [
    "### `even_numbers()` infinite lazy list\n",
    "1. write a function called `even_numbers()` that returns an infinite lazy list with all the even numbers\n",
    "```\n",
    "0, 2, 4, 6, 8, ...\n",
    "```\n",
    "> hint: write a generator function (function with 'yield' statement) with an infinite loop\n",
    "\n",
    "2. call `even_numbers()` and use the `next()` function to print the first 3 values from the list\n",
    "\n",
    "3. use a combination of the `zip()` function with the `range(20)` function to create a lazy list of the next 20 numbers.\n",
    "   use a `for` loop to iterate over the shorter list\n",
    "\n"
   ]
  },
  {
   "cell_type": "code",
   "execution_count": 17,
   "metadata": {},
   "outputs": [
    {
     "name": "stdout",
     "output_type": "stream",
     "text": [
      "0\n",
      "2\n",
      "4\n",
      "6\n",
      "8\n",
      "10\n",
      "12\n",
      "14\n",
      "16\n",
      "18\n",
      "20\n",
      "22\n",
      "24\n",
      "26\n",
      "28\n",
      "30\n",
      "32\n",
      "34\n",
      "36\n",
      "38\n",
      "40\n",
      "42\n",
      "44\n"
     ]
    }
   ],
   "source": []
  },
  {
   "cell_type": "markdown",
   "metadata": {},
   "source": [
    "### `line_reader()` \n",
    "> did you ever think about how *```for line open('myfile')```* actually works?\n",
    "\n",
    "imagine files had only one function: `.readline()`\n",
    "\n",
    "can you write a generator function called `line_reader` so that you could still write an easy for loop over the file's content?\n",
    "\n",
    "- use the `silly_open()` function provided below to get file objects that indeed only have a `.readline()` function and nothing else\n",
    "\n",
    "after your write your `line_reader` function you should be able to write code like this\n",
    "```\n",
    "f = silly_open('knights.txt')\n",
    "for line in line_reader(f):\n",
    "    print(line)\n",
    "```"
   ]
  },
  {
   "cell_type": "code",
   "execution_count": 18,
   "metadata": {},
   "outputs": [],
   "source": [
    "### useful:\n",
    "### 1) create a 'knights.txt' \n",
    "### 2) create a silly_open() function that returns a file with just a .readline() function\n",
    "\n",
    "with open('knights.txt', 'w') as f:\n",
    "    f.write(knights_of_round_table)\n",
    "\n",
    "def silly_open(filename):\n",
    "    # define a \"Stupid File\" which only has a 'readline()' function\n",
    "    class StupidFile:\n",
    "        def __init__(self, f):\n",
    "            self.__f = f\n",
    "        def readline(self):\n",
    "            return self.__f.readline()\n",
    "        def close(self):\n",
    "            self.__f.close()\n",
    "    \n",
    "    # open the file 'knights.txt' for reading\n",
    "    f = StupidFile(open(filename, 'r'))\n",
    "    return f\n",
    "\n",
    "### notice that the following for loop can't work\n",
    "# for line in silly_open('knights.txt'):\n",
    "#     print(line)"
   ]
  },
  {
   "cell_type": "code",
   "execution_count": 19,
   "metadata": {},
   "outputs": [],
   "source": []
  },
  {
   "cell_type": "code",
   "execution_count": 20,
   "metadata": {},
   "outputs": [
    {
     "name": "stdout",
     "output_type": "stream",
     "text": [
      "\n",
      "We're knights of the round table\n",
      "We dance whene'er we're able\n",
      "We do routines and scenes\n",
      "With footwork impeccable.\n",
      "We dine well here in Camelot\n",
      "We eat ham and jam and spam a lot.\n",
      "We're knights of the Round Table\n",
      "Our shows are formidable\n",
      "But many times we're given rhymes\n",
      "That are quite unsingable\n",
      "We're opera mad in Camelot\n",
      "We sing from the diaphragm a lot.\n",
      "In war we're tough and able.\n",
      "Quite indefatigable\n",
      "Between our quests we sequin vests\n",
      "And impersonate Clark Gable\n",
      "It's a busy life in Camelot.\n",
      "I have to push the pram a lot.\n"
     ]
    }
   ],
   "source": [
    "### useful: test for your line_reader() function\n",
    "f = silly_open('knights.txt')\n",
    "for line in line_reader(f):\n",
    "    print(line.rstrip())"
   ]
  },
  {
   "cell_type": "markdown",
   "metadata": {},
   "source": [
    "### yield triangles\n",
    "remember the function `triangle(n)` that prints a triangle?\n",
    "```\n",
    "def triangle(n):\n",
    "    for i in range(1, n+1):\n",
    "        print(\"*\" * i)\n",
    "```\n",
    "    \n",
    "1) rewrite this function with yield so that it yields every line of the triangle instead of printing it\n",
    "2) do a for loop on the function and print each line\n",
    "3) take all the lines from the functions into a list, print the list"
   ]
  },
  {
   "cell_type": "code",
   "execution_count": 21,
   "metadata": {},
   "outputs": [
    {
     "name": "stdout",
     "output_type": "stream",
     "text": [
      "*\n",
      "**\n",
      "***\n",
      "****\n",
      "*****\n",
      "*\n",
      "**\n",
      "***\n",
      "****\n",
      "*****\n"
     ]
    }
   ],
   "source": []
  },
  {
   "cell_type": "markdown",
   "metadata": {},
   "source": [
    "### yield passwords\n",
    "can you write a generator function (function with 'yield' statement) that:\n",
    "1. uses input() to ask the user for a password\n",
    "2. checks the password (not too long, not too short, has both upper and lower characters)"
   ]
  },
  {
   "cell_type": "code",
   "execution_count": 22,
   "metadata": {},
   "outputs": [
    {
     "name": "stdout",
     "output_type": "stream",
     "text": [
      "make a new password: blahBLAH123~!\n",
      "too long\n",
      "make a new password: blAH123!\n",
      "excellent\n"
     ]
    }
   ],
   "source": []
  },
  {
   "cell_type": "code",
   "execution_count": null,
   "metadata": {},
   "outputs": [],
   "source": []
  }
 ],
 "metadata": {
  "colab": {
   "name": "questions.ipynb"
  },
  "kernelspec": {
   "display_name": "Python 3",
   "language": "python",
   "name": "python3"
  },
  "language_info": {
   "codemirror_mode": {
    "name": "ipython",
    "version": 3
   },
   "file_extension": ".py",
   "mimetype": "text/x-python",
   "name": "python",
   "nbconvert_exporter": "python",
   "pygments_lexer": "ipython3",
   "version": "3.7.3"
  }
 },
 "nbformat": 4,
 "nbformat_minor": 2
}
