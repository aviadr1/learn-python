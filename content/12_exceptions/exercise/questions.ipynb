{
 "cells": [
  {
   "cell_type": "markdown",
   "metadata": {
    "colab_type": "text",
    "id": "XJ8WrXOO_1I2"
   },
   "source": [
    "\n",
    "<a href=\"https://colab.research.google.com/github/aviadr1/learn-python/blob/master/content/12_exceptions/exercise/questions.ipynb\" target=\"_blank\">\n",
    "<img src=\"https://colab.research.google.com/assets/colab-badge.svg\" \n",
    "     title=\"Open this file in Google Colab\" alt=\"Colab\"/>\n",
    "</a>\n"
   ]
  },
  {
   "cell_type": "markdown",
   "metadata": {
    "colab_type": "text",
    "id": "sjwstkHq_1I4"
   },
   "source": [
    "# convert to int\n",
    "use a loop and the `int` function to find all the numbers embedded in the quote given below.\n",
    "- hint: use `try/except` so that things which are not numbers wont stop your loop\n",
    "\n",
    "expected outout:\n",
    "```\n",
    "[3, 3, 3, 4, 2, 3, 5]\n",
    "```"
   ]
  },
  {
   "cell_type": "code",
   "execution_count": 0,
   "metadata": {
    "colab": {},
    "colab_type": "code",
    "id": "YR-W9dlr_1I5"
   },
   "outputs": [],
   "source": [
    "### useful: use the `int` functions to grab all the numbers from this string\n",
    "holy_hand_grenade_of_antioch = \"\"\"\\\n",
    "First shalt thou take out the Holy Pin, \n",
    "then shalt thou count to 3 , no more, no less. \n",
    "3 shall be the number thou shalt count, and the number of the counting shall be 3 . \n",
    "4 shalt thou not count, neither count thou 2 , excepting that thou then proceed to 3 . \n",
    "5 is right out.\"\"\""
   ]
  },
  {
   "cell_type": "code",
   "execution_count": 4,
   "metadata": {
    "colab": {
     "base_uri": "https://localhost:8080/",
     "height": 34
    },
    "colab_type": "code",
    "id": "SEXgirPC_1I8",
    "outputId": "25673932-578b-48a0-89bd-ddd3e10f7edb"
   },
   "outputs": [
    {
     "name": "stdout",
     "output_type": "stream",
     "text": [
      "[3, 3, 3, 4, 2, 3, 5]\n"
     ]
    }
   ],
   "source": []
  },
  {
   "cell_type": "markdown",
   "metadata": {
    "colab_type": "text",
    "id": "_PnFrorP_1JB"
   },
   "source": [
    "# finally\n",
    "\n",
    "we've provided an important function called `answer_to_universe_and_everything()`\n",
    "1. open a file called `'answer.txt'` for writing\n",
    "2. use a loop to call `answer_to_universe_and_everything()` a 100 times, and write the results to the file\n",
    "3. use a `try/except` block to make sure that if answer_to_universe_and_everything() fails, we continue to call the function\n",
    "4. if the function fails, write the fail message to the file\n",
    "4. use a `try/finally` block to make sure we close the file\n",
    "5. make sure the file indeed has exactly 100 lines\n"
   ]
  },
  {
   "cell_type": "code",
   "execution_count": 0,
   "metadata": {
    "colab": {},
    "colab_type": "code",
    "id": "YIZu9Zt2_1JC"
   },
   "outputs": [],
   "source": [
    "### useful: use this function\n",
    "def answer_to_universe_and_everything():\n",
    "    import random\n",
    "    x = random.randint(0, 10)\n",
    "    if x<3:\n",
    "        return 'need more time'\n",
    "    elif x<6:\n",
    "        return 'blue ... no, red!'\n",
    "    elif x<9:\n",
    "        raise Exception('too hard')\n",
    "    else:\n",
    "        return 42\n",
    "    "
   ]
  },
  {
   "cell_type": "code",
   "execution_count": 0,
   "metadata": {
    "colab": {},
    "colab_type": "code",
    "id": "gSEgKNqM_1JE"
   },
   "outputs": [],
   "source": []
  },
  {
   "cell_type": "code",
   "execution_count": 0,
   "metadata": {
    "colab": {},
    "colab_type": "code",
    "id": "pfX_m1gE_1JH"
   },
   "outputs": [],
   "source": [
    "### useful: show that the file has 100 lines\n",
    "assert len(open('answer.txt').readlines()) == 100"
   ]
  }
 ],
 "metadata": {
  "colab": {
   "name": "12_exceptions/exercise/questions.ipynb",
   "provenance": []
  },
  "kernelspec": {
   "display_name": "Python 3",
   "language": "python",
   "name": "python3"
  },
  "language_info": {
   "codemirror_mode": {
    "name": "ipython",
    "version": 3
   },
   "file_extension": ".py",
   "mimetype": "text/x-python",
   "name": "python",
   "nbconvert_exporter": "python",
   "pygments_lexer": "ipython3",
   "version": "3.6.5"
  }
 },
 "nbformat": 4,
 "nbformat_minor": 0
}
