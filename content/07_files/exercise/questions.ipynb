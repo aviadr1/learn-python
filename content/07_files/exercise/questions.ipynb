{
 "cells": [
  {
   "cell_type": "markdown",
   "metadata": {},
   "source": [
    "\n",
    "<a href=\"https://colab.research.google.com/github/aviadr1/learn-python/blob/master/content/07_files/exercise/questions.ipynb\" target=\"_blank\">\n",
    "<img src=\"https://colab.research.google.com/assets/colab-badge.svg\" \n",
    "     title=\"Open this file in Google Colab\" alt=\"Colab\"/>\n",
    "</a>\n"
   ]
  },
  {
   "cell_type": "markdown",
   "metadata": {},
   "source": [
    "# current working directory\n",
    "use the following code to see what your current working directory is\n",
    "```\n",
    "import os\n",
    "current_working_directory = os.path.realpath('.')\n",
    "print(current_working_directory)\n",
    "```\n",
    "\n",
    "whenever you open files without specifying a full path, the operating system will assume you are using this directory\n"
   ]
  },
  {
   "cell_type": "code",
   "execution_count": 1,
   "metadata": {},
   "outputs": [
    {
     "name": "stdout",
     "output_type": "stream",
     "text": [
      "C:\\Users\\jbt\\Downloads\n"
     ]
    }
   ],
   "source": []
  },
  {
   "cell_type": "markdown",
   "metadata": {},
   "source": [
    "# look at a folder in windows file explorer\n",
    "> **on windows OS only**\n",
    "\n",
    "use the following code to open the windows file explorer in your current working directory. <br>\n",
    "this will be useful when you're looking for files you are creating\n",
    "\n",
    "```\n",
    "# windows only\n",
    "import subprocess\n",
    "current_working_directory = os.path.realpath('.')\n",
    "if os.name == 'nt':\n",
    "    subprocess.Popen('explorer.exe ' + current_working_directory)\n",
    "```\n",
    "\n",
    "notice how it opened a new window for you\n"
   ]
  },
  {
   "cell_type": "code",
   "execution_count": 2,
   "metadata": {},
   "outputs": [],
   "source": []
  },
  {
   "cell_type": "markdown",
   "metadata": {},
   "source": [
    "# write file\n",
    "\n",
    "1. use the following code to open the file ex07.txt for writing\n",
    "    ```\n",
    "    f = open('ex07.txt', 'w')\n",
    "    ```\n",
    "\n",
    "2. here's some text to write into the file\n",
    "\n",
    "    ```\n",
    "    dead_parrot = \"\"\"\n",
    "    I wish to complain about this parrot what I purchased not half an hour ago from this very boutique.\n",
    "\n",
    "    Oh yes, the, uh, the Norwegian Blue...What's,uh...What's wrong with it?\n",
    "\n",
    "    I'll tell you what's wrong with it, my lad. 'E's dead, that's what's wrong with it!\n",
    "\n",
    "    No, no, 'e's uh,...he's resting.\n",
    "    \"\"\"\n",
    "    ```\n",
    "\n",
    "3. don't forget to close the file\n",
    "   <br><br>\n",
    "\n",
    "4. can you find this file on your hard drive?\n"
   ]
  },
  {
   "cell_type": "code",
   "execution_count": 3,
   "metadata": {},
   "outputs": [],
   "source": []
  },
  {
   "cell_type": "markdown",
   "metadata": {},
   "source": [
    "# reading a file\n",
    "\n",
    "use `open()` and a for loop to read the contents of the `\"ex07.txt\"` file, line by line"
   ]
  },
  {
   "cell_type": "code",
   "execution_count": 4,
   "metadata": {},
   "outputs": [
    {
     "name": "stdout",
     "output_type": "stream",
     "text": [
      "\n",
      "I wish to complain about this parrot what I purchased not half an hour ago from this very boutique.\n",
      "\n",
      "Oh yes, the, uh, the Norwegian Blue...What's,uh...What's wrong with it?\n",
      "\n",
      "I'll tell you what's wrong with it, my lad. 'E's dead, that's what's wrong with it!\n",
      "\n",
      "No, no, 'e's uh,...he's resting.\n",
      "\n"
     ]
    }
   ],
   "source": []
  },
  {
   "cell_type": "markdown",
   "metadata": {},
   "source": [
    "# convenience functions - read_file\n",
    "\n",
    "Lets write a convenience function called `readfile` that accepts one parameter called `filename` \n",
    "```\n",
    "def readfile(filename):\n",
    "```\n",
    "the function should:\n",
    "1. opens the file to a variable called f\n",
    "1. reads and returns all the content of the file (use `f.read()`)\n",
    "1. closes the file\n",
    "\n",
    "Also lets write convenience function called `printfile` that accepts one parameter called `filename` like so:\n",
    "```\n",
    "def printfile(filename):\n",
    "    print(readfile(filename))\n",
    "```\n",
    "Lets use `printfile` function on `'ex07.txt'` to read its contents\n",
    "\n"
   ]
  },
  {
   "cell_type": "code",
   "execution_count": 5,
   "metadata": {},
   "outputs": [
    {
     "name": "stdout",
     "output_type": "stream",
     "text": [
      "\n",
      "I wish to complain about this parrot what I purchased not half an hour ago from this very boutique.\n",
      "\n",
      "Oh yes, the, uh, the Norwegian Blue...What's,uh...What's wrong with it?\n",
      "\n",
      "I'll tell you what's wrong with it, my lad. 'E's dead, that's what's wrong with it!\n",
      "\n",
      "No, no, 'e's uh,...he's resting.\n",
      "\n",
      "\n"
     ]
    }
   ],
   "source": []
  },
  {
   "cell_type": "markdown",
   "metadata": {},
   "source": [
    "# transforming a file\n",
    "we want to write an ALL CAPS version of ex07.txt where all the text is in uppercase\n",
    "\n",
    "1. open the 'ex07.txt' input file for reading <br><br>\n",
    "\n",
    "1. open a new 'ex07.allcaps.txt' output file for writing <br><br>\n",
    "\n",
    "1. use a for loop on the read file to read the text line by line\n",
    "   1. convert each line to uppercase\n",
    "   1. write the line to the output file \n",
    "   <br><br>\n",
    "   \n",
    "1. don't forget to close the files <br><br>\n",
    "\n",
    "1. make sure the new file is there\n"
   ]
  },
  {
   "cell_type": "code",
   "execution_count": 6,
   "metadata": {},
   "outputs": [
    {
     "name": "stdout",
     "output_type": "stream",
     "text": [
      "\n",
      "I WISH TO COMPLAIN ABOUT THIS PARROT WHAT I PURCHASED NOT HALF AN HOUR AGO FROM THIS VERY BOUTIQUE.\n",
      "\n",
      "OH YES, THE, UH, THE NORWEGIAN BLUE...WHAT'S,UH...WHAT'S WRONG WITH IT?\n",
      "\n",
      "I'LL TELL YOU WHAT'S WRONG WITH IT, MY LAD. 'E'S DEAD, THAT'S WHAT'S WRONG WITH IT!\n",
      "\n",
      "NO, NO, 'E'S UH,...HE'S RESTING.\n",
      "\n",
      "\n"
     ]
    }
   ],
   "source": []
  },
  {
   "cell_type": "markdown",
   "metadata": {},
   "source": [
    "# renaming and deleting files\n",
    "\n",
    "1. use the following code to delete the file `\"ex07.txt\"`\n",
    "```\n",
    "import os\n",
    "os.remove('ex07.txt')\n",
    "```\n",
    "\n",
    "1. use the `os.rename()` function (use help to figure out how to use it) to rename the file `'ex07.allcaps.txt'` to `\"ex07.txt\"`\n",
    "\n",
    "> **now we've \"rewritten\" the ex07.txt file to be in all caps** <br>\n",
    "> but what _really_ happened is that we wrote a new file, and then replaced the old file with the new file\n",
    "> in most cases of working on files, this is the right way to approach problems and how many scripts, editors or programs work > in the real world"
   ]
  },
  {
   "cell_type": "code",
   "execution_count": 7,
   "metadata": {},
   "outputs": [],
   "source": []
  },
  {
   "cell_type": "markdown",
   "metadata": {},
   "source": [
    "# writing a CSV file\n",
    "\n",
    "> The so-called CSV (Comma Separated Values) format is the most common import and export format for spreadsheets and databases. CSV format was used for many years prior to attempts to describe the format in a standardized way in RFC 4180. \n",
    "\n",
    "here's a some information about bank customers, their name, current money in the bank, and the salary check that they have received \n",
    "\n",
    "```\n",
    "transactions = [\n",
    "#    name             , money in bank now  , salary  \n",
    "    ['eric idle'      , 10000              , 5000  ],\n",
    "    ['terry gilliam'  ,  2500              , 12500 ],\n",
    "    ['graham chapman' , -5000              , 20000 ]\n",
    "    ]\n",
    "```\n",
    "\n",
    "can you use a loop to write this, along with a header, to a CSV file named `\"transactions.csv\"`?\n",
    "\n",
    "expected output in transactions.csv:\n",
    "\n",
    "    name, money in bank now, salary\n",
    "    eric idle, 10000, 5000\n",
    "    terry gilliam, 2500, 12500\n",
    "    graham chapman, \n",
    "    \n",
    "    "
   ]
  },
  {
   "cell_type": "code",
   "execution_count": 8,
   "metadata": {},
   "outputs": [
    {
     "name": "stdout",
     "output_type": "stream",
     "text": [
      "name, money in bank now, salary\n",
      "eric idle, 10000, 5000\n",
      "terry gilliam, 2500, 12500\n",
      "graham chapman, -5000, 20000\n",
      "\n"
     ]
    }
   ],
   "source": []
  },
  {
   "cell_type": "markdown",
   "metadata": {},
   "source": [
    "# transforming a CSV file\n",
    "\n",
    "Lets compute how much money each bank customer will have after their salary kicks in\n",
    "and write the results into a new file called `\"totals.csv\"`\n",
    "this file needs only 2 columns - we drop the salary column\n",
    "\n",
    "expected output for `totals.csv`:\n",
    "\n",
    "    name, money in bank now \n",
    "    eric idle, 15000\n",
    "    terry gilliam, 15000\n",
    "    graham chapman, 15000\n",
    "    \n"
   ]
  },
  {
   "cell_type": "code",
   "execution_count": 9,
   "metadata": {},
   "outputs": [
    {
     "name": "stdout",
     "output_type": "stream",
     "text": [
      "name, money in bank now\n",
      "eric idle, 15000\n",
      "terry gilliam, 15000\n",
      "graham chapman, 15000\n",
      "\n"
     ]
    }
   ],
   "source": []
  },
  {
   "cell_type": "markdown",
   "metadata": {},
   "source": [
    "# Creating  and deleting directories\n",
    "\n",
    "1. import the module `shutil` and use the `shutil.rmtree('mydir1') ` function to remove a directory called mydir1 if it exists\n",
    "   > CAREFUL: `rmtree` will delete whole folders and subdirectories without prompt and without recovery. like a `rm -rf` \n",
    "1. use the `os.mkdir()` function to create a directory called `mydir1` in the current working directory\n",
    "2. use the `os.makedirs()` function to create a sub-directory called `mydir1/mydir2/mydir3'\n",
    "3. create a file called `surprise.txt` in `mydir1/mydir2/mydir3` and put the line `'nobody expects the spanish inquisition'` into that file\n",
    "4. convince yourself that `os.remove()` can delete files and empty directories, but cannot delete folders with 'stuff' in them"
   ]
  },
  {
   "cell_type": "code",
   "execution_count": 7,
   "metadata": {},
   "outputs": [],
   "source": []
  },
  {
   "cell_type": "markdown",
   "metadata": {},
   "source": [
    "# writing a JSON file\n",
    "\n",
    "1. Create some complex object made of lists, tuples, dictionaries, strings, put it in variable named `data`\n",
    "   example:\n",
    "   ```\n",
    "   data = [{\n",
    "        \"userId\":\"rirani\",\n",
    "        \"jobTitleName\":\"Developer\",\n",
    "        \"firstName\":\"Romin\",\n",
    "        \"lastName\":\"Irani\",\n",
    "        \"preferredFullName\":\"Romin Irani\",\n",
    "        \"employeeCode\":\"E1\",\n",
    "        \"region\":\"CA\",\n",
    "        \"phoneNumber\":\"408-1234567\",\n",
    "        \"emailAddress\":\"romin.k.irani@gmail.com\"\n",
    "    },\n",
    "    {\n",
    "        \"userId\":\"nirani\",\n",
    "        \"jobTitleName\":\"Developer\",\n",
    "        \"firstName\":\"Neil\",\n",
    "        \"lastName\":\"Irani\",\n",
    "        \"preferredFullName\":\"Neil Irani\",\n",
    "        \"employeeCode\":\"E2\",\n",
    "        \"region\":\"CA\",\n",
    "        \"phoneNumber\":\"408-1111111\",\n",
    "        \"emailAddress\":\"neilrirani@gmail.com\"\n",
    "    }]\n",
    "    ```\n",
    "2. use the `open()` function to open a file called `data.json.txt` into variable named `fout`\n",
    "3. import the `json` module and use the `json.dump(data, f)` function to write your object to the file\n",
    "4. close the file \n",
    "5. open the file with a text editor program and compare with your original \n",
    "6. use `open()` function to open the file for reading with variable `fin`\n",
    "7. use the `data2 = json.load(fin)` function to read the file into a variable named `data2`\n",
    "8. use `==` to compare `data` and `data2`. do they have the same content? "
   ]
  },
  {
   "cell_type": "code",
   "execution_count": 18,
   "metadata": {},
   "outputs": [],
   "source": []
  },
  {
   "cell_type": "code",
   "execution_count": null,
   "metadata": {},
   "outputs": [],
   "source": []
  }
 ],
 "metadata": {
  "kernelspec": {
   "display_name": "Python 3",
   "language": "python",
   "name": "python3"
  },
  "language_info": {
   "codemirror_mode": {
    "name": "ipython",
    "version": 3
   },
   "file_extension": ".py",
   "mimetype": "text/x-python",
   "name": "python",
   "nbconvert_exporter": "python",
   "pygments_lexer": "ipython3",
   "version": "3.6.5"
  }
 },
 "nbformat": 4,
 "nbformat_minor": 2
}
