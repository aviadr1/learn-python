{
 "cells": [
  {
   "cell_type": "markdown",
   "metadata": {},
   "source": [
    "\n",
    "<a href=\"https://colab.research.google.com/github/aviadr1/learn-python/blob/master/content/07_files/notebooks/pickle_example.ipynb\" target=\"_blank\">\n",
    "<img src=\"https://colab.research.google.com/assets/colab-badge.svg\" \n",
    "     title=\"Open this file in Google Colab\" alt=\"Colab\"/>\n",
    "</a>\n"
   ]
  },
  {
   "cell_type": "code",
   "execution_count": 2,
   "metadata": {},
   "outputs": [],
   "source": [
    "import pickle\n",
    "\n",
    "f= open(\"test.pickle\", \"wb\")\n",
    "pickle.dump([], f)"
   ]
  },
  {
   "cell_type": "code",
   "execution_count": null,
   "metadata": {},
   "outputs": [],
   "source": [
    "while True:\n",
    "    r = input(\"(r)ead or (w)rite?\")\n",
    "    if r in ['w', 'r']:\n",
    "        break\n",
    "\n",
    "if r == 'r':\n",
    "    f= open(\"test.pickle\", \"rb\")\n",
    "    db = pickle.load(f)\n",
    "    print(db)\n",
    "    \n",
    "if r == 'w':\n",
    "    f= open(\"test.pickle\", \"rb\")\n",
    "    db = pickle.load(f)\n",
    "    new = input(\"what do you want to add?\")\n",
    "    db.append(new)\n",
    "    f.close()\n",
    "    f= open(\"test.pickle\", \"wb\")\n",
    "    pickle.dump(db, f)\n",
    "    "
   ]
  },
  {
   "cell_type": "code",
   "execution_count": null,
   "metadata": {},
   "outputs": [],
   "source": []
  }
 ],
 "metadata": {
  "kernelspec": {
   "display_name": "Python 3",
   "language": "python",
   "name": "python3"
  },
  "language_info": {
   "codemirror_mode": {
    "name": "ipython",
    "version": 3
   },
   "file_extension": ".py",
   "mimetype": "text/x-python",
   "name": "python",
   "nbconvert_exporter": "python",
   "pygments_lexer": "ipython3",
   "version": "3.6.5"
  }
 },
 "nbformat": 4,
 "nbformat_minor": 2
}
