{
 "cells": [
  {
   "cell_type": "markdown",
   "metadata": {},
   "source": [
    "\n",
    "<a href=\"https://colab.research.google.com/github/aviadr1/learn-python/blob/master/content/07_files/notebooks/open_read_write_regex.ipynb\" target=\"_blank\">\n",
    "<img src=\"https://colab.research.google.com/assets/colab-badge.svg\" \n",
    "     title=\"Open this file in Google Colab\" alt=\"Colab\"/>\n",
    "</a>\n"
   ]
  },
  {
   "cell_type": "code",
   "execution_count": 2,
   "metadata": {},
   "outputs": [],
   "source": [
    "import re\n",
    "regex = r\"([ \\t]*)print[ \\t]+(.*)\"\n",
    "replacement = r\"\\1print(\\2)\""
   ]
  },
  {
   "cell_type": "code",
   "execution_count": 10,
   "metadata": {},
   "outputs": [
    {
     "name": "stdout",
     "output_type": "stream",
     "text": [
      "print(1,2,3)\n",
      "print(\"hello\", \"world\")\n",
      "if True:\n",
      "\tprint(1,2,3)\n",
      "\n",
      "\t"
     ]
    }
   ],
   "source": [
    "f = open(\"test.py\")\n",
    "for line in f:\n",
    "    \n",
    "    result = re.sub(regex, replacement, line)\n",
    "    print(result,end=\"\")\n",
    "f.close()"
   ]
  },
  {
   "cell_type": "code",
   "execution_count": 14,
   "metadata": {},
   "outputs": [
    {
     "name": "stdout",
     "output_type": "stream",
     "text": [
      "print(1,2,3) \t# <--  print 1,2,3\n",
      "print(\"hello\", \"world\") \t# <--  print \"hello\", \"world\"\n",
      "if True:\n",
      "\tprint(1,2,3) \t# <--  \tprint 1,2,3\n",
      "\n",
      "\t"
     ]
    }
   ],
   "source": [
    "f = open(\"test.py\")\n",
    "for line in f:\n",
    "    \n",
    "    result = re.sub(regex, replacement, line)\n",
    "    if(result != line):\n",
    "        print(result.rstrip(), \"\\t# <-- \", line, end=\"\")\n",
    "    else:\n",
    "        print(result, end=\"\")\n",
    "\n",
    "f.close()"
   ]
  },
  {
   "cell_type": "code",
   "execution_count": 18,
   "metadata": {},
   "outputs": [
    {
     "name": "stdout",
     "output_type": "stream",
     "text": [
      "print(1,2,3)\n",
      "print(\"hello\", \"world\")\n",
      "if True:\n",
      "\tprint(1,2,3)\n",
      "\n",
      "\t"
     ]
    }
   ],
   "source": [
    "f = open(\"test.py\")\n",
    "f2 = open(\"test-py3.py\", \"w\")\n",
    "for line in f:\n",
    "    \n",
    "    result = re.sub(regex, replacement, line)\n",
    "    print(result, end=\"\", file=f2)\n",
    "\n",
    "f.close()\n",
    "f2.close()\n",
    "\n",
    "newf2 = open(\"test-py3.py\")\n",
    "for line in newf2:\n",
    "    print(line, end=\"\")\n",
    "newf2.close()"
   ]
  },
  {
   "cell_type": "code",
   "execution_count": null,
   "metadata": {},
   "outputs": [],
   "source": []
  },
  {
   "cell_type": "code",
   "execution_count": null,
   "metadata": {},
   "outputs": [],
   "source": []
  },
  {
   "cell_type": "code",
   "execution_count": null,
   "metadata": {},
   "outputs": [],
   "source": []
  },
  {
   "cell_type": "code",
   "execution_count": null,
   "metadata": {},
   "outputs": [],
   "source": [
    "\n"
   ]
  },
  {
   "cell_type": "code",
   "execution_count": null,
   "metadata": {},
   "outputs": [],
   "source": []
  },
  {
   "cell_type": "code",
   "execution_count": null,
   "metadata": {},
   "outputs": [],
   "source": []
  },
  {
   "cell_type": "code",
   "execution_count": null,
   "metadata": {},
   "outputs": [],
   "source": []
  },
  {
   "cell_type": "code",
   "execution_count": null,
   "metadata": {},
   "outputs": [],
   "source": []
  },
  {
   "cell_type": "code",
   "execution_count": null,
   "metadata": {},
   "outputs": [],
   "source": []
  },
  {
   "cell_type": "code",
   "execution_count": null,
   "metadata": {},
   "outputs": [],
   "source": []
  },
  {
   "cell_type": "code",
   "execution_count": null,
   "metadata": {},
   "outputs": [],
   "source": []
  },
  {
   "cell_type": "code",
   "execution_count": null,
   "metadata": {},
   "outputs": [],
   "source": []
  },
  {
   "cell_type": "code",
   "execution_count": null,
   "metadata": {},
   "outputs": [],
   "source": []
  },
  {
   "cell_type": "code",
   "execution_count": null,
   "metadata": {},
   "outputs": [],
   "source": [
    "\n"
   ]
  },
  {
   "cell_type": "code",
   "execution_count": null,
   "metadata": {},
   "outputs": [],
   "source": []
  },
  {
   "cell_type": "code",
   "execution_count": null,
   "metadata": {},
   "outputs": [],
   "source": []
  },
  {
   "cell_type": "code",
   "execution_count": null,
   "metadata": {},
   "outputs": [],
   "source": []
  }
 ],
 "metadata": {
  "kernelspec": {
   "display_name": "Python 3",
   "language": "python",
   "name": "python3"
  },
  "language_info": {
   "codemirror_mode": {
    "name": "ipython",
    "version": 3
   },
   "file_extension": ".py",
   "mimetype": "text/x-python",
   "name": "python",
   "nbconvert_exporter": "python",
   "pygments_lexer": "ipython3",
   "version": "3.6.5"
  }
 },
 "nbformat": 4,
 "nbformat_minor": 2
}
