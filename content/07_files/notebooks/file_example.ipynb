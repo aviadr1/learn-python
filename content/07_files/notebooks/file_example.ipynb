{
 "cells": [
  {
   "cell_type": "markdown",
   "metadata": {},
   "source": [
    "\n",
    "<a href=\"https://colab.research.google.com/github/aviadr1/learn-python/blob/master/content/07_files/notebooks/file_example.ipynb\" target=\"_blank\">\n",
    "<img src=\"https://colab.research.google.com/assets/colab-badge.svg\" \n",
    "     title=\"Open this file in Google Colab\" alt=\"Colab\"/>\n",
    "</a>\n"
   ]
  },
  {
   "cell_type": "code",
   "execution_count": 12,
   "metadata": {},
   "outputs": [
    {
     "name": "stdout",
     "output_type": "stream",
     "text": [
      "give me more data: line 4\n",
      "asd\n",
      "dsf\n",
      "sdfdsf\n",
      "sfdfdsfdsfds\n",
      "line 4\n"
     ]
    }
   ],
   "source": [
    "f=open(\"test.log\")\n",
    "lines = f.readlines()\n",
    "f.close()\n",
    "\n",
    "newline = input(\"give me more data: \")\n",
    "lines.append(newline)\n",
    "\n",
    "\n",
    "f=open(\"test.log\", \"w\")\n",
    "for line in lines:\n",
    "    line=line.rstrip()\n",
    "    print(line, file=f)\n",
    "    print(line)\n",
    "\n",
    "f.close()\n",
    "\n"
   ]
  },
  {
   "cell_type": "code",
   "execution_count": null,
   "metadata": {},
   "outputs": [],
   "source": []
  },
  {
   "cell_type": "code",
   "execution_count": null,
   "metadata": {},
   "outputs": [],
   "source": []
  }
 ],
 "metadata": {
  "kernelspec": {
   "display_name": "Python 3",
   "language": "python",
   "name": "python3"
  },
  "language_info": {
   "codemirror_mode": {
    "name": "ipython",
    "version": 3
   },
   "file_extension": ".py",
   "mimetype": "text/x-python",
   "name": "python",
   "nbconvert_exporter": "python",
   "pygments_lexer": "ipython3",
   "version": "3.6.5"
  }
 },
 "nbformat": 4,
 "nbformat_minor": 2
}
