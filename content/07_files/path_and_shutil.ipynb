{
 "cells": [
  {
   "cell_type": "markdown",
   "metadata": {},
   "source": [
    "\n",
    "<a href=\"https://colab.research.google.com/github/aviadr1/learn-python/blob/master/content/07_files/path_and_shutil.ipynb\" target=\"_blank\">\n",
    "<img src=\"https://colab.research.google.com/assets/colab-badge.svg\" \n",
    "     title=\"Open this file in Google Colab\" alt=\"Colab\"/>\n",
    "</a>\n"
   ]
  },
  {
   "cell_type": "code",
   "execution_count": 0,
   "metadata": {
    "colab": {},
    "colab_type": "code",
    "id": "8KdvRxCPUprF"
   },
   "outputs": [],
   "source": [
    "from pathlib import Path"
   ]
  },
  {
   "cell_type": "code",
   "execution_count": 0,
   "metadata": {
    "colab": {
     "base_uri": "https://localhost:8080/",
     "height": 34
    },
    "colab_type": "code",
    "id": "ki_UoaPnmC6E",
    "outputId": "e4e6a2d2-6175-4eeb-91d0-3cc4e70cd103"
   },
   "outputs": [
    {
     "data": {
      "text/plain": [
       "pathlib.Path"
      ]
     },
     "execution_count": 2,
     "metadata": {
      "tags": []
     },
     "output_type": "execute_result"
    }
   ],
   "source": [
    "Path"
   ]
  },
  {
   "cell_type": "code",
   "execution_count": 0,
   "metadata": {
    "colab": {
     "base_uri": "https://localhost:8080/",
     "height": 34
    },
    "colab_type": "code",
    "id": "gpbDQlLHUtbx",
    "outputId": "16b9b227-2130-4801-9778-e9bbb2d2dcd0"
   },
   "outputs": [
    {
     "data": {
      "text/plain": [
       "PosixPath('/content')"
      ]
     },
     "execution_count": 3,
     "metadata": {
      "tags": []
     },
     "output_type": "execute_result"
    }
   ],
   "source": [
    "cwd = Path.cwd()\n",
    "cwd"
   ]
  },
  {
   "cell_type": "code",
   "execution_count": 0,
   "metadata": {
    "colab": {
     "base_uri": "https://localhost:8080/",
     "height": 34
    },
    "colab_type": "code",
    "id": "PFrE59HZoAA0",
    "outputId": "2de999f4-6c94-4116-997e-72b1f25b4d73"
   },
   "outputs": [
    {
     "data": {
      "text/plain": [
       "pathlib.PosixPath"
      ]
     },
     "execution_count": 4,
     "metadata": {
      "tags": []
     },
     "output_type": "execute_result"
    }
   ],
   "source": [
    "type(cwd)"
   ]
  },
  {
   "cell_type": "markdown",
   "metadata": {
    "colab_type": "text",
    "id": "dNoa481DU_UU"
   },
   "source": [
    "# what's in the directory?\n",
    "\n",
    "use the function `iterdir()` to see all the contents of a directory "
   ]
  },
  {
   "cell_type": "code",
   "execution_count": 0,
   "metadata": {
    "colab": {},
    "colab_type": "code",
    "id": "gW3vc79hmWFj"
   },
   "outputs": [],
   "source": [
    "import shutil\n",
    "for subfolder in ['my_folder', 'blah']:\n",
    "    try: \n",
    "        shutil.rmtree(str(cwd / subfolder))\n",
    "    except:\n",
    "        pass"
   ]
  },
  {
   "cell_type": "code",
   "execution_count": 0,
   "metadata": {
    "colab": {
     "base_uri": "https://localhost:8080/",
     "height": 51
    },
    "colab_type": "code",
    "id": "Zj3sxHeRVrJ1",
    "outputId": "737b8047-3b52-4063-c426-2e35db0a3f59"
   },
   "outputs": [
    {
     "name": "stdout",
     "output_type": "stream",
     "text": [
      "/content/.config\n",
      "/content/sample_data\n"
     ]
    }
   ],
   "source": [
    "for item in cwd.iterdir():\n",
    "    print(item)"
   ]
  },
  {
   "cell_type": "code",
   "execution_count": 0,
   "metadata": {
    "colab": {
     "base_uri": "https://localhost:8080/",
     "height": 35
    },
    "colab_type": "code",
    "id": "VOVTbC6lUvyJ",
    "outputId": "c7600acc-fab4-4d25-fe33-cfb418ec58dc"
   },
   "outputs": [
    {
     "data": {
      "text/plain": [
       "[PosixPath('/content/.config'), PosixPath('/content/sample_data')]"
      ]
     },
     "execution_count": 14,
     "metadata": {
      "tags": []
     },
     "output_type": "execute_result"
    }
   ],
   "source": [
    "list(cwd.iterdir())"
   ]
  },
  {
   "cell_type": "markdown",
   "metadata": {
    "colab_type": "text",
    "id": "dTYR-PG1V4py"
   },
   "source": [
    "# create a subdirectory"
   ]
  },
  {
   "cell_type": "code",
   "execution_count": 0,
   "metadata": {
    "colab": {
     "base_uri": "https://localhost:8080/",
     "height": 35
    },
    "colab_type": "code",
    "id": "K5x6UAABV1Et",
    "outputId": "f81798d7-832f-4c9a-a82d-a38523f05d0f"
   },
   "outputs": [
    {
     "name": "stdout",
     "output_type": "stream",
     "text": [
      "/content/my_folder\n"
     ]
    }
   ],
   "source": [
    "my_folder = cwd / 'my_folder'\n",
    "\n",
    "if not my_folder.exists():\n",
    "    my_folder.mkdir()\n",
    "    \n",
    "print(my_folder)"
   ]
  },
  {
   "cell_type": "code",
   "execution_count": 0,
   "metadata": {
    "colab": {
     "base_uri": "https://localhost:8080/",
     "height": 35
    },
    "colab_type": "code",
    "id": "pOxMJNjKnu1U",
    "outputId": "c3bfbce5-f188-49af-df0c-ffb0624f525c"
   },
   "outputs": [
    {
     "data": {
      "text/plain": [
       "True"
      ]
     },
     "execution_count": 16,
     "metadata": {
      "tags": []
     },
     "output_type": "execute_result"
    }
   ],
   "source": [
    "my_folder.exists()"
   ]
  },
  {
   "cell_type": "markdown",
   "metadata": {
    "colab_type": "text",
    "id": "9Dh6DJKlXgRM"
   },
   "source": [
    "# create a file in a directory"
   ]
  },
  {
   "cell_type": "code",
   "execution_count": 0,
   "metadata": {
    "colab": {
     "base_uri": "https://localhost:8080/",
     "height": 35
    },
    "colab_type": "code",
    "id": "72R391sLXl_q",
    "outputId": "8c79d9fd-e4cf-4361-e023-937f87567648"
   },
   "outputs": [
    {
     "name": "stdout",
     "output_type": "stream",
     "text": [
      "/content/my_folder/my_file.txt\n"
     ]
    }
   ],
   "source": [
    "my_file = my_folder / 'my_file.txt'\n",
    "my_file.touch()\n",
    "print(my_file)"
   ]
  },
  {
   "cell_type": "markdown",
   "metadata": {
    "colab_type": "text",
    "id": "2VPTQuAVdbp8"
   },
   "source": [
    "# one-shot write/read content to file"
   ]
  },
  {
   "cell_type": "code",
   "execution_count": 0,
   "metadata": {
    "colab": {
     "base_uri": "https://localhost:8080/",
     "height": 35
    },
    "colab_type": "code",
    "id": "lv3u7UjNdYMT",
    "outputId": "0e8b37a5-86f7-41e4-8da3-45fc0f1aa719"
   },
   "outputs": [
    {
     "data": {
      "text/plain": [
       "'hello!'"
      ]
     },
     "execution_count": 18,
     "metadata": {
      "tags": []
     },
     "output_type": "execute_result"
    }
   ],
   "source": [
    "my_file.write_text('hello!')\n",
    "my_file.read_text()"
   ]
  },
  {
   "cell_type": "markdown",
   "metadata": {
    "colab_type": "text",
    "id": "n28rAswJYPke"
   },
   "source": [
    "# parent folder"
   ]
  },
  {
   "cell_type": "code",
   "execution_count": 0,
   "metadata": {
    "colab": {
     "base_uri": "https://localhost:8080/",
     "height": 52
    },
    "colab_type": "code",
    "id": "VoyBTBh3YOvb",
    "outputId": "62a12d26-6ab2-4f66-d6cd-5e7a3d5bb8b0"
   },
   "outputs": [
    {
     "name": "stdout",
     "output_type": "stream",
     "text": [
      "/content/my_folder <class 'pathlib.PosixPath'>\n",
      "/content/my_folder/my_file.txt\n"
     ]
    }
   ],
   "source": [
    "print(my_file.parent, type(my_file.parent))\n",
    "print(my_file)"
   ]
  },
  {
   "cell_type": "markdown",
   "metadata": {
    "colab_type": "text",
    "id": "Cf8yTPAfX_1C"
   },
   "source": [
    "# filename without the path of the parent folder"
   ]
  },
  {
   "cell_type": "code",
   "execution_count": 0,
   "metadata": {
    "colab": {
     "base_uri": "https://localhost:8080/",
     "height": 35
    },
    "colab_type": "code",
    "id": "Ly9m11F_YApV",
    "outputId": "32f01d8b-58d9-4c57-913f-5641592e2a42"
   },
   "outputs": [
    {
     "data": {
      "text/plain": [
       "'my_file.txt'"
      ]
     },
     "execution_count": 21,
     "metadata": {
      "tags": []
     },
     "output_type": "execute_result"
    }
   ],
   "source": [
    "my_file.name"
   ]
  },
  {
   "cell_type": "markdown",
   "metadata": {
    "colab_type": "text",
    "id": "yx95tSyCbCQC"
   },
   "source": [
    "# just the extension / suffix"
   ]
  },
  {
   "cell_type": "code",
   "execution_count": 0,
   "metadata": {
    "colab": {
     "base_uri": "https://localhost:8080/",
     "height": 35
    },
    "colab_type": "code",
    "id": "1iLrJMHiaeRT",
    "outputId": "669f1d85-1575-4c18-a956-8f7951246ac2"
   },
   "outputs": [
    {
     "data": {
      "text/plain": [
       "'.txt'"
      ]
     },
     "execution_count": 22,
     "metadata": {
      "tags": []
     },
     "output_type": "execute_result"
    }
   ],
   "source": [
    "my_file.suffix"
   ]
  },
  {
   "cell_type": "markdown",
   "metadata": {
    "colab_type": "text",
    "id": "UvQM6ZovbHjb"
   },
   "source": [
    "# filename without extension"
   ]
  },
  {
   "cell_type": "code",
   "execution_count": 0,
   "metadata": {
    "colab": {
     "base_uri": "https://localhost:8080/",
     "height": 35
    },
    "colab_type": "code",
    "id": "O1fjngLaasuL",
    "outputId": "441fabc7-f06a-43a4-ccd5-1e7cdc9ab66d"
   },
   "outputs": [
    {
     "data": {
      "text/plain": [
       "'my_file'"
      ]
     },
     "execution_count": 23,
     "metadata": {
      "tags": []
     },
     "output_type": "execute_result"
    }
   ],
   "source": [
    "my_file.stem"
   ]
  },
  {
   "cell_type": "markdown",
   "metadata": {
    "colab_type": "text",
    "id": "mijkapU6bNat"
   },
   "source": [
    "# new file name"
   ]
  },
  {
   "cell_type": "code",
   "execution_count": 0,
   "metadata": {
    "colab": {
     "base_uri": "https://localhost:8080/",
     "height": 35
    },
    "colab_type": "code",
    "id": "UI9GRcwYXyoq",
    "outputId": "253b9f82-ec95-40c5-ba4e-f0f552d535db"
   },
   "outputs": [
    {
     "name": "stdout",
     "output_type": "stream",
     "text": [
      "/content/my_folder/my_file-1.txt\n"
     ]
    }
   ],
   "source": [
    "my_file1 = my_file.with_name(my_file.stem + '-1' + my_file.suffix)\n",
    "print(my_file1)"
   ]
  },
  {
   "cell_type": "markdown",
   "metadata": {
    "colab_type": "text",
    "id": "Oss5yBI-bzy-"
   },
   "source": [
    "# does file exist?\n"
   ]
  },
  {
   "cell_type": "code",
   "execution_count": 0,
   "metadata": {
    "colab": {
     "base_uri": "https://localhost:8080/",
     "height": 52
    },
    "colab_type": "code",
    "id": "yEQzX5uJb2ny",
    "outputId": "e578c448-010d-403b-89e9-f22331034605"
   },
   "outputs": [
    {
     "name": "stdout",
     "output_type": "stream",
     "text": [
      "/content/my_folder/my_file.txt \t exists? True\n",
      "/content/my_folder/my_file-1.txt \t exists? False\n"
     ]
    }
   ],
   "source": [
    "print(my_file, '\\t exists?', my_file.exists())\n",
    "print(my_file1, '\\t exists?', my_file1.exists())"
   ]
  },
  {
   "cell_type": "markdown",
   "metadata": {
    "colab_type": "text",
    "id": "HO8KHoIRc9oa"
   },
   "source": [
    "# copy file"
   ]
  },
  {
   "cell_type": "code",
   "execution_count": 0,
   "metadata": {
    "colab": {},
    "colab_type": "code",
    "id": "F9kYQDU4dASc"
   },
   "outputs": [],
   "source": [
    "import shutil"
   ]
  },
  {
   "cell_type": "code",
   "execution_count": 0,
   "metadata": {
    "colab": {
     "base_uri": "https://localhost:8080/",
     "height": 52
    },
    "colab_type": "code",
    "id": "fig7R781dK87",
    "outputId": "28025639-9f18-49fd-9eb0-caa496964024"
   },
   "outputs": [
    {
     "name": "stdout",
     "output_type": "stream",
     "text": [
      "/content/my_folder/my_file-1.txt \t exists? True\n"
     ]
    },
    {
     "data": {
      "text/plain": [
       "'hello!'"
      ]
     },
     "execution_count": 38,
     "metadata": {
      "tags": []
     },
     "output_type": "execute_result"
    }
   ],
   "source": [
    "my_file.read_text()\n",
    "shutil.copyfile(src=my_file, dst=my_file1)\n",
    "\n",
    "print(my_file1, '\\t exists?', my_file1.exists())\n",
    "my_file1.read_text()"
   ]
  },
  {
   "cell_type": "markdown",
   "metadata": {
    "colab_type": "text",
    "id": "XCCQLzjCeV_d"
   },
   "source": [
    "# globbing\n",
    "globbing means searching for files with wildcards ? or *"
   ]
  },
  {
   "cell_type": "code",
   "execution_count": 0,
   "metadata": {
    "colab": {
     "base_uri": "https://localhost:8080/",
     "height": 52
    },
    "colab_type": "code",
    "id": "CenI5Ak4fZj7",
    "outputId": "4f10705e-6966-4f9c-8620-81af3d42e075"
   },
   "outputs": [
    {
     "name": "stdout",
     "output_type": "stream",
     "text": [
      "/content/my_folder/my_data.csv\n",
      "1, 2, 3, 4\n"
     ]
    }
   ],
   "source": [
    "# lets create a csv file\n",
    "my_csv = my_folder / 'my_data.csv'\n",
    "my_csv.write_text('1, 2, 3, 4')\n",
    "print(my_csv)\n",
    "print(my_csv.read_text())"
   ]
  },
  {
   "cell_type": "markdown",
   "metadata": {
    "colab_type": "text",
    "id": "idOR6yxCfdZK"
   },
   "source": [
    "...\n",
    "now we can search for the files with wildcards!\n"
   ]
  },
  {
   "cell_type": "code",
   "execution_count": 0,
   "metadata": {
    "colab": {
     "base_uri": "https://localhost:8080/",
     "height": 52
    },
    "colab_type": "code",
    "id": "Jdya7ud9VPYq",
    "outputId": "3e2d203a-a0c5-4b3c-d1c4-b650e69db8c4"
   },
   "outputs": [
    {
     "name": "stdout",
     "output_type": "stream",
     "text": [
      "/content/my_folder/my_file.txt\n",
      "/content/my_folder/my_file-1.txt\n"
     ]
    }
   ],
   "source": [
    "for item in my_folder.glob('*.txt'):\n",
    "    print(item)"
   ]
  },
  {
   "cell_type": "code",
   "execution_count": 0,
   "metadata": {
    "colab": {
     "base_uri": "https://localhost:8080/",
     "height": 35
    },
    "colab_type": "code",
    "id": "wXNTw5CTVhX6",
    "outputId": "adaf8a0d-cd97-4479-99bc-c51076c23fdc"
   },
   "outputs": [
    {
     "name": "stdout",
     "output_type": "stream",
     "text": [
      "/content/my_folder/my_data.csv\n"
     ]
    }
   ],
   "source": [
    "for item in my_folder.glob('*.csv'):\n",
    "    print(item)"
   ]
  },
  {
   "cell_type": "markdown",
   "metadata": {
    "colab_type": "text",
    "id": "B2oMaxV4gFcU"
   },
   "source": [
    "# copy folder"
   ]
  },
  {
   "cell_type": "code",
   "execution_count": 0,
   "metadata": {
    "colab": {
     "base_uri": "https://localhost:8080/",
     "height": 35
    },
    "colab_type": "code",
    "id": "i8tIMPGUf6nv",
    "outputId": "1ec9d9d8-c225-4a04-e8c9-cc76e8772b3d"
   },
   "outputs": [
    {
     "data": {
      "text/plain": [
       "PosixPath('/content/my_other_folder')"
      ]
     },
     "execution_count": 42,
     "metadata": {
      "tags": []
     },
     "output_type": "execute_result"
    }
   ],
   "source": [
    "my_other_folder = cwd / 'my_other_folder'\n",
    "if my_other_folder.exists():\n",
    "    shutil.rmtree(my_other_folder)\n",
    "    \n",
    "shutil.copytree(src=my_folder, dst=my_other_folder)"
   ]
  },
  {
   "cell_type": "markdown",
   "metadata": {
    "colab_type": "text",
    "id": "jzwAohjnhnuT"
   },
   "source": [
    "# recursively walk a folder"
   ]
  },
  {
   "cell_type": "code",
   "execution_count": 0,
   "metadata": {
    "colab": {},
    "colab_type": "code",
    "id": "r87tmkUHgql5"
   },
   "outputs": [],
   "source": [
    "import os"
   ]
  },
  {
   "cell_type": "code",
   "execution_count": 0,
   "metadata": {
    "colab": {
     "base_uri": "https://localhost:8080/",
     "height": 236
    },
    "colab_type": "code",
    "id": "tzW4Z2YrhsX6",
    "outputId": "2110a79f-7d2e-4f8d-a36a-1b5f10bfc29e"
   },
   "outputs": [
    {
     "ename": "NameError",
     "evalue": "ignored",
     "output_type": "error",
     "traceback": [
      "\u001b[0;31m---------------------------------------------------------------------------\u001b[0m",
      "\u001b[0;31mNameError\u001b[0m                                 Traceback (most recent call last)",
      "\u001b[0;32m<ipython-input-4-f57b0f406b6e>\u001b[0m in \u001b[0;36m<module>\u001b[0;34m()\u001b[0m\n\u001b[0;32m----> 1\u001b[0;31m \u001b[0;32mfor\u001b[0m \u001b[0mdirpath\u001b[0m\u001b[0;34m,\u001b[0m \u001b[0mdirnames\u001b[0m\u001b[0;34m,\u001b[0m \u001b[0mfilenames\u001b[0m \u001b[0;32min\u001b[0m \u001b[0mos\u001b[0m\u001b[0;34m.\u001b[0m\u001b[0mwalk\u001b[0m\u001b[0;34m(\u001b[0m\u001b[0mcwd\u001b[0m\u001b[0;34m)\u001b[0m\u001b[0;34m:\u001b[0m\u001b[0;34m\u001b[0m\u001b[0;34m\u001b[0m\u001b[0m\n\u001b[0m\u001b[1;32m      2\u001b[0m     \u001b[0mprint\u001b[0m\u001b[0;34m(\u001b[0m\u001b[0mdirpath\u001b[0m\u001b[0;34m)\u001b[0m\u001b[0;34m\u001b[0m\u001b[0;34m\u001b[0m\u001b[0m\n\u001b[1;32m      3\u001b[0m     \u001b[0mprint\u001b[0m\u001b[0;34m(\u001b[0m\u001b[0;34m'files: -->'\u001b[0m\u001b[0;34m,\u001b[0m \u001b[0mfilenames\u001b[0m\u001b[0;34m)\u001b[0m\u001b[0;34m\u001b[0m\u001b[0;34m\u001b[0m\u001b[0m\n\u001b[1;32m      4\u001b[0m     \u001b[0mprint\u001b[0m\u001b[0;34m(\u001b[0m\u001b[0;34m'subdirectories: -->'\u001b[0m\u001b[0;34m,\u001b[0m \u001b[0mdirnames\u001b[0m\u001b[0;34m)\u001b[0m\u001b[0;34m\u001b[0m\u001b[0;34m\u001b[0m\u001b[0m\n\u001b[1;32m      5\u001b[0m     \u001b[0mprint\u001b[0m\u001b[0;34m(\u001b[0m\u001b[0;34m)\u001b[0m\u001b[0;34m\u001b[0m\u001b[0;34m\u001b[0m\u001b[0m\n",
      "\u001b[0;31mNameError\u001b[0m: name 'cwd' is not defined"
     ]
    }
   ],
   "source": [
    "for dirpath, dirnames, filenames in os.walk(cwd):\n",
    "    print(dirpath)\n",
    "    print('files: -->', filenames)\n",
    "    print('subdirectories: -->', dirnames)\n",
    "    print()"
   ]
  },
  {
   "cell_type": "markdown",
   "metadata": {
    "colab_type": "text",
    "id": "Ht4NECp4izaG"
   },
   "source": [
    "# rename directory"
   ]
  },
  {
   "cell_type": "code",
   "execution_count": 0,
   "metadata": {
    "colab": {
     "base_uri": "https://localhost:8080/",
     "height": 236
    },
    "colab_type": "code",
    "id": "kSxnyefEh07a",
    "outputId": "77ec1d50-5419-45a7-bc44-7a0c4c6f297c"
   },
   "outputs": [
    {
     "ename": "NameError",
     "evalue": "ignored",
     "output_type": "error",
     "traceback": [
      "\u001b[0;31m---------------------------------------------------------------------------\u001b[0m",
      "\u001b[0;31mNameError\u001b[0m                                 Traceback (most recent call last)",
      "\u001b[0;32m<ipython-input-1-ab0196c931a7>\u001b[0m in \u001b[0;36m<module>\u001b[0;34m()\u001b[0m\n\u001b[0;32m----> 1\u001b[0;31m \u001b[0mblah_folder\u001b[0m \u001b[0;34m=\u001b[0m \u001b[0mmy_other_folder\u001b[0m\u001b[0;34m.\u001b[0m\u001b[0mwith_name\u001b[0m\u001b[0;34m(\u001b[0m\u001b[0;34m'blah'\u001b[0m\u001b[0;34m)\u001b[0m\u001b[0;34m\u001b[0m\u001b[0;34m\u001b[0m\u001b[0m\n\u001b[0m\u001b[1;32m      2\u001b[0m \u001b[0;34m\u001b[0m\u001b[0m\n\u001b[1;32m      3\u001b[0m \u001b[0;31m# rename cannot rename a directory, because it is not empty\u001b[0m\u001b[0;34m\u001b[0m\u001b[0;34m\u001b[0m\u001b[0;34m\u001b[0m\u001b[0m\n\u001b[1;32m      4\u001b[0m \u001b[0;31m### my_other_folder.rename(blah_folder)\u001b[0m\u001b[0;34m\u001b[0m\u001b[0;34m\u001b[0m\u001b[0;34m\u001b[0m\u001b[0m\n\u001b[1;32m      5\u001b[0m \u001b[0;34m\u001b[0m\u001b[0m\n",
      "\u001b[0;31mNameError\u001b[0m: name 'my_other_folder' is not defined"
     ]
    }
   ],
   "source": [
    "blah_folder = my_other_folder.with_name('blah')\n",
    "\n",
    "# rename cannot rename a directory, because it is not empty\n",
    "### my_other_folder.rename(blah_folder)\n",
    "\n",
    "# use shutil.move instead\n",
    "shutil.move(src=str(my_other_folder), dst=str(blah_folder))\n",
    "\n",
    "for item in blah_folder.parent.iterdir():\n",
    "    print(item)"
   ]
  },
  {
   "cell_type": "markdown",
   "metadata": {
    "colab_type": "text",
    "id": "S_DsD0vxj_Kv"
   },
   "source": [
    "# relative directory"
   ]
  },
  {
   "cell_type": "code",
   "execution_count": 0,
   "metadata": {
    "colab": {
     "base_uri": "https://localhost:8080/",
     "height": 50
    },
    "colab_type": "code",
    "id": "VOAVfZXGi8cr",
    "outputId": "094405c2-2de3-4851-b59f-c8956bd319e8"
   },
   "outputs": [
    {
     "name": "stdout",
     "output_type": "stream",
     "text": [
      "/content\n",
      "/content/my_folder\n"
     ]
    }
   ],
   "source": [
    "# '.' is current directory\n",
    "print(Path('.').resolve())\n",
    "\n",
    "# appending /. just still means the same directory\n",
    "print( (my_folder / '.').resolve() )"
   ]
  },
  {
   "cell_type": "code",
   "execution_count": 0,
   "metadata": {
    "colab": {
     "base_uri": "https://localhost:8080/",
     "height": 67
    },
    "colab_type": "code",
    "id": "XB3RHOkmkIVh",
    "outputId": "45ff0b1e-e1e0-426a-8cd3-4535588e4fed"
   },
   "outputs": [
    {
     "name": "stdout",
     "output_type": "stream",
     "text": [
      "/\n",
      "/content\n",
      "/content/my_folder/..\n"
     ]
    }
   ],
   "source": [
    "# '..' means parent directory\n",
    "print(Path('..').resolve())\n",
    "\n",
    "# appending /.. means the parent directory of the given directory\n",
    "print( (my_folder / '..').resolve() )"
   ]
  },
  {
   "cell_type": "code",
   "execution_count": 0,
   "metadata": {
    "colab": {
     "base_uri": "https://localhost:8080/",
     "height": 34
    },
    "colab_type": "code",
    "id": "QLIH-SIDkjM7",
    "outputId": "fda36250-85a5-4e66-cce6-d0cb93aedad7"
   },
   "outputs": [
    {
     "name": "stdout",
     "output_type": "stream",
     "text": [
      "/content/my_folder\n"
     ]
    }
   ],
   "source": [
    "# you can use .. to walk up in a directory\n",
    "print( (my_folder / '..' / 'my_folder' / '..' / '.' / 'my_folder' / '..' / 'my_folder').resolve() )"
   ]
  },
  {
   "cell_type": "code",
   "execution_count": 0,
   "metadata": {
    "colab": {},
    "colab_type": "code",
    "id": "OeteyDHhk9F6"
   },
   "outputs": [],
   "source": []
  }
 ],
 "metadata": {
  "colab": {
   "collapsed_sections": [],
   "name": "path and shutil.ipynb",
   "provenance": []
  },
  "kernelspec": {
   "display_name": "Python 3",
   "name": "python3"
  }
 },
 "nbformat": 4,
 "nbformat_minor": 0
}
