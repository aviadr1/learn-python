{
 "cells": [
  {
   "cell_type": "markdown",
   "metadata": {},
   "source": [
    "# variables can hold objects\n",
    "\n",
    "We want to use our python programs to handle complex and changing situations.\n",
    "\n",
    "for this we need to be able to remember things we previously calculated.\n",
    "\n",
    "assigning an object to a variable creates the variable\n",
    "\n"
   ]
  },
  {
   "cell_type": "code",
   "execution_count": 6,
   "metadata": {},
   "outputs": [
    {
     "name": "stdout",
     "output_type": "stream",
     "text": [
      "my favorite color is red\n",
      "The Answer to the Ultimate Question of Life, the Universe, and Everything is 42\n"
     ]
    }
   ],
   "source": [
    "my_favorite_color = \"red\"\n",
    "the_answer_to_everything = 6*7\n",
    "\n",
    "print('my favorite color is', my_favorite_color)\n",
    "print('The Answer to the Ultimate Question of Life, the Universe, and Everything is', the_answer_to_everything)"
   ]
  },
  {
   "cell_type": "markdown",
   "metadata": {},
   "source": [
    "## your turn\n",
    "1. create a variable called `PI` and put the number `3.14` in this variable\n",
    "2. print the variable `PI` and the `type()` of the variable"
   ]
  },
  {
   "cell_type": "code",
   "execution_count": null,
   "metadata": {},
   "outputs": [],
   "source": []
  },
  {
   "cell_type": "markdown",
   "metadata": {},
   "source": [
    "### solution\n"
   ]
  },
  {
   "cell_type": "code",
   "execution_count": 7,
   "metadata": {},
   "outputs": [
    {
     "name": "stdout",
     "output_type": "stream",
     "text": [
      "3.14 <class 'float'>\n"
     ]
    }
   ],
   "source": [
    "# 1\n",
    "PI = 3.14\n",
    "print(PI, type(PI))"
   ]
  },
  {
   "cell_type": "markdown",
   "metadata": {},
   "source": [
    "# calculations based on variables\n",
    "\n",
    "wherever we use an object, we can use a variable instead\n",
    "\n",
    "for instance:"
   ]
  },
  {
   "cell_type": "code",
   "execution_count": 4,
   "metadata": {},
   "outputs": [
    {
     "name": "stdout",
     "output_type": "stream",
     "text": [
      "Eric Idle\n"
     ]
    }
   ],
   "source": [
    "first_name = \"Eric\"\n",
    "last_name = \"Idle\"\n",
    "full_name = first_name + \" \" + last_name\n",
    "print(full_name)"
   ]
  },
  {
   "cell_type": "markdown",
   "metadata": {},
   "source": [
    "> Notice how we were able to add strings together using the addition `+` operator <br>\n",
    "> and put the result string in a new variable"
   ]
  },
  {
   "cell_type": "markdown",
   "metadata": {},
   "source": [
    "## your turn \n",
    "area of a circle:\n",
    "1. remember you have a variable named `PI`? print `PI` again\n",
    "2. assign the value 10 to a variable named `radius`\n",
    "3. calculate the area of a circle this radius. put the result in a variable called `area`\n",
    "   > the formula for computing the area is $area=\\pi \\cdot r^2$ <br>\n",
    "   > or in words, PI times the squared radius\n",
    "   > \n",
    "   > remember the operator for power is `**`\n",
    "4. print the variable `area`\n",
    "\n",
    "![area of circle](https://getyourmathstraight.weebly.com/uploads/4/7/4/9/47498349/5816828_orig.gif)\n"
   ]
  },
  {
   "cell_type": "code",
   "execution_count": null,
   "metadata": {},
   "outputs": [],
   "source": []
  },
  {
   "cell_type": "markdown",
   "metadata": {},
   "source": [
    "### solution"
   ]
  },
  {
   "cell_type": "code",
   "execution_count": 8,
   "metadata": {},
   "outputs": [
    {
     "name": "stdout",
     "output_type": "stream",
     "text": [
      "3.14\n",
      "314.0\n"
     ]
    }
   ],
   "source": [
    "print(PI)\n",
    "radius = 10\n",
    "area = PI * radius ** 2\n",
    "print(area)"
   ]
  },
  {
   "cell_type": "markdown",
   "metadata": {},
   "source": [
    "# reading input\n",
    "we can read input from the user using the function `input()`. \n",
    "\n",
    "here's an example:\n"
   ]
  }
 ],
 "metadata": {
  "kernelspec": {
   "display_name": "Python 3",
   "language": "python",
   "name": "python3"
  },
  "language_info": {
   "codemirror_mode": {
    "name": "ipython",
    "version": 3
   },
   "file_extension": ".py",
   "mimetype": "text/x-python",
   "name": "python",
   "nbconvert_exporter": "python",
   "pygments_lexer": "ipython3",
   "version": "3.7.3"
  }
 },
 "nbformat": 4,
 "nbformat_minor": 2
}
