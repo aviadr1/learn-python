{
 "cells": [
  {
   "cell_type": "markdown",
   "metadata": {},
   "source": [
    "\n",
    "<a href=\"https://colab.research.google.com/github/aviadr1/learn-python/blob/master/content/06_regular_expressions/notebooks/lesson_06-sub_python2-to-python3.ipynb\" target=\"_blank\">\n",
    "<img src=\"https://colab.research.google.com/assets/colab-badge.svg\" \n",
    "     title=\"Open this file in Google Colab\" alt=\"Colab\"/>\n",
    "</a>\n"
   ]
  },
  {
   "cell_type": "code",
   "execution_count": 13,
   "metadata": {},
   "outputs": [
    {
     "name": "stdout",
     "output_type": "stream",
     "text": [
      "\n",
      "print(\"hello\", \"world\")\n",
      "for i in range(10):\n",
      "    print(i)\n",
      "    \n",
      "\n"
     ]
    }
   ],
   "source": [
    "import re\n",
    "\n",
    "body = \"\"\"\n",
    "print       \"hello\", \"world\"\n",
    "for i in range(10):\n",
    "    print i\n",
    "    \n",
    "\"\"\"\n",
    "\n",
    "regex = r\"([ \\t]*)print[ \\t]+(.*)\"\n",
    "replacement = r\"\\1print(\\2)\"\n",
    "\n",
    "result = re.sub(regex, replacement, body)\n",
    "print(result)"
   ]
  },
  {
   "cell_type": "code",
   "execution_count": 3,
   "metadata": {},
   "outputs": [
    {
     "name": "stdout",
     "output_type": "stream",
     "text": [
      "\n",
      "print \"hello\", \"world\"\n",
      "for i in range(10):\n",
      "    print i\n",
      "    \n",
      "\n"
     ]
    }
   ],
   "source": [
    "print(body)"
   ]
  },
  {
   "cell_type": "code",
   "execution_count": null,
   "metadata": {},
   "outputs": [],
   "source": []
  }
 ],
 "metadata": {
  "kernelspec": {
   "display_name": "Python 3",
   "language": "python",
   "name": "python3"
  },
  "language_info": {
   "codemirror_mode": {
    "name": "ipython",
    "version": 3
   },
   "file_extension": ".py",
   "mimetype": "text/x-python",
   "name": "python",
   "nbconvert_exporter": "python",
   "pygments_lexer": "ipython3",
   "version": "3.6.5"
  }
 },
 "nbformat": 4,
 "nbformat_minor": 2
}
