{
 "cells": [
  {
   "cell_type": "markdown",
   "metadata": {},
   "source": [
    "\n",
    "<a href=\"https://colab.research.google.com/github/aviadr1/learn-python/blob/master/content/04_strings/notebooks/formatting_bitahon.ipynb\" target=\"_blank\">\n",
    "<img src=\"https://colab.research.google.com/assets/colab-badge.svg\" \n",
    "     title=\"Open this file in Google Colab\" alt=\"Colab\"/>\n",
    "</a>\n"
   ]
  },
  {
   "cell_type": "code",
   "execution_count": 1,
   "metadata": {},
   "outputs": [
    {
     "data": {
      "text/plain": [
       "4"
      ]
     },
     "execution_count": 1,
     "metadata": {},
     "output_type": "execute_result"
    }
   ],
   "source": [
    "\"the quick brown fox jumped over the lazy dog\".find(\"quick\")"
   ]
  },
  {
   "cell_type": "code",
   "execution_count": 8,
   "metadata": {},
   "outputs": [
    {
     "data": {
      "text/plain": [
       "'hi ben, happy 30 birthday, your height is 180, your score is 85'"
      ]
     },
     "execution_count": 8,
     "metadata": {},
     "output_type": "execute_result"
    }
   ],
   "source": [
    "age = 30\n",
    "height = 180\n",
    "name = \"ben\"\n",
    "score =85\n",
    "\n",
    "\"hi {}, happy {} birthday, your height is {}, your score is {}\".format(name, age, height, score)"
   ]
  },
  {
   "cell_type": "code",
   "execution_count": 24,
   "metadata": {},
   "outputs": [
    {
     "data": {
      "text/plain": [
       "'hi ben, happy 30 birthday, your height is 180, your score is 85'"
      ]
     },
     "execution_count": 24,
     "metadata": {},
     "output_type": "execute_result"
    }
   ],
   "source": [
    "age = 30\n",
    "height = 180\n",
    "name = \"ben\"\n",
    "score =85\n",
    "\n",
    "\"hi {2}, happy {0} birthday, your height is {1}, your score is {3}\".format(age, height, name, score)"
   ]
  },
  {
   "cell_type": "code",
   "execution_count": 6,
   "metadata": {},
   "outputs": [
    {
     "name": "stdout",
     "output_type": "stream",
     "text": [
      "hi ben, \n",
      "ben is a nice name\n",
      "goodbye ben\n",
      "\n"
     ]
    }
   ],
   "source": [
    "x= \"\"\"hi {0}, \n",
    "{0} is a nice name\n",
    "goodbye {0}\n",
    "\"\"\".format(name, \"this is not used\")\n",
    "print(x)"
   ]
  },
  {
   "cell_type": "code",
   "execution_count": 10,
   "metadata": {},
   "outputs": [
    {
     "data": {
      "text/plain": [
       "'3.3333333333333335'"
      ]
     },
     "execution_count": 10,
     "metadata": {},
     "output_type": "execute_result"
    }
   ],
   "source": [
    "\"{}\".format(10/3)"
   ]
  },
  {
   "cell_type": "code",
   "execution_count": 11,
   "metadata": {},
   "outputs": [
    {
     "data": {
      "text/plain": [
       "1.2246467991473532e-16"
      ]
     },
     "execution_count": 11,
     "metadata": {},
     "output_type": "execute_result"
    }
   ],
   "source": [
    "import math\n",
    "math.sin(math.pi)"
   ]
  },
  {
   "cell_type": "code",
   "execution_count": 16,
   "metadata": {},
   "outputs": [
    {
     "data": {
      "text/plain": [
       "'0.00'"
      ]
     },
     "execution_count": 16,
     "metadata": {},
     "output_type": "execute_result"
    }
   ],
   "source": [
    "\"{:.2f}\".format(math.sin(math.pi))"
   ]
  },
  {
   "cell_type": "code",
   "execution_count": 25,
   "metadata": {},
   "outputs": [
    {
     "data": {
      "text/plain": [
       "'0.00000000000000012246'"
      ]
     },
     "execution_count": 25,
     "metadata": {},
     "output_type": "execute_result"
    }
   ],
   "source": [
    "\"{:.20f}\".format(math.sin(math.pi))"
   ]
  },
  {
   "cell_type": "code",
   "execution_count": 26,
   "metadata": {},
   "outputs": [
    {
     "data": {
      "text/plain": [
       "32"
      ]
     },
     "execution_count": 26,
     "metadata": {},
     "output_type": "execute_result"
    }
   ],
   "source": [
    "ord(' ')"
   ]
  },
  {
   "cell_type": "code",
   "execution_count": 28,
   "metadata": {},
   "outputs": [
    {
     "data": {
      "text/plain": [
       "'0x20'"
      ]
     },
     "execution_count": 28,
     "metadata": {},
     "output_type": "execute_result"
    }
   ],
   "source": [
    "\"0x{:x}\".format(ord(' '))"
   ]
  },
  {
   "cell_type": "code",
   "execution_count": 31,
   "metadata": {},
   "outputs": [
    {
     "data": {
      "text/plain": [
       "'1.2e-16'"
      ]
     },
     "execution_count": 31,
     "metadata": {},
     "output_type": "execute_result"
    }
   ],
   "source": [
    "\"{:.2}\".format(math.sin(math.pi))"
   ]
  },
  {
   "cell_type": "code",
   "execution_count": 32,
   "metadata": {},
   "outputs": [
    {
     "data": {
      "text/plain": [
       "'\\nsteak:                150.00 NIS\\npita:                   1.50 NIS\\nshakshuka im thi na:   25.00 NIS\\nvat%                   17.00 %\\nvat:                   35.56\\ntotal:                222.40 NIS\\n'"
      ]
     },
     "execution_count": 32,
     "metadata": {},
     "output_type": "execute_result"
    }
   ],
   "source": [
    "\"\"\"\n",
    "steak:                150.00 NIS\n",
    "pita:                   1.50 NIS\n",
    "shakshuka im thi na:   25.00 NIS\n",
    "vat%                   17.00 %\n",
    "vat:                   35.56\n",
    "total:                222.40 NIS\n",
    "\"\"\""
   ]
  },
  {
   "cell_type": "code",
   "execution_count": 44,
   "metadata": {
    "scrolled": true
   },
   "outputs": [
    {
     "name": "stdout",
     "output_type": "stream",
     "text": [
      "  +1.50\n",
      " 222.49\n",
      " -10.00\n"
     ]
    }
   ],
   "source": [
    "print(\"{:7.2f}\".format(1.5))\n",
    "print(\"{:7.2f}\".format(222.49))\n",
    "print(\"{:7.2f}\".format(-10))"
   ]
  },
  {
   "cell_type": "code",
   "execution_count": 45,
   "metadata": {},
   "outputs": [
    {
     "name": "stdout",
     "output_type": "stream",
     "text": [
      "  +1.50\n",
      "+222.49\n",
      " -10.00\n"
     ]
    }
   ],
   "source": [
    "print(\"{:+7.2f}\".format(1.5))\n",
    "print(\"{:+7.2f}\".format(222.49))\n",
    "print(\"{:+7.2f}\".format(-10))"
   ]
  },
  {
   "cell_type": "code",
   "execution_count": 47,
   "metadata": {},
   "outputs": [
    {
     "name": "stdout",
     "output_type": "stream",
     "text": [
      "   1.50   \n",
      "  222.49  \n",
      "  -10.00  \n"
     ]
    }
   ],
   "source": [
    "print(\"{:^10.2f}\".format(1.5))\n",
    "print(\"{:^10.2f}\".format(222.49))\n",
    "print(\"{:^10.2f}\".format(-10))"
   ]
  },
  {
   "cell_type": "code",
   "execution_count": 49,
   "metadata": {},
   "outputs": [
    {
     "name": "stdout",
     "output_type": "stream",
     "text": [
      "---1.50---\n",
      "--222.49--\n",
      "---10.00--\n"
     ]
    }
   ],
   "source": [
    "print(\"{:-^10.2f}\".format(1.5))\n",
    "print(\"{:-^10.2f}\".format(222.49))\n",
    "print(\"{:-^10.2f}\".format(-10))"
   ]
  },
  {
   "cell_type": "code",
   "execution_count": 53,
   "metadata": {},
   "outputs": [
    {
     "name": "stdout",
     "output_type": "stream",
     "text": [
      "0x20\n",
      "0o40\n",
      "0b100000\n",
      "32\n"
     ]
    }
   ],
   "source": [
    "print(\"{:#x}\".format(32))\n",
    "print(\"{:#o}\".format(32))\n",
    "print(\"{:#b}\".format(32))\n",
    "print(\"{:#d}\".format(32))"
   ]
  },
  {
   "cell_type": "code",
   "execution_count": 54,
   "metadata": {},
   "outputs": [
    {
     "name": "stdout",
     "output_type": "stream",
     "text": [
      "hi ben, happy 30 birthday, your height is 180, your score is 85\n",
      "hi ben, happy 30 birthday, your height is 180, your score is 85\n"
     ]
    }
   ],
   "source": [
    "x= \"hi {2}, happy {0} birthday, your height is {1}, your score is {3}\".format(age, height, name, score)\n",
    "print(x)\n",
    "\n",
    "x = f\"hi {name}, happy {age} birthday, your height is {height}, your score is {score}\"\n",
    "print(x)"
   ]
  },
  {
   "cell_type": "code",
   "execution_count": 55,
   "metadata": {},
   "outputs": [
    {
     "name": "stdout",
     "output_type": "stream",
     "text": [
      "freedom is the right to say that 1+1 = 2\n"
     ]
    }
   ],
   "source": [
    "print(f\"\"\"freedom is the right to say that {1}+{1} = {1+1}\"\"\")"
   ]
  },
  {
   "cell_type": "code",
   "execution_count": 58,
   "metadata": {},
   "outputs": [
    {
     "name": "stdout",
     "output_type": "stream",
     "text": [
      "THE QUICK BROWN cat\n"
     ]
    }
   ],
   "source": [
    "print(f\"\"\"{\"the quick brown fox\".upper().replace(\"FOX\", \"cat\")}\"\"\")"
   ]
  },
  {
   "cell_type": "code",
   "execution_count": null,
   "metadata": {},
   "outputs": [],
   "source": []
  }
 ],
 "metadata": {
  "kernelspec": {
   "display_name": "Python 3",
   "language": "python",
   "name": "python3"
  },
  "language_info": {
   "codemirror_mode": {
    "name": "ipython",
    "version": 3
   },
   "file_extension": ".py",
   "mimetype": "text/x-python",
   "name": "python",
   "nbconvert_exporter": "python",
   "pygments_lexer": "ipython3",
   "version": "3.6.3"
  }
 },
 "nbformat": 4,
 "nbformat_minor": 2
}
