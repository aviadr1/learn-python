{
 "cells": [
  {
   "cell_type": "markdown",
   "metadata": {},
   "source": [
    "\n",
    "<a href=\"https://colab.research.google.com/github/aviadr1/learn-python/blob/master/content/05_collections/notebooks/dictionaries_checkpoint.ipynb\" target=\"_blank\">\n",
    "<img src=\"https://colab.research.google.com/assets/colab-badge.svg\" \n",
    "     title=\"Open this file in Google Colab\" alt=\"Colab\"/>\n",
    "</a>\n"
   ]
  },
  {
   "cell_type": "code",
   "execution_count": 8,
   "metadata": {},
   "outputs": [
    {
     "name": "stdout",
     "output_type": "stream",
     "text": [
      "[('oranges', 7.99), ('tomatoes', 2.9), ('chicken', 1)]\n"
     ]
    }
   ],
   "source": [
    "prices = {\n",
    "    \"oranges\" : 7.99,\n",
    "    \"tomatoes\" : 2.9,\n",
    "    \"chicken\" : 1\n",
    "}\n",
    "\n",
    "print(list(prices.items()))"
   ]
  },
  {
   "cell_type": "code",
   "execution_count": 12,
   "metadata": {},
   "outputs": [
    {
     "name": "stdout",
     "output_type": "stream",
     "text": [
      "oranges costs 7.99 NIS\n",
      "tomatoes costs 2.90 NIS\n",
      "chicken costs 1.00 NIS\n",
      "\n",
      "oranges costs 7.99 NIS\n",
      "tomatoes costs 2.90 NIS\n",
      "chicken costs 1.00 NIS\n"
     ]
    }
   ],
   "source": [
    "# nice way\n",
    "for product, price in prices.items():\n",
    "    print(\"{} costs {:.2f} NIS\".format(product, price))\n",
    "print()\n",
    "\n",
    "# crappy way\n",
    "for product in prices.keys():\n",
    "    print(\"{} costs {:.2f} NIS\".format(product, prices[product]))"
   ]
  },
  {
   "cell_type": "code",
   "execution_count": 1,
   "metadata": {},
   "outputs": [],
   "source": [
    "mydict = {'UK':['London','Wigan','Macclesfield','Bolton'], \n",
    "          'US':['Miami','Springfield','New York','Boston']}\n"
   ]
  },
  {
   "cell_type": "code",
   "execution_count": 14,
   "metadata": {},
   "outputs": [
    {
     "name": "stdout",
     "output_type": "stream",
     "text": [
      "UK has these major cities: ['London', 'Wigan', 'Macclesfield', 'Bolton']\n",
      "US has these major cities: ['Miami', 'Springfield', 'New York', 'Boston']\n"
     ]
    }
   ],
   "source": [
    "for country, city_list in mydict.items():\n",
    "    print(\"{} has these major cities: {}\".format(country, city_list))"
   ]
  },
  {
   "cell_type": "code",
   "execution_count": 21,
   "metadata": {},
   "outputs": [
    {
     "name": "stdout",
     "output_type": "stream",
     "text": [
      "{'oranges': 7.99, 'tomatoes': 2.9, 'chicken': 1, 'steak': 300}\n",
      "{'oranges': 7.99, 'tomatoes': 2.9, 'chicken': 1, 'steak': 200}\n"
     ]
    }
   ],
   "source": [
    "prices[\"steak\"] = 300\n",
    "print(prices)\n",
    "\n",
    "#discount\n",
    "prices[\"steak\"] = 200\n",
    "print(prices)\n"
   ]
  },
  {
   "cell_type": "code",
   "execution_count": 22,
   "metadata": {},
   "outputs": [
    {
     "name": "stdout",
     "output_type": "stream",
     "text": [
      "{'oranges': 7.99, 'tomatoes': 2.9, 'chicken': 1}\n"
     ]
    }
   ],
   "source": [
    "prices.pop(\"steak\")\n",
    "print(prices) # steak is gone"
   ]
  },
  {
   "cell_type": "code",
   "execution_count": null,
   "metadata": {},
   "outputs": [],
   "source": []
  }
 ],
 "metadata": {
  "kernelspec": {
   "display_name": "Python 3",
   "language": "python",
   "name": "python3"
  },
  "language_info": {
   "codemirror_mode": {
    "name": "ipython",
    "version": 3
   },
   "file_extension": ".py",
   "mimetype": "text/x-python",
   "name": "python",
   "nbconvert_exporter": "python",
   "pygments_lexer": "ipython3",
   "version": "3.7.3"
  }
 },
 "nbformat": 4,
 "nbformat_minor": 2
}
