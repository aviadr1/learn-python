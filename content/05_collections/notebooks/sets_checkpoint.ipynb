{
 "cells": [
  {
   "cell_type": "markdown",
   "metadata": {},
   "source": [
    "\n",
    "<a href=\"https://colab.research.google.com/github/aviadr1/learn-python/blob/master/content/05_collections/notebooks/sets_checkpoint.ipynb\" target=\"_blank\">\n",
    "<img src=\"https://colab.research.google.com/assets/colab-badge.svg\" \n",
    "     title=\"Open this file in Google Colab\" alt=\"Colab\"/>\n",
    "</a>\n"
   ]
  },
  {
   "cell_type": "code",
   "execution_count": 1,
   "metadata": {},
   "outputs": [],
   "source": [
    "version1 = [ 1 , 7, 8, 10]\n",
    "version2 = [1,2,3,8,9]\n"
   ]
  },
  {
   "cell_type": "code",
   "execution_count": 2,
   "metadata": {},
   "outputs": [
    {
     "name": "stdout",
     "output_type": "stream",
     "text": [
      "{8, 1}\n"
     ]
    }
   ],
   "source": [
    "succeeded_both = set(version1) & set(version2)\n",
    "# succeeded_both = set(version1).intersection(set(version2))\n",
    "print(succeeded_both)"
   ]
  },
  {
   "cell_type": "code",
   "execution_count": 7,
   "metadata": {},
   "outputs": [
    {
     "name": "stdout",
     "output_type": "stream",
     "text": [
      "all tests: {0, 1, 2, 3, 4, 5, 6, 7, 8, 9, 10}\n",
      "failed version #1 {0, 2, 3, 4, 5, 6, 9}\n",
      "failed version #2 {0, 4, 5, 6, 7, 10}\n",
      "failed both: {0, 4, 5, 6}\n"
     ]
    }
   ],
   "source": [
    "# suppose the total tests are named 0, 1, 2, ... 10\n",
    "all_tests = set(range(11))\n",
    "print(\"all tests:\", all_tests)\n",
    "failed1 = all_tests - set(version1)\n",
    "failed2 = all_tests - set(version2)\n",
    "print(\"failed version #1\", failed1)\n",
    "print(\"failed version #2\", failed2)\n",
    "print(\"failed both:\", failed1 & failed2)"
   ]
  },
  {
   "cell_type": "code",
   "execution_count": 9,
   "metadata": {},
   "outputs": [
    {
     "name": "stdout",
     "output_type": "stream",
     "text": [
      "tests fixed by version #2: {9, 2, 3}\n",
      "tests that got worse by version #2: {10, 7}\n"
     ]
    }
   ],
   "source": [
    "improved =  set(version2) - set(version1)\n",
    "print(\"tests fixed by version #2:\", improved)\n",
    "\n",
    "got_worse = set(version1) - set(version2)\n",
    "print(\"tests that got worse by version #2:\", got_worse)"
   ]
  },
  {
   "cell_type": "code",
   "execution_count": null,
   "metadata": {},
   "outputs": [],
   "source": []
  }
 ],
 "metadata": {
  "kernelspec": {
   "display_name": "Python 3",
   "language": "python",
   "name": "python3"
  },
  "language_info": {
   "codemirror_mode": {
    "name": "ipython",
    "version": 3
   },
   "file_extension": ".py",
   "mimetype": "text/x-python",
   "name": "python",
   "nbconvert_exporter": "python",
   "pygments_lexer": "ipython3",
   "version": "3.7.3"
  }
 },
 "nbformat": 4,
 "nbformat_minor": 2
}
