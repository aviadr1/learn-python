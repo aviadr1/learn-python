{
 "cells": [
  {
   "cell_type": "markdown",
   "metadata": {},
   "source": [
    "\n",
    "<a href=\"https://colab.research.google.com/github/aviadr1/learn-python/blob/master/content/05_collections/exercise/questions.ipynb\" target=\"_blank\">\n",
    "<img src=\"https://colab.research.google.com/assets/colab-badge.svg\" \n",
    "     title=\"Open this file in Google Colab\" alt=\"Colab\"/>\n",
    "</a>\n"
   ]
  },
  {
   "cell_type": "markdown",
   "metadata": {},
   "source": []
  },
  {
   "cell_type": "markdown",
   "metadata": {},
   "source": [
    "# 1. list of random numbers\n",
    "using the following code, create a list of __25 random numbers__\n",
    "```\n",
    "   import random\n",
    "   random.randint(0, 100) # generates a random number between 0 and 100\n",
    "```   \n",
    "   example result: (write code to randomly create this list)\n",
    "```\n",
    "   [90, 10, 14, 15,    20, 20, 87, 23,\n",
    "    8,  2,  44, 29,    10, 13, 33, 99,\n",
    "    9,  3,  23, 25]\n",
    "```"
   ]
  },
  {
   "cell_type": "code",
   "execution_count": 1,
   "metadata": {},
   "outputs": [
    {
     "name": "stdout",
     "output_type": "stream",
     "text": [
      "[17, 16, 30, 99, 35, 36, 18, 9, 24, 93, 92, 65, 62, 32, 89, 32, 26, 74, 47, 53, 38, 20, 8, 1, 1]\n"
     ]
    }
   ],
   "source": []
  },
  {
   "cell_type": "markdown",
   "metadata": {},
   "source": [
    "# 2. create a sub-list\n",
    "create a list of all the numbers between 0-100 that are dividible by 7:\n",
    "\n",
    "   0, 7, 14, 21, ... \n",
    "   \n",
    "how many different ways can you think of to do this?\n",
    "   \n",
    " 1. using a for loop\n",
    " 2. using range\n",
    " 3. using range and slicing"
   ]
  },
  {
   "cell_type": "code",
   "execution_count": 2,
   "metadata": {},
   "outputs": [
    {
     "name": "stdout",
     "output_type": "stream",
     "text": [
      "[0, 7, 14, 21, 28, 35, 42, 49, 56, 63, 70, 77, 84, 91, 98]\n",
      "[0, 7, 14, 21, 28, 35, 42, 49, 56, 63, 70, 77, 84, 91, 98]\n",
      "[0, 7, 14, 21, 28, 35, 42, 49, 56, 63, 70, 77, 84, 91, 98]\n"
     ]
    }
   ],
   "source": []
  },
  {
   "cell_type": "markdown",
   "metadata": {},
   "source": [
    "# 3.  removing from a list `*`\n",
    "remove from the list you created in question #1, all the numbers that are divisible by 7\n",
    "\n",
    "how many ways can you think of doing this?\n",
    "\n",
    "1. using `.remove()`\n",
    "2. using `.pop()`\n",
    "\n",
    "test your solution using this code:\n",
    "```\n",
    "for x in mylist:\n",
    "    assert i % 7 != 0\n",
    "```\n"
   ]
  },
  {
   "cell_type": "code",
   "execution_count": 3,
   "metadata": {},
   "outputs": [
    {
     "name": "stdout",
     "output_type": "stream",
     "text": [
      "random list:  [1, 1, 8, 9, 16, 17, 18, 20, 24, 26, 30, 32, 32, 35, 36, 38, 47, 53, 62, 65, 74, 89, 92, 93, 99]\n",
      "all divisible by 7:  [0, 7, 14, 21, 28, 35, 42, 49, 56, 63, 70, 77, 84, 91, 98]\n",
      "\n",
      "[1, 1, 8, 9, 16, 17, 18, 20, 24, 26, 30, 32, 32, 36, 38, 47, 53, 62, 65, 74, 89, 92, 93, 99]\n",
      "[1, 1, 8, 9, 16, 17, 18, 20, 24, 26, 30, 32, 32, 36, 38, 47, 53, 62, 65, 74, 89, 92, 93, 99]\n",
      "[1, 1, 8, 9, 16, 17, 18, 20, 24, 26, 30, 32, 32, 36, 38, 47, 53, 62, 65, 74, 89, 92, 93, 99]\n"
     ]
    }
   ],
   "source": []
  },
  {
   "cell_type": "markdown",
   "metadata": {},
   "source": [
    "# 4. reversing words in a sentence\n",
    "print the words in the following sentence in reverse order\n",
    "```\n",
    "    the quick brown fox jumped over the lazy dog   \n",
    "    --> dog lazy the over jumped fox brown quick the\n",
    "```    \n",
    "do it in as many ways as you can\n",
    "1. using slicing\n",
    "2. using pop\n",
    "3. using loop and range\n"
   ]
  },
  {
   "cell_type": "code",
   "execution_count": 4,
   "metadata": {},
   "outputs": [
    {
     "name": "stdout",
     "output_type": "stream",
     "text": [
      "dog lazy the over jumped fox brown quick the\n",
      "dog lazy the over jumped fox brown quick the \n",
      "dog lazy the over jumped fox brown quick the \n",
      "dog lazy the over jumped fox brown quick the \n",
      "dog lazy the over jumped fox brown quick the\n",
      "dog lazy the over jumped fox brown quick the\n"
     ]
    }
   ],
   "source": []
  },
  {
   "cell_type": "markdown",
   "metadata": {},
   "source": [
    "# 5. remove first and last\n",
    "remove the first and last numbers from the list #1 and put them in variable x,y\n",
    "   how can you do this with the least number of lines?\n",
    "   \n",
    "1. using indexing and -1\n",
    "2. using unpacking\n",
    "3. using pop"
   ]
  },
  {
   "cell_type": "code",
   "execution_count": 5,
   "metadata": {},
   "outputs": [
    {
     "name": "stdout",
     "output_type": "stream",
     "text": [
      "[17, 16, 30, 99, 35, 36, 18, 9, 24, 93, 92, 65, 62, 32, 89, 32, 26, 74, 47, 53, 38, 20, 8, 1, 1]\n",
      "17 [16, 30, 99, 35, 36, 18, 9, 24, 93, 92, 65, 62, 32, 89, 32, 26, 74, 47, 53, 38, 20, 8, 1] 1\n",
      "17 [16, 30, 99, 35, 36, 18, 9, 24, 93, 92, 65, 62, 32, 89, 32, 26, 74, 47, 53, 38, 20, 8, 1] 1\n",
      "17 [16, 30, 99, 35, 36, 18, 9, 24, 93, 92, 65, 62, 32, 89, 32, 26, 74, 47, 53, 38, 20, 8, 1] 1\n"
     ]
    }
   ],
   "source": []
  },
  {
   "cell_type": "markdown",
   "metadata": {},
   "source": [
    "# 6. intersection between lists\n",
    "create any two lists list1, list2\n",
    "example:\n",
    "```\n",
    "list1 = \"the fox condemns the trap, not himself\".split()\n",
    "list2 = \"the quick brown fox jumped over them lazy dog\".split()\n",
    "```\n",
    "\n",
    "1. now, using the keyword 'in' and a loop check if list1 has *any* item that also belongs in list2\n",
    "2. now also create a list called list_1_2 that has the entire list of items that exist in both list1 and list2 \n"
   ]
  },
  {
   "cell_type": "code",
   "execution_count": 6,
   "metadata": {},
   "outputs": [],
   "source": [
    "### useful: test data\n",
    "list1 = \"the fox condemns the trap, not himself\".split()\n",
    "list2 = \"the quick brown fox jumped over the lazy dog\".split()"
   ]
  },
  {
   "cell_type": "code",
   "execution_count": 7,
   "metadata": {},
   "outputs": [
    {
     "name": "stdout",
     "output_type": "stream",
     "text": [
      "1: the\n",
      "2: ['the', 'fox', 'the']\n"
     ]
    }
   ],
   "source": []
  },
  {
   "cell_type": "markdown",
   "metadata": {},
   "source": [
    "# 7. intersection between lists using sets\n",
    "\n",
    "solve question #6 using `set`\n",
    "\n",
    "hint: you no longer need loops"
   ]
  },
  {
   "cell_type": "code",
   "execution_count": 8,
   "metadata": {},
   "outputs": [
    {
     "name": "stdout",
     "output_type": "stream",
     "text": [
      "{'fox', 'the'}\n"
     ]
    }
   ],
   "source": []
  },
  {
   "cell_type": "markdown",
   "metadata": {},
   "source": [
    "# 8. random numbers without duplicates\n",
    "using the type `set`, \n",
    "- create a list of exactly 20 random numbers(between 0-100), \n",
    "- that have no duplicates "
   ]
  },
  {
   "cell_type": "code",
   "execution_count": 9,
   "metadata": {},
   "outputs": [
    {
     "name": "stdout",
     "output_type": "stream",
     "text": [
      "[14, 17, 18, 26, 29, 37, 43, 45, 46, 48, 54, 56, 59, 63, 70, 75, 89, 90, 92, 93]\n"
     ]
    }
   ],
   "source": []
  },
  {
   "cell_type": "markdown",
   "metadata": {},
   "source": [
    "# 9. remove duplicates\n",
    "- create a list of 15 random numbers betwen 1-10\n",
    "- using the type `set()`  \n",
    "  remove all the duplicate numbers from the list \n",
    "   \n",
    "1. do it without caring about the order of items\n",
    "2. `**` can you also do it, while preserving the original order of the list?"
   ]
  },
  {
   "cell_type": "code",
   "execution_count": 10,
   "metadata": {},
   "outputs": [
    {
     "name": "stdout",
     "output_type": "stream",
     "text": [
      "[3, 7, 0, 9, 1, 0, 6, 6, 0, 6, 2, 6, 2, 0, 1]\n",
      "{0, 1, 2, 3, 6, 7, 9}\n",
      "[3, 7, 0, 9, 1, 6, 2]\n"
     ]
    }
   ],
   "source": []
  },
  {
   "cell_type": "markdown",
   "metadata": {},
   "source": [
    "# 10. uniques and dups `**`\n",
    "- get a list of 20 random numbers, each in range 0-10\n",
    "- from this list, which numbers were  ...\n",
    "  1. unique? i.e. they appeared only once in the list?\n",
    "  2. dups? i.e. they appeared more than once in the list?\n",
    "   \n",
    "    \n",
    "hint: you may need a for loop and having one or two sets"
   ]
  },
  {
   "cell_type": "code",
   "execution_count": 11,
   "metadata": {},
   "outputs": [
    {
     "name": "stdout",
     "output_type": "stream",
     "text": [
      "[0, 0, 1, 2, 2, 3, 3, 3, 4, 4, 4, 6, 7, 7, 8, 9, 9, 9, 9, 10]\n",
      "seen:  {0, 1, 2, 3, 4, 6, 7, 8, 9, 10}\n",
      "uniques:  {1, 6, 8, 10}\n",
      "dups:  {0, 2, 3, 4, 7, 9}\n"
     ]
    }
   ],
   "source": []
  },
  {
   "cell_type": "markdown",
   "metadata": {},
   "source": [
    "# 11. results of automated testing\n",
    "\n",
    "imagine you're running automated tests for a new build of your project. \n",
    "and this build \"build1\" fails some test. \n",
    "then the engineers go on to try to fix the bugs and create \"build2\" which also fails some tests\n",
    "\n",
    "example:\n",
    "```\n",
    "  build1_fails = [1, 3, 6, 12, 13, 19, 20, 23, 24, 25, 33, 34, 45, 66, 67, 87, 100, 145, 149]\n",
    "  build2_fails = [2, 9, 10, 11, 12, 13, 14, 15, 16, 19, 20, 87, 88, 89, 145, 146 ]\n",
    "```\n",
    "\n",
    "1. which tests were fixed by build2? that is, they failed in build1 and stopped failing in build2?\n",
    "2. which tests got broken by build2? that is, they worked on build1 and started failing in build2?\n",
    "3. which broken tests did not get solved by build2? that is, they failed on both build1 and build2?\n",
    "4. `**` which tests succeeded in both builds (hint: imagine there are 150 tests overall, named 1, 2, ..., 149, 150) "
   ]
  },
  {
   "cell_type": "code",
   "execution_count": 12,
   "metadata": {},
   "outputs": [],
   "source": [
    "### useful: example data\n",
    "build1_fails = [1, 3, 6, 12, 13, 19, 20, 23, 24, 25, 33, 34, 45, 66, 67, 87, 100, 145, 149]\n",
    "build2_fails = [2, 9, 10, 11, 12, 13, 14, 15, 16, 19, 20, 87, 88, 89, 145, 146 ]"
   ]
  },
  {
   "cell_type": "code",
   "execution_count": 13,
   "metadata": {},
   "outputs": [
    {
     "name": "stdout",
     "output_type": "stream",
     "text": [
      "1:  {1, 33, 3, 34, 66, 6, 67, 100, 45, 149, 23, 24, 25}\n",
      "2:  {2, 9, 10, 11, 14, 15, 16, 146, 88, 89}\n",
      "3:  {12, 13, 145, 19, 20, 87}\n",
      "\n",
      "4:  {0, 4, 5, 7, 8, 17, 18, 21, 22, 26, 27, 28, 29, 30, 31, 32, 35, 36, 37, 38, 39, 40, 41, 42, 43, 44, 46, 47, 48, 49, 50, 51, 52, 53, 54, 55, 56, 57, 58, 59, 60, 61, 62, 63, 64, 65, 68, 69, 70, 71, 72, 73, 74, 75, 76, 77, 78, 79, 80, 81, 82, 83, 84, 85, 86, 90, 91, 92, 93, 94, 95, 96, 97, 98, 99, 101, 102, 103, 104, 105, 106, 107, 108, 109, 110, 111, 112, 113, 114, 115, 116, 117, 118, 119, 120, 121, 122, 123, 124, 125, 126, 127, 128, 129, 130, 131, 132, 133, 134, 135, 136, 137, 138, 139, 140, 141, 142, 143, 144, 147, 148}\n"
     ]
    }
   ],
   "source": []
  },
  {
   "cell_type": "markdown",
   "metadata": {},
   "source": [
    "# 12. 144 dictionary\n",
    "- look at your phone's phonebook, and select 4 people you have phone numbers for\n",
    "- create an \"144\" dictionary for these people \n",
    "that maps names of people to their phone numbers"
   ]
  },
  {
   "cell_type": "code",
   "execution_count": 14,
   "metadata": {},
   "outputs": [],
   "source": []
  },
  {
   "cell_type": "markdown",
   "metadata": {},
   "source": [
    "# 13. reverse 411 dictionary\n",
    "\n",
    "1. take the dictionary from the previous question and create a _reverse_ \"411\" dictionary\n",
    "    that maps phone numbers back to people's names\n",
    "    \n",
    "    \n",
    "2. `**` sharing phone numbers:\n",
    "   - what happens if two people share the same phone number?\n",
    "   - can you still reverse the dictionary and preserve all the information?"
   ]
  },
  {
   "cell_type": "code",
   "execution_count": 15,
   "metadata": {},
   "outputs": [
    {
     "name": "stdout",
     "output_type": "stream",
     "text": [
      "{'053-111': 'avi', '053-222': 'hen', '053-333': 'daddy', '053-444': 'zvika'}\n",
      "{'053-111': ['avi'], '053-222': ['ben', 'hen'], '053-333': ['gaddy', 'daddy'], '053-444': ['zvi', 'zvika']}\n"
     ]
    }
   ],
   "source": []
  }
 ],
 "metadata": {
  "kernelspec": {
   "display_name": "Python 3",
   "language": "python",
   "name": "python3"
  },
  "language_info": {
   "codemirror_mode": {
    "name": "ipython",
    "version": 3
   },
   "file_extension": ".py",
   "mimetype": "text/x-python",
   "name": "python",
   "nbconvert_exporter": "python",
   "pygments_lexer": "ipython3",
   "version": "3.7.3"
  }
 },
 "nbformat": 4,
 "nbformat_minor": 2
}
