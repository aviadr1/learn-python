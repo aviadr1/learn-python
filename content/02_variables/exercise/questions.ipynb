{
 "cells": [
  {
   "cell_type": "markdown",
   "metadata": {
    "colab_type": "text",
    "id": "AR_iIvomvN2X"
   },
   "source": [
    "\n",
    "<a href=\"https://colab.research.google.com/github/aviadr1/learn-python/blob/master/content/02_variables/exercise/questions.ipynb\" target=\"_blank\">\n",
    "<img src=\"https://colab.research.google.com/assets/colab-badge.svg\" \n",
    "     title=\"Open this file in Google Colab\" alt=\"Colab\"/>\n",
    "</a>\n"
   ]
  },
  {
   "cell_type": "markdown",
   "metadata": {
    "colab_type": "text",
    "id": "t8ECfjulvX0Q"
   },
   "source": [
    "# basic values and types\n",
    "1. calculate `2+8` and put the result in tha variable `x`. \n",
    "   - print the value of `x`\n",
    "     > hint: use the function `print()`\n",
    "   - what is the type of `x`?\n",
    "     > hint: use the function `type()`\n",
    "2. calculate `5 / 2` and put the result in the variable `y`. print `y` and the type of `y`\n",
    "3. put `\"hello world\"` into a variable named _`greeting`_. \n",
    "   - print the variable and the type of the variable\n",
    "   - what is the `len` of _`greeting`_?\n",
    "     > hint: use the function `len()`\n",
    "4. put the values `1`, `2` and `3` into _`list1`_ and the values `\"a\"`, `\"b\"` and `\"c\"` into _`list2`_.\n",
    "   - calcluate _`list1`_ + _`list2`_ and put the result into _`list3`_\n",
    "    - print _`list3`_ \n",
    "    - print the `type` of _`list3`_\n",
    "    - print the `len` of _`list3`_\n",
    "    "
   ]
  },
  {
   "cell_type": "code",
   "execution_count": 0,
   "metadata": {
    "colab": {
     "base_uri": "https://localhost:8080/",
     "height": 120
    },
    "colab_type": "code",
    "id": "g94-9-ChvXYU",
    "outputId": "c88eb392-2899-4dfb-b5d7-2368856a2feb"
   },
   "outputs": [
    {
     "name": "stdout",
     "output_type": "stream",
     "text": [
      "<class 'int'> 10\n",
      "<class 'float'> 2.5\n",
      "<class 'str'> hello world\n",
      "11\n",
      "<class 'list'> [1, 2, 3, 'a', 'b', 'c']\n",
      "6\n"
     ]
    }
   ],
   "source": []
  },
  {
   "cell_type": "markdown",
   "metadata": {
    "colab_type": "text",
    "id": "-bY0u2T8yAa7"
   },
   "source": [
    "# getting help\n",
    "suppose we want to understand how to use a function. we can use the `help()` function for that!\n",
    "\n",
    "1. let's try to use the function _`str.upper()`_, by copying this code below and running it:\n",
    "```python\n",
    "print( \"hello\".upper() )\n",
    "```\n",
    "2. lets see how to get help for a function. type the following code into a cell below. this will explain what the function _`str.upper`_ does\n",
    "```python\n",
    "help(\"hello\".upper)\n",
    "```\n",
    "\n"
   ]
  },
  {
   "cell_type": "code",
   "execution_count": 0,
   "metadata": {
    "colab": {
     "base_uri": "https://localhost:8080/",
     "height": 155
    },
    "colab_type": "code",
    "id": "HWKlZd4Cy1mM",
    "outputId": "d06a7c3b-469a-4556-8632-b96c5927fb57"
   },
   "outputs": [
    {
     "name": "stdout",
     "output_type": "stream",
     "text": [
      "HELLO\n",
      "Help on built-in function upper:\n",
      "\n",
      "upper() method of builtins.str instance\n",
      "    Return a copy of the string converted to uppercase.\n",
      "\n"
     ]
    }
   ],
   "source": []
  },
  {
   "cell_type": "markdown",
   "metadata": {
    "colab_type": "text",
    "id": "j2IsUCDF0Hy6"
   },
   "source": [
    "# some simple string functions\n",
    "1. lets get help for __all__ the cool functions the type _`str`_ has. lets call `help(str)`. run the following code:\n",
    "```python\n",
    "help(str)\n",
    "```\n",
    "\n",
    "2. read the documentation you've just printed, for the following functions: \n",
    "`lower, upper, title, islower, isupper` and try to figure out what they do. you can try to use them, read the documentation again, google for them. anything that helps you understand.\n",
    "\n",
    "3. convert this string to uppercase\n",
    "`\"the quick brown fox jumped over the lazy dog\"`\n",
    "> hint: use one of the functions you've learned in question #2\n",
    "\n",
    "4. is the string `\"I JusT mEt YoU, anD tHIs is CraaZy, sO CAll mE mayBe\"` in lower case? can you convert it to lower case?\n",
    "> hints :\n",
    "> 1. there is a function that checks if a string is lower case\n",
    "> 2. there is a function that converts a string to lower case"
   ]
  },
  {
   "cell_type": "code",
   "execution_count": 0,
   "metadata": {
    "colab": {
     "base_uri": "https://localhost:8080/",
     "height": 1000
    },
    "colab_type": "code",
    "id": "Y11W-OqP0HPr",
    "outputId": "6bc4b80a-a1e0-4589-abe9-13344dd3ee08"
   },
   "outputs": [
    {
     "name": "stdout",
     "output_type": "stream",
     "text": [
      "Help on class str in module builtins:\n",
      "\n",
      "class str(object)\n",
      " |  str(object='') -> str\n",
      " |  str(bytes_or_buffer[, encoding[, errors]]) -> str\n",
      " |  \n",
      " |  Create a new string object from the given object. If encoding or\n",
      " |  errors is specified, then the object must expose a data buffer\n",
      " |  that will be decoded using the given encoding and error handler.\n",
      " |  Otherwise, returns the result of object.__str__() (if defined)\n",
      " |  or repr(object).\n",
      " |  encoding defaults to sys.getdefaultencoding().\n",
      " |  errors defaults to 'strict'.\n",
      " |  \n",
      " |  Methods defined here:\n",
      " |  \n",
      " |  __add__(self, value, /)\n",
      " |      Return self+value.\n",
      " |  \n",
      " |  __contains__(self, key, /)\n",
      " |      Return key in self.\n",
      " |  \n",
      " |  __eq__(self, value, /)\n",
      " |      Return self==value.\n",
      " |  \n",
      " |  __format__(self, format_spec, /)\n",
      " |      Return a formatted version of the string as described by format_spec.\n",
      " |  \n",
      " |  __ge__(self, value, /)\n",
      " |      Return self>=value.\n",
      " |  \n",
      " |  __getattribute__(self, name, /)\n",
      " |      Return getattr(self, name).\n",
      " |  \n",
      " |  __getitem__(self, key, /)\n",
      " |      Return self[key].\n",
      " |  \n",
      " |  __getnewargs__(...)\n",
      " |  \n",
      " |  __gt__(self, value, /)\n",
      " |      Return self>value.\n",
      " |  \n",
      " |  __hash__(self, /)\n",
      " |      Return hash(self).\n",
      " |  \n",
      " |  __iter__(self, /)\n",
      " |      Implement iter(self).\n",
      " |  \n",
      " |  __le__(self, value, /)\n",
      " |      Return self<=value.\n",
      " |  \n",
      " |  __len__(self, /)\n",
      " |      Return len(self).\n",
      " |  \n",
      " |  __lt__(self, value, /)\n",
      " |      Return self<value.\n",
      " |  \n",
      " |  __mod__(self, value, /)\n",
      " |      Return self%value.\n",
      " |  \n",
      " |  __mul__(self, value, /)\n",
      " |      Return self*value.\n",
      " |  \n",
      " |  __ne__(self, value, /)\n",
      " |      Return self!=value.\n",
      " |  \n",
      " |  __repr__(self, /)\n",
      " |      Return repr(self).\n",
      " |  \n",
      " |  __rmod__(self, value, /)\n",
      " |      Return value%self.\n",
      " |  \n",
      " |  __rmul__(self, value, /)\n",
      " |      Return value*self.\n",
      " |  \n",
      " |  __sizeof__(self, /)\n",
      " |      Return the size of the string in memory, in bytes.\n",
      " |  \n",
      " |  __str__(self, /)\n",
      " |      Return str(self).\n",
      " |  \n",
      " |  capitalize(self, /)\n",
      " |      Return a capitalized version of the string.\n",
      " |      \n",
      " |      More specifically, make the first character have upper case and the rest lower\n",
      " |      case.\n",
      " |  \n",
      " |  casefold(self, /)\n",
      " |      Return a version of the string suitable for caseless comparisons.\n",
      " |  \n",
      " |  center(self, width, fillchar=' ', /)\n",
      " |      Return a centered string of length width.\n",
      " |      \n",
      " |      Padding is done using the specified fill character (default is a space).\n",
      " |  \n",
      " |  count(...)\n",
      " |      S.count(sub[, start[, end]]) -> int\n",
      " |      \n",
      " |      Return the number of non-overlapping occurrences of substring sub in\n",
      " |      string S[start:end].  Optional arguments start and end are\n",
      " |      interpreted as in slice notation.\n",
      " |  \n",
      " |  encode(self, /, encoding='utf-8', errors='strict')\n",
      " |      Encode the string using the codec registered for encoding.\n",
      " |      \n",
      " |      encoding\n",
      " |        The encoding in which to encode the string.\n",
      " |      errors\n",
      " |        The error handling scheme to use for encoding errors.\n",
      " |        The default is 'strict' meaning that encoding errors raise a\n",
      " |        UnicodeEncodeError.  Other possible values are 'ignore', 'replace' and\n",
      " |        'xmlcharrefreplace' as well as any other name registered with\n",
      " |        codecs.register_error that can handle UnicodeEncodeErrors.\n",
      " |  \n",
      " |  endswith(...)\n",
      " |      S.endswith(suffix[, start[, end]]) -> bool\n",
      " |      \n",
      " |      Return True if S ends with the specified suffix, False otherwise.\n",
      " |      With optional start, test S beginning at that position.\n",
      " |      With optional end, stop comparing S at that position.\n",
      " |      suffix can also be a tuple of strings to try.\n",
      " |  \n",
      " |  expandtabs(self, /, tabsize=8)\n",
      " |      Return a copy where all tab characters are expanded using spaces.\n",
      " |      \n",
      " |      If tabsize is not given, a tab size of 8 characters is assumed.\n",
      " |  \n",
      " |  find(...)\n",
      " |      S.find(sub[, start[, end]]) -> int\n",
      " |      \n",
      " |      Return the lowest index in S where substring sub is found,\n",
      " |      such that sub is contained within S[start:end].  Optional\n",
      " |      arguments start and end are interpreted as in slice notation.\n",
      " |      \n",
      " |      Return -1 on failure.\n",
      " |  \n",
      " |  format(...)\n",
      " |      S.format(*args, **kwargs) -> str\n",
      " |      \n",
      " |      Return a formatted version of S, using substitutions from args and kwargs.\n",
      " |      The substitutions are identified by braces ('{' and '}').\n",
      " |  \n",
      " |  format_map(...)\n",
      " |      S.format_map(mapping) -> str\n",
      " |      \n",
      " |      Return a formatted version of S, using substitutions from mapping.\n",
      " |      The substitutions are identified by braces ('{' and '}').\n",
      " |  \n",
      " |  index(...)\n",
      " |      S.index(sub[, start[, end]]) -> int\n",
      " |      \n",
      " |      Return the lowest index in S where substring sub is found, \n",
      " |      such that sub is contained within S[start:end].  Optional\n",
      " |      arguments start and end are interpreted as in slice notation.\n",
      " |      \n",
      " |      Raises ValueError when the substring is not found.\n",
      " |  \n",
      " |  isalnum(self, /)\n",
      " |      Return True if the string is an alpha-numeric string, False otherwise.\n",
      " |      \n",
      " |      A string is alpha-numeric if all characters in the string are alpha-numeric and\n",
      " |      there is at least one character in the string.\n",
      " |  \n",
      " |  isalpha(self, /)\n",
      " |      Return True if the string is an alphabetic string, False otherwise.\n",
      " |      \n",
      " |      A string is alphabetic if all characters in the string are alphabetic and there\n",
      " |      is at least one character in the string.\n",
      " |  \n",
      " |  isascii(self, /)\n",
      " |      Return True if all characters in the string are ASCII, False otherwise.\n",
      " |      \n",
      " |      ASCII characters have code points in the range U+0000-U+007F.\n",
      " |      Empty string is ASCII too.\n",
      " |  \n",
      " |  isdecimal(self, /)\n",
      " |      Return True if the string is a decimal string, False otherwise.\n",
      " |      \n",
      " |      A string is a decimal string if all characters in the string are decimal and\n",
      " |      there is at least one character in the string.\n",
      " |  \n",
      " |  isdigit(self, /)\n",
      " |      Return True if the string is a digit string, False otherwise.\n",
      " |      \n",
      " |      A string is a digit string if all characters in the string are digits and there\n",
      " |      is at least one character in the string.\n",
      " |  \n",
      " |  isidentifier(self, /)\n",
      " |      Return True if the string is a valid Python identifier, False otherwise.\n",
      " |      \n",
      " |      Use keyword.iskeyword() to test for reserved identifiers such as \"def\" and\n",
      " |      \"class\".\n",
      " |  \n",
      " |  islower(self, /)\n",
      " |      Return True if the string is a lowercase string, False otherwise.\n",
      " |      \n",
      " |      A string is lowercase if all cased characters in the string are lowercase and\n",
      " |      there is at least one cased character in the string.\n",
      " |  \n",
      " |  isnumeric(self, /)\n",
      " |      Return True if the string is a numeric string, False otherwise.\n",
      " |      \n",
      " |      A string is numeric if all characters in the string are numeric and there is at\n",
      " |      least one character in the string.\n",
      " |  \n",
      " |  isprintable(self, /)\n",
      " |      Return True if the string is printable, False otherwise.\n",
      " |      \n",
      " |      A string is printable if all of its characters are considered printable in\n",
      " |      repr() or if it is empty.\n",
      " |  \n",
      " |  isspace(self, /)\n",
      " |      Return True if the string is a whitespace string, False otherwise.\n",
      " |      \n",
      " |      A string is whitespace if all characters in the string are whitespace and there\n",
      " |      is at least one character in the string.\n",
      " |  \n",
      " |  istitle(self, /)\n",
      " |      Return True if the string is a title-cased string, False otherwise.\n",
      " |      \n",
      " |      In a title-cased string, upper- and title-case characters may only\n",
      " |      follow uncased characters and lowercase characters only cased ones.\n",
      " |  \n",
      " |  isupper(self, /)\n",
      " |      Return True if the string is an uppercase string, False otherwise.\n",
      " |      \n",
      " |      A string is uppercase if all cased characters in the string are uppercase and\n",
      " |      there is at least one cased character in the string.\n",
      " |  \n",
      " |  join(self, iterable, /)\n",
      " |      Concatenate any number of strings.\n",
      " |      \n",
      " |      The string whose method is called is inserted in between each given string.\n",
      " |      The result is returned as a new string.\n",
      " |      \n",
      " |      Example: '.'.join(['ab', 'pq', 'rs']) -> 'ab.pq.rs'\n",
      " |  \n",
      " |  ljust(self, width, fillchar=' ', /)\n",
      " |      Return a left-justified string of length width.\n",
      " |      \n",
      " |      Padding is done using the specified fill character (default is a space).\n",
      " |  \n",
      " |  lower(self, /)\n",
      " |      Return a copy of the string converted to lowercase.\n",
      " |  \n",
      " |  lstrip(self, chars=None, /)\n",
      " |      Return a copy of the string with leading whitespace removed.\n",
      " |      \n",
      " |      If chars is given and not None, remove characters in chars instead.\n",
      " |  \n",
      " |  partition(self, sep, /)\n",
      " |      Partition the string into three parts using the given separator.\n",
      " |      \n",
      " |      This will search for the separator in the string.  If the separator is found,\n",
      " |      returns a 3-tuple containing the part before the separator, the separator\n",
      " |      itself, and the part after it.\n",
      " |      \n",
      " |      If the separator is not found, returns a 3-tuple containing the original string\n",
      " |      and two empty strings.\n",
      " |  \n",
      " |  replace(self, old, new, count=-1, /)\n",
      " |      Return a copy with all occurrences of substring old replaced by new.\n",
      " |      \n",
      " |        count\n",
      " |          Maximum number of occurrences to replace.\n",
      " |          -1 (the default value) means replace all occurrences.\n",
      " |      \n",
      " |      If the optional argument count is given, only the first count occurrences are\n",
      " |      replaced.\n",
      " |  \n",
      " |  rfind(...)\n",
      " |      S.rfind(sub[, start[, end]]) -> int\n",
      " |      \n",
      " |      Return the highest index in S where substring sub is found,\n",
      " |      such that sub is contained within S[start:end].  Optional\n",
      " |      arguments start and end are interpreted as in slice notation.\n",
      " |      \n",
      " |      Return -1 on failure.\n",
      " |  \n",
      " |  rindex(...)\n",
      " |      S.rindex(sub[, start[, end]]) -> int\n",
      " |      \n",
      " |      Return the highest index in S where substring sub is found,\n",
      " |      such that sub is contained within S[start:end].  Optional\n",
      " |      arguments start and end are interpreted as in slice notation.\n",
      " |      \n",
      " |      Raises ValueError when the substring is not found.\n",
      " |  \n",
      " |  rjust(self, width, fillchar=' ', /)\n",
      " |      Return a right-justified string of length width.\n",
      " |      \n",
      " |      Padding is done using the specified fill character (default is a space).\n",
      " |  \n",
      " |  rpartition(self, sep, /)\n",
      " |      Partition the string into three parts using the given separator.\n",
      " |      \n",
      " |      This will search for the separator in the string, starting at the end. If\n",
      " |      the separator is found, returns a 3-tuple containing the part before the\n",
      " |      separator, the separator itself, and the part after it.\n",
      " |      \n",
      " |      If the separator is not found, returns a 3-tuple containing two empty strings\n",
      " |      and the original string.\n",
      " |  \n",
      " |  rsplit(self, /, sep=None, maxsplit=-1)\n",
      " |      Return a list of the words in the string, using sep as the delimiter string.\n",
      " |      \n",
      " |        sep\n",
      " |          The delimiter according which to split the string.\n",
      " |          None (the default value) means split according to any whitespace,\n",
      " |          and discard empty strings from the result.\n",
      " |        maxsplit\n",
      " |          Maximum number of splits to do.\n",
      " |          -1 (the default value) means no limit.\n",
      " |      \n",
      " |      Splits are done starting at the end of the string and working to the front.\n",
      " |  \n",
      " |  rstrip(self, chars=None, /)\n",
      " |      Return a copy of the string with trailing whitespace removed.\n",
      " |      \n",
      " |      If chars is given and not None, remove characters in chars instead.\n",
      " |  \n",
      " |  split(self, /, sep=None, maxsplit=-1)\n",
      " |      Return a list of the words in the string, using sep as the delimiter string.\n",
      " |      \n",
      " |      sep\n",
      " |        The delimiter according which to split the string.\n",
      " |        None (the default value) means split according to any whitespace,\n",
      " |        and discard empty strings from the result.\n",
      " |      maxsplit\n",
      " |        Maximum number of splits to do.\n",
      " |        -1 (the default value) means no limit.\n",
      " |  \n",
      " |  splitlines(self, /, keepends=False)\n",
      " |      Return a list of the lines in the string, breaking at line boundaries.\n",
      " |      \n",
      " |      Line breaks are not included in the resulting list unless keepends is given and\n",
      " |      true.\n",
      " |  \n",
      " |  startswith(...)\n",
      " |      S.startswith(prefix[, start[, end]]) -> bool\n",
      " |      \n",
      " |      Return True if S starts with the specified prefix, False otherwise.\n",
      " |      With optional start, test S beginning at that position.\n",
      " |      With optional end, stop comparing S at that position.\n",
      " |      prefix can also be a tuple of strings to try.\n",
      " |  \n",
      " |  strip(self, chars=None, /)\n",
      " |      Return a copy of the string with leading and trailing whitespace remove.\n",
      " |      \n",
      " |      If chars is given and not None, remove characters in chars instead.\n",
      " |  \n",
      " |  swapcase(self, /)\n",
      " |      Convert uppercase characters to lowercase and lowercase characters to uppercase.\n",
      " |  \n",
      " |  title(self, /)\n",
      " |      Return a version of the string where each word is titlecased.\n",
      " |      \n",
      " |      More specifically, words start with uppercased characters and all remaining\n",
      " |      cased characters have lower case.\n",
      " |  \n",
      " |  translate(self, table, /)\n",
      " |      Replace each character in the string using the given translation table.\n",
      " |      \n",
      " |        table\n",
      " |          Translation table, which must be a mapping of Unicode ordinals to\n",
      " |          Unicode ordinals, strings, or None.\n",
      " |      \n",
      " |      The table must implement lookup/indexing via __getitem__, for instance a\n",
      " |      dictionary or list.  If this operation raises LookupError, the character is\n",
      " |      left untouched.  Characters mapped to None are deleted.\n",
      " |  \n",
      " |  upper(self, /)\n",
      " |      Return a copy of the string converted to uppercase.\n",
      " |  \n",
      " |  zfill(self, width, /)\n",
      " |      Pad a numeric string with zeros on the left, to fill a field of the given width.\n",
      " |      \n",
      " |      The string is never truncated.\n",
      " |  \n",
      " |  ----------------------------------------------------------------------\n",
      " |  Static methods defined here:\n",
      " |  \n",
      " |  __new__(*args, **kwargs) from builtins.type\n",
      " |      Create and return a new object.  See help(type) for accurate signature.\n",
      " |  \n",
      " |  maketrans(x, y=None, z=None, /)\n",
      " |      Return a translation table usable for str.translate().\n",
      " |      \n",
      " |      If there is only one argument, it must be a dictionary mapping Unicode\n",
      " |      ordinals (integers) or characters to Unicode ordinals, strings or None.\n",
      " |      Character keys will be then converted to ordinals.\n",
      " |      If there are two arguments, they must be strings of equal length, and\n",
      " |      in the resulting dictionary, each character in x will be mapped to the\n",
      " |      character at the same position in y. If there is a third argument, it\n",
      " |      must be a string, whose characters will be mapped to None in the result.\n",
      "\n",
      "THE QUICK BROWN FOX JUMPED OVER THE LAZY DOG\n",
      "\n",
      "is lower?  I JusT mEt YoU, anD tHIs is CraaZy, sO CAll mE mayBe\n",
      "False\n",
      "\n",
      "is lower?  i just met you, and this is craazy, so call me maybe\n",
      "True\n"
     ]
    }
   ],
   "source": []
  },
  {
   "cell_type": "markdown",
   "metadata": {
    "colab_type": "text",
    "id": "KgoRIZz_n46c"
   },
   "source": [
    "# input from the user\n",
    "run the following code to get input from the _user_ (you are the user!)\n",
    "```python\n",
    "name = input(\"what is your name: \")\n",
    "print(\"hi\", name)\n",
    "```\n",
    "\n",
    "your programs now have the power to ask questions!\n",
    "\n"
   ]
  },
  {
   "cell_type": "code",
   "execution_count": 0,
   "metadata": {
    "colab": {
     "base_uri": "https://localhost:8080/",
     "height": 51
    },
    "colab_type": "code",
    "id": "II01m4FaoV3h",
    "outputId": "1bcc06d5-d369-4054-82a4-885ac80994dd"
   },
   "outputs": [
    {
     "name": "stdout",
     "output_type": "stream",
     "text": [
      "what is your name: aviad\n",
      "hi aviad\n"
     ]
    }
   ],
   "source": []
  },
  {
   "cell_type": "markdown",
   "metadata": {
    "colab_type": "text",
    "id": "l1ZGDRuSobyA"
   },
   "source": [
    "# BMI: Body mass index\n",
    "In health the BMI (body mass index) is defined as $$BMI=\\frac{weight}{height^2}$$ \n",
    "\n",
    "where the weight is in kilograms, and the height is in meters.\n",
    "\n",
    "for example for weight 80kg and height 2.0m the BMI is\n",
    "$80 / (2^2) = 80 /4 = 20 $\n",
    "\n",
    "1. put 97 into a variable called `weight`\n",
    "2. put 1.84 into a variabled called `height`\n",
    "3. write code to compute and print the bmi\n",
    "\n",
    "\n"
   ]
  },
  {
   "cell_type": "code",
   "execution_count": 0,
   "metadata": {
    "colab": {
     "base_uri": "https://localhost:8080/",
     "height": 34
    },
    "colab_type": "code",
    "id": "nth1PMNOzVaw",
    "outputId": "4ba356f1-0901-4b46-ed45-12cba54545c9"
   },
   "outputs": [
    {
     "name": "stdout",
     "output_type": "stream",
     "text": [
      "28.650756143667294\n"
     ]
    }
   ],
   "source": []
  },
  {
   "cell_type": "markdown",
   "metadata": {
    "colab_type": "text",
    "id": "JvuQ3IrYzf2g"
   },
   "source": [
    "# BMI with input from user\n",
    "1. use the `input()` function to ask the user for his weight, put in variable `weight`\n",
    "2. what is the type of the variable `weight`?\n",
    "3. use the following code to convert the value to a `float`\n",
    "```python\n",
    "w = float(weight)\n",
    "```\n",
    "   what is the type of `w` now?\n",
    "4. ask the user for his height and convert to float\n",
    "5. compute and print the bmi"
   ]
  },
  {
   "cell_type": "code",
   "execution_count": 0,
   "metadata": {
    "colab": {
     "base_uri": "https://localhost:8080/",
     "height": 102
    },
    "colab_type": "code",
    "id": "zXJnQIFJ0D8J",
    "outputId": "486d0255-189d-47d6-d6b5-6f2119426133"
   },
   "outputs": [
    {
     "name": "stdout",
     "output_type": "stream",
     "text": [
      "what is your weight? 80\n",
      "<class 'str'> 80\n",
      "<class 'float'> 80.0\n",
      "what is your height? 1.8\n",
      "24.691358024691358\n"
     ]
    }
   ],
   "source": []
  },
  {
   "cell_type": "markdown",
   "metadata": {
    "colab_type": "text",
    "id": "-5Td7dNrvN2Z"
   },
   "source": [
    "# help for str.split() function\n",
    "print the `help` for the function _`str.split`_\n",
    "> hint: use the `help()` function"
   ]
  },
  {
   "cell_type": "code",
   "execution_count": 0,
   "metadata": {
    "colab": {},
    "colab_type": "code",
    "id": "Jv5Bl1UmvN2a",
    "outputId": "64e0f732-bcdb-4f41-873d-8bc5e89d9cb2"
   },
   "outputs": [
    {
     "name": "stdout",
     "output_type": "stream",
     "text": [
      "Help on method_descriptor:\n",
      "\n",
      "split(self, /, sep=None, maxsplit=-1)\n",
      "    Return a list of the words in the string, using sep as the delimiter string.\n",
      "    \n",
      "    sep\n",
      "      The delimiter according which to split the string.\n",
      "      None (the default value) means split according to any whitespace,\n",
      "      and discard empty strings from the result.\n",
      "    maxsplit\n",
      "      Maximum number of splits to do.\n",
      "      -1 (the default value) means no limit.\n",
      "\n"
     ]
    }
   ],
   "source": []
  },
  {
   "cell_type": "markdown",
   "metadata": {
    "colab_type": "text",
    "id": "Qsg6jQVavN2d"
   },
   "source": [
    "# split a string\n",
    "\n",
    "1. create the following string, and put it in a variable called `sent`\n",
    "```\n",
    "\"the quick brown fox jumped over the lazy dog\"\n",
    "```\n",
    "\n",
    "2.  then **split** it into a list \n",
    "    so that each word is an an element in the list. <br> \n",
    "    and put the result into another variable called `words`\n",
    "    \n",
    "   \n",
    "3. print the variable `words`\n",
    "\n",
    "expected ouput:\n",
    "```\n",
    "['the', 'quick', 'brown', 'fox', 'jumped', 'over', 'the', 'lazy', 'dog']\n",
    "```"
   ]
  },
  {
   "cell_type": "code",
   "execution_count": 0,
   "metadata": {
    "colab": {},
    "colab_type": "code",
    "id": "2Vobw4UxvN2e",
    "outputId": "ec8a483a-310e-4bdb-883d-afa28f9b382a"
   },
   "outputs": [
    {
     "name": "stdout",
     "output_type": "stream",
     "text": [
      "['the', 'quick', 'brown', 'fox', 'jumped', 'over', 'the', 'lazy', 'dog']\n"
     ]
    }
   ],
   "source": []
  },
  {
   "cell_type": "markdown",
   "metadata": {
    "colab_type": "text",
    "id": "LU6MWz8WvN2g"
   },
   "source": [
    "# str.join()\n",
    "\n",
    "1. use the function `help` to read the documentation for the str.join function\n",
    "1. read this code\n",
    "```\n",
    "mylist = [\"one\", \"two\", \"three\"]\n",
    "result = \" \".join(mylist)\n",
    "print(result)\n",
    "```\n",
    "   1. can you guess what this code does ? \n",
    "   1. what is the function join?\n",
    "   1. use help or documentation online if you can't guess\n",
    "   1. copy this code to the cell below and run it to see if you were right\n"
   ]
  },
  {
   "cell_type": "code",
   "execution_count": 0,
   "metadata": {
    "colab": {},
    "colab_type": "code",
    "id": "CFG5C9iQvN2h",
    "outputId": "9cc2b208-e17a-4c7d-f04d-11d814a65d5e"
   },
   "outputs": [
    {
     "name": "stdout",
     "output_type": "stream",
     "text": [
      "Help on method_descriptor:\n",
      "\n",
      "join(self, iterable, /)\n",
      "    Concatenate any number of strings.\n",
      "    \n",
      "    The string whose method is called is inserted in between each given string.\n",
      "    The result is returned as a new string.\n",
      "    \n",
      "    Example: '.'.join(['ab', 'pq', 'rs']) -> 'ab.pq.rs'\n",
      "\n",
      "one two three\n"
     ]
    }
   ],
   "source": []
  },
  {
   "cell_type": "markdown",
   "metadata": {
    "colab_type": "text",
    "id": "kU8f_kgZvN2i"
   },
   "source": [
    "# using str.upper() and str.join()\n",
    "\n",
    "1. split the sentence `\"the quick brown fox jumped over the lazy dog\"` into words using the function .split() \n",
    "   and put the result in a variable called `words` .\n",
    "   \n",
    "\n",
    "2. replace the the words \"dog\" and \"fox\" in the `words` list with *uppercase* \"DOG\" and \"FOX\" <br>\n",
    "\n",
    "   HINTS:\n",
    "   * use the .upper() function\n",
    "   * use indexing like `words[3]` to acccess a particular word in the `words` list\n",
    "   \n",
    "   \n",
    "3. use the function join to convert the list back into a string\n",
    "\n",
    "\n",
    "4. print the result\n",
    "   \n",
    "expected output:\n",
    "```\n",
    "\"the quick brown FOX jumped over the lazy DOG\"\n",
    "```"
   ]
  },
  {
   "cell_type": "code",
   "execution_count": 0,
   "metadata": {
    "colab": {},
    "colab_type": "code",
    "id": "5NrpLck6vN2j",
    "outputId": "42740e42-318f-4762-cdab-0d3bbbc5d3b3"
   },
   "outputs": [
    {
     "name": "stdout",
     "output_type": "stream",
     "text": [
      "the quick brown FOX jumped over the lazy DOG\n"
     ]
    }
   ],
   "source": []
  },
  {
   "cell_type": "markdown",
   "metadata": {
    "colab_type": "text",
    "id": "KIhjMk3m3ns-"
   },
   "source": [
    "# 4 boom \n",
    "in this exercise, we're going to take some song lyrics, and replace every 4th word of each line with the word \"boom\". and then print out the lyrics.\n",
    "> NOTE: this exercise is simple but takes a lot of lines of code. \n",
    "> we _will_ learn loops __IN THE NEXT LESSON__. loops will help us write shorter solutions, but for now __YOU DONT NEED LOOPS__\n",
    "\n",
    "use the following code, which puts an _important_ 😜 string in a variable named _`song`_ \n",
    "```python\n",
    "song = \"\"\"\n",
    "Never gonna give you up\n",
    "Never gonna let you down\n",
    "Never gonna run around and desert you\n",
    "Never gonna make you cry\n",
    "Never gonna say good bye\n",
    "Never gonna tell a lie and hurt you\n",
    "\"\"\"\n",
    "```\n",
    "[![This is important](https://globalpremierbenefits.com/wp-content/uploads/2018/10/Click-Here-small-_0-300x107.jpg)](https://www.youtube.com/watch?v=dQw4w9WgXcQ \"Everything Is AWESOME\")\n",
    "\n",
    "\n",
    "1. split this string into a list of lines. put it in variable called `lines`\n",
    "   > hint: string have a function called `.splitlines()`\n",
    "   \n",
    "2. split the line 0 into words. put it in variable called words0\n",
    "   - now also split line 1. put it into `words1`\n",
    "   - repeat for line 2 ..., line 5, put each into word1, ... word5\n",
    "\n",
    "   > hint: this should take you 6 simples lines.\n",
    "   \n",
    "3. replace the 4th word of line 1, line 2, ... line 6 with the word `\"boom\"``\n",
    "   > hint: you __don't__ need loops. this again takes 6 lines\n",
    "   \n",
    "4. now join `words0`. put the result into variable boom0\n",
    "   - continue to join `words1`, `words2` ... `words5` into `boom1`, `boom2` ... `boom5`\n",
    "   \n",
    "5. create a list that contains `boom0`, `boom1`, ... `boom5`, call it `boom`\n",
    "\n",
    "6. join the lines in `boom` back into a string. put it into a variable called `result`\n",
    "   > hint: use this code\n",
    "   ```python\n",
    "   result = \"\\n\".join(boom)\n",
    "   ```\n",
    "\n",
    "7. print the result\n",
    "\n",
    "[![This is important](https://cdn.instructables.com/FJI/WGSW/FPIUQQ3K/FJIWGSWFPIUQQ3K.LARGE.jpg?auto=webp&frame=1&width=320)](https://www.youtube.com/watch?v=dQw4w9WgXcQ \"Everything Is AWESOME\")\n",
    "\n",
    "\n",
    "> expected output:\n",
    "```\n",
    "Never gonna give you boom\n",
    "Never gonna let you boom\n",
    "Never gonna run around boom desert you\n",
    "Never gonna make you boom\n",
    "Never gonna say good boom\n",
    "Never gonna tell a boom and hurt you\n",
    "```"
   ]
  },
  {
   "cell_type": "code",
   "execution_count": 0,
   "metadata": {
    "colab": {},
    "colab_type": "code",
    "id": "JBHhHarP42sR"
   },
   "outputs": [],
   "source": [
    "### useful: data\n",
    "song = \"\"\"Never gonna give you up\n",
    "Never gonna let you down\n",
    "Never gonna run around and desert you\n",
    "Never gonna make you cry\n",
    "Never gonna say good bye\n",
    "Never gonna tell a lie and hurt you\n",
    "\"\"\""
   ]
  },
  {
   "cell_type": "code",
   "execution_count": 0,
   "metadata": {
    "colab": {
     "base_uri": "https://localhost:8080/",
     "height": 119
    },
    "colab_type": "code",
    "id": "KYlwecgt5BDU",
    "outputId": "28ab93fe-c37b-412f-d537-7b35ea355680"
   },
   "outputs": [
    {
     "name": "stdout",
     "output_type": "stream",
     "text": [
      "Never gonna give you boom\n",
      "Never gonna let you boom\n",
      "Never gonna run around boom desert you\n",
      "Never gonna make you boom\n",
      "Never gonna say good boom\n",
      "Never gonna tell a boom and hurt you\n"
     ]
    }
   ],
   "source": []
  },
  {
   "cell_type": "markdown",
   "metadata": {
    "colab_type": "text",
    "id": "ljFz4YRwvN2l"
   },
   "source": [
    "# Dictionary\n",
    "\n",
    "1. create a dictionary that maps the name of cheeses to prices of 100mg of that cheese.\n",
    "\n",
    "        gouda costs 4.99 \n",
    "        Edam costs 2.45\n",
    "        Camambert costs 7.75\n",
    "        Bree costs 7.27\n",
    "    \n",
    "1. without using \"head math\", write simple code to compute the costs of gouda, edam and camambert together \n",
    "> hint: the solution is one simple but long line of code, which uses the `+` operator 3 times\n",
    "\n",
    "1. add a new cheese to the dictionary: \n",
    "  `Cottage` cheese, which costs `3.2`\n",
    "> hint: the solution takes just one very simple line of code\n",
    "\n",
    "1. the government has added a new tax on milk products, now every cheese costs has increased by 27% ! can you update the costs in the dictionary?\n",
    "> hint: the solution takes 5 (almost identical) lines of code\n",
    "\n",
    "1. can you use the `round()` function to round the prices of cheese, so that it has costs in dollars and cents (Shekels and agorot)?\n",
    "   > hint: what does the following code do?\n",
    "    ```python\n",
    "    pi = 3.14159265\n",
    "    print(pi)\n",
    "    pi_rounded = round(pi, 2)\n",
    "    print(pi_rounded)\n",
    "    ```\n",
    "\n",
    "\n"
   ]
  },
  {
   "cell_type": "code",
   "execution_count": 0,
   "metadata": {
    "colab": {
     "base_uri": "https://localhost:8080/",
     "height": 399
    },
    "colab_type": "code",
    "id": "6AtHP0eyvN2l",
    "outputId": "ad48f739-a869-42b2-ffea-ada10344544b"
   },
   "outputs": [
    {
     "name": "stdout",
     "output_type": "stream",
     "text": [
      "\n",
      "1\n",
      "----------\n",
      "{'Gouda': 4.99, 'Edam': 2.45, 'Camambert': 7.75, 'Bree': 7.27}\n",
      "\n",
      "2\n",
      "----------\n",
      "15.190000000000001\n",
      "\n",
      "3\n",
      "----------\n",
      "{'Gouda': 4.99, 'Edam': 2.45, 'Camambert': 7.75, 'Bree': 7.27, 'Cottage': 3.2}\n",
      "\n",
      "4\n",
      "----------\n",
      "{'Gouda': 6.3373, 'Edam': 3.1115000000000004, 'Camambert': 9.8425, 'Bree': 9.232899999999999, 'Cottage': 4.064}\n",
      "\n",
      "5\n",
      "----------\n",
      "3.14159265\n",
      "3.14\n",
      "{'Gouda': 6.34, 'Edam': 3.11, 'Camambert': 9.84, 'Bree': 9.23, 'Cottage': 4.06}\n"
     ]
    }
   ],
   "source": []
  },
  {
   "cell_type": "markdown",
   "metadata": {
    "colab_type": "text",
    "id": "tA_BFdjaBJLu"
   },
   "source": [
    "# len and indexing\n",
    "```python\n",
    "quote = \"everything should be as simple as possible, but not simpler. Albert Einstein\"\n",
    "```\n",
    "\n",
    "1. write code to check how many letters/characters are in this qoute.\n",
    "> hint: use the function len()\n",
    "\n",
    "2. split this qoute into words. how many words are in this quote?\n",
    "\n",
    "3. write code to print:\n",
    "   1. the 1st letter in the quote\n",
    "   2. the 7th word\n",
    "   3. the 1st letter of the 7th word\n",
    "   4. the last letter in the quote\n",
    "   5. the last letter of the 9th word\n",
    "\n",
    "> hint: the function `len()` is useful to figuring out what is the last letter/word   "
   ]
  },
  {
   "cell_type": "code",
   "execution_count": 0,
   "metadata": {
    "colab": {},
    "colab_type": "code",
    "id": "gIQiuovWBGa0",
    "outputId": "abd4a323-673e-4407-bd64-683a2fdfe79d"
   },
   "outputs": [
    {
     "name": "stdout",
     "output_type": "stream",
     "text": [
      "75\n",
      "12\n",
      "e\n",
      "possible\n",
      "p\n",
      "n\n",
      "t\n"
     ]
    }
   ],
   "source": []
  },
  {
   "cell_type": "markdown",
   "metadata": {
    "colab_type": "text",
    "id": "GEBnkj1LBGa2"
   },
   "source": [
    "# len, indexing and input\n",
    "1. what would the following code print? first try to answer yourself, then copy the code and run it to see if you guessed right\n",
    "\n",
    "```\n",
    "hi = \"hello \"\n",
    "greeting = hi * 3\n",
    "print(greeting)\n",
    "```\n",
    "\n",
    "2. use the `input()` function to ask the user for full name.\n",
    "\n",
    "3. print the length of the name \n",
    "\n",
    "4. print the last letter of the name 100 times"
   ]
  },
  {
   "cell_type": "code",
   "execution_count": 0,
   "metadata": {
    "colab": {},
    "colab_type": "code",
    "id": "wSLHztB9BGa3",
    "outputId": "66a0f509-c4d0-4539-9dff-a089d25aa1ac"
   },
   "outputs": [
    {
     "name": "stdout",
     "output_type": "stream",
     "text": [
      "hello hello hello \n",
      "what is your full name? aviad rozenhek\n",
      "14\n",
      "kkkkkkkkkkkkkkkkkkkkkkkkkkkkkkkkkkkkkkkkkkkkkkkkkkkkkkkkkkkkkkkkkkkkkkkkkkkkkkkkkkkkkkkkkkkkkkkkkkkk\n"
     ]
    }
   ],
   "source": []
  },
  {
   "cell_type": "code",
   "execution_count": 0,
   "metadata": {
    "colab": {},
    "colab_type": "code",
    "id": "R2ArlDotBGa5"
   },
   "outputs": [],
   "source": []
  }
 ],
 "metadata": {
  "colab": {
   "name": "02_variables/exercise/questions.ipynb",
   "provenance": []
  },
  "file_extension": ".py",
  "kernelspec": {
   "display_name": "Python 3",
   "language": "python",
   "name": "python3"
  },
  "language_info": {
   "codemirror_mode": {
    "name": "ipython",
    "version": 3
   },
   "file_extension": ".py",
   "mimetype": "text/x-python",
   "name": "python",
   "nbconvert_exporter": "python",
   "pygments_lexer": "ipython3",
   "version": "3.7.3"
  },
  "mimetype": "text/x-python",
  "name": "python",
  "npconvert_exporter": "python",
  "pygments_lexer": "ipython3",
  "version": 3
 },
 "nbformat": 4,
 "nbformat_minor": 0
}
