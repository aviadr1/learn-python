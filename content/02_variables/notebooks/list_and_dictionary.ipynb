{
 "cells": [
  {
   "cell_type": "markdown",
   "metadata": {},
   "source": [
    "\n",
    "<a href=\"https://colab.research.google.com/github/aviadr1/learn-python/blob/master/content/02_variables/notebooks/list_and_dictionary.ipynb\" target=\"_blank\">\n",
    "<img src=\"https://colab.research.google.com/assets/colab-badge.svg\" \n",
    "     title=\"Open this file in Google Colab\" alt=\"Colab\"/>\n",
    "</a>\n"
   ]
  },
  {
   "cell_type": "markdown",
   "metadata": {},
   "source": [
    "1. compute 10+90\n",
    "2. put the result "
   ]
  },
  {
   "cell_type": "code",
   "execution_count": 1,
   "metadata": {},
   "outputs": [],
   "source": [
    "fox = \"the quick brown fox jumped over the lazy dog\""
   ]
  },
  {
   "cell_type": "code",
   "execution_count": 3,
   "metadata": {},
   "outputs": [
    {
     "data": {
      "text/plain": [
       "False"
      ]
     },
     "execution_count": 3,
     "metadata": {},
     "output_type": "execute_result"
    }
   ],
   "source": [
    "fox.upper().endswith(\"lazy dog\")"
   ]
  },
  {
   "cell_type": "code",
   "execution_count": 4,
   "metadata": {},
   "outputs": [
    {
     "data": {
      "text/plain": [
       "False"
      ]
     },
     "execution_count": 4,
     "metadata": {},
     "output_type": "execute_result"
    }
   ],
   "source": [
    "\"DOG\" == \"dog\""
   ]
  },
  {
   "cell_type": "code",
   "execution_count": 5,
   "metadata": {},
   "outputs": [
    {
     "name": "stdout",
     "output_type": "stream",
     "text": [
      "one two three\n"
     ]
    }
   ],
   "source": [
    "mylist = [\"one\", \"two\", \"three\"]\n",
    "result = \" \".join(mylist)\n",
    "print(result)"
   ]
  },
  {
   "cell_type": "code",
   "execution_count": 6,
   "metadata": {},
   "outputs": [
    {
     "data": {
      "text/plain": [
       "'one two three'"
      ]
     },
     "execution_count": 6,
     "metadata": {},
     "output_type": "execute_result"
    }
   ],
   "source": [
    "result"
   ]
  },
  {
   "cell_type": "code",
   "execution_count": 7,
   "metadata": {},
   "outputs": [
    {
     "data": {
      "text/plain": [
       "list"
      ]
     },
     "execution_count": 7,
     "metadata": {},
     "output_type": "execute_result"
    }
   ],
   "source": [
    "type(mylist)"
   ]
  },
  {
   "cell_type": "code",
   "execution_count": 8,
   "metadata": {},
   "outputs": [
    {
     "data": {
      "text/plain": [
       "str"
      ]
     },
     "execution_count": 8,
     "metadata": {},
     "output_type": "execute_result"
    }
   ],
   "source": [
    "type(result)"
   ]
  },
  {
   "cell_type": "code",
   "execution_count": 9,
   "metadata": {},
   "outputs": [
    {
     "data": {
      "text/plain": [
       "3"
      ]
     },
     "execution_count": 9,
     "metadata": {},
     "output_type": "execute_result"
    }
   ],
   "source": [
    "len(mylist)"
   ]
  },
  {
   "cell_type": "code",
   "execution_count": 10,
   "metadata": {},
   "outputs": [
    {
     "data": {
      "text/plain": [
       "13"
      ]
     },
     "execution_count": 10,
     "metadata": {},
     "output_type": "execute_result"
    }
   ],
   "source": [
    "len(result)"
   ]
  },
  {
   "cell_type": "code",
   "execution_count": 11,
   "metadata": {},
   "outputs": [
    {
     "data": {
      "text/plain": [
       "'sdklfjhasdlkfh'"
      ]
     },
     "execution_count": 11,
     "metadata": {},
     "output_type": "execute_result"
    }
   ],
   "source": [
    "\"sdklfjhasdlkfh\""
   ]
  },
  {
   "cell_type": "code",
   "execution_count": 12,
   "metadata": {},
   "outputs": [
    {
     "data": {
      "text/plain": [
       "['f.xd,ghdflskjgh', 10, 100, 0.5, 'hewllo']"
      ]
     },
     "execution_count": 12,
     "metadata": {},
     "output_type": "execute_result"
    }
   ],
   "source": [
    "[\"f.xd,ghdflskjgh\", 10, 100, 0.5, \"hewllo\"]"
   ]
  },
  {
   "cell_type": "code",
   "execution_count": 13,
   "metadata": {},
   "outputs": [],
   "source": [
    "song = \"\"\"Yeah yeah yeah yeah yeah\n",
    "Yeah yeah yeah yeah yeah yeah\n",
    "I think I did it again\n",
    "I made you believe we're more than just friends\n",
    "Oh baby\n",
    "It might seem like a crush\n",
    "But it doesn't mean that I'm serious\n",
    "'Cause to lose all my senses\n",
    "That is just so typically me\n",
    "Oh baby, baby\n",
    "Oops, I did it again\n",
    "I played with your heart, got lost in the game\n",
    "Oh baby, baby\n",
    "Oops, you think I'm in love\n",
    "That I'm sent from above\n",
    "I'm not that innocent\n",
    "\"\"\""
   ]
  },
  {
   "cell_type": "code",
   "execution_count": 14,
   "metadata": {},
   "outputs": [
    {
     "name": "stdout",
     "output_type": "stream",
     "text": [
      "Yeah yeah yeah yeah yeah\n",
      "Yeah yeah yeah yeah yeah yeah\n",
      "I think I did it again\n",
      "I made you believe we're more than just friends\n",
      "Oh baby\n",
      "It might seem like a crush\n",
      "But it doesn't mean that I'm serious\n",
      "'Cause to lose all my senses\n",
      "That is just so typically me\n",
      "Oh baby, baby\n",
      "Oops, I did it again\n",
      "I played with your heart, got lost in the game\n",
      "Oh baby, baby\n",
      "Oops, you think I'm in love\n",
      "That I'm sent from above\n",
      "I'm not that innocent\n",
      "\n"
     ]
    }
   ],
   "source": [
    "print(song)"
   ]
  },
  {
   "cell_type": "code",
   "execution_count": 22,
   "metadata": {},
   "outputs": [],
   "source": [
    "words = song.split(' ')"
   ]
  },
  {
   "cell_type": "code",
   "execution_count": 23,
   "metadata": {},
   "outputs": [
    {
     "data": {
      "text/plain": [
       "74"
      ]
     },
     "execution_count": 23,
     "metadata": {},
     "output_type": "execute_result"
    }
   ],
   "source": [
    "len(words)"
   ]
  },
  {
   "cell_type": "code",
   "execution_count": 24,
   "metadata": {},
   "outputs": [
    {
     "data": {
      "text/plain": [
       "'Yeah'"
      ]
     },
     "execution_count": 24,
     "metadata": {},
     "output_type": "execute_result"
    }
   ],
   "source": [
    "words[0]"
   ]
  },
  {
   "cell_type": "code",
   "execution_count": 25,
   "metadata": {},
   "outputs": [],
   "source": [
    "words[7] = \"boom\"\n",
    "words[14] = \"boom\"\n",
    "words[21] = \"boom\"\n",
    "words[28] = \"boom\"\n",
    "words[35] = \"boom\""
   ]
  },
  {
   "cell_type": "code",
   "execution_count": 26,
   "metadata": {},
   "outputs": [
    {
     "name": "stdout",
     "output_type": "stream",
     "text": [
      "['Yeah', 'yeah', 'yeah', 'yeah', 'yeah\\nYeah', 'yeah', 'yeah', 'boom', 'yeah', 'yeah\\nI', 'think', 'I', 'did', 'it', 'boom', 'made', 'you', 'believe', \"we're\", 'more', 'than', 'boom', 'friends\\nOh', 'baby\\nIt', 'might', 'seem', 'like', 'a', 'boom', 'it', \"doesn't\", 'mean', 'that', \"I'm\", \"serious\\n'Cause\", 'boom', 'lose', 'all', 'my', 'senses\\nThat', 'is', 'just', 'so', 'typically', 'me\\nOh', 'baby,', 'baby\\nOops,', 'I', 'did', 'it', 'again\\nI', 'played', 'with', 'your', 'heart,', 'got', 'lost', 'in', 'the', 'game\\nOh', 'baby,', 'baby\\nOops,', 'you', 'think', \"I'm\", 'in', 'love\\nThat', \"I'm\", 'sent', 'from', \"above\\nI'm\", 'not', 'that', 'innocent\\n']\n"
     ]
    }
   ],
   "source": [
    "print(words)"
   ]
  },
  {
   "cell_type": "code",
   "execution_count": 27,
   "metadata": {},
   "outputs": [
    {
     "name": "stdout",
     "output_type": "stream",
     "text": [
      "Yeah yeah yeah yeah yeah\n",
      "Yeah yeah yeah boom yeah yeah\n",
      "I think I did it boom made you believe we're more than boom friends\n",
      "Oh baby\n",
      "It might seem like a boom it doesn't mean that I'm serious\n",
      "'Cause boom lose all my senses\n",
      "That is just so typically me\n",
      "Oh baby, baby\n",
      "Oops, I did it again\n",
      "I played with your heart, got lost in the game\n",
      "Oh baby, baby\n",
      "Oops, you think I'm in love\n",
      "That I'm sent from above\n",
      "I'm not that innocent\n",
      "\n"
     ]
    }
   ],
   "source": [
    "songboom = \" \".join(words)\n",
    "print(songboom)"
   ]
  },
  {
   "cell_type": "code",
   "execution_count": 32,
   "metadata": {},
   "outputs": [
    {
     "name": "stdout",
     "output_type": "stream",
     "text": [
      "Y3ah y3ah y3ah y3ah y3ah\n",
      "Y3ah y3ah y3ah y3ah y3ah y3ah\n",
      "I th1nk I d1d 1t aga1n\n",
      "I mad3 you b3l13v3 w3'r3 mor3 than ju5t fr13nd5\n",
      "Oh baby\n",
      "It m1ght 533m l1k3 a cru5h\n",
      "But 1t do35n't m3an that I'm 53r1ou5\n",
      "'Cau53 to lo53 all my 53n535\n",
      "That 15 ju5t 5o typ1cally m3\n",
      "Oh baby, baby\n",
      "Oop5, I d1d 1t aga1n\n",
      "I play3d w1th your h3art, got lo5t 1n th3 gam3\n",
      "Oh baby, baby\n",
      "Oop5, you th1nk I'm 1n lov3\n",
      "That I'm 53nt from abov3\n",
      "I'm not that 1nnoc3nt\n",
      "\n"
     ]
    }
   ],
   "source": [
    "print(song.replace('i', '1').replace('e', '3').replace('s', '5'))"
   ]
  },
  {
   "cell_type": "code",
   "execution_count": 33,
   "metadata": {},
   "outputs": [
    {
     "data": {
      "text/plain": [
       "'da quick brown fox jumped over da lazy dog'"
      ]
     },
     "execution_count": 33,
     "metadata": {},
     "output_type": "execute_result"
    }
   ],
   "source": [
    "\"the quick brown fox jumped over the lazy dog\".replace(\"the\", \"da\")"
   ]
  },
  {
   "cell_type": "code",
   "execution_count": 34,
   "metadata": {},
   "outputs": [
    {
     "data": {
      "text/plain": [
       "{}"
      ]
     },
     "execution_count": 34,
     "metadata": {},
     "output_type": "execute_result"
    }
   ],
   "source": [
    "{}"
   ]
  },
  {
   "cell_type": "code",
   "execution_count": 35,
   "metadata": {},
   "outputs": [
    {
     "data": {
      "text/plain": [
       "[]"
      ]
     },
     "execution_count": 35,
     "metadata": {},
     "output_type": "execute_result"
    }
   ],
   "source": [
    "[]"
   ]
  },
  {
   "cell_type": "code",
   "execution_count": 41,
   "metadata": {},
   "outputs": [],
   "source": [
    "cities = {\n",
    "    \"israel\" :         \"jerusalem\"      ,\n",
    "    \"uk\" : \"london\",\n",
    "    \"russia\" : \"moscow\"\n",
    "}"
   ]
  },
  {
   "cell_type": "code",
   "execution_count": 42,
   "metadata": {},
   "outputs": [
    {
     "data": {
      "text/plain": [
       "{'israel': 'jerusalem', 'uk': 'london', 'russia': 'moscow'}"
      ]
     },
     "execution_count": 42,
     "metadata": {},
     "output_type": "execute_result"
    }
   ],
   "source": [
    "cities"
   ]
  },
  {
   "cell_type": "code",
   "execution_count": 43,
   "metadata": {},
   "outputs": [
    {
     "data": {
      "text/plain": [
       "'jerusalem'"
      ]
     },
     "execution_count": 43,
     "metadata": {},
     "output_type": "execute_result"
    }
   ],
   "source": [
    "cities['israel']"
   ]
  },
  {
   "cell_type": "code",
   "execution_count": 48,
   "metadata": {},
   "outputs": [],
   "source": [
    "cities[\"france\"] = \"paris\""
   ]
  },
  {
   "cell_type": "code",
   "execution_count": 49,
   "metadata": {},
   "outputs": [
    {
     "name": "stdout",
     "output_type": "stream",
     "text": [
      "{'israel': 'jerusalem', 'uk': 'london', 'russia': 'moscow', 'france': 'paris'}\n"
     ]
    }
   ],
   "source": [
    "print(cities)"
   ]
  },
  {
   "cell_type": "code",
   "execution_count": 47,
   "metadata": {},
   "outputs": [
    {
     "data": {
      "text/plain": [
       "'paris'"
      ]
     },
     "execution_count": 47,
     "metadata": {},
     "output_type": "execute_result"
    }
   ],
   "source": [
    "cities['france']"
   ]
  },
  {
   "cell_type": "code",
   "execution_count": 51,
   "metadata": {},
   "outputs": [],
   "source": [
    "leet = {\n",
    "    'i' : '1',\n",
    "    'e' : '3',\n",
    "    's' : '5'\n",
    "}"
   ]
  },
  {
   "cell_type": "code",
   "execution_count": 52,
   "metadata": {},
   "outputs": [],
   "source": [
    "synonyms = {\n",
    "    \"good\" : ['great', 'amzing', 'wonderful', \"not bad\"],\n",
    "    \"sad\" : ['blue', 'depressed', 'down', 'gloom']\n",
    "}"
   ]
  },
  {
   "cell_type": "code",
   "execution_count": 54,
   "metadata": {},
   "outputs": [
    {
     "data": {
      "text/plain": [
       "['blue', 'depressed', 'down', 'gloom']"
      ]
     },
     "execution_count": 54,
     "metadata": {},
     "output_type": "execute_result"
    }
   ],
   "source": [
    "synonyms['sad']"
   ]
  },
  {
   "cell_type": "markdown",
   "metadata": {},
   "source": [
    "create a dictionary that maps the name of cheeses to prices of 100mg of that cheese.\n",
    "```\n",
    " gouda costs 4.99 \n",
    " Edam costs 2.45\n",
    " Camambert costs 7.75\n",
    " Bree costs 7.27\n",
    "```\n",
    "\n",
    "without using \"head math\", compute the costs of gouda, edam and camambert together"
   ]
  },
  {
   "cell_type": "code",
   "execution_count": 55,
   "metadata": {},
   "outputs": [],
   "source": [
    "cheese = {\n",
    "    \"gouda\" : 4.99,\n",
    "    \"edam\" : 2.45,\n",
    "    \"camambert\" : 7.75,\n",
    "    \"bree\" : 7.27\n",
    "}"
   ]
  },
  {
   "cell_type": "code",
   "execution_count": 58,
   "metadata": {},
   "outputs": [
    {
     "data": {
      "text/plain": [
       "15.190000000000001"
      ]
     },
     "execution_count": 58,
     "metadata": {},
     "output_type": "execute_result"
    }
   ],
   "source": [
    "cheese[\"gouda\"] + cheese['edam'] + cheese['camambert']"
   ]
  },
  {
   "cell_type": "code",
   "execution_count": 60,
   "metadata": {},
   "outputs": [
    {
     "data": {
      "text/plain": [
       "[4.99, 2.45, 7.75]"
      ]
     },
     "execution_count": 60,
     "metadata": {},
     "output_type": "execute_result"
    }
   ],
   "source": [
    "[cheese[\"gouda\"] , cheese['edam'] , cheese['camambert']]"
   ]
  },
  {
   "cell_type": "code",
   "execution_count": 61,
   "metadata": {},
   "outputs": [
    {
     "data": {
      "text/plain": [
       "dict_keys(['gouda', 'edam', 'camambert', 'bree'])"
      ]
     },
     "execution_count": 61,
     "metadata": {},
     "output_type": "execute_result"
    }
   ],
   "source": [
    "cheese.keys()"
   ]
  },
  {
   "cell_type": "code",
   "execution_count": 62,
   "metadata": {},
   "outputs": [
    {
     "data": {
      "text/plain": [
       "dict_values([4.99, 2.45, 7.75, 7.27])"
      ]
     },
     "execution_count": 62,
     "metadata": {},
     "output_type": "execute_result"
    }
   ],
   "source": [
    "cheese.values()"
   ]
  },
  {
   "cell_type": "code",
   "execution_count": 63,
   "metadata": {},
   "outputs": [
    {
     "data": {
      "text/plain": [
       "dict_items([('gouda', 4.99), ('edam', 2.45), ('camambert', 7.75), ('bree', 7.27)])"
      ]
     },
     "execution_count": 63,
     "metadata": {},
     "output_type": "execute_result"
    }
   ],
   "source": [
    "cheese.items()"
   ]
  },
  {
   "cell_type": "code",
   "execution_count": 68,
   "metadata": {},
   "outputs": [
    {
     "data": {
      "text/plain": [
       "('edam', 2.45)"
      ]
     },
     "execution_count": 68,
     "metadata": {},
     "output_type": "execute_result"
    }
   ],
   "source": [
    "sorted(cheese.items(), key=lambda pair: pair[1])[0]"
   ]
  },
  {
   "cell_type": "code",
   "execution_count": 70,
   "metadata": {},
   "outputs": [
    {
     "data": {
      "text/plain": [
       "4.99"
      ]
     },
     "execution_count": 70,
     "metadata": {},
     "output_type": "execute_result"
    }
   ],
   "source": [
    "cheese.pop('gouda')"
   ]
  },
  {
   "cell_type": "code",
   "execution_count": 71,
   "metadata": {},
   "outputs": [
    {
     "data": {
      "text/plain": [
       "{'edam': 2.45, 'camambert': 7.75, 'bree': 7.27}"
      ]
     },
     "execution_count": 71,
     "metadata": {},
     "output_type": "execute_result"
    }
   ],
   "source": [
    "cheese"
   ]
  },
  {
   "cell_type": "code",
   "execution_count": null,
   "metadata": {},
   "outputs": [],
   "source": [
    "{\n",
    "    \n",
    "}"
   ]
  }
 ],
 "metadata": {
  "kernelspec": {
   "display_name": "Python 3",
   "language": "python",
   "name": "python3"
  },
  "language_info": {
   "codemirror_mode": {
    "name": "ipython",
    "version": 3
   },
   "file_extension": ".py",
   "mimetype": "text/x-python",
   "name": "python",
   "nbconvert_exporter": "python",
   "pygments_lexer": "ipython3",
   "version": "3.7.3"
  }
 },
 "nbformat": 4,
 "nbformat_minor": 2
}
