{
 "cells": [
  {
   "cell_type": "markdown",
   "metadata": {},
   "source": [
    "# objects\n",
    "\n",
    "in python __everything__ is an object.\n",
    "\n",
    "Lets start with 3 basic types of objects:\n",
    "\n",
    "## integers\n",
    "numbers like `10`, `0`, `12345` are objects of type `int`\n",
    "\n",
    "## strings\n",
    "a collections of characters like `\"hello world\"` or `\"monthy python's flying circus\"` are objects of type `str`\n",
    "\n",
    "strings have a `\"` or `'` character at the beginning or end\n",
    "\n",
    "strings with numbers of special characters like `\"7 boom!\"` is also fine\n",
    "\n",
    "## floats\n",
    "decimal numbers like `0.99` or `3.14` or even just `10.0` are objects of type `float`\n",
    "\n",
    "# print function\n",
    "we can display values using the `print()` function like this "
   ]
  },
  {
   "cell_type": "code",
   "execution_count": 3,
   "metadata": {},
   "outputs": [
    {
     "name": "stdout",
     "output_type": "stream",
     "text": [
      "10\n"
     ]
    }
   ],
   "source": [
    "print(10)"
   ]
  },
  {
   "cell_type": "code",
   "execution_count": 5,
   "metadata": {},
   "outputs": [
    {
     "name": "stdout",
     "output_type": "stream",
     "text": [
      "monthy python is awesome!\n"
     ]
    }
   ],
   "source": [
    "print(\"monthy python is awesome!\")"
   ]
  },
  {
   "cell_type": "code",
   "execution_count": 6,
   "metadata": {},
   "outputs": [
    {
     "name": "stdout",
     "output_type": "stream",
     "text": [
      "3.14\n"
     ]
    }
   ],
   "source": [
    "print(3.14)"
   ]
  },
  {
   "cell_type": "markdown",
   "metadata": {},
   "source": [
    "we can print multiple values with one print statement, like this:"
   ]
  },
  {
   "cell_type": "code",
   "execution_count": 13,
   "metadata": {},
   "outputs": [
    {
     "name": "stdout",
     "output_type": "stream",
     "text": [
      "my dog is 10 years old, what a good doggie! his birthday is in 2 days!\n"
     ]
    }
   ],
   "source": [
    "print(\"my dog is\", 10, 'years old, what a good doggie!', \"his birthday is in\", 2, \"days!\")"
   ]
  },
  {
   "cell_type": "markdown",
   "metadata": {},
   "source": [
    "## your turn\n",
    "print your name, occupation and age with one print statement"
   ]
  },
  {
   "cell_type": "code",
   "execution_count": null,
   "metadata": {},
   "outputs": [],
   "source": []
  },
  {
   "cell_type": "markdown",
   "metadata": {},
   "source": [
    "### solution\n"
   ]
  },
  {
   "cell_type": "code",
   "execution_count": 14,
   "metadata": {},
   "outputs": [
    {
     "name": "stdout",
     "output_type": "stream",
     "text": [
      "NAME: Arthur Pewty OCCUPATION: accountant AGE: 40\n"
     ]
    }
   ],
   "source": [
    "print('NAME:', \"Arthur Pewty\", 'OCCUPATION:', \"accountant\", \"AGE:\", 40) "
   ]
  },
  {
   "cell_type": "markdown",
   "metadata": {},
   "source": [
    "# types\n",
    "\n",
    "every object has a type. we can check what the type of an object is by using the `type()` function like this:"
   ]
  },
  {
   "cell_type": "code",
   "execution_count": 10,
   "metadata": {},
   "outputs": [
    {
     "name": "stdout",
     "output_type": "stream",
     "text": [
      "<class 'int'>\n"
     ]
    }
   ],
   "source": [
    "print(type(5))"
   ]
  },
  {
   "cell_type": "code",
   "execution_count": 11,
   "metadata": {},
   "outputs": [
    {
     "name": "stdout",
     "output_type": "stream",
     "text": [
      "<class 'str'>\n"
     ]
    }
   ],
   "source": [
    "print(type('the quick brown fox jumped over the lazy dog'))"
   ]
  },
  {
   "cell_type": "code",
   "execution_count": 12,
   "metadata": {},
   "outputs": [
    {
     "name": "stdout",
     "output_type": "stream",
     "text": [
      "<class 'float'>\n"
     ]
    }
   ],
   "source": [
    "print(type(2.78))"
   ]
  },
  {
   "cell_type": "markdown",
   "metadata": {},
   "source": [
    "## your turn\n",
    "1. print a number and its type in one print statement\n",
    "2. print a string and its type in one print statement\n",
    "3. print a float and its type in one print statement"
   ]
  },
  {
   "cell_type": "code",
   "execution_count": null,
   "metadata": {},
   "outputs": [],
   "source": []
  },
  {
   "cell_type": "markdown",
   "metadata": {},
   "source": [
    "### solution\n"
   ]
  },
  {
   "cell_type": "code",
   "execution_count": 15,
   "metadata": {},
   "outputs": [
    {
     "name": "stdout",
     "output_type": "stream",
     "text": [
      "1 <class 'int'>\n",
      "two <class 'str'>\n",
      "3.0 <class 'float'>\n"
     ]
    }
   ],
   "source": [
    "print(1, type(1))\n",
    "print(\"two\", type(\"two\"))\n",
    "print(3.0, type(3.0))"
   ]
  },
  {
   "cell_type": "markdown",
   "metadata": {},
   "source": [
    "# integers, floats and basic math\n",
    "\n",
    "you can do any calculation with integers and floats, using the following operators\n",
    "\n",
    "|     |               |   |\n",
    "|-----|---------------|---|\n",
    "| `+`   | addition       |\n",
    "| `-`   |  substraction |\n",
    "| `*`   |  multiplication |\n",
    "| `/`   | division |\n",
    "| `**`  |  power | חזקה |\n",
    "| `%`   | modolu | שארית  |\n",
    "\n",
    "\n",
    "\n"
   ]
  },
  {
   "cell_type": "code",
   "execution_count": 18,
   "metadata": {},
   "outputs": [
    {
     "name": "stdout",
     "output_type": "stream",
     "text": [
      "1 + 1 = 2\n"
     ]
    }
   ],
   "source": [
    "print(\"1 + 1 =\", 1+1)"
   ]
  },
  {
   "cell_type": "code",
   "execution_count": 27,
   "metadata": {},
   "outputs": [
    {
     "name": "stdout",
     "output_type": "stream",
     "text": [
      "10\n"
     ]
    }
   ],
   "source": [
    "print(2*5) "
   ]
  },
  {
   "cell_type": "code",
   "execution_count": 20,
   "metadata": {},
   "outputs": [
    {
     "name": "stdout",
     "output_type": "stream",
     "text": [
      "2.5\n"
     ]
    }
   ],
   "source": [
    "print(5 / 2)"
   ]
  },
  {
   "cell_type": "code",
   "execution_count": 23,
   "metadata": {},
   "outputs": [
    {
     "name": "stdout",
     "output_type": "stream",
     "text": [
      "2.5\n"
     ]
    }
   ],
   "source": [
    "print(3 - 0.5)"
   ]
  },
  {
   "cell_type": "code",
   "execution_count": 24,
   "metadata": {},
   "outputs": [
    {
     "name": "stdout",
     "output_type": "stream",
     "text": [
      "100\n"
     ]
    }
   ],
   "source": [
    "print(10 ** 2)"
   ]
  },
  {
   "cell_type": "code",
   "execution_count": 26,
   "metadata": {},
   "outputs": [
    {
     "name": "stdout",
     "output_type": "stream",
     "text": [
      "10.0\n"
     ]
    }
   ],
   "source": [
    "print(100 ** 0.5)"
   ]
  },
  {
   "cell_type": "code",
   "execution_count": 25,
   "metadata": {},
   "outputs": [
    {
     "name": "stdout",
     "output_type": "stream",
     "text": [
      "2\n"
     ]
    }
   ],
   "source": [
    "print(10 % 4)"
   ]
  },
  {
   "cell_type": "markdown",
   "metadata": {},
   "source": [
    "## your turn\n",
    "how much is `2+3*4` ?\n",
    "\n",
    "why?"
   ]
  },
  {
   "cell_type": "code",
   "execution_count": null,
   "metadata": {},
   "outputs": [],
   "source": []
  },
  {
   "cell_type": "markdown",
   "metadata": {},
   "source": [
    "### solution\n",
    "python respects the ordering of operators\n",
    "\n",
    "which means multiplication `*` is evaluated before addition `+`"
   ]
  },
  {
   "cell_type": "code",
   "execution_count": 32,
   "metadata": {},
   "outputs": [
    {
     "name": "stdout",
     "output_type": "stream",
     "text": [
      "2+3*4 EQUALS 2 + (3*4) EQUALS 2 + 12 EQUALS 14\n"
     ]
    }
   ],
   "source": [
    "print(\"2+3*4 EQUALS 2 + (3*4) EQUALS 2 + 12 EQUALS\", 2+3*4)"
   ]
  },
  {
   "cell_type": "markdown",
   "metadata": {},
   "source": [
    "# parenthesis\n",
    "\n",
    "we can use parenthesis `(` and `)` to determine the order of evaluation.\n",
    "\n",
    "for instance if we wanted to calculate `(2+3)*4` == `5*4` == `20`\n",
    "\n",
    "we just could just write:"
   ]
  },
  {
   "cell_type": "code",
   "execution_count": 33,
   "metadata": {},
   "outputs": [
    {
     "name": "stdout",
     "output_type": "stream",
     "text": [
      "20\n"
     ]
    }
   ],
   "source": [
    "print( (2+3)*4 )"
   ]
  },
  {
   "cell_type": "markdown",
   "metadata": {},
   "source": [
    "## your turn\n",
    "\n",
    "calculate the average of the following 5 numbers:\n",
    "\n",
    "```1 10 21 30 23```\n"
   ]
  },
  {
   "cell_type": "code",
   "execution_count": null,
   "metadata": {},
   "outputs": [],
   "source": []
  },
  {
   "cell_type": "markdown",
   "metadata": {},
   "source": [
    "### solution"
   ]
  },
  {
   "cell_type": "code",
   "execution_count": 39,
   "metadata": {},
   "outputs": [
    {
     "name": "stdout",
     "output_type": "stream",
     "text": [
      "17.0\n"
     ]
    }
   ],
   "source": [
    "print( (1 + 10 + 21 + 30 + 23) / 5)"
   ]
  },
  {
   "cell_type": "markdown",
   "metadata": {},
   "source": [
    "# comments\n",
    "\n",
    "sometimes we want to write little notes for ourselves\n",
    "without python interpreting them as code.\n",
    "\n",
    "for this we can use the `#` character. \n",
    "\n",
    "for example"
   ]
  },
  {
   "cell_type": "code",
   "execution_count": 31,
   "metadata": {},
   "outputs": [
    {
     "name": "stdout",
     "output_type": "stream",
     "text": [
      "this line gets evaluated and run by python\n",
      "there is a comment at the end of this line, but python ignores it\n"
     ]
    }
   ],
   "source": [
    "# this is a comment, it does nothing\n",
    "\n",
    "print(\"this line gets evaluated and run by python\")\n",
    "\n",
    "print(\"there is a comment at the end of this line, but python ignores it\") # python ignores this comment\n",
    "\n",
    "# some more \n",
    "# comments for python\n",
    "# to ignore"
   ]
  },
  {
   "cell_type": "markdown",
   "metadata": {},
   "source": []
  }
 ],
 "metadata": {
  "kernelspec": {
   "display_name": "Python 3",
   "language": "python",
   "name": "python3"
  },
  "language_info": {
   "codemirror_mode": {
    "name": "ipython",
    "version": 3
   },
   "file_extension": ".py",
   "mimetype": "text/x-python",
   "name": "python",
   "nbconvert_exporter": "python",
   "pygments_lexer": "ipython3",
   "version": "3.7.3"
  }
 },
 "nbformat": 4,
 "nbformat_minor": 2
}
