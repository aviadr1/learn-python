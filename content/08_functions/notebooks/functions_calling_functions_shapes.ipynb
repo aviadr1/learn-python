{
 "cells": [
  {
   "cell_type": "markdown",
   "metadata": {},
   "source": [
    "\n",
    "<a href=\"https://colab.research.google.com/github/aviadr1/learn-python/blob/master/content/08_functions/notebooks/functions_calling_functions_shapes.ipynb\" target=\"_blank\">\n",
    "<img src=\"https://colab.research.google.com/assets/colab-badge.svg\" \n",
    "     title=\"Open this file in Google Colab\" alt=\"Colab\"/>\n",
    "</a>\n"
   ]
  },
  {
   "cell_type": "code",
   "execution_count": 13,
   "metadata": {},
   "outputs": [
    {
     "name": "stdout",
     "output_type": "stream",
     "text": [
      "XXXXX\n",
      "XXXXX\n"
     ]
    }
   ],
   "source": [
    "def get_line(n):\n",
    "    result = \"\"\n",
    "    for i in range(n):\n",
    "        result += 'X'\n",
    "    return result\n",
    "\n",
    "x = get_line(5)\n",
    "print(x)\n",
    "\n",
    "def get_line(n):\n",
    "    return 'X' * n\n",
    "\n",
    "x = get_line(5)\n",
    "print(x)\n"
   ]
  },
  {
   "cell_type": "code",
   "execution_count": 15,
   "metadata": {},
   "outputs": [
    {
     "name": "stdout",
     "output_type": "stream",
     "text": [
      "XXXXX\n",
      "XXXXX\n",
      "XXXXX\n",
      "XXXXX\n",
      "XXXXX\n",
      "\n",
      "XXXXX\n",
      "XXXXX\n",
      "XXXXX\n",
      "XXXXX\n",
      "XXXXX\n"
     ]
    }
   ],
   "source": [
    "def get_square(n):\n",
    "    result = \"\"\n",
    "    for i in range(n):\n",
    "        line = get_line(n)\n",
    "        result += line + '\\n'\n",
    "        \n",
    "    return result\n",
    "\n",
    "x = get_square(5)\n",
    "print(x)\n",
    "\n",
    "def get_square(n):\n",
    "    lines = [get_line(n)] * n\n",
    "    return \"\\n\".join(lines)\n",
    "\n",
    "print(get_square(5))"
   ]
  },
  {
   "cell_type": "code",
   "execution_count": 18,
   "metadata": {},
   "outputs": [
    {
     "name": "stdout",
     "output_type": "stream",
     "text": [
      "X\n",
      "XX\n",
      "XXX\n",
      "XXXX\n",
      "XXXXX\n",
      "\n"
     ]
    }
   ],
   "source": [
    "def get_triang(n):\n",
    "    result = \"\"\n",
    "    for i in range(1, n+1):\n",
    "        line = get_line(i)\n",
    "        result += line + '\\n'\n",
    "        \n",
    "    return result\n",
    "\n",
    "x = get_triang(5)\n",
    "print(x)"
   ]
  },
  {
   "cell_type": "code",
   "execution_count": 43,
   "metadata": {},
   "outputs": [
    {
     "name": "stdout",
     "output_type": "stream",
     "text": [
      "X\n",
      "XX\n",
      "XXX\n",
      "XXXX\n",
      "XXXXX\n",
      "\n",
      "XXXXX\n",
      "XXXXX\n",
      "XXXXX\n",
      "XXXXX\n",
      "XXXXX\n",
      "\n",
      "XXXXX\n",
      "XXXX\n",
      "XXX\n",
      "XX\n",
      "X\n"
     ]
    }
   ],
   "source": [
    "def reverse(lst):\n",
    "    return lst[ : : -1]\n",
    "    \n",
    "def shape(n):\n",
    "    return '\\n'.join([\n",
    "        get_triang(n), \n",
    "        get_square(n),\n",
    "        reverse(get_triang(n))\n",
    "    ])\n",
    "\n",
    "print(shape(5))"
   ]
  },
  {
   "cell_type": "code",
   "execution_count": 27,
   "metadata": {},
   "outputs": [
    {
     "name": "stdout",
     "output_type": "stream",
     "text": [
      "\n",
      "XXXXX\n",
      "XXXX\n",
      "XXX\n",
      "XX\n",
      "X\n"
     ]
    }
   ],
   "source": [
    "x = get_triang(5)\n",
    "x = x[::-1]\n",
    "print(x)"
   ]
  },
  {
   "cell_type": "code",
   "execution_count": 29,
   "metadata": {},
   "outputs": [
    {
     "data": {
      "text/plain": [
       "'one'"
      ]
     },
     "execution_count": 29,
     "metadata": {},
     "output_type": "execute_result"
    }
   ],
   "source": [
    "x = ['one', 'two', 'three', 'four']\n",
    "x[0]"
   ]
  },
  {
   "cell_type": "code",
   "execution_count": 30,
   "metadata": {},
   "outputs": [
    {
     "data": {
      "text/plain": [
       "'four'"
      ]
     },
     "execution_count": 30,
     "metadata": {},
     "output_type": "execute_result"
    }
   ],
   "source": [
    "x[-1]"
   ]
  },
  {
   "cell_type": "code",
   "execution_count": 31,
   "metadata": {},
   "outputs": [
    {
     "data": {
      "text/plain": [
       "['one', 'two']"
      ]
     },
     "execution_count": 31,
     "metadata": {},
     "output_type": "execute_result"
    }
   ],
   "source": [
    "x[0:2]"
   ]
  },
  {
   "cell_type": "code",
   "execution_count": 32,
   "metadata": {},
   "outputs": [
    {
     "data": {
      "text/plain": [
       "['one', 'two']"
      ]
     },
     "execution_count": 32,
     "metadata": {},
     "output_type": "execute_result"
    }
   ],
   "source": [
    "x[:2]"
   ]
  },
  {
   "cell_type": "code",
   "execution_count": 33,
   "metadata": {},
   "outputs": [
    {
     "data": {
      "text/plain": [
       "['three', 'four']"
      ]
     },
     "execution_count": 33,
     "metadata": {},
     "output_type": "execute_result"
    }
   ],
   "source": [
    "x[2:]"
   ]
  },
  {
   "cell_type": "code",
   "execution_count": 36,
   "metadata": {},
   "outputs": [
    {
     "data": {
      "text/plain": [
       "['one', 'three']"
      ]
     },
     "execution_count": 36,
     "metadata": {},
     "output_type": "execute_result"
    }
   ],
   "source": [
    "x[0:4:2]"
   ]
  },
  {
   "cell_type": "code",
   "execution_count": 37,
   "metadata": {},
   "outputs": [
    {
     "data": {
      "text/plain": [
       "['four', 'three', 'two']"
      ]
     },
     "execution_count": 37,
     "metadata": {},
     "output_type": "execute_result"
    }
   ],
   "source": [
    "x[3:0:-1]"
   ]
  },
  {
   "cell_type": "code",
   "execution_count": 38,
   "metadata": {},
   "outputs": [
    {
     "data": {
      "text/plain": [
       "['four', 'two']"
      ]
     },
     "execution_count": 38,
     "metadata": {},
     "output_type": "execute_result"
    }
   ],
   "source": [
    "x[3:0:-2]"
   ]
  },
  {
   "cell_type": "code",
   "execution_count": 39,
   "metadata": {},
   "outputs": [
    {
     "data": {
      "text/plain": [
       "['four', 'two']"
      ]
     },
     "execution_count": 39,
     "metadata": {},
     "output_type": "execute_result"
    }
   ],
   "source": [
    "x[ : :-2]"
   ]
  },
  {
   "cell_type": "code",
   "execution_count": 41,
   "metadata": {},
   "outputs": [
    {
     "name": "stdout",
     "output_type": "stream",
     "text": [
      "Help on built-in function len in module builtins:\n",
      "\n",
      "len(obj, /)\n",
      "    Return the number of items in a container.\n",
      "\n"
     ]
    }
   ],
   "source": [
    "help(len)"
   ]
  },
  {
   "cell_type": "code",
   "execution_count": 44,
   "metadata": {},
   "outputs": [
    {
     "name": "stdout",
     "output_type": "stream",
     "text": [
      "Help on function shape in module __main__:\n",
      "\n",
      "shape(n)\n",
      "    shape is an awesome function that draws something that looks like\n",
      "    a double edged sword\n",
      "\n"
     ]
    }
   ],
   "source": [
    "help(shape)"
   ]
  },
  {
   "cell_type": "code",
   "execution_count": null,
   "metadata": {},
   "outputs": [],
   "source": []
  }
 ],
 "metadata": {
  "kernelspec": {
   "display_name": "Python 3",
   "language": "python",
   "name": "python3"
  },
  "language_info": {
   "codemirror_mode": {
    "name": "ipython",
    "version": 3
   },
   "file_extension": ".py",
   "mimetype": "text/x-python",
   "name": "python",
   "nbconvert_exporter": "python",
   "pygments_lexer": "ipython3",
   "version": "3.6.6"
  }
 },
 "nbformat": 4,
 "nbformat_minor": 2
}
