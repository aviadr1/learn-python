{
 "cells": [
  {
   "cell_type": "markdown",
   "metadata": {},
   "source": [
    "\n",
    "<a href=\"https://colab.research.google.com/github/aviadr1/learn-python/blob/master/content/08_functions/notebooks/lambda_nested_functions_functional_programming.ipynb\" target=\"_blank\">\n",
    "<img src=\"https://colab.research.google.com/assets/colab-badge.svg\" \n",
    "     title=\"Open this file in Google Colab\" alt=\"Colab\"/>\n",
    "</a>\n"
   ]
  },
  {
   "cell_type": "code",
   "execution_count": 33,
   "metadata": {},
   "outputs": [],
   "source": [
    "bank = [\n",
    "    {\"name\" : \"avi\", \"money\" : 100, \"city\" : \"rehovot\"},\n",
    "    {\"name\" : \"ben\", \"money\" : -20, \"city\" : \"raanana\"},\n",
    "    {\"name\" : \"carrie\", \"money\" : 500, \"city\" : \"tel-aviv\"},\n",
    "    {\"name\" : \"david\", \"money\" : 250, \"city\" : \"nes-ziona\"},\n",
    "    {\"name\" : \"efrat\", \"money\" : 1000, \"city\" : \"beer-sheeva\"},\n",
    "    {\"name\" : \"fred\", \"money\" : 50, \"city\" : \"yafo\"},\n",
    "]"
   ]
  },
  {
   "cell_type": "code",
   "execution_count": 34,
   "metadata": {},
   "outputs": [],
   "source": [
    "import pprint\n"
   ]
  },
  {
   "cell_type": "code",
   "execution_count": 35,
   "metadata": {},
   "outputs": [
    {
     "name": "stdout",
     "output_type": "stream",
     "text": [
      "[{'city': 'rehovot', 'money': 100, 'name': 'avi'},\n",
      " {'city': 'raanana', 'money': -20, 'name': 'ben'},\n",
      " {'city': 'tel-aviv', 'money': 500, 'name': 'carrie'},\n",
      " {'city': 'nes-ziona', 'money': 250, 'name': 'david'},\n",
      " {'city': 'beer-sheeva', 'money': 1000, 'name': 'efrat'},\n",
      " {'city': 'yafo', 'money': 50, 'name': 'fred'}]\n"
     ]
    }
   ],
   "source": [
    "pprint.pprint(bank)"
   ]
  },
  {
   "cell_type": "code",
   "execution_count": 36,
   "metadata": {},
   "outputs": [],
   "source": [
    "def select_name(customer):\n",
    "    return customer['name']"
   ]
  },
  {
   "cell_type": "code",
   "execution_count": 37,
   "metadata": {},
   "outputs": [],
   "source": [
    "def select_city(customer):\n",
    "    return customer['city']"
   ]
  },
  {
   "cell_type": "code",
   "execution_count": 38,
   "metadata": {},
   "outputs": [],
   "source": [
    "def select_money(customer):\n",
    "    return customer['money']"
   ]
  },
  {
   "cell_type": "code",
   "execution_count": 39,
   "metadata": {},
   "outputs": [
    {
     "data": {
      "text/plain": [
       "{'name': 'avi', 'money': 100, 'city': 'rehovot'}"
      ]
     },
     "execution_count": 39,
     "metadata": {},
     "output_type": "execute_result"
    }
   ],
   "source": [
    "bank[0]"
   ]
  },
  {
   "cell_type": "code",
   "execution_count": 41,
   "metadata": {},
   "outputs": [
    {
     "name": "stdout",
     "output_type": "stream",
     "text": [
      "{'name': 'ben', 'money': -20, 'city': 'raanana'}\n"
     ]
    }
   ],
   "source": [
    "print(bank[1])"
   ]
  },
  {
   "cell_type": "code",
   "execution_count": 42,
   "metadata": {},
   "outputs": [
    {
     "data": {
      "text/plain": [
       "'avi'"
      ]
     },
     "execution_count": 42,
     "metadata": {},
     "output_type": "execute_result"
    }
   ],
   "source": [
    "select_name(bank[0])"
   ]
  },
  {
   "cell_type": "code",
   "execution_count": 43,
   "metadata": {},
   "outputs": [
    {
     "data": {
      "text/plain": [
       "100"
      ]
     },
     "execution_count": 43,
     "metadata": {},
     "output_type": "execute_result"
    }
   ],
   "source": [
    "select_money(bank[0])"
   ]
  },
  {
   "cell_type": "code",
   "execution_count": 44,
   "metadata": {},
   "outputs": [
    {
     "name": "stdout",
     "output_type": "stream",
     "text": [
      "{'name': 'ben', 'money': -20, 'city': 'raanana'}\n",
      "ben\n",
      "-20\n"
     ]
    }
   ],
   "source": [
    "print(bank[1])\n",
    "print(select_name(bank[1]))\n",
    "print(select_money(bank[1]))\n"
   ]
  },
  {
   "cell_type": "code",
   "execution_count": 45,
   "metadata": {},
   "outputs": [
    {
     "ename": "TypeError",
     "evalue": "'<' not supported between instances of 'dict' and 'dict'",
     "output_type": "error",
     "traceback": [
      "\u001b[1;31m---------------------------------------------------------------------------\u001b[0m",
      "\u001b[1;31mTypeError\u001b[0m                                 Traceback (most recent call last)",
      "\u001b[1;32m<ipython-input-45-f526d7b9b849>\u001b[0m in \u001b[0;36m<module>\u001b[1;34m\u001b[0m\n\u001b[1;32m----> 1\u001b[1;33m \u001b[0mbank\u001b[0m\u001b[1;33m[\u001b[0m\u001b[1;36m0\u001b[0m\u001b[1;33m]\u001b[0m \u001b[1;33m<\u001b[0m \u001b[0mbank\u001b[0m\u001b[1;33m[\u001b[0m\u001b[1;36m1\u001b[0m\u001b[1;33m]\u001b[0m\u001b[1;33m\u001b[0m\u001b[0m\n\u001b[0m",
      "\u001b[1;31mTypeError\u001b[0m: '<' not supported between instances of 'dict' and 'dict'"
     ]
    }
   ],
   "source": [
    "bank[0] < bank[1]"
   ]
  },
  {
   "cell_type": "code",
   "execution_count": 46,
   "metadata": {},
   "outputs": [
    {
     "data": {
      "text/plain": [
       "False"
      ]
     },
     "execution_count": 46,
     "metadata": {},
     "output_type": "execute_result"
    }
   ],
   "source": [
    "select_money(bank[0]) < select_money(bank[1])"
   ]
  },
  {
   "cell_type": "code",
   "execution_count": 47,
   "metadata": {},
   "outputs": [
    {
     "ename": "TypeError",
     "evalue": "'<' not supported between instances of 'dict' and 'dict'",
     "output_type": "error",
     "traceback": [
      "\u001b[1;31m---------------------------------------------------------------------------\u001b[0m",
      "\u001b[1;31mTypeError\u001b[0m                                 Traceback (most recent call last)",
      "\u001b[1;32m<ipython-input-47-3335c59f163a>\u001b[0m in \u001b[0;36m<module>\u001b[1;34m\u001b[0m\n\u001b[1;32m----> 1\u001b[1;33m \u001b[0msorted\u001b[0m\u001b[1;33m(\u001b[0m\u001b[0mbank\u001b[0m\u001b[1;33m)\u001b[0m\u001b[1;33m\u001b[0m\u001b[0m\n\u001b[0m",
      "\u001b[1;31mTypeError\u001b[0m: '<' not supported between instances of 'dict' and 'dict'"
     ]
    }
   ],
   "source": [
    "sorted(bank)"
   ]
  },
  {
   "cell_type": "code",
   "execution_count": 48,
   "metadata": {},
   "outputs": [
    {
     "data": {
      "text/plain": [
       "[{'name': 'ben', 'money': -20, 'city': 'raanana'},\n",
       " {'name': 'fred', 'money': 50, 'city': 'yafo'},\n",
       " {'name': 'avi', 'money': 100, 'city': 'rehovot'},\n",
       " {'name': 'david', 'money': 250, 'city': 'nes-ziona'},\n",
       " {'name': 'carrie', 'money': 500, 'city': 'tel-aviv'},\n",
       " {'name': 'efrat', 'money': 1000, 'city': 'beer-sheeva'}]"
      ]
     },
     "execution_count": 48,
     "metadata": {},
     "output_type": "execute_result"
    }
   ],
   "source": [
    "sorted(bank, key=select_money)"
   ]
  },
  {
   "cell_type": "code",
   "execution_count": 49,
   "metadata": {},
   "outputs": [
    {
     "data": {
      "text/plain": [
       "[{'name': 'avi', 'money': 100, 'city': 'rehovot'},\n",
       " {'name': 'ben', 'money': -20, 'city': 'raanana'},\n",
       " {'name': 'carrie', 'money': 500, 'city': 'tel-aviv'},\n",
       " {'name': 'david', 'money': 250, 'city': 'nes-ziona'},\n",
       " {'name': 'efrat', 'money': 1000, 'city': 'beer-sheeva'},\n",
       " {'name': 'fred', 'money': 50, 'city': 'yafo'}]"
      ]
     },
     "execution_count": 49,
     "metadata": {},
     "output_type": "execute_result"
    }
   ],
   "source": [
    "sorted(bank, key=select_name)"
   ]
  },
  {
   "cell_type": "code",
   "execution_count": 52,
   "metadata": {},
   "outputs": [
    {
     "data": {
      "text/plain": [
       "[{'name': 'efrat', 'money': 1000, 'city': 'beer-sheeva'},\n",
       " {'name': 'david', 'money': 250, 'city': 'nes-ziona'},\n",
       " {'name': 'ben', 'money': -20, 'city': 'raanana'},\n",
       " {'name': 'avi', 'money': 100, 'city': 'rehovot'},\n",
       " {'name': 'carrie', 'money': 500, 'city': 'tel-aviv'},\n",
       " {'name': 'fred', 'money': 50, 'city': 'yafo'}]"
      ]
     },
     "execution_count": 52,
     "metadata": {},
     "output_type": "execute_result"
    }
   ],
   "source": [
    "sorted(bank, key=select_city)"
   ]
  },
  {
   "cell_type": "code",
   "execution_count": 53,
   "metadata": {},
   "outputs": [],
   "source": [
    "lambda_select_name = lambda customer : customer['name'] "
   ]
  },
  {
   "cell_type": "code",
   "execution_count": 54,
   "metadata": {},
   "outputs": [],
   "source": [
    "lambda_select_money = lambda customer : customer['money']"
   ]
  },
  {
   "cell_type": "code",
   "execution_count": 55,
   "metadata": {},
   "outputs": [
    {
     "name": "stdout",
     "output_type": "stream",
     "text": [
      "{'name': 'ben', 'money': -20, 'city': 'raanana'}\n",
      "ben\n",
      "-20\n"
     ]
    }
   ],
   "source": [
    "print(bank[1])\n",
    "print(lambda_select_name(bank[1]))\n",
    "print(lambda_select_money(bank[1]))"
   ]
  },
  {
   "cell_type": "code",
   "execution_count": 57,
   "metadata": {},
   "outputs": [
    {
     "data": {
      "text/plain": [
       "[{'name': 'ben', 'money': -20, 'city': 'raanana'},\n",
       " {'name': 'fred', 'money': 50, 'city': 'yafo'},\n",
       " {'name': 'avi', 'money': 100, 'city': 'rehovot'},\n",
       " {'name': 'david', 'money': 250, 'city': 'nes-ziona'},\n",
       " {'name': 'carrie', 'money': 500, 'city': 'tel-aviv'},\n",
       " {'name': 'efrat', 'money': 1000, 'city': 'beer-sheeva'}]"
      ]
     },
     "execution_count": 57,
     "metadata": {},
     "output_type": "execute_result"
    }
   ],
   "source": [
    "sorted(bank, key=lambda_select_money)"
   ]
  },
  {
   "cell_type": "code",
   "execution_count": 58,
   "metadata": {},
   "outputs": [
    {
     "data": {
      "text/plain": [
       "[{'name': 'efrat', 'money': 1000, 'city': 'beer-sheeva'},\n",
       " {'name': 'david', 'money': 250, 'city': 'nes-ziona'},\n",
       " {'name': 'ben', 'money': -20, 'city': 'raanana'},\n",
       " {'name': 'avi', 'money': 100, 'city': 'rehovot'},\n",
       " {'name': 'carrie', 'money': 500, 'city': 'tel-aviv'},\n",
       " {'name': 'fred', 'money': 50, 'city': 'yafo'}]"
      ]
     },
     "execution_count": 58,
     "metadata": {},
     "output_type": "execute_result"
    }
   ],
   "source": [
    "sorted(bank, key=lambda customer: customer['city'])"
   ]
  },
  {
   "cell_type": "code",
   "execution_count": 62,
   "metadata": {},
   "outputs": [],
   "source": [
    "def sort_the_bank(bank, mode=\"name\"):\n",
    "    def select_name2(customer):\n",
    "        return customer['name']\n",
    "    \n",
    "    def select_money2(customer):\n",
    "        return customer['money']\n",
    "    \n",
    "    def select_city2(customer):\n",
    "        return customer['city']\n",
    "    \n",
    "    if(mode == \"name\"):\n",
    "        return sorted(bank, key=select_name2)\n",
    "    elif mode == \"money\":\n",
    "        return sorted(bank, key=select_money2)\n",
    "    elif mode == \"city\":\n",
    "        return sorted(bank, key=select_city2)\n",
    "    else:\n",
    "        return \"Error\"\n",
    "        "
   ]
  },
  {
   "cell_type": "code",
   "execution_count": 63,
   "metadata": {},
   "outputs": [
    {
     "data": {
      "text/plain": [
       "[{'name': 'avi', 'money': 100, 'city': 'rehovot'},\n",
       " {'name': 'ben', 'money': -20, 'city': 'raanana'},\n",
       " {'name': 'carrie', 'money': 500, 'city': 'tel-aviv'},\n",
       " {'name': 'david', 'money': 250, 'city': 'nes-ziona'},\n",
       " {'name': 'efrat', 'money': 1000, 'city': 'beer-sheeva'},\n",
       " {'name': 'fred', 'money': 50, 'city': 'yafo'}]"
      ]
     },
     "execution_count": 63,
     "metadata": {},
     "output_type": "execute_result"
    }
   ],
   "source": [
    "sort_the_bank(bank)"
   ]
  },
  {
   "cell_type": "code",
   "execution_count": 64,
   "metadata": {},
   "outputs": [
    {
     "data": {
      "text/plain": [
       "[{'name': 'ben', 'money': -20, 'city': 'raanana'},\n",
       " {'name': 'fred', 'money': 50, 'city': 'yafo'},\n",
       " {'name': 'avi', 'money': 100, 'city': 'rehovot'},\n",
       " {'name': 'david', 'money': 250, 'city': 'nes-ziona'},\n",
       " {'name': 'carrie', 'money': 500, 'city': 'tel-aviv'},\n",
       " {'name': 'efrat', 'money': 1000, 'city': 'beer-sheeva'}]"
      ]
     },
     "execution_count": 64,
     "metadata": {},
     "output_type": "execute_result"
    }
   ],
   "source": [
    "sort_the_bank(bank, \"money\")"
   ]
  },
  {
   "cell_type": "code",
   "execution_count": 65,
   "metadata": {},
   "outputs": [
    {
     "ename": "NameError",
     "evalue": "name 'select_name2' is not defined",
     "output_type": "error",
     "traceback": [
      "\u001b[1;31m---------------------------------------------------------------------------\u001b[0m",
      "\u001b[1;31mNameError\u001b[0m                                 Traceback (most recent call last)",
      "\u001b[1;32m<ipython-input-65-a75fa71e9e21>\u001b[0m in \u001b[0;36m<module>\u001b[1;34m\u001b[0m\n\u001b[1;32m----> 1\u001b[1;33m \u001b[0mselect_name2\u001b[0m\u001b[1;33m\u001b[0m\u001b[0m\n\u001b[0m",
      "\u001b[1;31mNameError\u001b[0m: name 'select_name2' is not defined"
     ]
    }
   ],
   "source": [
    "select_name2"
   ]
  },
  {
   "cell_type": "code",
   "execution_count": 66,
   "metadata": {},
   "outputs": [],
   "source": [
    "def sort_the_bank_lambda(bank, mode=\"name\"):\n",
    "    select_name2 = lambda customer: customer['name']\n",
    "    select_money2 = lambda customer: customer['money']\n",
    "    select_city2 = lambda customer: customer['city']\n",
    "    \n",
    "    if(mode == \"name\"):\n",
    "        return sorted(bank, key=select_name2)\n",
    "    elif mode == \"money\":\n",
    "        return sorted(bank, key=select_money2)\n",
    "    elif mode == \"city\":\n",
    "        return sorted(bank, key=select_city2)\n",
    "    else:\n",
    "        return \"Error\""
   ]
  },
  {
   "cell_type": "code",
   "execution_count": 67,
   "metadata": {},
   "outputs": [
    {
     "data": {
      "text/plain": [
       "[{'name': 'avi', 'money': 100, 'city': 'rehovot'},\n",
       " {'name': 'ben', 'money': -20, 'city': 'raanana'},\n",
       " {'name': 'carrie', 'money': 500, 'city': 'tel-aviv'},\n",
       " {'name': 'david', 'money': 250, 'city': 'nes-ziona'},\n",
       " {'name': 'efrat', 'money': 1000, 'city': 'beer-sheeva'},\n",
       " {'name': 'fred', 'money': 50, 'city': 'yafo'}]"
      ]
     },
     "execution_count": 67,
     "metadata": {},
     "output_type": "execute_result"
    }
   ],
   "source": [
    "sort_the_bank_lambda(bank)"
   ]
  },
  {
   "cell_type": "code",
   "execution_count": 68,
   "metadata": {},
   "outputs": [],
   "source": [
    "def sort_the_bank_short(bank, mode=\"name\"):\n",
    "    def my_sorter(mode):\n",
    "        return lambda customer: customer[mode]\n",
    " \n",
    "    return sorted(bank, key=my_sorter(mode))"
   ]
  },
  {
   "cell_type": "code",
   "execution_count": 69,
   "metadata": {},
   "outputs": [
    {
     "data": {
      "text/plain": [
       "[{'name': 'avi', 'money': 100, 'city': 'rehovot'},\n",
       " {'name': 'ben', 'money': -20, 'city': 'raanana'},\n",
       " {'name': 'carrie', 'money': 500, 'city': 'tel-aviv'},\n",
       " {'name': 'david', 'money': 250, 'city': 'nes-ziona'},\n",
       " {'name': 'efrat', 'money': 1000, 'city': 'beer-sheeva'},\n",
       " {'name': 'fred', 'money': 50, 'city': 'yafo'}]"
      ]
     },
     "execution_count": 69,
     "metadata": {},
     "output_type": "execute_result"
    }
   ],
   "source": [
    "sort_the_bank_short(bank)"
   ]
  },
  {
   "cell_type": "code",
   "execution_count": 70,
   "metadata": {},
   "outputs": [
    {
     "data": {
      "text/plain": [
       "[{'name': 'ben', 'money': -20, 'city': 'raanana'},\n",
       " {'name': 'fred', 'money': 50, 'city': 'yafo'},\n",
       " {'name': 'avi', 'money': 100, 'city': 'rehovot'},\n",
       " {'name': 'david', 'money': 250, 'city': 'nes-ziona'},\n",
       " {'name': 'carrie', 'money': 500, 'city': 'tel-aviv'},\n",
       " {'name': 'efrat', 'money': 1000, 'city': 'beer-sheeva'}]"
      ]
     },
     "execution_count": 70,
     "metadata": {},
     "output_type": "execute_result"
    }
   ],
   "source": [
    "sort_the_bank_short(bank, \"money\")"
   ]
  },
  {
   "cell_type": "code",
   "execution_count": 71,
   "metadata": {},
   "outputs": [],
   "source": [
    "def sort_the_bank_shorter(bank, mode=\"name\"):\n",
    "    return sorted(bank, key=lambda customer: customer[mode])"
   ]
  },
  {
   "cell_type": "code",
   "execution_count": 72,
   "metadata": {},
   "outputs": [
    {
     "data": {
      "text/plain": [
       "[{'name': 'ben', 'money': -20, 'city': 'raanana'},\n",
       " {'name': 'fred', 'money': 50, 'city': 'yafo'},\n",
       " {'name': 'avi', 'money': 100, 'city': 'rehovot'},\n",
       " {'name': 'david', 'money': 250, 'city': 'nes-ziona'},\n",
       " {'name': 'carrie', 'money': 500, 'city': 'tel-aviv'},\n",
       " {'name': 'efrat', 'money': 1000, 'city': 'beer-sheeva'}]"
      ]
     },
     "execution_count": 72,
     "metadata": {},
     "output_type": "execute_result"
    }
   ],
   "source": [
    "sort_the_bank_shorter(bank, \"money\")"
   ]
  },
  {
   "cell_type": "code",
   "execution_count": null,
   "metadata": {},
   "outputs": [],
   "source": []
  }
 ],
 "metadata": {
  "kernelspec": {
   "display_name": "Python 3",
   "language": "python",
   "name": "python3"
  },
  "language_info": {
   "codemirror_mode": {
    "name": "ipython",
    "version": 3
   },
   "file_extension": ".py",
   "mimetype": "text/x-python",
   "name": "python",
   "nbconvert_exporter": "python",
   "pygments_lexer": "ipython3",
   "version": "3.6.5"
  }
 },
 "nbformat": 4,
 "nbformat_minor": 2
}
