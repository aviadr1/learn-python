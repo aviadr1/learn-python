{
 "cells": [
  {
   "cell_type": "markdown",
   "metadata": {},
   "source": [
    "\n",
    "<a href=\"https://colab.research.google.com/github/aviadr1/learn-python/blob/master/content/08_functions/notebooks/variadic_functions.ipynb\" target=\"_blank\">\n",
    "<img src=\"https://colab.research.google.com/assets/colab-badge.svg\" \n",
    "     title=\"Open this file in Google Colab\" alt=\"Colab\"/>\n",
    "</a>\n"
   ]
  },
  {
   "cell_type": "code",
   "execution_count": 1,
   "metadata": {},
   "outputs": [],
   "source": [
    "def oneparam(x):\n",
    "    return x"
   ]
  },
  {
   "cell_type": "code",
   "execution_count": 2,
   "metadata": {},
   "outputs": [
    {
     "ename": "TypeError",
     "evalue": "oneparam() takes 1 positional argument but 3 were given",
     "output_type": "error",
     "traceback": [
      "\u001b[1;31m---------------------------------------------------------------------------\u001b[0m",
      "\u001b[1;31mTypeError\u001b[0m                                 Traceback (most recent call last)",
      "\u001b[1;32m<ipython-input-2-7af8d1116f6b>\u001b[0m in \u001b[0;36m<module>\u001b[1;34m\u001b[0m\n\u001b[1;32m----> 1\u001b[1;33m \u001b[0moneparam\u001b[0m\u001b[1;33m(\u001b[0m\u001b[1;36m1\u001b[0m\u001b[1;33m,\u001b[0m\u001b[1;36m2\u001b[0m\u001b[1;33m,\u001b[0m\u001b[1;36m3\u001b[0m\u001b[1;33m)\u001b[0m\u001b[1;33m\u001b[0m\u001b[0m\n\u001b[0m",
      "\u001b[1;31mTypeError\u001b[0m: oneparam() takes 1 positional argument but 3 were given"
     ]
    }
   ],
   "source": [
    "oneparam(1,2,3)"
   ]
  },
  {
   "cell_type": "code",
   "execution_count": 4,
   "metadata": {},
   "outputs": [],
   "source": [
    "def my_variadic_function_with_cool_name(*args, **kwargs):\n",
    "    print(\"type(args)\", type(args))\n",
    "    print(\"args=\", args)\n",
    "    print(\"type(kwargs)\", type(kwargs))\n",
    "    print(\"kwargs=\", kwargs)\n",
    "    return \"I am doing nothing\"\n",
    "\n"
   ]
  },
  {
   "cell_type": "code",
   "execution_count": 6,
   "metadata": {},
   "outputs": [
    {
     "name": "stdout",
     "output_type": "stream",
     "text": [
      "type(args) <class 'tuple'>\n",
      "args= (1, 2, 3, 'blah')\n",
      "type(kwargs) <class 'dict'>\n",
      "kwargs= {'first_named': 1, 'second_named_param': 'blah2', 'whatever': 'blah3'}\n"
     ]
    },
    {
     "data": {
      "text/plain": [
       "'I am doing nothing'"
      ]
     },
     "execution_count": 6,
     "metadata": {},
     "output_type": "execute_result"
    }
   ],
   "source": [
    "my_variadic_function_with_cool_name(1,2,3, \"blah\", first_named=1, second_named_param=\"blah2\", whatever=\"blah3\")"
   ]
  },
  {
   "cell_type": "code",
   "execution_count": 7,
   "metadata": {},
   "outputs": [
    {
     "name": "stdout",
     "output_type": "stream",
     "text": [
      "type(args) <class 'tuple'>\n",
      "args= ()\n",
      "type(kwargs) <class 'dict'>\n",
      "kwargs= {}\n"
     ]
    },
    {
     "data": {
      "text/plain": [
       "'I am doing nothing'"
      ]
     },
     "execution_count": 7,
     "metadata": {},
     "output_type": "execute_result"
    }
   ],
   "source": [
    "my_variadic_function_with_cool_name()"
   ]
  },
  {
   "cell_type": "code",
   "execution_count": 8,
   "metadata": {},
   "outputs": [
    {
     "name": "stdout",
     "output_type": "stream",
     "text": [
      "type(args) <class 'tuple'>\n",
      "args= (1, 2, 3)\n",
      "type(kwargs) <class 'dict'>\n",
      "kwargs= {}\n"
     ]
    },
    {
     "data": {
      "text/plain": [
       "'I am doing nothing'"
      ]
     },
     "execution_count": 8,
     "metadata": {},
     "output_type": "execute_result"
    }
   ],
   "source": [
    "my_variadic_function_with_cool_name(1,2,3)"
   ]
  },
  {
   "cell_type": "code",
   "execution_count": 9,
   "metadata": {},
   "outputs": [
    {
     "name": "stdout",
     "output_type": "stream",
     "text": [
      "type(args) <class 'tuple'>\n",
      "args= ()\n",
      "type(kwargs) <class 'dict'>\n",
      "kwargs= {'a': 1, 'b': 2, 'c': 3}\n"
     ]
    },
    {
     "data": {
      "text/plain": [
       "'I am doing nothing'"
      ]
     },
     "execution_count": 9,
     "metadata": {},
     "output_type": "execute_result"
    }
   ],
   "source": [
    "my_variadic_function_with_cool_name(a=1,b=2,c=3)"
   ]
  },
  {
   "cell_type": "code",
   "execution_count": 10,
   "metadata": {},
   "outputs": [
    {
     "name": "stdout",
     "output_type": "stream",
     "text": [
      "1 2 3 4 5 6 7 8 10 23432 234 234 234 23423 423 423 4324 234 234 234 23423 4234 234\n"
     ]
    }
   ],
   "source": [
    "print(1,2,3,4,5,6,7,8,10,23432,234,234,234,23423,423,423,4324,234,234,234,23423,4234,234)"
   ]
  },
  {
   "cell_type": "code",
   "execution_count": null,
   "metadata": {},
   "outputs": [],
   "source": []
  }
 ],
 "metadata": {
  "kernelspec": {
   "display_name": "Python 3",
   "language": "python",
   "name": "python3"
  },
  "language_info": {
   "codemirror_mode": {
    "name": "ipython",
    "version": 3
   },
   "file_extension": ".py",
   "mimetype": "text/x-python",
   "name": "python",
   "nbconvert_exporter": "python",
   "pygments_lexer": "ipython3",
   "version": "3.6.5"
  }
 },
 "nbformat": 4,
 "nbformat_minor": 2
}
