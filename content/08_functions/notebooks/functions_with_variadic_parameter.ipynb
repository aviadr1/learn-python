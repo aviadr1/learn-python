{
 "cells": [
  {
   "cell_type": "markdown",
   "metadata": {},
   "source": [
    "\n",
    "<a href=\"https://colab.research.google.com/github/aviadr1/learn-python/blob/master/content/08_functions/notebooks/functions_with_variadic_parameter.ipynb\" target=\"_blank\">\n",
    "<img src=\"https://colab.research.google.com/assets/colab-badge.svg\" \n",
    "     title=\"Open this file in Google Colab\" alt=\"Colab\"/>\n",
    "</a>\n"
   ]
  },
  {
   "cell_type": "code",
   "execution_count": 2,
   "metadata": {},
   "outputs": [
    {
     "name": "stdout",
     "output_type": "stream",
     "text": [
      "<class 'tuple'> 0 ()\n",
      "<class 'tuple'> 1 ('one',)\n",
      "<class 'tuple'> 2 ('one', 'two')\n",
      "<class 'tuple'> 4 ('one', 'two', 'three', 'four')\n"
     ]
    }
   ],
   "source": [
    "def test_variadic_func(*args):\n",
    "    print(type(args), len(args), args)\n",
    "    \n",
    "test_variadic_func()\n",
    "test_variadic_func(\"one\")\n",
    "test_variadic_func(\"one\", \"two\")\n",
    "test_variadic_func(\"one\", \"two\", \"three\", \"four\")"
   ]
  },
  {
   "cell_type": "code",
   "execution_count": 5,
   "metadata": {},
   "outputs": [
    {
     "name": "stdout",
     "output_type": "stream",
     "text": [
      "('one', 'two', 'three', 'four')\n",
      "one two three four\n"
     ]
    }
   ],
   "source": [
    "# packing\n",
    "args = \"one\", \"two\", \"three\", \"four\"\n",
    "print(args)\n",
    "\n",
    "# unpacking\n",
    "one, two, three, four = args\n",
    "print(one,two,three, four)"
   ]
  },
  {
   "cell_type": "code",
   "execution_count": 10,
   "metadata": {},
   "outputs": [
    {
     "name": "stdout",
     "output_type": "stream",
     "text": [
      "one two three\n",
      "one two three\n"
     ]
    }
   ],
   "source": [
    "def myprint1(*args):\n",
    "    print(*args) # unpacking\n",
    "    # print(args[0], args[1], args[2], ... args[-1])\n",
    "\n",
    "print(\"one\", \"two\", \"three\")\n",
    "myprint1(\"one\", \"two\", \"three\")"
   ]
  },
  {
   "cell_type": "code",
   "execution_count": 12,
   "metadata": {},
   "outputs": [
    {
     "name": "stdout",
     "output_type": "stream",
     "text": [
      "one @ two @ three @\n",
      "one @ two @ three @\n"
     ]
    }
   ],
   "source": [
    "import sys\n",
    "def myprint2(*args, sep=\" \", end=\"\\n\", file=sys.stdout):\n",
    "    print(*args, sep=sep, end=end, file=file) # unpacking\n",
    "    # print(args[0], args[1], args[2], ... args[-1])\n",
    "    \n",
    "print(\"one\", \"two\", \"three\", sep=\" @ \", end=\" @\\n\")\n",
    "myprint2(\"one\", \"two\", \"three\", sep=\" @ \", end=\" @\\n\")"
   ]
  },
  {
   "cell_type": "code",
   "execution_count": 14,
   "metadata": {},
   "outputs": [
    {
     "name": "stdout",
     "output_type": "stream",
     "text": [
      "1 @ 2 @ 3\n"
     ]
    },
    {
     "ename": "TypeError",
     "evalue": "'magic' is an invalid keyword argument for print()",
     "output_type": "error",
     "traceback": [
      "\u001b[1;31m---------------------------------------------------------------------------\u001b[0m",
      "\u001b[1;31mTypeError\u001b[0m                                 Traceback (most recent call last)",
      "\u001b[1;32m<ipython-input-14-09f73822af3f>\u001b[0m in \u001b[0;36m<module>\u001b[1;34m\u001b[0m\n\u001b[0;32m      3\u001b[0m \u001b[1;33m\u001b[0m\u001b[0m\n\u001b[0;32m      4\u001b[0m \u001b[0mmyprint2\u001b[0m\u001b[1;33m(\u001b[0m\u001b[1;36m1\u001b[0m\u001b[1;33m,\u001b[0m\u001b[1;36m2\u001b[0m\u001b[1;33m,\u001b[0m\u001b[1;36m3\u001b[0m\u001b[1;33m,\u001b[0m \u001b[0msep\u001b[0m\u001b[1;33m=\u001b[0m\u001b[1;34m\" @ \"\u001b[0m\u001b[1;33m)\u001b[0m\u001b[1;33m\u001b[0m\u001b[1;33m\u001b[0m\u001b[0m\n\u001b[1;32m----> 5\u001b[1;33m \u001b[0mmyprint2\u001b[0m\u001b[1;33m(\u001b[0m\u001b[1;36m1\u001b[0m\u001b[1;33m,\u001b[0m\u001b[1;36m2\u001b[0m\u001b[1;33m,\u001b[0m\u001b[1;36m3\u001b[0m\u001b[1;33m,\u001b[0m \u001b[0mmagic\u001b[0m\u001b[1;33m=\u001b[0m\u001b[1;34m\" @ \"\u001b[0m\u001b[1;33m)\u001b[0m\u001b[1;33m\u001b[0m\u001b[1;33m\u001b[0m\u001b[0m\n\u001b[0m\u001b[0;32m      6\u001b[0m \u001b[1;33m\u001b[0m\u001b[0m\n",
      "\u001b[1;32m<ipython-input-14-09f73822af3f>\u001b[0m in \u001b[0;36mmyprint2\u001b[1;34m(*args, **kwargs)\u001b[0m\n\u001b[0;32m      1\u001b[0m \u001b[1;32mdef\u001b[0m \u001b[0mmyprint2\u001b[0m\u001b[1;33m(\u001b[0m\u001b[1;33m*\u001b[0m\u001b[0margs\u001b[0m\u001b[1;33m,\u001b[0m \u001b[1;33m**\u001b[0m\u001b[0mkwargs\u001b[0m\u001b[1;33m)\u001b[0m\u001b[1;33m:\u001b[0m\u001b[1;33m\u001b[0m\u001b[1;33m\u001b[0m\u001b[0m\n\u001b[1;32m----> 2\u001b[1;33m     \u001b[0mprint\u001b[0m\u001b[1;33m(\u001b[0m\u001b[1;33m*\u001b[0m\u001b[0margs\u001b[0m\u001b[1;33m,\u001b[0m \u001b[1;33m**\u001b[0m\u001b[0mkwargs\u001b[0m\u001b[1;33m)\u001b[0m\u001b[1;33m\u001b[0m\u001b[1;33m\u001b[0m\u001b[0m\n\u001b[0m\u001b[0;32m      3\u001b[0m \u001b[1;33m\u001b[0m\u001b[0m\n\u001b[0;32m      4\u001b[0m \u001b[0mmyprint2\u001b[0m\u001b[1;33m(\u001b[0m\u001b[1;36m1\u001b[0m\u001b[1;33m,\u001b[0m\u001b[1;36m2\u001b[0m\u001b[1;33m,\u001b[0m\u001b[1;36m3\u001b[0m\u001b[1;33m,\u001b[0m \u001b[0msep\u001b[0m\u001b[1;33m=\u001b[0m\u001b[1;34m\" @ \"\u001b[0m\u001b[1;33m)\u001b[0m\u001b[1;33m\u001b[0m\u001b[1;33m\u001b[0m\u001b[0m\n\u001b[0;32m      5\u001b[0m \u001b[0mmyprint2\u001b[0m\u001b[1;33m(\u001b[0m\u001b[1;36m1\u001b[0m\u001b[1;33m,\u001b[0m\u001b[1;36m2\u001b[0m\u001b[1;33m,\u001b[0m\u001b[1;36m3\u001b[0m\u001b[1;33m,\u001b[0m \u001b[0mmagic\u001b[0m\u001b[1;33m=\u001b[0m\u001b[1;34m\" @ \"\u001b[0m\u001b[1;33m)\u001b[0m\u001b[1;33m\u001b[0m\u001b[1;33m\u001b[0m\u001b[0m\n",
      "\u001b[1;31mTypeError\u001b[0m: 'magic' is an invalid keyword argument for print()"
     ]
    }
   ],
   "source": [
    "def myprint2(*args, **kwargs):\n",
    "    print(*args, **kwargs)\n",
    "    \n",
    "myprint2(1,2,3, sep=\" @ \")\n",
    "# myprint2(1,2,3, magic=\" @ \")\n",
    "    "
   ]
  },
  {
   "cell_type": "code",
   "execution_count": 15,
   "metadata": {},
   "outputs": [
    {
     "name": "stdout",
     "output_type": "stream",
     "text": [
      "<class 'tuple'> 3 (1, 2, 3)\n",
      "<class 'dict'> 2 {'magic': ' @ ', 'blah': 'blah'}\n"
     ]
    }
   ],
   "source": [
    "def test_variadic_func2(*args, **kwargs):\n",
    "    print(type(args), len(args), args)\n",
    "    print(type(kwargs), len(kwargs), kwargs)\n",
    "    \n",
    "test_variadic_func2(1,2,3, magic=\" @ \", blah=\"blah\")"
   ]
  },
  {
   "cell_type": "code",
   "execution_count": 23,
   "metadata": {},
   "outputs": [],
   "source": [
    "def very_important_function(a,b,c):\n",
    "    print(\"very important\", a, b, c)"
   ]
  },
  {
   "cell_type": "code",
   "execution_count": 17,
   "metadata": {},
   "outputs": [
    {
     "name": "stdout",
     "output_type": "stream",
     "text": [
      "very important 10 20 30\n"
     ]
    }
   ],
   "source": [
    "very_important_function(10, 20, 30)"
   ]
  },
  {
   "cell_type": "code",
   "execution_count": 21,
   "metadata": {},
   "outputs": [
    {
     "name": "stdout",
     "output_type": "stream",
     "text": [
      "very important 10 20 30\n",
      "\n",
      "very_important_function  is about to run with 10 20 30\n",
      "very important 10 20 30\n",
      "very_important_function  finished running, returning None\n",
      "\n",
      "very_important_function  is about to run with 10 20 30\n",
      "very important 10 20 30\n",
      "very_important_function  finished running, returning None\n"
     ]
    }
   ],
   "source": [
    "def make_debug_function(func):\n",
    "    def run(*args, **kwargs):\n",
    "        print(func.__name__, \" is about to run with\", *args, **kwargs)\n",
    "        result = func(*args, **kwargs)\n",
    "        print(func.__name__, \" finished running, returning\", result)\n",
    "        return result\n",
    "    \n",
    "    return run\n",
    "\n",
    "very_important_function(10, 20, 30)\n",
    "print()\n",
    "\n",
    "debug_very_important_function = make_debug_function(very_important_function)\n",
    "debug_very_important_function(10, 20, 30)\n",
    "print()\n",
    "\n",
    "very_important_function = debug_very_important_function\n",
    "very_important_function(10, 20, 30)"
   ]
  },
  {
   "cell_type": "code",
   "execution_count": null,
   "metadata": {},
   "outputs": [],
   "source": []
  },
  {
   "cell_type": "code",
   "execution_count": null,
   "metadata": {},
   "outputs": [],
   "source": []
  }
 ],
 "metadata": {
  "kernelspec": {
   "display_name": "Python 3",
   "language": "python",
   "name": "python3"
  },
  "language_info": {
   "codemirror_mode": {
    "name": "ipython",
    "version": 3
   },
   "file_extension": ".py",
   "mimetype": "text/x-python",
   "name": "python",
   "nbconvert_exporter": "python",
   "pygments_lexer": "ipython3",
   "version": "3.7.3"
  }
 },
 "nbformat": 4,
 "nbformat_minor": 2
}
