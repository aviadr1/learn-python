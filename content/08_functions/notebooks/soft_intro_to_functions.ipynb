{
 "cells": [
  {
   "cell_type": "markdown",
   "metadata": {},
   "source": [
    "\n",
    "<a href=\"https://colab.research.google.com/github/aviadr1/learn-python/blob/master/content/08_functions/notebooks/soft_intro_to_functions.ipynb\" target=\"_blank\">\n",
    "<img src=\"https://colab.research.google.com/assets/colab-badge.svg\" \n",
    "     title=\"Open this file in Google Colab\" alt=\"Colab\"/>\n",
    "</a>\n"
   ]
  },
  {
   "cell_type": "code",
   "execution_count": 1,
   "metadata": {},
   "outputs": [
    {
     "data": {
      "text/plain": [
       "3"
      ]
     },
     "execution_count": 1,
     "metadata": {},
     "output_type": "execute_result"
    }
   ],
   "source": [
    "3"
   ]
  },
  {
   "cell_type": "code",
   "execution_count": 2,
   "metadata": {},
   "outputs": [
    {
     "data": {
      "text/plain": [
       "23"
      ]
     },
     "execution_count": 2,
     "metadata": {},
     "output_type": "execute_result"
    }
   ],
   "source": [
    "3+4*5"
   ]
  },
  {
   "cell_type": "code",
   "execution_count": 3,
   "metadata": {},
   "outputs": [
    {
     "data": {
      "text/plain": [
       "'helloworld'"
      ]
     },
     "execution_count": 3,
     "metadata": {},
     "output_type": "execute_result"
    }
   ],
   "source": [
    "'hello' + 'world'"
   ]
  },
  {
   "cell_type": "code",
   "execution_count": 4,
   "metadata": {},
   "outputs": [
    {
     "data": {
      "text/plain": [
       "'HELLO'"
      ]
     },
     "execution_count": 4,
     "metadata": {},
     "output_type": "execute_result"
    }
   ],
   "source": [
    "'hello'.upper()"
   ]
  },
  {
   "cell_type": "code",
   "execution_count": 5,
   "metadata": {},
   "outputs": [
    {
     "data": {
      "text/plain": [
       "False"
      ]
     },
     "execution_count": 5,
     "metadata": {},
     "output_type": "execute_result"
    }
   ],
   "source": [
    "'hello'.endswith('bye')"
   ]
  },
  {
   "cell_type": "code",
   "execution_count": 6,
   "metadata": {},
   "outputs": [
    {
     "data": {
      "text/plain": [
       "True"
      ]
     },
     "execution_count": 6,
     "metadata": {},
     "output_type": "execute_result"
    }
   ],
   "source": [
    "'hello'.endswith('llo')"
   ]
  },
  {
   "cell_type": "code",
   "execution_count": 7,
   "metadata": {},
   "outputs": [
    {
     "data": {
      "text/plain": [
       "True"
      ]
     },
     "execution_count": 7,
     "metadata": {},
     "output_type": "execute_result"
    }
   ],
   "source": [
    "'hello'.endswith('hello')"
   ]
  },
  {
   "cell_type": "code",
   "execution_count": 8,
   "metadata": {},
   "outputs": [
    {
     "data": {
      "text/plain": [
       "False"
      ]
     },
     "execution_count": 8,
     "metadata": {},
     "output_type": "execute_result"
    }
   ],
   "source": [
    "'hello'.endswith('!')"
   ]
  },
  {
   "cell_type": "code",
   "execution_count": 9,
   "metadata": {},
   "outputs": [],
   "source": [
    "greeting = 'hello'"
   ]
  },
  {
   "cell_type": "code",
   "execution_count": 10,
   "metadata": {},
   "outputs": [
    {
     "name": "stdout",
     "output_type": "stream",
     "text": [
      "say hi: hi\n",
      "say hi: hello\n",
      "say hi: Hello\n"
     ]
    }
   ],
   "source": [
    "while greeting.islower():\n",
    "    greeting = input('say hi: ')"
   ]
  },
  {
   "cell_type": "code",
   "execution_count": 11,
   "metadata": {},
   "outputs": [],
   "source": [
    "if greeting.isupper():\n",
    "    print('too loud')"
   ]
  },
  {
   "cell_type": "code",
   "execution_count": 28,
   "metadata": {},
   "outputs": [
    {
     "name": "stdout",
     "output_type": "stream",
     "text": [
      "['premium Edam', 'premium Brie', 'premium Camambert']\n",
      "[10, 20, 0, 50, 50, 100]\n",
      "['maccabi ta', 'chelsea', 'real madrid', 'maccabi natanya', 'liverpool']\n"
     ]
    }
   ],
   "source": [
    "premium = []\n",
    "cheeses = ['Edam', 'Brie', 'Camambert']\n",
    "for cheese in cheeses:\n",
    "    new_cheese = 'premium ' + cheese\n",
    "    premium.append(new_cheese)\n",
    "\n",
    "x = [10, 20, 0, 50, 50, 100]\n",
    "soccer = ['maccabi ta', 'chelsea', 'real madrid', 'maccabi natanya', 'liverpool']\n",
    "\n",
    "print(premium)\n",
    "print(x)\n",
    "print(soccer)"
   ]
  },
  {
   "cell_type": "code",
   "execution_count": 29,
   "metadata": {},
   "outputs": [
    {
     "name": "stdout",
     "output_type": "stream",
     "text": [
      "\n",
      "premium Edam,\n",
      "premium Brie,\n",
      "premium Camambert,\n",
      "\n",
      "\n",
      "10,\n",
      "20,\n",
      "0,\n",
      "50,\n",
      "50,\n",
      "100,\n",
      "\n",
      "\n",
      "maccabi ta,\n",
      "chelsea,\n",
      "real madrid,\n",
      "maccabi natanya,\n",
      "liverpool,\n",
      "\n"
     ]
    }
   ],
   "source": [
    "print()\n",
    "for cheese in premium:\n",
    "    print(cheese, end=',\\n')\n",
    "print()    \n",
    "\n",
    "print()\n",
    "for cheese in x:\n",
    "    print(cheese, end=',\\n')\n",
    "print()\n",
    "\n",
    "print()\n",
    "for cheese in soccer:\n",
    "    print(cheese, end=',\\n')\n",
    "print()\n"
   ]
  },
  {
   "cell_type": "code",
   "execution_count": 19,
   "metadata": {},
   "outputs": [],
   "source": [
    "def (thelist):\n",
    "    print()\n",
    "    for cheese in thelist:\n",
    "        print(cheese, end=',\\n')\n",
    "    print()\n"
   ]
  },
  {
   "cell_type": "code",
   "execution_count": 30,
   "metadata": {},
   "outputs": [
    {
     "name": "stdout",
     "output_type": "stream",
     "text": [
      "\n",
      "premium Edam,\n",
      "premium Brie,\n",
      "premium Camambert,\n",
      "\n",
      "\n",
      "10,\n",
      "20,\n",
      "0,\n",
      "50,\n",
      "50,\n",
      "100,\n",
      "\n",
      "\n",
      "maccabi ta,\n",
      "chelsea,\n",
      "real madrid,\n",
      "maccabi natanya,\n",
      "liverpool,\n",
      "\n"
     ]
    }
   ],
   "source": [
    "lineprint(premium)\n",
    "lineprint(x)\n",
    "lineprint(soccer)"
   ]
  },
  {
   "cell_type": "code",
   "execution_count": 37,
   "metadata": {},
   "outputs": [
    {
     "name": "stdout",
     "output_type": "stream",
     "text": [
      "15\n",
      "hello world\n",
      "[1, 2, 3]\n"
     ]
    }
   ],
   "source": [
    "def printadd(x, y):\n",
    "    print(x+y)\n",
    "    \n",
    "printadd(10, 5)\n",
    "printadd('hello', ' world')\n",
    "printadd([1,2], [3])\n",
    "\n",
    "# write a function print_longer_list that receives two lists as parameters\n",
    "# and prints only the longer list  \n",
    "#    lets use len() function, and an if/else statement\n"
   ]
  },
  {
   "cell_type": "code",
   "execution_count": 46,
   "metadata": {},
   "outputs": [
    {
     "name": "stdout",
     "output_type": "stream",
     "text": [
      "range(0, 30)\n",
      "encyclopedia\n"
     ]
    }
   ],
   "source": [
    "def print_longer_list(list1, list2):\n",
    "    if len(list1) <= len(list2):\n",
    "        print(list2)\n",
    "    else:\n",
    "        print(list1)\n",
    "\n",
    "x = print_longer_list(range(30), range(10, 20))\n",
    "y = print_longer_list('encyclopedia', 'hello')        "
   ]
  },
  {
   "cell_type": "code",
   "execution_count": 47,
   "metadata": {},
   "outputs": [
    {
     "name": "stdout",
     "output_type": "stream",
     "text": [
      "None\n"
     ]
    }
   ],
   "source": [
    "print(y)"
   ]
  },
  {
   "cell_type": "code",
   "execution_count": 48,
   "metadata": {},
   "outputs": [],
   "source": [
    "x = len([1,2,3])"
   ]
  },
  {
   "cell_type": "code",
   "execution_count": 49,
   "metadata": {},
   "outputs": [
    {
     "data": {
      "text/plain": [
       "3"
      ]
     },
     "execution_count": 49,
     "metadata": {},
     "output_type": "execute_result"
    }
   ],
   "source": [
    "x"
   ]
  },
  {
   "cell_type": "code",
   "execution_count": 68,
   "metadata": {},
   "outputs": [],
   "source": [
    "def get_longer_list(list1, list2):\n",
    "    if len(list1) <= len(list2):\n",
    "        return list2\n",
    "    else:\n",
    "        return list1\n",
    "    \n",
    "x = get_longer_list(range(30), range(10, 20))\n",
    "y = get_longer_list('encyclopedia', 'hello') \n",
    "z = get_longer_list([1,2,3,4,5,6], 'hello') "
   ]
  },
  {
   "cell_type": "code",
   "execution_count": 73,
   "metadata": {},
   "outputs": [],
   "source": [
    "def make_david_happy():\n",
    "     \n",
    "    print('i made david', david)"
   ]
  },
  {
   "cell_type": "code",
   "execution_count": 74,
   "metadata": {},
   "outputs": [
    {
     "name": "stdout",
     "output_type": "stream",
     "text": [
      "i made david happy\n"
     ]
    }
   ],
   "source": [
    "make_david_happy()"
   ]
  },
  {
   "cell_type": "code",
   "execution_count": 76,
   "metadata": {},
   "outputs": [
    {
     "name": "stdout",
     "output_type": "stream",
     "text": [
      "i made david happy\n",
      "so now david is ecstatic\n"
     ]
    }
   ],
   "source": [
    "david = \"ecstatic\"\n",
    "make_david_happy()\n",
    "print('so now david is', david)"
   ]
  },
  {
   "cell_type": "code",
   "execution_count": null,
   "metadata": {},
   "outputs": [],
   "source": []
  }
 ],
 "metadata": {
  "kernelspec": {
   "display_name": "Python 3",
   "language": "python",
   "name": "python3"
  },
  "language_info": {
   "codemirror_mode": {
    "name": "ipython",
    "version": 3
   },
   "file_extension": ".py",
   "mimetype": "text/x-python",
   "name": "python",
   "nbconvert_exporter": "python",
   "pygments_lexer": "ipython3",
   "version": "3.6.6"
  }
 },
 "nbformat": 4,
 "nbformat_minor": 2
}
