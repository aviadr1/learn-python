{
 "cells": [
  {
   "cell_type": "markdown",
   "metadata": {
    "colab_type": "text",
    "id": "0L4bgl62_gsB"
   },
   "source": [
    "\n",
    "<a href=\"https://colab.research.google.com/github/aviadr1/learn-python/blob/master/content/08_functions/exercise/questions.ipynb\" target=\"_blank\">\n",
    "<img src=\"https://colab.research.google.com/assets/colab-badge.svg\" \n",
    "     title=\"Open this file in Google Colab\" alt=\"Colab\"/>\n",
    "</a>\n"
   ]
  },
  {
   "cell_type": "markdown",
   "metadata": {
    "colab_type": "text",
    "id": "6Hq4tx6QIXx8"
   },
   "source": [
    "# 1. write a multiply_by_10() function\n",
    "create a function named 'multiply_by_10' that \n",
    "   - receives one parameter x\n",
    "   - returns x multiplied by 10\n",
    "\n"
   ]
  },
  {
   "cell_type": "code",
   "execution_count": 0,
   "metadata": {
    "colab": {},
    "colab_type": "code",
    "id": "C2knCxEHIXx-",
    "outputId": "7205d89c-0011-4d04-f218-8bc1809f0c02"
   },
   "outputs": [
    {
     "data": {
      "text/plain": [
       "30"
      ]
     },
     "execution_count": 2,
     "metadata": {
      "tags": []
     },
     "output_type": "execute_result"
    }
   ],
   "source": []
  },
  {
   "cell_type": "markdown",
   "metadata": {
    "colab_type": "text",
    "id": "khDevmF_IXyE"
   },
   "source": [
    "# 2. triangles\n",
    "we're going to write function to print triangles that look like this:\n",
    "```\n",
    "   *\n",
    "   **\n",
    "   ***\n",
    "   ****\n",
    "```\n",
    "\n",
    "create a function called 'print_asterics' that \n",
    "- receives one parameter called n\n",
    "- prints to screen one line with n asterics\n",
    "\n",
    "\n",
    "```\n",
    ">>> print_asterics(4)\n",
    "****\n",
    ">>> print_asterics(8)\n",
    "********\n",
    "```\n",
    "   \n",
    "use this function and a for loop to print a triangle having 10 lines\n"
   ]
  },
  {
   "cell_type": "code",
   "execution_count": 0,
   "metadata": {
    "colab": {},
    "colab_type": "code",
    "id": "qJhUQI0kIXyF",
    "outputId": "d98a7e2d-8c65-4ed0-ad2f-de62793fec15"
   },
   "outputs": [
    {
     "name": "stdout",
     "output_type": "stream",
     "text": [
      "*\n",
      "**\n",
      "***\n",
      "****\n",
      "*****\n",
      "******\n",
      "*******\n",
      "********\n",
      "*********\n",
      "**********\n"
     ]
    }
   ],
   "source": []
  },
  {
   "cell_type": "markdown",
   "metadata": {
    "colab_type": "text",
    "id": "OwNgkHhWIXyI"
   },
   "source": [
    "# 3. write print_char() function\n",
    "create a new function called `print_char` that works \n",
    "similarly to print_asterics, \n",
    "- except it receives the character to print as an \n",
    " additional parameter called 'c'\n",
    "- the param c should have a default value of '*'\n",
    "\n",
    "```\n",
    ">>> print_char(4)\n",
    "****\n",
    ">>> print_char(8, '@')\n",
    "@@@@@@@@ \n",
    "```\n",
    "\n",
    "use this function to create this triangle with a loop\n",
    "```\n",
    "@\n",
    "@@\n",
    "@@@\n",
    "@@@@\n",
    "```\n"
   ]
  },
  {
   "cell_type": "code",
   "execution_count": 0,
   "metadata": {
    "colab": {},
    "colab_type": "code",
    "id": "kqOHqdMpIXyI",
    "outputId": "2f5447d2-01f6-41af-e0c5-51508aaf9f9f"
   },
   "outputs": [
    {
     "name": "stdout",
     "output_type": "stream",
     "text": [
      "@\n",
      "@@\n",
      "@@@\n",
      "@@@@\n",
      "@@@@@\n"
     ]
    }
   ],
   "source": []
  },
  {
   "cell_type": "markdown",
   "metadata": {
    "colab_type": "text",
    "id": "5Yo-vQP6IXyM"
   },
   "source": [
    "# 4. function print_trian()\n",
    "create a function `print_trian` to print triangles like in #3 \n",
    "it should receive two parameters:\n",
    "- n determines how many lines the triangle would have\n",
    "- c determines the character to use, with '*' as default\n",
    "\n",
    "```\n",
    ">>> print_trian(5, '$')\n",
    "$\n",
    "$$\n",
    "$$$\n",
    "$$$$\n",
    "$$$$$\n",
    "```\n",
    "\n",
    "- hint: this function should use print_char internally\n"
   ]
  },
  {
   "cell_type": "code",
   "execution_count": 0,
   "metadata": {
    "colab": {},
    "colab_type": "code",
    "id": "-vbDiBEoIXyM",
    "outputId": "cd95e702-dd80-4a71-e0b7-8f298c0098f2"
   },
   "outputs": [
    {
     "name": "stdout",
     "output_type": "stream",
     "text": [
      "$\n",
      "$$\n",
      "$$$\n",
      "$$$$\n",
      "$$$$$\n"
     ]
    }
   ],
   "source": []
  },
  {
   "cell_type": "markdown",
   "metadata": {
    "colab_type": "text",
    "id": "TjrOZ6HuIXyQ"
   },
   "source": [
    "# 4.b write get_trian() function with return value\n",
    "\n",
    "create a new function called `get_trian`, that is very similar to\n",
    "`print_trian` from #4, but instead of printing the triangle\n",
    "it returns the triangle as a string\n",
    "\n",
    "```\n",
    ">>> x = get_trian(5, '$')\n",
    ">>> print(x)\n",
    "$\n",
    "$$\n",
    "$$$\n",
    "$$$$\n",
    "$$$$$\n",
    "```"
   ]
  },
  {
   "cell_type": "code",
   "execution_count": 0,
   "metadata": {
    "colab": {},
    "colab_type": "code",
    "id": "1P_o7txjIXyQ",
    "outputId": "dc0cf9f5-8213-46d9-f7e8-22db86d1e0e6"
   },
   "outputs": [
    {
     "name": "stdout",
     "output_type": "stream",
     "text": [
      "@\n",
      "@@\n",
      "@@@\n",
      "@@@@\n",
      "@@@@@\n"
     ]
    }
   ],
   "source": []
  },
  {
   "cell_type": "markdown",
   "metadata": {
    "colab_type": "text",
    "id": "cYr4DxJwIcAu"
   },
   "source": []
  },
  {
   "cell_type": "code",
   "execution_count": 0,
   "metadata": {
    "colab": {},
    "colab_type": "code",
    "id": "FQ_4dky4IcYV"
   },
   "outputs": [],
   "source": []
  },
  {
   "cell_type": "markdown",
   "metadata": {
    "colab_type": "text",
    "id": "_WB18uT2I4jD"
   },
   "source": [
    "#  `my_abs(x)` function\n",
    "\n",
    "in this exercise we're going to implement a funtion that calculates the absolute value (×¢×¨×š ×ž×•×—×œ×˜) of a parameter x\n",
    "and we're going to do it in 3 styles.\n",
    "\n",
    "```\n",
    "   x = my_abs(-10)\n",
    "   print(x) # prints 10\n",
    "```\n",
    "```\n",
    "   y = my_abs(12)\n",
    "   print(y) # prints 12\n",
    "```\n",
    "\n",
    "> 1. write a function called `my_abs(x)` that calculates the absolute value (×¢×¨×š ×ž×•×—×œ×˜) of a parameter x\n"
   ]
  },
  {
   "cell_type": "code",
   "execution_count": 0,
   "metadata": {
    "colab": {},
    "colab_type": "code",
    "id": "P78WBnUPJ0eO"
   },
   "outputs": [],
   "source": []
  },
  {
   "cell_type": "code",
   "execution_count": 0,
   "metadata": {
    "colab": {},
    "colab_type": "code",
    "id": "5DHPYhEKJb9s"
   },
   "outputs": [],
   "source": [
    "### useful: this tests your function\n",
    "assert my_abs(0) == 0\n",
    "assert my_abs(-10) == 10\n",
    "assert my_abs(15) == 15\n"
   ]
  },
  {
   "cell_type": "markdown",
   "metadata": {
    "colab_type": "text",
    "id": "-PT-IHuHTgL-"
   },
   "source": [
    "> 2. write a function called `my_abs2(x)` that does the same calculation as my_abs(x) <br>\n",
    "   BUT use the __single line__ `if` variant: `exprssion1 if condition else expression2`\n"
   ]
  },
  {
   "cell_type": "code",
   "execution_count": 0,
   "metadata": {
    "colab": {
     "base_uri": "https://localhost:8080/",
     "height": 34
    },
    "colab_type": "code",
    "id": "nh2D7mFJTjjY",
    "outputId": "5c5cf343-a515-4690-81ba-7c77b5b22afc"
   },
   "outputs": [
    {
     "data": {
      "text/plain": [
       "10"
      ]
     },
     "execution_count": 5,
     "metadata": {
      "tags": []
     },
     "output_type": "execute_result"
    }
   ],
   "source": []
  },
  {
   "cell_type": "markdown",
   "metadata": {
    "colab_type": "text",
    "id": "dRA5u7IgTikK"
   },
   "source": [
    "   \n",
    "> 3. implement absolute value function using `lambda` syntax, put the result in a variable called my_abs3"
   ]
  },
  {
   "cell_type": "code",
   "execution_count": 0,
   "metadata": {
    "colab": {
     "base_uri": "https://localhost:8080/",
     "height": 34
    },
    "colab_type": "code",
    "id": "y_wZ0g5aTsMc",
    "outputId": "0c0d5650-b969-44b7-d493-88cc85575cb7"
   },
   "outputs": [
    {
     "data": {
      "text/plain": [
       "10"
      ]
     },
     "execution_count": 6,
     "metadata": {
      "tags": []
     },
     "output_type": "execute_result"
    }
   ],
   "source": []
  },
  {
   "cell_type": "markdown",
   "metadata": {
    "colab_type": "text",
    "id": "dRaU6id4_nVD"
   },
   "source": [
    "# calculate VAT \"מס ערך מוסף\" \n",
    "\n",
    "### a) write a function called `calc_vat` that takes a price and the VAT and calculates how much the price is after VAT\n",
    "\n",
    "for instance:\n",
    "```\n",
    ">>> calc_vat(100, 17)\n",
    "117\n",
    "```\n",
    "\n",
    "### b) make the vat a default parameter with value 17\n",
    "```\n",
    ">>> calc_vat(100)\n",
    "117\n",
    "\n",
    ">>> calc_vat(100, 15)\n",
    "115\n",
    "```\n",
    "\n"
   ]
  },
  {
   "cell_type": "code",
   "execution_count": 0,
   "metadata": {
    "colab": {},
    "colab_type": "code",
    "id": "TRZiLDQN_lJb"
   },
   "outputs": [],
   "source": []
  },
  {
   "cell_type": "code",
   "execution_count": 0,
   "metadata": {
    "colab": {},
    "colab_type": "code",
    "id": "bB5ECPEjAoPv"
   },
   "outputs": [],
   "source": []
  },
  {
   "cell_type": "markdown",
   "metadata": {
    "colab_type": "text",
    "id": "Bvshy62lRPa5"
   },
   "source": [
    "# zip-ing two lists together\n",
    "1. create a list of fruits, put it in  a variable called `fruits`.\n",
    "\n",
    "   example: ```['apple', 'guava', 'pineapple', 'pear', 'peach']```\n",
    "\n",
    "1. create a list of prices for these fruits. it should have the same length as your list of fruits. put it in a variable called `prices`. \n",
    "\n",
    "   example: ```[10, 12, 20, 5, 8]```\n",
    "\n",
    "1. use the `zip` function (look it up on google) to create a list of fruit/price pairs. \n",
    "\n",
    "   it could look like this: ```[('apple', 10), ('guava', 12), ('pineapple', 20), ('pear', 5), ('peach', 8)]``` \n",
    "   ```\n"
   ]
  },
  {
   "cell_type": "code",
   "execution_count": 20,
   "metadata": {
    "colab": {
     "base_uri": "https://localhost:8080/",
     "height": 35
    },
    "colab_type": "code",
    "id": "aGgnfzUJRK-B",
    "outputId": "de66d039-fc0d-4c20-810f-a34d0d9a1994"
   },
   "outputs": [
    {
     "name": "stdout",
     "output_type": "stream",
     "text": [
      "{'apple': 20, 'guava': 24, 'pineapple': 40, 'pear': 10, 'peach': 16}\n"
     ]
    }
   ],
   "source": []
  },
  {
   "cell_type": "markdown",
   "metadata": {
    "colab_type": "text",
    "id": "Xo2yySqLIXyU"
   },
   "source": [
    "# make_matrix() function\n",
    "\n",
    "write a function called `make_matrix(nrows=10, ncols=10)` that returns a multiplication matrix (×œ×•×— ×›×¤×œ)\n",
    "with `nrows` rows and `ncols` rows.\n",
    "\n",
    "the function will return a list of lists that have the following property:\n",
    "```\n",
    "make_matrix()[i][j] == i*j\n",
    "```\n",
    "\n",
    "for example:\n",
    "```\n",
    ">>> from pprint import pprint\n",
    ">>> x = make_matrix(5, 5)\n",
    ">>> pprint(x)\n",
    "[[0, 0, 0, 0, 0],\n",
    " [0, 1, 2, 3, 4],\n",
    " [0, 2, 4, 6, 8],\n",
    " [0, 3, 6, 9, 12],\n",
    " [0, 4, 8, 12, 16]]\n",
    "```\n"
   ]
  },
  {
   "cell_type": "code",
   "execution_count": 0,
   "metadata": {
    "colab": {},
    "colab_type": "code",
    "id": "DPsF-zemIXyV",
    "outputId": "9dc24d73-9939-4435-f6b9-398fbc56bf4d"
   },
   "outputs": [
    {
     "name": "stdout",
     "output_type": "stream",
     "text": [
      "[[0, 0, 0, 0, 0],\n",
      " [0, 1, 2, 3, 4],\n",
      " [0, 2, 4, 6, 8],\n",
      " [0, 3, 6, 9, 12],\n",
      " [0, 4, 8, 12, 16]]\n"
     ]
    }
   ],
   "source": []
  },
  {
   "cell_type": "markdown",
   "metadata": {
    "colab_type": "text",
    "id": "EhjC-TAkIXyY"
   },
   "source": [
    "# write maxitem() function\n",
    "create a function called maxitem \n",
    "that finds and returns the maximum item in a list\n",
    "\n",
    "```\n",
    ">>> maxitem([1,2,3,4,3,1])\n",
    "4\n",
    "```"
   ]
  },
  {
   "cell_type": "code",
   "execution_count": 0,
   "metadata": {
    "colab": {},
    "colab_type": "code",
    "id": "KV8_05zSIXyZ",
    "outputId": "dc7b7200-8978-4015-e516-1538b624b3e0"
   },
   "outputs": [
    {
     "data": {
      "text/plain": [
       "4"
      ]
     },
     "execution_count": 7,
     "metadata": {
      "tags": []
     },
     "output_type": "execute_result"
    }
   ],
   "source": []
  },
  {
   "cell_type": "markdown",
   "metadata": {
    "colab_type": "text",
    "id": "7uPRMQpZIXyd"
   },
   "source": [
    "# sort_lists() - difficult\n",
    "\n",
    "create a function called `sort_lists` that can sort a list of lists.\n",
    "\\[find hints on how to do it below.\\]\n",
    "\n",
    "it will work in the following way:\n",
    "- we will sort lists according to which one has the maxmium item (like in #5)\n",
    "- example:\n",
    "```\n",
    ">>> sort_lists([\n",
    " [1,2,3],\n",
    " [2,3,4],\n",
    " [1,1,1],\n",
    " [2]\n",
    " ])\n",
    "[\n",
    "[1,1,1],\n",
    "[2],\n",
    "[1,2,3],\n",
    "[2,3,4\n",
    "]\n",
    "```\n",
    "\n",
    "- hint: use the function `maxitem` from #5 \n",
    "and the existing function `sorted`\n"
   ]
  },
  {
   "cell_type": "code",
   "execution_count": 0,
   "metadata": {
    "colab": {},
    "colab_type": "code",
    "id": "Sk0ahm_dIXye",
    "outputId": "979063c0-8c56-4d26-9387-daae77c5afd4"
   },
   "outputs": [
    {
     "data": {
      "text/plain": [
       "[[1, 1, 1], [2], [1, 2, 3], [2, 3, 4]]"
      ]
     },
     "execution_count": 8,
     "metadata": {
      "tags": []
     },
     "output_type": "execute_result"
    }
   ],
   "source": []
  },
  {
   "cell_type": "markdown",
   "metadata": {
    "colab_type": "text",
    "id": "iE6V-UjrIXyh"
   },
   "source": [
    "# make_add_x - difficult\n",
    "create a function called `make_add_x() `\n",
    "that receives one parameter x\n",
    "and returns an inner *function* ...\n",
    "this inner function will receive one parameter y\n",
    "and return `x+y`\n",
    "```\n",
    ">>> add7 = make_add_x(7)\n",
    ">>> add7(3)\n",
    "10\n",
    ">>> add7(5)\n",
    "12\n",
    ">>> add10 = make_add_x(10)\n",
    ">>> add10(100)\n",
    "110\n",
    "```"
   ]
  },
  {
   "cell_type": "code",
   "execution_count": 0,
   "metadata": {
    "colab": {},
    "colab_type": "code",
    "id": "aMlR4zXuIXyi",
    "outputId": "1f3449ab-6fae-4e3f-c642-22f7d615dda6"
   },
   "outputs": [
    {
     "name": "stdout",
     "output_type": "stream",
     "text": [
      "10\n",
      "12\n",
      "110\n"
     ]
    }
   ],
   "source": []
  },
  {
   "cell_type": "markdown",
   "metadata": {
    "colab_type": "text",
    "id": "CxxMW-BfIXyk"
   },
   "source": [
    "# myprint() - challenging\n",
    "\n",
    "create a function called `myprint` that has similar properties to the built-in `print()` function:\n",
    "- it is variadic: it can support 0,1,2,3 or more parameters (unlimited number)\n",
    "- it supports the file, sep and end arguments\n",
    "\n",
    "it differrs from print by prefering the character @\n",
    "```\n",
    ">>> myprint(1, 2, 3)\n",
    "1 @ 2 @ 3 @\n",
    ">>> myprint( [1, 2, 3], [4, 5, 6] )\n",
    "[1, 2, 3] @ [4, 5, 6] @\n",
    "\n",
    ">>> myprint(1, 2, 3, file=sys.stdout, sep=' ', end='\\n')\n",
    "1 2 3\n",
    "```\n"
   ]
  },
  {
   "cell_type": "code",
   "execution_count": 0,
   "metadata": {
    "colab": {},
    "colab_type": "code",
    "id": "oMq1zr2CIXyl",
    "outputId": "5a2ffd79-5927-40b9-e3b8-c65d3f4ef41c"
   },
   "outputs": [
    {
     "name": "stdout",
     "output_type": "stream",
     "text": [
      "1 @ 2 @ 3 @\n",
      "[1, 2, 3] @ [4, 5, 6] @\n",
      "1 2 3\n"
     ]
    }
   ],
   "source": []
  },
  {
   "cell_type": "markdown",
   "metadata": {
    "colab_type": "text",
    "id": "mwcLzCXnIXyo"
   },
   "source": [
    "# make_debuggable() - very difficult\n",
    "\n",
    "create a function called make_debuggable(func) that:\n",
    "- receives one paramter called func\n",
    "- returns a new function that does the same thing as func, \n",
    "\n",
    "and can accept any argument that func accepts.\n",
    "\n",
    "- but in addition the returned function also helps debugging by \n",
    "  printing out the parameters it received, and the return value it is about to return\n",
    "\n",
    "hints:\n",
    "- use a nested function that accepts variadic positional and keyword arguments\n"
   ]
  },
  {
   "cell_type": "code",
   "execution_count": 0,
   "metadata": {
    "colab": {},
    "colab_type": "code",
    "id": "NNaXjZeXIXyo",
    "outputId": "4b0ef41d-9481-4ed7-f140-1baf5ebf6198"
   },
   "outputs": [
    {
     "name": "stdout",
     "output_type": "stream",
     "text": [
      "calling sqrt(100)\n",
      "sqrt(100) -->> 10.0\n",
      "\n",
      "calling print(1, 2, 3, sep= @@@ )\n",
      "1 @@@ 2 @@@ 3\n",
      "print(1, 2, 3, sep= @@@ ) -->> None\n"
     ]
    }
   ],
   "source": []
  },
  {
   "cell_type": "code",
   "execution_count": 0,
   "metadata": {
    "colab": {},
    "colab_type": "code",
    "id": "BzExERNyIXyr"
   },
   "outputs": [],
   "source": []
  }
 ],
 "metadata": {
  "colab": {
   "name": "questions.ipynb",
   "provenance": []
  },
  "kernelspec": {
   "display_name": "Python 3",
   "language": "python",
   "name": "python3"
  },
  "language_info": {
   "codemirror_mode": {
    "name": "ipython",
    "version": 3
   },
   "file_extension": ".py",
   "mimetype": "text/x-python",
   "name": "python",
   "nbconvert_exporter": "python",
   "pygments_lexer": "ipython3",
   "version": "3.6.5"
  }
 },
 "nbformat": 4,
 "nbformat_minor": 0
}
