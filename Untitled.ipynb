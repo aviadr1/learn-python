{
 "cells": [
  {
   "cell_type": "markdown",
   "metadata": {},
   "source": [
    "\n",
    "<a href=\"https://colab.research.google.com/github/aviadr1/learn-python/blob/master/Untitled.ipynb\" target=\"_blank\">\n",
    "<img src=\"https://colab.research.google.com/assets/colab-badge.svg\" \n",
    "     title=\"Open this file in Google Colab\" alt=\"Colab\"/>\n",
    "</a>\n"
   ]
  },
  {
   "cell_type": "code",
   "execution_count": 85,
   "metadata": {},
   "outputs": [],
   "source": [
    "# figure out the root of the project\n",
    "from pathlib import Path\n",
    "import nbformat\n",
    "import urllib.parse\n",
    "from git import Repo"
   ]
  },
  {
   "cell_type": "code",
   "execution_count": 8,
   "metadata": {},
   "outputs": [],
   "source": []
  },
  {
   "cell_type": "code",
   "execution_count": 95,
   "metadata": {},
   "outputs": [
    {
     "name": "stdout",
     "output_type": "stream",
     "text": [
      "exercises\\ex 02 - questions.ipynb\n",
      "exercises/ex%2002%20-%20questions.ipynb\n",
      "https://github.com/aviadr1/learn-python.git\n",
      "aviadr1/learn-python/\n",
      "https://colab.research.google.com/github/aviadr1/learn-python/blob/master/\n"
     ]
    }
   ],
   "source": [
    "def find_project_root(start_dir='.'):\n",
    "    p = Path(start_dir).resolve()\n",
    "    while p != p.parent:\n",
    "        git = p / \".git\"\n",
    "        if git.exists() and git.is_dir():\n",
    "            return p\n",
    "        p = p.parent\n",
    "        \n",
    "    raise FileNotFoundError('not inside a repository', Path(start_dir).resolve())\n",
    "\n",
    "def is_dot_folder(folder):\n",
    "    return any([part.startswith('.') for part in folder.parts])\n",
    "    \n",
    "def find_all_notebooks(start_dir='.'):\n",
    "    root = find_project_root(start_dir)\n",
    "    return (file for file in root.glob('**/*.ipynb') if not is_dot_folder(file.parent))\n",
    "\n",
    "def get_colab_url(notebook_filename, project_root):\n",
    "    repo = Repo(project_root)\n",
    "    assert not repo.bare\n",
    "    \n",
    "    relative_filename = Path(notebook_filename).resolve().relative_to(Path(project_root).resolve())\n",
    "    print(relative_filename)\n",
    "    relative_url = urllib.parse.quote(relative_filename.as_posix())\n",
    "    print(relative_url)\n",
    "    \n",
    "    GITHUB_BASE = 'https://github.com/'\n",
    "    COLAB_BASE = \"https://colab.research.google.com/github/\"\n",
    "    GITHUB_POSTFIX = \".git\"\n",
    "    \n",
    "    github_url = repo.remotes.origin.url\n",
    "    print(github_url)\n",
    "    assert github_url.startswith(GITHUB_BASE)\n",
    "    assert github_url.endswith(GITHUB_POSTFIX)\n",
    "    \n",
    "    github_url_part = github_url[len(GITHUB_BASE):-len(GITHUB_POSTFIX)] + '/'\n",
    "    print(github_url_part)\n",
    "    \n",
    "    colab_github_url = urllib.parse.urljoin(COLAB_BASE, github_url_part)\n",
    "    colab_github_url = urllib.parse.urljoin(colab_github_url, 'blob/master/')\n",
    "    print(colab_github_url)\n",
    "    \n",
    "    full_url = urllib.parse.urljoin(colab_github_url, relative_url)\n",
    "    return full_url\n",
    "\n",
    "def ensure_colab_button(notebook_filename, project_root):\n",
    "    nb = nbformat.read(notebook_filename, nbformat.NO_CONVERT)\n",
    "    cell0 = nb['cells'][0]\n",
    "    colab_url = get_colab_url(notebook_filename, project_root)\n",
    "    if not colab_url in cell0['source']:\n",
    "        # add colab button\n",
    "        \n",
    "        button = \"[![Open In Colab](https://colab.research.google.com/assets/colab-badge.svg)]({})\".format(colab_url)\n",
    "        colab_cell = nbformat.v4.new_markdown_cell(button)\n",
    "        nb['cells'].insert(0, colab_cell)\n",
    "        \n",
    "        with open(notebook_filename, \"w\", encoding=\"utf8\") as f:\n",
    "            nbformat.write(nb, f)\n",
    "\n",
    "ensure_colab_button(\n",
    "    'E:/dev/GitHub/learn-python/exercises/ex 02 - questions.ipynb',\n",
    "    '.'\n",
    "    )\n",
    "#list(find_all_notebooks('.'))"
   ]
  },
  {
   "cell_type": "code",
   "execution_count": null,
   "metadata": {},
   "outputs": [],
   "source": [
    "from git import Repo\n",
    "\n",
    "# rorepo is a Repo instance pointing to the git-python repository.\n",
    "# For all you know, the first argument to Repo is a path to the repository\n",
    "# you want to work with\n",
    "repo = Repo('.')\n",
    "assert not repo.bare"
   ]
  },
  {
   "cell_type": "code",
   "execution_count": 50,
   "metadata": {},
   "outputs": [
    {
     "data": {
      "text/plain": [
       "'https://github.com/aviadr1/learn-python.git'"
      ]
     },
     "execution_count": 50,
     "metadata": {},
     "output_type": "execute_result"
    }
   ],
   "source": [
    "repo.remotes.origin.url"
   ]
  },
  {
   "cell_type": "code",
   "execution_count": 80,
   "metadata": {},
   "outputs": [],
   "source": []
  },
  {
   "cell_type": "code",
   "execution_count": 81,
   "metadata": {},
   "outputs": [
    {
     "name": "stdout",
     "output_type": "stream",
     "text": [
      "live class demonstrations\\lesson 04 - strings, multiline strings checkpoint.ipynb\n",
      "live%20class%20demonstrations/lesson%2004%20-%20strings%2C%20multiline%20strings%20checkpoint.ipynb\n",
      "https://github.com/aviadr1/learn-python.git\n",
      "aviadr1/learn-python/\n",
      "https://colab.research.google.com/github/aviadr1/learn-python/blob/master/\n"
     ]
    },
    {
     "data": {
      "text/plain": [
       "'https://colab.research.google.com/github/aviadr1/learn-python/blob/master/live%20class%20demonstrations/lesson%2004%20-%20strings%2C%20multiline%20strings%20checkpoint.ipynb'"
      ]
     },
     "execution_count": 81,
     "metadata": {},
     "output_type": "execute_result"
    }
   ],
   "source": [
    "get_collab_url('E:/dev/GitHub/learn-python/live class demonstrations/lesson 04 - strings, multiline strings checkpoint.ipynb', '.')"
   ]
  },
  {
   "cell_type": "code",
   "execution_count": 53,
   "metadata": {},
   "outputs": [],
   "source": [
    "import urllib.parse"
   ]
  },
  {
   "cell_type": "code",
   "execution_count": 54,
   "metadata": {},
   "outputs": [
    {
     "data": {
      "text/plain": [
       "'https://colab.research.google.com/github/aviadr1/live class demonstrations/lesson 04 - strings, multiline strings checkpoint.ipynb'"
      ]
     },
     "execution_count": 54,
     "metadata": {},
     "output_type": "execute_result"
    }
   ],
   "source": [
    "urllib.parse.urljoin('https://colab.research.google.com/github/aviadr1/learn-python.git', \n",
    "                     'live class demonstrations/lesson 04 - strings, multiline strings checkpoint.ipynb'\n",
    "                    )"
   ]
  },
  {
   "cell_type": "code",
   "execution_count": 57,
   "metadata": {},
   "outputs": [
    {
     "data": {
      "text/plain": [
       "'aviadr1/live%20class%20demonstrations/lesson%2004%20-%20strings%2C%20multiline%20strings%20checkpoint.ipynb'"
      ]
     },
     "execution_count": 57,
     "metadata": {},
     "output_type": "execute_result"
    }
   ],
   "source": [
    "urllib.parse.quote('aviadr1/live class demonstrations/lesson 04 - strings, multiline strings checkpoint.ipynb')"
   ]
  },
  {
   "cell_type": "code",
   "execution_count": null,
   "metadata": {},
   "outputs": [],
   "source": []
  }
 ],
 "metadata": {
  "kernelspec": {
   "display_name": "Python 3",
   "language": "python",
   "name": "python3"
  },
  "language_info": {
   "codemirror_mode": {
    "name": "ipython",
    "version": 3
   },
   "file_extension": ".py",
   "mimetype": "text/x-python",
   "name": "python",
   "nbconvert_exporter": "python",
   "pygments_lexer": "ipython3",
   "version": "3.7.3"
  }
 },
 "nbformat": 4,
 "nbformat_minor": 2
}
